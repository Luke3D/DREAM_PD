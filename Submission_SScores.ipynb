{
 "cells": [
  {
   "cell_type": "markdown",
   "metadata": {},
   "source": [
    "# L-Dopa Subchallenge 2 \n",
    "## Semi-supervised learning based on surprise features \n",
    "### AbilityLab Team Submission code\n",
    "Luca Lonini, Nicholas Shawen, Andrew Dai, Konrad Kording, Arun Jayaraman"
   ]
  },
  {
   "cell_type": "code",
   "execution_count": 1,
   "metadata": {
    "collapsed": false
   },
   "outputs": [],
   "source": [
    "import pandas as pd\n",
    "import json\n",
    "import numpy as np\n",
    "import pickle #to save files\n",
    "\n",
    "from scipy.stats import skew, kurtosis, pearsonr\n",
    "from scipy.signal import butter, welch, filtfilt\n",
    "\n",
    "from sklearn.preprocessing import StandardScaler\n",
    "from sklearn.model_selection import LeaveOneGroupOut\n",
    "from sklearn import preprocessing\n",
    "# import xgboost as xgb\n",
    "# from xgboost.sklearn import XGBClassifier #this is the SKlearn wrapper\n",
    "from sklearn.ensemble import RandomForestClassifier, AdaBoostClassifier, GradientBoostingClassifier, ExtraTreesClassifier\n",
    "from sklearn.linear_model import ElasticNetCV, LogisticRegression\n",
    "from sklearn.svm import SVC, OneClassSVM\n",
    "\n",
    "from sklearn.metrics import precision_score, recall_score,f1_score\n",
    "\n",
    "import nolds\n",
    "import time\n",
    "import matplotlib.pyplot as plt\n",
    "import seaborn as sns\n",
    "%matplotlib inline"
   ]
  },
  {
   "cell_type": "code",
   "execution_count": 2,
   "metadata": {
    "collapsed": false
   },
   "outputs": [
    {
     "name": "stdout",
     "output_type": "stream",
     "text": [
      "Welcome, Luca Lonini!\n",
      "\n"
     ]
    }
   ],
   "source": [
    "from IPython.core.debugger import Tracer\n",
    "import synapseclient\n",
    "syn=synapseclient.login()"
   ]
  },
  {
   "cell_type": "markdown",
   "metadata": {},
   "source": [
    "## Helper fcns"
   ]
  },
  {
   "cell_type": "code",
   "execution_count": 3,
   "metadata": {
    "collapsed": true
   },
   "outputs": [],
   "source": [
    "#feature extraction\n",
    "#INPUT: raw x,y,z accelerometer data (dataframe)\n",
    "def feature_extraction(rawdata):\n",
    "    \n",
    "    #drop time and magnitude feature\n",
    "    rawdata_wtime = rawdata.copy()\n",
    "    rawdata=rawdata.iloc[:,1:4]\n",
    "    \n",
    "    features_list = ['EX','EY','EZ','rangeX','rangeY','rangeZ','meanX','meanY','meanZ','varX','varY','varZ',\n",
    "                    'skewX','skewY','skewZ','kurtX','kurtY','kurtZ','xcor_peakXY','xcorr_peakXZ','xcorr_peakYZ',\n",
    "                    'xcorr_lagXY','xcorr_lagXZ','xcorr_lagYZ','Dom_freq','Pdom_rel','PSD_mean','PSD_std','PSD_skew',\n",
    "                    'PSD_kur','jerk_mean','jerk_std','jerk_skew','jerk_kur','Sen_X','Sen_Y','Sen_Z','Sen_FFTX',\n",
    "                    'Sen_FFTY','Sen_FFTZ']\n",
    "    \n",
    "\n",
    "    #cycle through all clips for current trial and save dataframe of features for current trial and sensor\n",
    "    features = []\n",
    "\n",
    "    #extract features on current clip\n",
    "\n",
    "    #Energy of signal on each axis\n",
    "    E = np.asarray(np.sum(rawdata**2,axis=0))\n",
    "\n",
    "    #range on each axis\n",
    "    min_xyz = np.min(rawdata,axis=0)\n",
    "    max_xyz = np.max(rawdata,axis=0)\n",
    "    r = np.asarray(max_xyz-min_xyz)\n",
    "\n",
    "    #Moments on each axis\n",
    "    mean = np.asarray(np.mean(rawdata,axis=0))\n",
    "    var = np.asarray(np.std(rawdata,axis=0))\n",
    "    sk = skew(rawdata)\n",
    "    kurt = kurtosis(rawdata)\n",
    "\n",
    "    #Cross-correlation between axes pairs\n",
    "    xcorr_xy = np.correlate(rawdata.iloc[:,0],rawdata.iloc[:,1],mode='same')\n",
    "    xcorr_xy = xcorr_xy/np.sum(xcorr_xy) #normalize values\n",
    "    xcorr_peak_xy = np.max(xcorr_xy)\n",
    "    xcorr_lag_xy = (np.argmax(xcorr_xy))/len(xcorr_xy) #normalized lag\n",
    "\n",
    "    xcorr_xz = np.correlate(rawdata.iloc[:,0],rawdata.iloc[:,2],mode='same')\n",
    "    xcorr_xz = xcorr_xz/np.sum(xcorr_xz) #normalize values\n",
    "    xcorr_peak_xz = np.max(xcorr_xz)\n",
    "    xcorr_lag_xz = (np.argmax(xcorr_xz))/len(xcorr_xz)\n",
    "\n",
    "    xcorr_yz = np.correlate(rawdata.iloc[:,1],rawdata.iloc[:,2],mode='same')\n",
    "    xcorr_yz = xcorr_yz/np.sum(xcorr_yz) #normalize values\n",
    "    xcorr_peak_yz = np.max(xcorr_yz)\n",
    "    xcorr_lag_yz = (np.argmax(xcorr_yz))/len(xcorr_yz)\n",
    "\n",
    "    #pack xcorr features\n",
    "    xcorr_peak = np.array([xcorr_peak_xy,xcorr_peak_xz,xcorr_peak_yz])\n",
    "    xcorr_lag = np.array([xcorr_lag_xy,xcorr_lag_xz,xcorr_lag_yz])\n",
    "    \n",
    "    #jerk moments on magnitude\n",
    "    jerk = rawdata.iloc[:,-1].diff().values\n",
    "    jerk_moments = np.array([np.nanmean(jerk),np.nanstd(jerk),skew(jerk[~np.isnan(jerk)]),kurtosis(jerk[~np.isnan(jerk)])])\n",
    "\n",
    "    #Dominant freq and relative magnitude (on acc magnitude)\n",
    "    Pxx = power_spectra_welch(rawdata_wtime,fm=1,fM=10)\n",
    "    domfreq = np.asarray([Pxx.iloc[:,-1].argmax()]) \n",
    "    Pdom_rel = Pxx.loc[domfreq].iloc[:,-1].values/Pxx.iloc[:,-1].sum() #power at dominant freq rel to total\n",
    "    \n",
    "    #moments of PSD\n",
    "    Pxx_moments = np.array([np.nanmean(Pxx.values),np.nanstd(Pxx.values),skew(Pxx.values),kurtosis(Pxx.values)])\n",
    "\n",
    "    #sample entropy raw data and FFT - COMPUTATIONALLY EXPENSIVE - TAKE OUT FOR NOW\n",
    "    sH_raw = []; sH_fft = []\n",
    "    #on magnitude\n",
    "#     x = rawdata.iloc[:,-1]\n",
    "#     n = len(x) #number of samples in clip\n",
    "#     Fs = np.mean(1/(np.diff(x.timestamp))) #sampling rate in clip\n",
    "#     sH_raw=nolds.sampen(x) #samp entr raw magnitude\n",
    "#     f,Pxx_den = welch(x,Fs,nperseg=min(256,n/4))\n",
    "#     sH_fft=(nolds.sampen(Pxx_den)) #samp entr fft\n",
    "    #Sample entropy on each axis\n",
    "#     for a in range(3):\n",
    "#         x = rawdata.iloc[:,a]\n",
    "#         n = len(x) #number of samples in clip\n",
    "#         Fs = np.mean(1/(np.diff(rawdata_wtime.timestamp))) #sampling rate in clip\n",
    "#         sH_raw.append(nolds.sampen(x)) #samp entr raw data\n",
    "#         f,Pxx_den = welch(x,Fs,nperseg=min(256,n/4))\n",
    "#         sH_fft.append(nolds.sampen(Pxx_den)) #samp entr fft\n",
    "\n",
    "    #Assemble features in array\n",
    "    X = np.concatenate((E,r,mean,var,sk,kurt,xcorr_peak,xcorr_lag,domfreq,Pdom_rel,Pxx_moments,jerk_moments))\n",
    "#                 X = X.reshape(1,X.shape[0])\n",
    "    features.append(X)\n",
    "\n",
    "    F = np.asarray(features) #feature matrix for all clips from current trial\n",
    "    return F,features_list\n",
    "\n",
    "\n",
    "#EXTRACT DATA WINDOWS FROM RAW DATA RECORDINGS\n",
    "def gen_clips(rawdata,clipsize=5,overlap=0,interp=False):\n",
    "    \n",
    "    len_tol = 0.8   #% of the intended clipsize below which clip is not used (deprecated for now)\n",
    "    #reindex time (relative to start)\n",
    "    t = rawdata.timestamp\n",
    "    t = t-t.iloc[0]\n",
    "    rawdata.timestamp = t\n",
    "    #create clips data\n",
    "    deltat = np.median(np.diff(rawdata.timestamp))\n",
    "    idx = np.arange(0,rawdata.timestamp.iloc[-1],clipsize*(1-overlap))\n",
    "    clips = []\n",
    "    for i in idx:\n",
    "        c = rawdata[(rawdata.timestamp>=i) & (rawdata.timestamp<i+clipsize)]\n",
    "        if interp:\n",
    "            if len(c) == 250:\n",
    "                clips.append(c)\n",
    "            #resample clip if not enough samples are there\n",
    "            elif (len(c) >200) & (len(c)<250): #for now hard code clip size (enforce 250 samples)\n",
    "                t = c.timestamp.values\n",
    "                tnew = np.linspace(t[0],t[-1],250)  \n",
    "                x_res = resample(c.iloc[:,1].values,num,tnew)[0]\n",
    "                y_res = resample(c.iloc[:,2].values,num,tnew)[0]\n",
    "                z_res = resample(c.iloc[:,3].values,num,tnew)[0]\n",
    "                mag_res = resample(c.iloc[:,4].values,num,tnew)[0]\n",
    "                cres = pd.DataFrame(data=np.vstack((tnew,x_res,y_res,z_res,mag_res)).T,columns=list(c.columns))\n",
    "                clips.append(cres)\n",
    "        else:\n",
    "            if len(c) > 10: #at least n data points in clip\n",
    "                clips.append(c)\n",
    "#         if len(c) > 0.8*int(clipsize/deltat): #discard clips whose length is less than len_tol% of the window size\n",
    "    return clips\n",
    "\n",
    "\n",
    "    \n",
    "#PSD on magnitude using Welch method\n",
    "def power_spectra_welch(rawdata,fm,fM):\n",
    "    x = rawdata.iloc[:,-1]\n",
    "    n = len(x) #number of samples in clip\n",
    "    Fs = np.mean(1/(np.diff(rawdata.timestamp))) #sampling rate in clip\n",
    "    f,Pxx_den = welch(x,Fs,nperseg=min(256,n))\n",
    "    #return PSD in desired interval of freq\n",
    "    inds = (f<=fM)&(f>=fm)\n",
    "    f=f[inds]\n",
    "    Pxx_den=Pxx_den[inds]\n",
    "    Pxxdf = pd.DataFrame(data=Pxx_den,index=f,columns=['PSD_magnitude'])\n",
    "\n",
    "    return Pxxdf\n",
    "\n",
    "    \n",
    "#highpass (or lowpass) filter data. HP to remove gravity (offset - limb orientation) from accelerometer data from each visit (trial)\n",
    "def filter_signal(rawdata,cutoff=0.75,ftype='highpass',order=4):\n",
    "\n",
    "    t = rawdata.timestamp\n",
    "    t = t-t.iloc[0]\n",
    "    rawdata.timestamp = t\n",
    "    x = rawdata.iloc[:,1:].values\n",
    "    Fs = np.mean(1/(np.diff(rawdata.timestamp))) #sampling rate    \n",
    "    #filter design\n",
    "    cutoff_norm = cutoff/(0.5*Fs)\n",
    "    b,a = butter(order,cutoff_norm,btype=ftype,analog=False)\n",
    "    #filter data\n",
    "    xfilt = filtfilt(b,a,x,axis=0)\n",
    "    t = np.expand_dims(t,axis=1)\n",
    "    rawdatafilt = pd.DataFrame(data=np.hstack((t,xfilt)),columns=rawdata.columns)\n",
    "    return rawdatafilt\n",
    "\n",
    "#PERFORMS LEAVE ONE SUBJECT OUT CROSS VALIDATION TO EVALUATE PERFORMANCE OF MODELS AND STORE OUTPUT POSTERIOR \n",
    "#PROBABILITIES OF CLASSIFIERS TO BE USED AS FEATURES\n",
    "#X,y are numpy arrays with features and target\n",
    "#Fnew is dataframe storing the posteriors (new features)\n",
    "#returns mean feature importance\n",
    "def LOSOCV(X,y,groups,models,Fnew):\n",
    "\n",
    "    subj = LeaveOneGroupOut() \n",
    "\n",
    "    #train multiple classifiers\n",
    "    for clf,model_name in models:\n",
    "\n",
    "        Prec_all=[]; Rec_all=[]; f1_train=[]; Posteriors=[] \n",
    "\n",
    "        print('Training %s'%model_name)\n",
    "        \n",
    "        #LOSO CV for current classifier\n",
    "        for train_index, test_index in subj.split(X, y, groups):\n",
    "            Xtr, Xte = X[train_index], X[test_index]\n",
    "            ytr, yte = y[train_index], y[test_index]\n",
    "            clf.fit(Xtr,ytr)\n",
    "            ypred = clf.predict(Xte)\n",
    "            yscore = clf.predict_proba(Xte) #posterior scores on left out subject\n",
    "            yscore = yscore[:,1]\n",
    "            \n",
    "            #accuracy on train set\n",
    "            ypred_train = clf.predict(Xtr)\n",
    "            f1_train.append(f1_score(ytr,ypred_train))\n",
    "\n",
    "            #compute Sens and Spec for current subject and classifier\n",
    "            if np.sum(yte==1)>0:                    \n",
    "                Prec = precision_score(yte,ypred)\n",
    "                Rec = recall_score(yte,ypred)\n",
    "            else:\n",
    "                print('no positive examples for current test subj')\n",
    "                Sens = np.nan\n",
    "            Prec_all.append(Prec); Rec_all.append(Rec)\n",
    "\n",
    "            #store posteriors from current classifier and subject\n",
    "#             Fnew[model_name].iloc[test_index]=yscore\n",
    "            Fnew.loc[test_index,model_name]=yscore\n",
    "\n",
    "            \n",
    "        #mean across all subjects\n",
    "        print(('%s, mean F1 on training set = %.3f (+/- %0.3f)')%(model_name,np.nanmean(f1_train),2*np.nanstd(f1_train)/np.sqrt(len(f1_train))))\n",
    "        print(('%s, mean Prec = %.3f (+/- %0.3f)')%(model_name,np.nanmean(Prec_all),2*np.nanstd(Prec_all)/np.sqrt(len(Prec_all))))\n",
    "        print(('%s, mean Rec = %.3f (+/- %0.3f)')%(model_name,np.nanmean(Rec_all),2*np.nanstd(Rec_all)/np.sqrt(len(Rec_all))))\n",
    "\n",
    "    return Fnew\n",
    "\n",
    "\n",
    "#train classifiers on input training features Xtr and target ytr; \n",
    "#returns posterior predictions Fnew from each clf on test data X\n",
    "def testdata_stacking(Xtr,ytr,Xte,models,Fnew):\n",
    "\n",
    "    #train multiple classifiers\n",
    "    for clf,model_name in models:\n",
    "        print('Training %s'%model_name)\n",
    "        clf.fit(Xtr,ytr)\n",
    "        print('Computing prediction %s'%model_name)\n",
    "        yscore = clf.predict_proba(Xte) #posterior scores on test data\n",
    "        yscore = yscore[:,1]\n",
    "        #store posteriors from current classifier on test data\n",
    "        Fnew.loc[:,model_name]=yscore\n",
    "\n",
    "    return Fnew\n",
    "\n",
    "\n",
    "#REMOVE ROWS IN TRAIN AND TEST TABLES WITH EMPTY RECORDINGS\n",
    "def findnanrows(df):\n",
    "\n",
    "    empty_ind = []\n",
    "    nans_found=0; n_empty=0\n",
    "    for i in range(len(df)):\n",
    "\n",
    "        f = df.iloc[i,:].path\n",
    "        rawdata = pd.read_csv(f,sep='\\t') #load file\n",
    "\n",
    "        #remove nans\n",
    "        rawdata = rawdata.astype('float64') #make sure everything is float\n",
    "        if sum(np.sum(rawdata.isnull())) > 0:\n",
    "            nans_found+=1 # of files w nans\n",
    "            rawdata = rawdata.dropna() #drop nans\n",
    "\n",
    "        #store row indices of empty files\n",
    "        if rawdata.empty == True:\n",
    "            n_empty+=1 #empty files\n",
    "            empty_ind.append(i)\n",
    "    print('Files w nans: %d'%nans_found)\n",
    "    print('Files w 0 non-nan rows %d'%n_empty)\n",
    "    return empty_ind"
   ]
  },
  {
   "cell_type": "markdown",
   "metadata": {},
   "source": [
    "## Pull Train data (remove empty files rows)"
   ]
  },
  {
   "cell_type": "code",
   "execution_count": 4,
   "metadata": {
    "collapsed": true
   },
   "outputs": [],
   "source": [
    "# symptom_score = 'bradykinesiaScore'\n",
    "symptom_score = 'dyskinesiaScore'\n",
    "# symptom_score = 'tremorScore'"
   ]
  },
  {
   "cell_type": "code",
   "execution_count": 7,
   "metadata": {
    "collapsed": false
   },
   "outputs": [],
   "source": [
    "# q_train = syn.tableQuery(\"SELECT * from syn10495809 where bradykinesiaScore is not null\")"
   ]
  },
  {
   "cell_type": "code",
   "execution_count": 5,
   "metadata": {
    "collapsed": true
   },
   "outputs": [],
   "source": [
    "q_train = syn.tableQuery(\"SELECT * from syn10495809 where dyskinesiaScore is not null\")"
   ]
  },
  {
   "cell_type": "code",
   "execution_count": 126,
   "metadata": {
    "collapsed": true
   },
   "outputs": [],
   "source": [
    "# q_train = syn.tableQuery(\"SELECT * from syn10495809 where tremorScore is not null\")"
   ]
  },
  {
   "cell_type": "code",
   "execution_count": 6,
   "metadata": {
    "collapsed": false
   },
   "outputs": [
    {
     "name": "stdout",
     "output_type": "stream",
     "text": [
      "Downloading 0 files, 1556 cached locally\n"
     ]
    }
   ],
   "source": [
    "paths_train = syn.downloadTableColumns(q_train,'dataFileHandleId')"
   ]
  },
  {
   "cell_type": "code",
   "execution_count": 7,
   "metadata": {
    "collapsed": false
   },
   "outputs": [
    {
     "data": {
      "text/html": [
       "<div>\n",
       "<style>\n",
       "    .dataframe thead tr:only-child th {\n",
       "        text-align: right;\n",
       "    }\n",
       "\n",
       "    .dataframe thead th {\n",
       "        text-align: left;\n",
       "    }\n",
       "\n",
       "    .dataframe tbody tr th {\n",
       "        vertical-align: top;\n",
       "    }\n",
       "</style>\n",
       "<table border=\"1\" class=\"dataframe\">\n",
       "  <thead>\n",
       "    <tr style=\"text-align: right;\">\n",
       "      <th></th>\n",
       "      <th>dataFileHandleId</th>\n",
       "      <th>device</th>\n",
       "      <th>patient</th>\n",
       "      <th>session</th>\n",
       "      <th>site</th>\n",
       "      <th>task</th>\n",
       "      <th>visit</th>\n",
       "      <th>deviceSide</th>\n",
       "      <th>tremorScore</th>\n",
       "      <th>dyskinesiaScore</th>\n",
       "      <th>bradykinesiaScore</th>\n",
       "      <th>path</th>\n",
       "    </tr>\n",
       "  </thead>\n",
       "  <tbody>\n",
       "    <tr>\n",
       "      <th>25823_22</th>\n",
       "      <td>17286039</td>\n",
       "      <td>GENEActiv</td>\n",
       "      <td>13_BOS</td>\n",
       "      <td>1</td>\n",
       "      <td>Boston</td>\n",
       "      <td>ftnl1</td>\n",
       "      <td>1</td>\n",
       "      <td>Right</td>\n",
       "      <td>NaN</td>\n",
       "      <td>0</td>\n",
       "      <td>NaN</td>\n",
       "      <td>/Users/luca/Projects/DREAM_PD/Data/39/17286039...</td>\n",
       "    </tr>\n",
       "    <tr>\n",
       "      <th>25825_22</th>\n",
       "      <td>17286045</td>\n",
       "      <td>GENEActiv</td>\n",
       "      <td>13_BOS</td>\n",
       "      <td>1</td>\n",
       "      <td>Boston</td>\n",
       "      <td>ftnl2</td>\n",
       "      <td>1</td>\n",
       "      <td>Right</td>\n",
       "      <td>NaN</td>\n",
       "      <td>0</td>\n",
       "      <td>NaN</td>\n",
       "      <td>/Users/luca/Projects/DREAM_PD/Data/45/17286045...</td>\n",
       "    </tr>\n",
       "    <tr>\n",
       "      <th>25828_22</th>\n",
       "      <td>17286054</td>\n",
       "      <td>Pebble</td>\n",
       "      <td>13_BOS</td>\n",
       "      <td>1</td>\n",
       "      <td>Boston</td>\n",
       "      <td>ftnr1</td>\n",
       "      <td>1</td>\n",
       "      <td>Left</td>\n",
       "      <td>NaN</td>\n",
       "      <td>0</td>\n",
       "      <td>NaN</td>\n",
       "      <td>/Users/luca/Projects/DREAM_PD/Data/54/17286054...</td>\n",
       "    </tr>\n",
       "    <tr>\n",
       "      <th>25830_22</th>\n",
       "      <td>17286060</td>\n",
       "      <td>Pebble</td>\n",
       "      <td>13_BOS</td>\n",
       "      <td>1</td>\n",
       "      <td>Boston</td>\n",
       "      <td>ftnr2</td>\n",
       "      <td>1</td>\n",
       "      <td>Left</td>\n",
       "      <td>NaN</td>\n",
       "      <td>0</td>\n",
       "      <td>NaN</td>\n",
       "      <td>/Users/luca/Projects/DREAM_PD/Data/60/17286060...</td>\n",
       "    </tr>\n",
       "    <tr>\n",
       "      <th>25835_22</th>\n",
       "      <td>17286076</td>\n",
       "      <td>GENEActiv</td>\n",
       "      <td>13_BOS</td>\n",
       "      <td>1</td>\n",
       "      <td>Boston</td>\n",
       "      <td>raml1</td>\n",
       "      <td>1</td>\n",
       "      <td>Right</td>\n",
       "      <td>NaN</td>\n",
       "      <td>0</td>\n",
       "      <td>NaN</td>\n",
       "      <td>/Users/luca/Projects/DREAM_PD/Data/76/17286076...</td>\n",
       "    </tr>\n",
       "  </tbody>\n",
       "</table>\n",
       "</div>"
      ],
      "text/plain": [
       "          dataFileHandleId     device patient  session    site   task  visit  \\\n",
       "25823_22          17286039  GENEActiv  13_BOS        1  Boston  ftnl1      1   \n",
       "25825_22          17286045  GENEActiv  13_BOS        1  Boston  ftnl2      1   \n",
       "25828_22          17286054     Pebble  13_BOS        1  Boston  ftnr1      1   \n",
       "25830_22          17286060     Pebble  13_BOS        1  Boston  ftnr2      1   \n",
       "25835_22          17286076  GENEActiv  13_BOS        1  Boston  raml1      1   \n",
       "\n",
       "         deviceSide  tremorScore  dyskinesiaScore  bradykinesiaScore  \\\n",
       "25823_22      Right          NaN                0                NaN   \n",
       "25825_22      Right          NaN                0                NaN   \n",
       "25828_22       Left          NaN                0                NaN   \n",
       "25830_22       Left          NaN                0                NaN   \n",
       "25835_22      Right          NaN                0                NaN   \n",
       "\n",
       "                                                       path  \n",
       "25823_22  /Users/luca/Projects/DREAM_PD/Data/39/17286039...  \n",
       "25825_22  /Users/luca/Projects/DREAM_PD/Data/45/17286045...  \n",
       "25828_22  /Users/luca/Projects/DREAM_PD/Data/54/17286054...  \n",
       "25830_22  /Users/luca/Projects/DREAM_PD/Data/60/17286060...  \n",
       "25835_22  /Users/luca/Projects/DREAM_PD/Data/76/17286076...  "
      ]
     },
     "execution_count": 7,
     "metadata": {},
     "output_type": "execute_result"
    }
   ],
   "source": [
    "df_train = q_train.asDataFrame()\n",
    "df_train['path']=df_train.dataFileHandleId.astype(str).map(paths_train)\n",
    "df_train.head()"
   ]
  },
  {
   "cell_type": "code",
   "execution_count": 8,
   "metadata": {
    "collapsed": false
   },
   "outputs": [
    {
     "name": "stdout",
     "output_type": "stream",
     "text": [
      "Files w nans: 88\n",
      "Files w 0 non-nan rows 56\n"
     ]
    },
    {
     "data": {
      "text/plain": [
       "1500"
      ]
     },
     "execution_count": 8,
     "metadata": {},
     "output_type": "execute_result"
    }
   ],
   "source": [
    "#remove nanrows\n",
    "inds = findnanrows(df_train)\n",
    "df_train=df_train.drop(df_train.index[inds])\n",
    "y_train = df_train[symptom_score].values\n",
    "len(df_train)"
   ]
  },
  {
   "cell_type": "markdown",
   "metadata": {},
   "source": [
    "## Pull test data"
   ]
  },
  {
   "cell_type": "code",
   "execution_count": 12,
   "metadata": {
    "collapsed": true
   },
   "outputs": [],
   "source": [
    "q_test = syn.tableQuery(\"SELECT * from syn10701954 where dyskinesiaScore = 'Score'\")"
   ]
  },
  {
   "cell_type": "code",
   "execution_count": 11,
   "metadata": {
    "collapsed": true
   },
   "outputs": [],
   "source": [
    "# q_test = syn.tableQuery(\"SELECT * from syn10701954 where bradykinesiaScore = 'Score'\")"
   ]
  },
  {
   "cell_type": "code",
   "execution_count": 13,
   "metadata": {
    "collapsed": false
   },
   "outputs": [
    {
     "name": "stdout",
     "output_type": "stream",
     "text": [
      "Downloading 0 files, 660 cached locally\n"
     ]
    }
   ],
   "source": [
    "paths_test = syn.downloadTableColumns(q_test,'dataFileHandleId')"
   ]
  },
  {
   "cell_type": "code",
   "execution_count": 14,
   "metadata": {
    "collapsed": false
   },
   "outputs": [
    {
     "data": {
      "text/html": [
       "<div>\n",
       "<style>\n",
       "    .dataframe thead tr:only-child th {\n",
       "        text-align: right;\n",
       "    }\n",
       "\n",
       "    .dataframe thead th {\n",
       "        text-align: left;\n",
       "    }\n",
       "\n",
       "    .dataframe tbody tr th {\n",
       "        vertical-align: top;\n",
       "    }\n",
       "</style>\n",
       "<table border=\"1\" class=\"dataframe\">\n",
       "  <thead>\n",
       "    <tr style=\"text-align: right;\">\n",
       "      <th></th>\n",
       "      <th>dataFileHandleId</th>\n",
       "      <th>device</th>\n",
       "      <th>patient</th>\n",
       "      <th>session</th>\n",
       "      <th>site</th>\n",
       "      <th>task</th>\n",
       "      <th>visit</th>\n",
       "      <th>deviceSide</th>\n",
       "      <th>tremorScore</th>\n",
       "      <th>dyskinesiaScore</th>\n",
       "      <th>bradykinesiaScore</th>\n",
       "      <th>path</th>\n",
       "    </tr>\n",
       "  </thead>\n",
       "  <tbody>\n",
       "    <tr>\n",
       "      <th>12963_10</th>\n",
       "      <td>17287647</td>\n",
       "      <td>GENEActiv</td>\n",
       "      <td>14_BOS</td>\n",
       "      <td>1</td>\n",
       "      <td>Boston</td>\n",
       "      <td>ftnl1</td>\n",
       "      <td>1</td>\n",
       "      <td>Right</td>\n",
       "      <td>NotApplicable</td>\n",
       "      <td>Score</td>\n",
       "      <td>NotApplicable</td>\n",
       "      <td>/Users/luca/Projects/DREAMPD_Repo/Data/647/172...</td>\n",
       "    </tr>\n",
       "    <tr>\n",
       "      <th>12965_10</th>\n",
       "      <td>17287654</td>\n",
       "      <td>GENEActiv</td>\n",
       "      <td>14_BOS</td>\n",
       "      <td>1</td>\n",
       "      <td>Boston</td>\n",
       "      <td>ftnl2</td>\n",
       "      <td>1</td>\n",
       "      <td>Right</td>\n",
       "      <td>NotApplicable</td>\n",
       "      <td>Score</td>\n",
       "      <td>NotApplicable</td>\n",
       "      <td>/Users/luca/Projects/DREAMPD_Repo/Data/654/172...</td>\n",
       "    </tr>\n",
       "    <tr>\n",
       "      <th>12968_10</th>\n",
       "      <td>17287666</td>\n",
       "      <td>Pebble</td>\n",
       "      <td>14_BOS</td>\n",
       "      <td>1</td>\n",
       "      <td>Boston</td>\n",
       "      <td>ftnr1</td>\n",
       "      <td>1</td>\n",
       "      <td>Left</td>\n",
       "      <td>NotApplicable</td>\n",
       "      <td>Score</td>\n",
       "      <td>NotApplicable</td>\n",
       "      <td>/Users/luca/Projects/DREAMPD_Repo/Data/666/172...</td>\n",
       "    </tr>\n",
       "    <tr>\n",
       "      <th>12970_10</th>\n",
       "      <td>17287674</td>\n",
       "      <td>Pebble</td>\n",
       "      <td>14_BOS</td>\n",
       "      <td>1</td>\n",
       "      <td>Boston</td>\n",
       "      <td>ftnr2</td>\n",
       "      <td>1</td>\n",
       "      <td>Left</td>\n",
       "      <td>NotApplicable</td>\n",
       "      <td>Score</td>\n",
       "      <td>NotApplicable</td>\n",
       "      <td>/Users/luca/Projects/DREAMPD_Repo/Data/674/172...</td>\n",
       "    </tr>\n",
       "    <tr>\n",
       "      <th>12975_10</th>\n",
       "      <td>17287694</td>\n",
       "      <td>GENEActiv</td>\n",
       "      <td>14_BOS</td>\n",
       "      <td>1</td>\n",
       "      <td>Boston</td>\n",
       "      <td>raml1</td>\n",
       "      <td>1</td>\n",
       "      <td>Right</td>\n",
       "      <td>NotApplicable</td>\n",
       "      <td>Score</td>\n",
       "      <td>NotApplicable</td>\n",
       "      <td>/Users/luca/Projects/DREAMPD_Repo/Data/694/172...</td>\n",
       "    </tr>\n",
       "  </tbody>\n",
       "</table>\n",
       "</div>"
      ],
      "text/plain": [
       "          dataFileHandleId     device patient  session    site   task  visit  \\\n",
       "12963_10          17287647  GENEActiv  14_BOS        1  Boston  ftnl1      1   \n",
       "12965_10          17287654  GENEActiv  14_BOS        1  Boston  ftnl2      1   \n",
       "12968_10          17287666     Pebble  14_BOS        1  Boston  ftnr1      1   \n",
       "12970_10          17287674     Pebble  14_BOS        1  Boston  ftnr2      1   \n",
       "12975_10          17287694  GENEActiv  14_BOS        1  Boston  raml1      1   \n",
       "\n",
       "         deviceSide    tremorScore dyskinesiaScore bradykinesiaScore  \\\n",
       "12963_10      Right  NotApplicable           Score     NotApplicable   \n",
       "12965_10      Right  NotApplicable           Score     NotApplicable   \n",
       "12968_10       Left  NotApplicable           Score     NotApplicable   \n",
       "12970_10       Left  NotApplicable           Score     NotApplicable   \n",
       "12975_10      Right  NotApplicable           Score     NotApplicable   \n",
       "\n",
       "                                                       path  \n",
       "12963_10  /Users/luca/Projects/DREAMPD_Repo/Data/647/172...  \n",
       "12965_10  /Users/luca/Projects/DREAMPD_Repo/Data/654/172...  \n",
       "12968_10  /Users/luca/Projects/DREAMPD_Repo/Data/666/172...  \n",
       "12970_10  /Users/luca/Projects/DREAMPD_Repo/Data/674/172...  \n",
       "12975_10  /Users/luca/Projects/DREAMPD_Repo/Data/694/172...  "
      ]
     },
     "execution_count": 14,
     "metadata": {},
     "output_type": "execute_result"
    }
   ],
   "source": [
    "df_test = q_test.asDataFrame()\n",
    "df_test['path']=df_test.dataFileHandleId.astype(str).map(paths_test)\n",
    "df_test.head()"
   ]
  },
  {
   "cell_type": "code",
   "execution_count": 15,
   "metadata": {
    "collapsed": false
   },
   "outputs": [
    {
     "data": {
      "text/plain": [
       "660"
      ]
     },
     "execution_count": 15,
     "metadata": {},
     "output_type": "execute_result"
    }
   ],
   "source": [
    "len(df_test)"
   ]
  },
  {
   "cell_type": "code",
   "execution_count": 16,
   "metadata": {
    "collapsed": false
   },
   "outputs": [
    {
     "name": "stdout",
     "output_type": "stream",
     "text": [
      "Files w nans: 51\n",
      "Files w 0 non-nan rows 17\n"
     ]
    },
    {
     "data": {
      "text/plain": [
       "643"
      ]
     },
     "execution_count": 16,
     "metadata": {},
     "output_type": "execute_result"
    }
   ],
   "source": [
    "#remove nanrows\n",
    "inds = findnanrows(df_test)\n",
    "df_test=df_test.drop(df_test.index[inds])\n",
    "len(df_test)"
   ]
  },
  {
   "cell_type": "markdown",
   "metadata": {},
   "source": [
    "## Extract metadata features and convert to numeric\n"
   ]
  },
  {
   "cell_type": "code",
   "execution_count": 176,
   "metadata": {
    "collapsed": true
   },
   "outputs": [],
   "source": [
    "df = df_train\n",
    "# df = df_test #to run on df_test"
   ]
  },
  {
   "cell_type": "code",
   "execution_count": 177,
   "metadata": {
    "collapsed": false
   },
   "outputs": [
    {
     "data": {
      "text/plain": [
       "1500"
      ]
     },
     "execution_count": 177,
     "metadata": {},
     "output_type": "execute_result"
    }
   ],
   "source": [
    "len(df)"
   ]
  },
  {
   "cell_type": "code",
   "execution_count": 178,
   "metadata": {
    "collapsed": true
   },
   "outputs": [],
   "source": [
    "X_meta = df[['dataFileHandleId','device','patient','session','site','task','visit','deviceSide']]\n",
    "y_meta = df[symptom_score]"
   ]
  },
  {
   "cell_type": "code",
   "execution_count": 31,
   "metadata": {
    "collapsed": true
   },
   "outputs": [],
   "source": [
    "#encode cat vars with num\n",
    "le = preprocessing.LabelEncoder()\n",
    "X_meta_copy = X_meta.copy()\n",
    "cat_cols = X_meta.select_dtypes(['object']).columns\n",
    "for c in cat_cols:\n",
    "    X_meta_copy[c]=le.fit_transform(X_meta[c])"
   ]
  },
  {
   "cell_type": "code",
   "execution_count": 32,
   "metadata": {
    "collapsed": true
   },
   "outputs": [],
   "source": [
    "X_meta=X_meta_copy\n",
    "Metadata = X_meta_copy #store the metadata alone for later"
   ]
  },
  {
   "cell_type": "code",
   "execution_count": 33,
   "metadata": {
    "collapsed": false
   },
   "outputs": [],
   "source": [
    "#add task duration as another meta variable\n",
    "#durations of tasks\n",
    "c = 0\n",
    "Dur = []\n",
    "for f in df.path:\n",
    "    rawdata = pd.read_csv(f,sep='\\t')\n",
    "    t = rawdata.timestamp\n",
    "    t = t-t[0]\n",
    "    rawdata.timestamp = t\n",
    "    Dur.append(rawdata.timestamp.iloc[-1])\n",
    "    c+=1\n",
    "Dur = np.asarray(Dur)\n",
    "X_meta['Duration']=Dur"
   ]
  },
  {
   "cell_type": "code",
   "execution_count": 34,
   "metadata": {
    "collapsed": false
   },
   "outputs": [],
   "source": [
    "#standardize duration \n",
    "scaler = StandardScaler()\n",
    "X_meta.iloc[:,-1]=scaler.fit_transform(X_meta.iloc[:,-1].values.reshape(-1,1))"
   ]
  },
  {
   "cell_type": "code",
   "execution_count": 35,
   "metadata": {
    "collapsed": false
   },
   "outputs": [],
   "source": [
    "# #drop patient as metafeatures and store for later \n",
    "# groups = X_meta.patient.values\n",
    "# X_meta=X_meta.drop('patient',axis=1)"
   ]
  },
  {
   "cell_type": "code",
   "execution_count": 36,
   "metadata": {
    "collapsed": false
   },
   "outputs": [
    {
     "data": {
      "text/html": [
       "<div>\n",
       "<style>\n",
       "    .dataframe thead tr:only-child th {\n",
       "        text-align: right;\n",
       "    }\n",
       "\n",
       "    .dataframe thead th {\n",
       "        text-align: left;\n",
       "    }\n",
       "\n",
       "    .dataframe tbody tr th {\n",
       "        vertical-align: top;\n",
       "    }\n",
       "</style>\n",
       "<table border=\"1\" class=\"dataframe\">\n",
       "  <thead>\n",
       "    <tr style=\"text-align: right;\">\n",
       "      <th></th>\n",
       "      <th>dataFileHandleId</th>\n",
       "      <th>device</th>\n",
       "      <th>patient</th>\n",
       "      <th>session</th>\n",
       "      <th>site</th>\n",
       "      <th>task</th>\n",
       "      <th>visit</th>\n",
       "      <th>deviceSide</th>\n",
       "      <th>Duration</th>\n",
       "    </tr>\n",
       "  </thead>\n",
       "  <tbody>\n",
       "    <tr>\n",
       "      <th>12963_10</th>\n",
       "      <td>17287647</td>\n",
       "      <td>0</td>\n",
       "      <td>4</td>\n",
       "      <td>1</td>\n",
       "      <td>0</td>\n",
       "      <td>0</td>\n",
       "      <td>1</td>\n",
       "      <td>1</td>\n",
       "      <td>0.590918</td>\n",
       "    </tr>\n",
       "    <tr>\n",
       "      <th>12965_10</th>\n",
       "      <td>17287654</td>\n",
       "      <td>0</td>\n",
       "      <td>4</td>\n",
       "      <td>1</td>\n",
       "      <td>0</td>\n",
       "      <td>1</td>\n",
       "      <td>1</td>\n",
       "      <td>1</td>\n",
       "      <td>-0.747253</td>\n",
       "    </tr>\n",
       "    <tr>\n",
       "      <th>12968_10</th>\n",
       "      <td>17287666</td>\n",
       "      <td>1</td>\n",
       "      <td>4</td>\n",
       "      <td>1</td>\n",
       "      <td>0</td>\n",
       "      <td>2</td>\n",
       "      <td>1</td>\n",
       "      <td>0</td>\n",
       "      <td>0.590918</td>\n",
       "    </tr>\n",
       "    <tr>\n",
       "      <th>12970_10</th>\n",
       "      <td>17287674</td>\n",
       "      <td>1</td>\n",
       "      <td>4</td>\n",
       "      <td>1</td>\n",
       "      <td>0</td>\n",
       "      <td>3</td>\n",
       "      <td>1</td>\n",
       "      <td>0</td>\n",
       "      <td>-0.747253</td>\n",
       "    </tr>\n",
       "    <tr>\n",
       "      <th>12975_10</th>\n",
       "      <td>17287694</td>\n",
       "      <td>0</td>\n",
       "      <td>4</td>\n",
       "      <td>1</td>\n",
       "      <td>0</td>\n",
       "      <td>4</td>\n",
       "      <td>1</td>\n",
       "      <td>1</td>\n",
       "      <td>0.590918</td>\n",
       "    </tr>\n",
       "  </tbody>\n",
       "</table>\n",
       "</div>"
      ],
      "text/plain": [
       "          dataFileHandleId  device  patient  session  site  task  visit  \\\n",
       "12963_10          17287647       0        4        1     0     0      1   \n",
       "12965_10          17287654       0        4        1     0     1      1   \n",
       "12968_10          17287666       1        4        1     0     2      1   \n",
       "12970_10          17287674       1        4        1     0     3      1   \n",
       "12975_10          17287694       0        4        1     0     4      1   \n",
       "\n",
       "          deviceSide  Duration  \n",
       "12963_10           1  0.590918  \n",
       "12965_10           1 -0.747253  \n",
       "12968_10           0  0.590918  \n",
       "12970_10           0 -0.747253  \n",
       "12975_10           1  0.590918  "
      ]
     },
     "execution_count": 36,
     "metadata": {},
     "output_type": "execute_result"
    }
   ],
   "source": [
    "X_meta.head()"
   ]
  },
  {
   "cell_type": "code",
   "execution_count": 33,
   "metadata": {
    "collapsed": true
   },
   "outputs": [],
   "source": [
    "#save dataframe\n",
    "# df.to_csv('./DataFrames/metadf_test_brady.csv')\n",
    "# df.to_csv('./DataFrames/metadf_train_brady.csv')"
   ]
  },
  {
   "cell_type": "code",
   "execution_count": 37,
   "metadata": {
    "collapsed": true
   },
   "outputs": [],
   "source": [
    "#save numeric metadata features\n",
    "# X_meta.to_csv('metadfnum_train_brady.csv',index=False)\n",
    "# X_meta.to_csv('metadfnum_test_brady.csv',index=False)\n",
    "# X_meta.to_csv('metadfnum_train_dysk.csv',index=False)\n",
    "X_meta.to_csv('metadfnum_test_dysk.csv',index=False)"
   ]
  },
  {
   "cell_type": "markdown",
   "metadata": {},
   "source": [
    "## Compute features on 5 sec windows\n",
    "* Assign df to either df_train or df_test\n",
    "* Make sure metadata corresponds to train or test"
   ]
  },
  {
   "cell_type": "code",
   "execution_count": 179,
   "metadata": {
    "collapsed": false
   },
   "outputs": [],
   "source": [
    "#load metadata (Train or test)\n",
    "# Metadata = pd.read_csv('metadfnum_train_brady.csv')\n",
    "Metadata = pd.read_csv('metadfnum_train_dysk.csv')\n",
    "\n",
    "Metadata.index = df_train.index\n",
    "df = df_train.copy()\n",
    "\n",
    "#TEST\n",
    "# Metadata = pd.read_csv('metadfnum_test_brady.csv')\n",
    "# Metadata = pd.read_csv('metadfnum_test_dysk.csv')\n",
    "\n",
    "# Metadata.index = df_test.index\n",
    "# df = df_test.copy()\n"
   ]
  },
  {
   "cell_type": "code",
   "execution_count": 180,
   "metadata": {
    "collapsed": false
   },
   "outputs": [
    {
     "data": {
      "text/html": [
       "<div>\n",
       "<style>\n",
       "    .dataframe thead tr:only-child th {\n",
       "        text-align: right;\n",
       "    }\n",
       "\n",
       "    .dataframe thead th {\n",
       "        text-align: left;\n",
       "    }\n",
       "\n",
       "    .dataframe tbody tr th {\n",
       "        vertical-align: top;\n",
       "    }\n",
       "</style>\n",
       "<table border=\"1\" class=\"dataframe\">\n",
       "  <thead>\n",
       "    <tr style=\"text-align: right;\">\n",
       "      <th></th>\n",
       "      <th>dataFileHandleId</th>\n",
       "      <th>device</th>\n",
       "      <th>patient</th>\n",
       "      <th>session</th>\n",
       "      <th>site</th>\n",
       "      <th>task</th>\n",
       "      <th>visit</th>\n",
       "      <th>deviceSide</th>\n",
       "      <th>tremorScore</th>\n",
       "      <th>dyskinesiaScore</th>\n",
       "      <th>bradykinesiaScore</th>\n",
       "      <th>path</th>\n",
       "      <th>Duration</th>\n",
       "    </tr>\n",
       "  </thead>\n",
       "  <tbody>\n",
       "    <tr>\n",
       "      <th>25823_22</th>\n",
       "      <td>17286039</td>\n",
       "      <td>0</td>\n",
       "      <td>2</td>\n",
       "      <td>1</td>\n",
       "      <td>0</td>\n",
       "      <td>0</td>\n",
       "      <td>1</td>\n",
       "      <td>1</td>\n",
       "      <td>NaN</td>\n",
       "      <td>0</td>\n",
       "      <td>NaN</td>\n",
       "      <td>/Users/luca/Projects/DREAM_PD/Data/39/17286039...</td>\n",
       "      <td>-0.827766</td>\n",
       "    </tr>\n",
       "    <tr>\n",
       "      <th>25825_22</th>\n",
       "      <td>17286045</td>\n",
       "      <td>0</td>\n",
       "      <td>2</td>\n",
       "      <td>1</td>\n",
       "      <td>0</td>\n",
       "      <td>1</td>\n",
       "      <td>1</td>\n",
       "      <td>1</td>\n",
       "      <td>NaN</td>\n",
       "      <td>0</td>\n",
       "      <td>NaN</td>\n",
       "      <td>/Users/luca/Projects/DREAM_PD/Data/45/17286045...</td>\n",
       "      <td>-0.827766</td>\n",
       "    </tr>\n",
       "  </tbody>\n",
       "</table>\n",
       "</div>"
      ],
      "text/plain": [
       "          dataFileHandleId  device  patient  session  site  task  visit  \\\n",
       "25823_22          17286039       0        2        1     0     0      1   \n",
       "25825_22          17286045       0        2        1     0     1      1   \n",
       "\n",
       "          deviceSide  tremorScore  dyskinesiaScore  bradykinesiaScore  \\\n",
       "25823_22           1          NaN                0                NaN   \n",
       "25825_22           1          NaN                0                NaN   \n",
       "\n",
       "                                                       path  Duration  \n",
       "25823_22  /Users/luca/Projects/DREAM_PD/Data/39/17286039... -0.827766  \n",
       "25825_22  /Users/luca/Projects/DREAM_PD/Data/45/17286045... -0.827766  "
      ]
     },
     "execution_count": 180,
     "metadata": {},
     "output_type": "execute_result"
    }
   ],
   "source": [
    "df.head(2)"
   ]
  },
  {
   "cell_type": "code",
   "execution_count": 181,
   "metadata": {
    "collapsed": false
   },
   "outputs": [
    {
     "data": {
      "text/html": [
       "<div>\n",
       "<style>\n",
       "    .dataframe thead tr:only-child th {\n",
       "        text-align: right;\n",
       "    }\n",
       "\n",
       "    .dataframe thead th {\n",
       "        text-align: left;\n",
       "    }\n",
       "\n",
       "    .dataframe tbody tr th {\n",
       "        vertical-align: top;\n",
       "    }\n",
       "</style>\n",
       "<table border=\"1\" class=\"dataframe\">\n",
       "  <thead>\n",
       "    <tr style=\"text-align: right;\">\n",
       "      <th></th>\n",
       "      <th>dataFileHandleId</th>\n",
       "      <th>device</th>\n",
       "      <th>patient</th>\n",
       "      <th>session</th>\n",
       "      <th>site</th>\n",
       "      <th>task</th>\n",
       "      <th>visit</th>\n",
       "      <th>deviceSide</th>\n",
       "      <th>Duration</th>\n",
       "    </tr>\n",
       "  </thead>\n",
       "  <tbody>\n",
       "    <tr>\n",
       "      <th>25823_22</th>\n",
       "      <td>17286039</td>\n",
       "      <td>0</td>\n",
       "      <td>2</td>\n",
       "      <td>1</td>\n",
       "      <td>0</td>\n",
       "      <td>0</td>\n",
       "      <td>1</td>\n",
       "      <td>1</td>\n",
       "      <td>-0.827766</td>\n",
       "    </tr>\n",
       "    <tr>\n",
       "      <th>25825_22</th>\n",
       "      <td>17286045</td>\n",
       "      <td>0</td>\n",
       "      <td>2</td>\n",
       "      <td>1</td>\n",
       "      <td>0</td>\n",
       "      <td>1</td>\n",
       "      <td>1</td>\n",
       "      <td>1</td>\n",
       "      <td>-0.827766</td>\n",
       "    </tr>\n",
       "  </tbody>\n",
       "</table>\n",
       "</div>"
      ],
      "text/plain": [
       "          dataFileHandleId  device  patient  session  site  task  visit  \\\n",
       "25823_22          17286039       0        2        1     0     0      1   \n",
       "25825_22          17286045       0        2        1     0     1      1   \n",
       "\n",
       "          deviceSide  Duration  \n",
       "25823_22           1 -0.827766  \n",
       "25825_22           1 -0.827766  "
      ]
     },
     "execution_count": 181,
     "metadata": {},
     "output_type": "execute_result"
    }
   ],
   "source": [
    "Metadata.head(2)"
   ]
  },
  {
   "cell_type": "code",
   "execution_count": 182,
   "metadata": {
    "collapsed": false
   },
   "outputs": [],
   "source": [
    "df[['device', 'patient', 'session', 'site', 'task', 'visit', 'deviceSide', 'Duration']] = Metadata.iloc[:,1:]"
   ]
  },
  {
   "cell_type": "code",
   "execution_count": 183,
   "metadata": {
    "collapsed": false
   },
   "outputs": [
    {
     "data": {
      "text/html": [
       "<div>\n",
       "<style>\n",
       "    .dataframe thead tr:only-child th {\n",
       "        text-align: right;\n",
       "    }\n",
       "\n",
       "    .dataframe thead th {\n",
       "        text-align: left;\n",
       "    }\n",
       "\n",
       "    .dataframe tbody tr th {\n",
       "        vertical-align: top;\n",
       "    }\n",
       "</style>\n",
       "<table border=\"1\" class=\"dataframe\">\n",
       "  <thead>\n",
       "    <tr style=\"text-align: right;\">\n",
       "      <th></th>\n",
       "      <th>dataFileHandleId</th>\n",
       "      <th>device</th>\n",
       "      <th>patient</th>\n",
       "      <th>session</th>\n",
       "      <th>site</th>\n",
       "      <th>task</th>\n",
       "      <th>visit</th>\n",
       "      <th>deviceSide</th>\n",
       "      <th>tremorScore</th>\n",
       "      <th>dyskinesiaScore</th>\n",
       "      <th>bradykinesiaScore</th>\n",
       "      <th>path</th>\n",
       "      <th>Duration</th>\n",
       "    </tr>\n",
       "  </thead>\n",
       "  <tbody>\n",
       "    <tr>\n",
       "      <th>25823_22</th>\n",
       "      <td>17286039</td>\n",
       "      <td>0</td>\n",
       "      <td>2</td>\n",
       "      <td>1</td>\n",
       "      <td>0</td>\n",
       "      <td>0</td>\n",
       "      <td>1</td>\n",
       "      <td>1</td>\n",
       "      <td>NaN</td>\n",
       "      <td>0</td>\n",
       "      <td>NaN</td>\n",
       "      <td>/Users/luca/Projects/DREAM_PD/Data/39/17286039...</td>\n",
       "      <td>-0.827766</td>\n",
       "    </tr>\n",
       "    <tr>\n",
       "      <th>25825_22</th>\n",
       "      <td>17286045</td>\n",
       "      <td>0</td>\n",
       "      <td>2</td>\n",
       "      <td>1</td>\n",
       "      <td>0</td>\n",
       "      <td>1</td>\n",
       "      <td>1</td>\n",
       "      <td>1</td>\n",
       "      <td>NaN</td>\n",
       "      <td>0</td>\n",
       "      <td>NaN</td>\n",
       "      <td>/Users/luca/Projects/DREAM_PD/Data/45/17286045...</td>\n",
       "      <td>-0.827766</td>\n",
       "    </tr>\n",
       "  </tbody>\n",
       "</table>\n",
       "</div>"
      ],
      "text/plain": [
       "          dataFileHandleId  device  patient  session  site  task  visit  \\\n",
       "25823_22          17286039       0        2        1     0     0      1   \n",
       "25825_22          17286045       0        2        1     0     1      1   \n",
       "\n",
       "          deviceSide  tremorScore  dyskinesiaScore  bradykinesiaScore  \\\n",
       "25823_22           1          NaN                0                NaN   \n",
       "25825_22           1          NaN                0                NaN   \n",
       "\n",
       "                                                       path  Duration  \n",
       "25823_22  /Users/luca/Projects/DREAM_PD/Data/39/17286039... -0.827766  \n",
       "25825_22  /Users/luca/Projects/DREAM_PD/Data/45/17286045... -0.827766  "
      ]
     },
     "execution_count": 183,
     "metadata": {},
     "output_type": "execute_result"
    }
   ],
   "source": [
    "df.head(2)"
   ]
  },
  {
   "cell_type": "markdown",
   "metadata": {},
   "source": [
    "### Computing features on 5 secs windows of data (train or test) and merge with Metadata"
   ]
  },
  {
   "cell_type": "code",
   "execution_count": 184,
   "metadata": {
    "collapsed": false
   },
   "outputs": [
    {
     "data": {
      "text/plain": [
       "'dyskinesiaScore'"
      ]
     },
     "execution_count": 184,
     "metadata": {},
     "output_type": "execute_result"
    }
   ],
   "source": [
    "symptom_score"
   ]
  },
  {
   "cell_type": "code",
   "execution_count": 185,
   "metadata": {
    "collapsed": false
   },
   "outputs": [
    {
     "name": "stdout",
     "output_type": "stream",
     "text": [
      "True\n",
      "True\n"
     ]
    }
   ],
   "source": [
    "print(len(df) == len(df_train)) #sanity check  \n",
    "# print(len(df) == len(df_test)) #sanity check \n",
    "print(len(df) == len(Metadata))"
   ]
  },
  {
   "cell_type": "code",
   "execution_count": 195,
   "metadata": {
    "collapsed": false
   },
   "outputs": [
    {
     "name": "stdout",
     "output_type": "stream",
     "text": [
      "0\n",
      "1000\n",
      "Elapsed Time:[s] 116.2\n",
      "Files w nans: 32\n",
      "Files w 0 non-nan rows 0\n",
      "Tot rows: 1500\n"
     ]
    }
   ],
   "source": [
    "# def svmscores(df_train_num):\n",
    "\n",
    "row = 0\n",
    "nans_found=0; n_empty=0\n",
    "max_nans = []\n",
    "Features = []; \n",
    "Scores = []\n",
    "Subjs = []\n",
    "DataFiles = []\n",
    "t1 = time.time()\n",
    "# for f in df_train.path:\n",
    "for i in range(len(df)):\n",
    "\n",
    "    f = df.iloc[i,:].path\n",
    "    metadata = pd.to_numeric(df.iloc[i,:][['device', 'session', 'site', 'task', 'visit', 'deviceSide', 'Duration']]).values\n",
    "    score = df.iloc[i,:][symptom_score]\n",
    "    subj = df.iloc[i,:].patient\n",
    "    dfile = df.iloc[i,:].dataFileHandleId\n",
    "    if row%1000==0:\n",
    "        print(row)\n",
    "    rawdata = pd.read_csv(f,sep='\\t') #load file\n",
    "\n",
    "    #remove nans\n",
    "    rawdata = rawdata.astype('float64') #make sure everything is float\n",
    "    if sum(np.sum(rawdata.isnull())) > 0:\n",
    "        nans_found+=1 # of files w nans\n",
    "        if np.sum(rawdata.isnull()).max() < len(rawdata):\n",
    "            max_nans.append((np.sum(rawdata.isnull()).max())/len(rawdata))\n",
    "        rawdata = rawdata.dropna() #drop nans\n",
    "\n",
    "    #compute features if at least one data point is there\n",
    "    if rawdata.empty != True:\n",
    "        #reindex timestamp data relative to start \n",
    "        t = rawdata.timestamp\n",
    "        t = t-t.iloc[0]\n",
    "        rawdata.timestamp = t\n",
    "\n",
    "        #HP filter data (remove gravity)\n",
    "        rawdata = filter_signal(rawdata,order=2)\n",
    "\n",
    "        #compute features on each clip and stats over clips\n",
    "        try:\n",
    "            Fclips=[]\n",
    "            clips = gen_clips(rawdata,clipsize=5,overlap=0.5) #take clips\n",
    "            for clip in clips:\n",
    "                F,flist = feature_extraction(clip)\n",
    "                F = np.append(metadata,F)\n",
    "                F = np.reshape(F,(1,-1))\n",
    "                Features.append(F) #the features from all the clips\n",
    "                Scores.append(score)\n",
    "                Subjs.append(subj)\n",
    "                DataFiles.append(dfile)\n",
    "        except(TypeError):\n",
    "            print('found incompatible datatype')\n",
    "\n",
    "    else:\n",
    "        F = np.empty((1,len(flist)+7)) #empty array of features\n",
    "        F[:]=np.nan\n",
    "        Features.append(F)\n",
    "        n_empty+=1\n",
    "\n",
    "    row+=1\n",
    "\n",
    "elapsed = time.time()-t1\n",
    "print('Elapsed Time:[s] %.1f'%elapsed)\n",
    "print('Files w nans: %d'%nans_found)\n",
    "print('Files w 0 non-nan rows %d'%n_empty)\n",
    "print('Tot rows: %d'%row)"
   ]
  },
  {
   "cell_type": "code",
   "execution_count": 145,
   "metadata": {
    "collapsed": false
   },
   "outputs": [],
   "source": [
    "#save features \n",
    "# df_feat = pd.DataFrame(data=Features,columns=flist,dtype='float64')\n",
    "# df_feat.index = df_train.index\n",
    "arr = np.asarray(Features).squeeze(axis=1)\n",
    "\n",
    "# np.save('./WindowedFeatures/Dysk_Unnorm_Train.npy',arr)\n",
    "np.save('./WindowedFeatures/Dysk_Unnorm_Test.npy',arr)"
   ]
  },
  {
   "cell_type": "markdown",
   "metadata": {},
   "source": [
    "### Load features if they have been previously computed and saved"
   ]
  },
  {
   "cell_type": "code",
   "execution_count": 186,
   "metadata": {
    "collapsed": false
   },
   "outputs": [],
   "source": [
    "Features = np.load('./WindowedFeatures/Dysk_Unnorm_Train.npy')\n",
    "# Features = np.load('./WindowedFeatures/Dysk_Unnorm_Test.npy')"
   ]
  },
  {
   "cell_type": "code",
   "execution_count": 187,
   "metadata": {
    "collapsed": false
   },
   "outputs": [
    {
     "data": {
      "text/plain": [
       "(11954, 41)"
      ]
     },
     "execution_count": 187,
     "metadata": {},
     "output_type": "execute_result"
    }
   ],
   "source": [
    "Features.shape"
   ]
  },
  {
   "cell_type": "markdown",
   "metadata": {},
   "source": [
    "# Train the one-class SVM on either the Train or Test set features.\n",
    "\n",
    "## The model is trained on 0 score windows and outputs the distance (z-score or surprise score) of a new datapoint from the \"no-symptom\" (0 score) distribution\n",
    "\n",
    "### Use Leave-One-Subject-Out Cross validation for Train (compute scores on left out subject)"
   ]
  },
  {
   "cell_type": "markdown",
   "metadata": {},
   "source": [
    "## Prepping train and test data \n",
    "Set 'isTrain' to True if working with the training set"
   ]
  },
  {
   "cell_type": "code",
   "execution_count": 188,
   "metadata": {
    "collapsed": false
   },
   "outputs": [
    {
     "name": "stdout",
     "output_type": "stream",
     "text": [
      "(11954, 41)\n"
     ]
    }
   ],
   "source": [
    "isTrain = True\n",
    "\n",
    "tempFeatures = Features\n",
    "if isTrain:\n",
    "    Features_Train = tempFeatures\n",
    "    Features_Train = np.asarray(Features_Train)\n",
    "    if len(Features_Train.shape)>2:\n",
    "        Features_Train = Features_Train.squeeze(axis=1)\n",
    "    print(Features_Train.shape)\n",
    "\n",
    "    NAFeat_Train = pd.DataFrame(Features_Train).dropna()\n",
    "    SVMScores = pd.DataFrame(np.zeros((len(NAFeat_Train.iloc[:,1]),1)))\n",
    "    TrainScores = np.array(Scores)\n",
    "else:\n",
    "    Features_Test = tempFeatures\n",
    "    Features_Test = np.asarray(Features_Test)\n",
    "    if len(Features_Test.shape)>2:\n",
    "        Features_Test = Features_Test.squeeze(axis=1)\n",
    "    print(Features_Test.shape)\n",
    "\n",
    "    NAFeat_Test = pd.DataFrame(Features_Test).dropna()\n",
    "    SVMScores = pd.DataFrame(np.zeros((len(NAFeat_Test.iloc[:,1]),1)))\n",
    "    TestScores = np.array(Scores)\n",
    "\n"
   ]
  },
  {
   "cell_type": "markdown",
   "metadata": {},
   "source": [
    "### Run the cell below if current dataset is Test"
   ]
  },
  {
   "cell_type": "code",
   "execution_count": 173,
   "metadata": {
    "collapsed": false
   },
   "outputs": [
    {
     "data": {
      "text/plain": [
       "5134"
      ]
     },
     "execution_count": 173,
     "metadata": {},
     "output_type": "execute_result"
    }
   ],
   "source": [
    "len(TrainScores)"
   ]
  },
  {
   "cell_type": "code",
   "execution_count": null,
   "metadata": {
    "collapsed": false
   },
   "outputs": [],
   "source": [
    "# Test Set\n",
    "# Features = tempFeatures\n",
    "# Features = np.asarray(Features)\n",
    "# Features = Features.squeeze(axis=1)\n",
    "# print(Features.shape)\n",
    "\n",
    "# NAFeat = pd.DataFrame(Features).dropna()\n",
    "# SVMScores = pd.DataFrame(np.zeros((len(NAFeat.iloc[:,1]),1)))\n",
    "# Scores = np.array(Scores)\n",
    "\n",
    "# Filter Data and remove Nans\n",
    "Train = pd.DataFrame(NAFeat_Train.values)\n",
    "Test = pd.DataFrame(NAFeat_Test.values)\n",
    "\n",
    "TrainScores\n",
    "TestScores = Scores\n",
    "\n",
    "scaler = StandardScaler()\n",
    "Train.iloc[:,6:]=scaler.fit_transform(Train.iloc[:,6:])\n",
    "Test.iloc[:,6:]=scaler.transform(Test.iloc[:,6:])\n",
    "\n",
    "ZScoreID = TrainScores==0\n",
    "\n",
    "# svc = OneClassSVM(kernel='rbf', nu=.05) #tremor\n",
    "#     svc = OneClassSVM(kernel='rbf', nu=.1) # dyskinesia\n",
    "svc.fit(Train.values[ZScoreID,:])\n",
    "\n",
    "SVMScores.values[test_index] = svc.decision_function(Test.values)\n",
    "\n",
    "DataFiles = pd.Series(DataFiles)\n",
    "IDs = pd.DataFrame(df_test.dataFileHandleId)\n",
    "\n",
    "SVMScoreMin = []\n",
    "for row in IDs.itertuples():\n",
    "    index = DataFiles == row[1]\n",
    "    if not any(index):\n",
    "        continue\n",
    "    SVMScoreMin.append(np.min(SVMScores[index]))\n",
    "    \n",
    "#convert them to 1D numpy array\n",
    "SVMScoreMin=np.squeeze(SVMScoreMin)\n",
    "\n",
    "# return pd.DataFrame(data=[np.asarray([SVMScoreMax,SVMScoreMin,])]) "
   ]
  },
  {
   "cell_type": "code",
   "execution_count": 104,
   "metadata": {
    "collapsed": false
   },
   "outputs": [
    {
     "data": {
      "text/plain": [
       "31541"
      ]
     },
     "execution_count": 104,
     "metadata": {},
     "output_type": "execute_result"
    }
   ],
   "source": [
    "len(TrainScores)"
   ]
  },
  {
   "cell_type": "markdown",
   "metadata": {},
   "source": [
    "## Run the cell below if current dataset is Train"
   ]
  },
  {
   "cell_type": "code",
   "execution_count": 194,
   "metadata": {
    "collapsed": false
   },
   "outputs": [
    {
     "name": "stdout",
     "output_type": "stream",
     "text": [
      "(11954, 41)\n"
     ]
    },
    {
     "ename": "ValueError",
     "evalue": "Found input variables with inconsistent numbers of samples: [11954, 1500]",
     "output_type": "error",
     "traceback": [
      "\u001b[0;31m---------------------------------------------------------------------------\u001b[0m",
      "\u001b[0;31mValueError\u001b[0m                                Traceback (most recent call last)",
      "\u001b[0;32m<ipython-input-194-fc51ae15871e>\u001b[0m in \u001b[0;36m<module>\u001b[0;34m()\u001b[0m\n\u001b[1;32m     12\u001b[0m \u001b[0;31m#train SVM model on all subjects but one, and compute features on remaining subject\u001b[0m\u001b[0;34m\u001b[0m\u001b[0;34m\u001b[0m\u001b[0m\n\u001b[1;32m     13\u001b[0m \u001b[0mlogo\u001b[0m \u001b[0;34m=\u001b[0m \u001b[0mLeaveOneGroupOut\u001b[0m\u001b[0;34m(\u001b[0m\u001b[0;34m)\u001b[0m\u001b[0;34m\u001b[0m\u001b[0m\n\u001b[0;32m---> 14\u001b[0;31m \u001b[0;32mfor\u001b[0m \u001b[0mtrain_index\u001b[0m\u001b[0;34m,\u001b[0m \u001b[0mtest_index\u001b[0m \u001b[0;32min\u001b[0m \u001b[0mlogo\u001b[0m\u001b[0;34m.\u001b[0m\u001b[0msplit\u001b[0m\u001b[0;34m(\u001b[0m\u001b[0mX\u001b[0m \u001b[0;34m=\u001b[0m \u001b[0mNAFeat\u001b[0m\u001b[0;34m,\u001b[0m \u001b[0mgroups\u001b[0m \u001b[0;34m=\u001b[0m \u001b[0mMetadata\u001b[0m\u001b[0;34m.\u001b[0m\u001b[0mpatient\u001b[0m\u001b[0;34m)\u001b[0m\u001b[0;34m:\u001b[0m\u001b[0;34m\u001b[0m\u001b[0m\n\u001b[0m\u001b[1;32m     15\u001b[0m \u001b[0;34m\u001b[0m\u001b[0m\n\u001b[1;32m     16\u001b[0m     \u001b[0mprint\u001b[0m\u001b[0;34m(\u001b[0m\u001b[0mnp\u001b[0m\u001b[0;34m.\u001b[0m\u001b[0munique\u001b[0m\u001b[0;34m(\u001b[0m\u001b[0mnp\u001b[0m\u001b[0;34m.\u001b[0m\u001b[0marray\u001b[0m\u001b[0;34m(\u001b[0m\u001b[0mSubjs\u001b[0m\u001b[0;34m)\u001b[0m\u001b[0;34m[\u001b[0m\u001b[0mtest_index\u001b[0m\u001b[0;34m]\u001b[0m\u001b[0;34m)\u001b[0m\u001b[0;34m)\u001b[0m\u001b[0;34m\u001b[0m\u001b[0m\n",
      "\u001b[0;32m/Users/luca/anaconda/envs/py35_pd20/lib/python3.5/site-packages/sklearn/model_selection/_split.py\u001b[0m in \u001b[0;36msplit\u001b[0;34m(self, X, y, groups)\u001b[0m\n\u001b[1;32m     91\u001b[0m         \u001b[0mto\u001b[0m \u001b[0man\u001b[0m \u001b[0minteger\u001b[0m\u001b[0;34m.\u001b[0m\u001b[0;34m\u001b[0m\u001b[0m\n\u001b[1;32m     92\u001b[0m         \"\"\"\n\u001b[0;32m---> 93\u001b[0;31m         \u001b[0mX\u001b[0m\u001b[0;34m,\u001b[0m \u001b[0my\u001b[0m\u001b[0;34m,\u001b[0m \u001b[0mgroups\u001b[0m \u001b[0;34m=\u001b[0m \u001b[0mindexable\u001b[0m\u001b[0;34m(\u001b[0m\u001b[0mX\u001b[0m\u001b[0;34m,\u001b[0m \u001b[0my\u001b[0m\u001b[0;34m,\u001b[0m \u001b[0mgroups\u001b[0m\u001b[0;34m)\u001b[0m\u001b[0;34m\u001b[0m\u001b[0m\n\u001b[0m\u001b[1;32m     94\u001b[0m         \u001b[0mindices\u001b[0m \u001b[0;34m=\u001b[0m \u001b[0mnp\u001b[0m\u001b[0;34m.\u001b[0m\u001b[0marange\u001b[0m\u001b[0;34m(\u001b[0m\u001b[0m_num_samples\u001b[0m\u001b[0;34m(\u001b[0m\u001b[0mX\u001b[0m\u001b[0;34m)\u001b[0m\u001b[0;34m)\u001b[0m\u001b[0;34m\u001b[0m\u001b[0m\n\u001b[1;32m     95\u001b[0m         \u001b[0;32mfor\u001b[0m \u001b[0mtest_index\u001b[0m \u001b[0;32min\u001b[0m \u001b[0mself\u001b[0m\u001b[0;34m.\u001b[0m\u001b[0m_iter_test_masks\u001b[0m\u001b[0;34m(\u001b[0m\u001b[0mX\u001b[0m\u001b[0;34m,\u001b[0m \u001b[0my\u001b[0m\u001b[0;34m,\u001b[0m \u001b[0mgroups\u001b[0m\u001b[0;34m)\u001b[0m\u001b[0;34m:\u001b[0m\u001b[0;34m\u001b[0m\u001b[0m\n",
      "\u001b[0;32m/Users/luca/anaconda/envs/py35_pd20/lib/python3.5/site-packages/sklearn/utils/validation.py\u001b[0m in \u001b[0;36mindexable\u001b[0;34m(*iterables)\u001b[0m\n\u001b[1;32m    196\u001b[0m         \u001b[0;32melse\u001b[0m\u001b[0;34m:\u001b[0m\u001b[0;34m\u001b[0m\u001b[0m\n\u001b[1;32m    197\u001b[0m             \u001b[0mresult\u001b[0m\u001b[0;34m.\u001b[0m\u001b[0mappend\u001b[0m\u001b[0;34m(\u001b[0m\u001b[0mnp\u001b[0m\u001b[0;34m.\u001b[0m\u001b[0marray\u001b[0m\u001b[0;34m(\u001b[0m\u001b[0mX\u001b[0m\u001b[0;34m)\u001b[0m\u001b[0;34m)\u001b[0m\u001b[0;34m\u001b[0m\u001b[0m\n\u001b[0;32m--> 198\u001b[0;31m     \u001b[0mcheck_consistent_length\u001b[0m\u001b[0;34m(\u001b[0m\u001b[0;34m*\u001b[0m\u001b[0mresult\u001b[0m\u001b[0;34m)\u001b[0m\u001b[0;34m\u001b[0m\u001b[0m\n\u001b[0m\u001b[1;32m    199\u001b[0m     \u001b[0;32mreturn\u001b[0m \u001b[0mresult\u001b[0m\u001b[0;34m\u001b[0m\u001b[0m\n\u001b[1;32m    200\u001b[0m \u001b[0;34m\u001b[0m\u001b[0m\n",
      "\u001b[0;32m/Users/luca/anaconda/envs/py35_pd20/lib/python3.5/site-packages/sklearn/utils/validation.py\u001b[0m in \u001b[0;36mcheck_consistent_length\u001b[0;34m(*arrays)\u001b[0m\n\u001b[1;32m    171\u001b[0m     \u001b[0;32mif\u001b[0m \u001b[0mlen\u001b[0m\u001b[0;34m(\u001b[0m\u001b[0muniques\u001b[0m\u001b[0;34m)\u001b[0m \u001b[0;34m>\u001b[0m \u001b[0;36m1\u001b[0m\u001b[0;34m:\u001b[0m\u001b[0;34m\u001b[0m\u001b[0m\n\u001b[1;32m    172\u001b[0m         raise ValueError(\"Found input variables with inconsistent numbers of\"\n\u001b[0;32m--> 173\u001b[0;31m                          \" samples: %r\" % [int(l) for l in lengths])\n\u001b[0m\u001b[1;32m    174\u001b[0m \u001b[0;34m\u001b[0m\u001b[0m\n\u001b[1;32m    175\u001b[0m \u001b[0;34m\u001b[0m\u001b[0m\n",
      "\u001b[0;31mValueError\u001b[0m: Found input variables with inconsistent numbers of samples: [11954, 1500]"
     ]
    }
   ],
   "source": [
    "# Train set (LOSO)\n",
    "Features = tempFeatures\n",
    "Features = np.asarray(Features)\n",
    "if len(Features.shape)>2:\n",
    "    Features = Features.squeeze(axis=1)\n",
    "print(Features.shape)\n",
    "\n",
    "NAFeat = pd.DataFrame(Features).dropna() #remove nan rows from feature set (if any)\n",
    "SVMScores = pd.DataFrame(np.zeros((len(NAFeat.iloc[:,1]),1)))\n",
    "Scores = np.array(Scores)\n",
    "\n",
    "#train SVM model on all subjects but one, and compute features on remaining subject\n",
    "logo = LeaveOneGroupOut()\n",
    "for train_index, test_index in logo.split(X = NAFeat, groups = Subjs):\n",
    "\n",
    "    print(np.unique(np.array(Subjs)[test_index]))\n",
    "\n",
    "    # Filter Data on train and left out subject (test)\n",
    "    Train = pd.DataFrame(NAFeat.values[train_index,:])\n",
    "    Test = pd.DataFrame(NAFeat.values[test_index,:])\n",
    "\n",
    "    TrainScores = Scores[train_index]\n",
    "    TestScores = Scores[test_index]\n",
    "    \n",
    "    #standardize features\n",
    "    scaler = StandardScaler()\n",
    "    Train.iloc[:,6:]=scaler.fit_transform(Train.iloc[:,6:])\n",
    "    Test.iloc[:,6:]=scaler.transform(Test.iloc[:,6:])\n",
    "\n",
    "    ZScoreID = TrainScores==0\n",
    "\n",
    "#     svc = OneClassSVM(kernel='rbf', nu=.1)\n",
    "    svc = OneClassSVM(kernel='rbf', nu=.2) # dyskinesia\n",
    "    svc.fit(Train.values[ZScoreID,:])\n",
    "\n",
    "    SVMScores.values[test_index] = svc.decision_function(Test.values)\n",
    "\n",
    "#return the min SVM score across windows for each recording\n",
    "DataFiles = pd.Series(DataFiles)\n",
    "IDs = pd.DataFrame(df_train.dataFileHandleId)\n",
    "SVMScoreMin = []\n",
    "for row in IDs.itertuples():\n",
    "    index = DataFiles == row[1]\n",
    "    if not any(index):\n",
    "        continue\n",
    "    SVMScoreMin.append(np.min(SVMScores[index]))\n",
    "    \n",
    "#convert them to 1D numpy array\n",
    "SVMScoreMin=np.squeeze(SVMScoreMin)\n",
    "\n"
   ]
  },
  {
   "cell_type": "code",
   "execution_count": 111,
   "metadata": {
    "collapsed": false
   },
   "outputs": [
    {
     "data": {
      "text/plain": [
       "(1500,)"
      ]
     },
     "execution_count": 111,
     "metadata": {},
     "output_type": "execute_result"
    }
   ],
   "source": [
    "SVMScoreMin.shape"
   ]
  },
  {
   "cell_type": "markdown",
   "metadata": {},
   "source": [
    "## Plot distribution of datapoints for 0 and 1 scores \n",
    "### the more negative a score, the farthest the recording is from no-symptom (more surprising)"
   ]
  },
  {
   "cell_type": "code",
   "execution_count": 112,
   "metadata": {
    "collapsed": false,
    "scrolled": true
   },
   "outputs": [
    {
     "data": {
      "text/plain": [
       "<matplotlib.axes._subplots.AxesSubplot at 0x104378c18>"
      ]
     },
     "execution_count": 112,
     "metadata": {},
     "output_type": "execute_result"
    },
    {
     "data": {
      "image/png": "[encoded data removed]",
      "text/plain": [
       "<matplotlib.figure.Figure at 0x1139ee6a0>"
      ]
     },
     "metadata": {},
     "output_type": "display_data"
    }
   ],
   "source": [
    "sns.distplot(SVMScoreMin[(df_train[symptom_score]==0).values])"
   ]
  },
  {
   "cell_type": "code",
   "execution_count": 113,
   "metadata": {
    "collapsed": false
   },
   "outputs": [
    {
     "data": {
      "text/plain": [
       "<matplotlib.axes._subplots.AxesSubplot at 0x11393c4e0>"
      ]
     },
     "execution_count": 113,
     "metadata": {},
     "output_type": "execute_result"
    },
    {
     "data": {
      "image/png": "[encoded data removed]",
      "text/plain": [
       "<matplotlib.figure.Figure at 0x113a29c18>"
      ]
     },
     "metadata": {},
     "output_type": "display_data"
    }
   ],
   "source": [
    "sns.distplot(SVMScoreMin[(df_train[symptom_score]>0).values])"
   ]
  },
  {
   "cell_type": "code",
   "execution_count": 114,
   "metadata": {
    "collapsed": false
   },
   "outputs": [],
   "source": [
    "sscores=pd.DataFrame(data={'SVMScoreMin':SVMScoreMin}) "
   ]
  },
  {
   "cell_type": "code",
   "execution_count": 115,
   "metadata": {
    "collapsed": false
   },
   "outputs": [
    {
     "data": {
      "text/html": [
       "<div>\n",
       "<style>\n",
       "    .dataframe thead tr:only-child th {\n",
       "        text-align: right;\n",
       "    }\n",
       "\n",
       "    .dataframe thead th {\n",
       "        text-align: left;\n",
       "    }\n",
       "\n",
       "    .dataframe tbody tr th {\n",
       "        vertical-align: top;\n",
       "    }\n",
       "</style>\n",
       "<table border=\"1\" class=\"dataframe\">\n",
       "  <thead>\n",
       "    <tr style=\"text-align: right;\">\n",
       "      <th></th>\n",
       "      <th>SVMScoreMin</th>\n",
       "    </tr>\n",
       "  </thead>\n",
       "  <tbody>\n",
       "    <tr>\n",
       "      <th>0</th>\n",
       "      <td>-57.899302</td>\n",
       "    </tr>\n",
       "    <tr>\n",
       "      <th>1</th>\n",
       "      <td>-83.549488</td>\n",
       "    </tr>\n",
       "    <tr>\n",
       "      <th>2</th>\n",
       "      <td>-157.137262</td>\n",
       "    </tr>\n",
       "    <tr>\n",
       "      <th>3</th>\n",
       "      <td>20.094383</td>\n",
       "    </tr>\n",
       "    <tr>\n",
       "      <th>4</th>\n",
       "      <td>-8.878718</td>\n",
       "    </tr>\n",
       "  </tbody>\n",
       "</table>\n",
       "</div>"
      ],
      "text/plain": [
       "   SVMScoreMin\n",
       "0   -57.899302\n",
       "1   -83.549488\n",
       "2  -157.137262\n",
       "3    20.094383\n",
       "4    -8.878718"
      ]
     },
     "execution_count": 115,
     "metadata": {},
     "output_type": "execute_result"
    }
   ],
   "source": [
    "sscores.head()"
   ]
  },
  {
   "cell_type": "code",
   "execution_count": 116,
   "metadata": {
    "collapsed": true
   },
   "outputs": [],
   "source": [
    "#save the sscores\n",
    "sscores.to_csv('Dysk_Train_SScores.csv',index=False)"
   ]
  },
  {
   "cell_type": "code",
   "execution_count": 117,
   "metadata": {
    "collapsed": false
   },
   "outputs": [],
   "source": [
    "sscores.index=Metadata.index\n",
    "X = pd.concat((Metadata,sscores[['SVMScoreMin']]),axis=1)"
   ]
  },
  {
   "cell_type": "markdown",
   "metadata": {},
   "source": [
    "Test the score of the features"
   ]
  },
  {
   "cell_type": "code",
   "execution_count": 118,
   "metadata": {
    "collapsed": false
   },
   "outputs": [
    {
     "data": {
      "text/html": [
       "<div>\n",
       "<style>\n",
       "    .dataframe thead tr:only-child th {\n",
       "        text-align: right;\n",
       "    }\n",
       "\n",
       "    .dataframe thead th {\n",
       "        text-align: left;\n",
       "    }\n",
       "\n",
       "    .dataframe tbody tr th {\n",
       "        vertical-align: top;\n",
       "    }\n",
       "</style>\n",
       "<table border=\"1\" class=\"dataframe\">\n",
       "  <thead>\n",
       "    <tr style=\"text-align: right;\">\n",
       "      <th></th>\n",
       "      <th>dataFileHandleId</th>\n",
       "      <th>device</th>\n",
       "      <th>patient</th>\n",
       "      <th>session</th>\n",
       "      <th>site</th>\n",
       "      <th>task</th>\n",
       "      <th>visit</th>\n",
       "      <th>deviceSide</th>\n",
       "      <th>Duration</th>\n",
       "      <th>SVMScoreMin</th>\n",
       "    </tr>\n",
       "  </thead>\n",
       "  <tbody>\n",
       "    <tr>\n",
       "      <th>25823_22</th>\n",
       "      <td>17286039</td>\n",
       "      <td>0</td>\n",
       "      <td>2</td>\n",
       "      <td>1</td>\n",
       "      <td>0</td>\n",
       "      <td>0</td>\n",
       "      <td>1</td>\n",
       "      <td>1</td>\n",
       "      <td>-0.827766</td>\n",
       "      <td>-57.899302</td>\n",
       "    </tr>\n",
       "    <tr>\n",
       "      <th>25825_22</th>\n",
       "      <td>17286045</td>\n",
       "      <td>0</td>\n",
       "      <td>2</td>\n",
       "      <td>1</td>\n",
       "      <td>0</td>\n",
       "      <td>1</td>\n",
       "      <td>1</td>\n",
       "      <td>1</td>\n",
       "      <td>-0.827766</td>\n",
       "      <td>-83.549488</td>\n",
       "    </tr>\n",
       "    <tr>\n",
       "      <th>25828_22</th>\n",
       "      <td>17286054</td>\n",
       "      <td>1</td>\n",
       "      <td>2</td>\n",
       "      <td>1</td>\n",
       "      <td>0</td>\n",
       "      <td>2</td>\n",
       "      <td>1</td>\n",
       "      <td>0</td>\n",
       "      <td>-0.827766</td>\n",
       "      <td>-157.137262</td>\n",
       "    </tr>\n",
       "    <tr>\n",
       "      <th>25830_22</th>\n",
       "      <td>17286060</td>\n",
       "      <td>1</td>\n",
       "      <td>2</td>\n",
       "      <td>1</td>\n",
       "      <td>0</td>\n",
       "      <td>3</td>\n",
       "      <td>1</td>\n",
       "      <td>0</td>\n",
       "      <td>0.542314</td>\n",
       "      <td>20.094383</td>\n",
       "    </tr>\n",
       "    <tr>\n",
       "      <th>25835_22</th>\n",
       "      <td>17286076</td>\n",
       "      <td>0</td>\n",
       "      <td>2</td>\n",
       "      <td>1</td>\n",
       "      <td>0</td>\n",
       "      <td>4</td>\n",
       "      <td>1</td>\n",
       "      <td>1</td>\n",
       "      <td>0.542314</td>\n",
       "      <td>-8.878718</td>\n",
       "    </tr>\n",
       "  </tbody>\n",
       "</table>\n",
       "</div>"
      ],
      "text/plain": [
       "          dataFileHandleId  device  patient  session  site  task  visit  \\\n",
       "25823_22          17286039       0        2        1     0     0      1   \n",
       "25825_22          17286045       0        2        1     0     1      1   \n",
       "25828_22          17286054       1        2        1     0     2      1   \n",
       "25830_22          17286060       1        2        1     0     3      1   \n",
       "25835_22          17286076       0        2        1     0     4      1   \n",
       "\n",
       "          deviceSide  Duration  SVMScoreMin  \n",
       "25823_22           1 -0.827766   -57.899302  \n",
       "25825_22           1 -0.827766   -83.549488  \n",
       "25828_22           0 -0.827766  -157.137262  \n",
       "25830_22           0  0.542314    20.094383  \n",
       "25835_22           1  0.542314    -8.878718  "
      ]
     },
     "execution_count": 118,
     "metadata": {},
     "output_type": "execute_result"
    }
   ],
   "source": [
    "#the matrix of features (drop Patient col)\n",
    "X.head()"
   ]
  },
  {
   "cell_type": "code",
   "execution_count": 119,
   "metadata": {
    "collapsed": false
   },
   "outputs": [],
   "source": [
    "X.drop(['patient'],axis=1).to_csv(\"./Submissions/Submission_Dysk_Train.csv\",index=False)"
   ]
  },
  {
   "cell_type": "markdown",
   "metadata": {},
   "source": [
    "Baseline model (use only metadata and duration)"
   ]
  },
  {
   "cell_type": "code",
   "execution_count": 134,
   "metadata": {
    "collapsed": true
   },
   "outputs": [],
   "source": [
    "Metadata.drop(['patient'],axis=1).to_csv('./Submissions/Baseline_Dysk.csv',index=False)"
   ]
  },
  {
   "cell_type": "code",
   "execution_count": 135,
   "metadata": {
    "collapsed": false,
    "scrolled": false
   },
   "outputs": [
    {
     "name": "stdout",
     "output_type": "stream",
     "text": [
      "Welcome, Luca Lonini!\n",
      "\n",
      "AUPRC: 0.356\n"
     ]
    }
   ],
   "source": [
    "%run sc2FitModels_LOSOCV.py 'dyskinesia' './Submissions/Baseline_Dysk.csv'"
   ]
  },
  {
   "cell_type": "markdown",
   "metadata": {},
   "source": [
    "SScore Model"
   ]
  },
  {
   "cell_type": "code",
   "execution_count": 129,
   "metadata": {
    "collapsed": false
   },
   "outputs": [
    {
     "name": "stdout",
     "output_type": "stream",
     "text": [
      "Welcome, Luca Lonini!\n",
      "\n",
      "AUPRC: 0.569\n"
     ]
    }
   ],
   "source": [
    "%run sc2FitModels_LOSOCV.py 'dyskinesia' './Submissions/Submission_Dysk_Train.csv'"
   ]
  },
  {
   "cell_type": "markdown",
   "metadata": {},
   "source": [
    "## Generate Train and Test Submission"
   ]
  },
  {
   "cell_type": "code",
   "execution_count": 161,
   "metadata": {
    "collapsed": true
   },
   "outputs": [],
   "source": [
    "SScores_train = pd.read_csv('Dys_Train_SScores.csv')\n",
    "SScores_test = pd.read_csv('Dys_Test_SScores.csv')"
   ]
  },
  {
   "cell_type": "code",
   "execution_count": 162,
   "metadata": {
    "collapsed": false
   },
   "outputs": [],
   "source": [
    "#take the minimum score (farthest window from hyperplane)\n",
    "SScores_train = SScores_train[['SVMScoreMin']]\n",
    "SScores_test = SScores_test[['SVMScoreMin']]"
   ]
  },
  {
   "cell_type": "code",
   "execution_count": 163,
   "metadata": {
    "collapsed": false
   },
   "outputs": [],
   "source": [
    "#attach metadata\n",
    "Meta_train = pd.read_csv('metadfnum_train_dysk.csv')\n",
    "Meta_test = pd.read_csv('metadfnum_test_dysk.csv')"
   ]
  },
  {
   "cell_type": "code",
   "execution_count": 164,
   "metadata": {
    "collapsed": false
   },
   "outputs": [],
   "source": [
    "Meta_train = Meta_train.drop('patient',axis=1)\n",
    "Meta_test = Meta_test.drop('patient',axis=1)"
   ]
  },
  {
   "cell_type": "code",
   "execution_count": 165,
   "metadata": {
    "collapsed": true
   },
   "outputs": [],
   "source": [
    "#concatenate metadata and SScores\n",
    "SScores = pd.concat((SScores_test,SScores_train),axis=0)"
   ]
  },
  {
   "cell_type": "code",
   "execution_count": 166,
   "metadata": {
    "collapsed": false
   },
   "outputs": [],
   "source": [
    "X_dysk = pd.concat((Meta_test,Meta_train),axis=0)"
   ]
  },
  {
   "cell_type": "code",
   "execution_count": 167,
   "metadata": {
    "collapsed": true
   },
   "outputs": [],
   "source": [
    "X_dysk = pd.concat((X_tremor,SScores),axis=1)"
   ]
  },
  {
   "cell_type": "code",
   "execution_count": 168,
   "metadata": {
    "collapsed": false
   },
   "outputs": [
    {
     "data": {
      "text/html": [
       "<div>\n",
       "<style>\n",
       "    .dataframe thead tr:only-child th {\n",
       "        text-align: right;\n",
       "    }\n",
       "\n",
       "    .dataframe thead th {\n",
       "        text-align: left;\n",
       "    }\n",
       "\n",
       "    .dataframe tbody tr th {\n",
       "        vertical-align: top;\n",
       "    }\n",
       "</style>\n",
       "<table border=\"1\" class=\"dataframe\">\n",
       "  <thead>\n",
       "    <tr style=\"text-align: right;\">\n",
       "      <th></th>\n",
       "      <th>dataFileHandleId</th>\n",
       "      <th>device</th>\n",
       "      <th>session</th>\n",
       "      <th>site</th>\n",
       "      <th>task</th>\n",
       "      <th>visit</th>\n",
       "      <th>deviceSide</th>\n",
       "      <th>Duration</th>\n",
       "      <th>SVMScoreMin</th>\n",
       "    </tr>\n",
       "  </thead>\n",
       "  <tbody>\n",
       "    <tr>\n",
       "      <th>0</th>\n",
       "      <td>17287647</td>\n",
       "      <td>0</td>\n",
       "      <td>1</td>\n",
       "      <td>0</td>\n",
       "      <td>0</td>\n",
       "      <td>1</td>\n",
       "      <td>1</td>\n",
       "      <td>0.590918</td>\n",
       "      <td>16.194559</td>\n",
       "    </tr>\n",
       "    <tr>\n",
       "      <th>1</th>\n",
       "      <td>17287654</td>\n",
       "      <td>0</td>\n",
       "      <td>1</td>\n",
       "      <td>0</td>\n",
       "      <td>1</td>\n",
       "      <td>1</td>\n",
       "      <td>1</td>\n",
       "      <td>-0.747253</td>\n",
       "      <td>-20.809532</td>\n",
       "    </tr>\n",
       "    <tr>\n",
       "      <th>2</th>\n",
       "      <td>17287666</td>\n",
       "      <td>1</td>\n",
       "      <td>1</td>\n",
       "      <td>0</td>\n",
       "      <td>2</td>\n",
       "      <td>1</td>\n",
       "      <td>0</td>\n",
       "      <td>0.590918</td>\n",
       "      <td>49.195197</td>\n",
       "    </tr>\n",
       "    <tr>\n",
       "      <th>3</th>\n",
       "      <td>17287674</td>\n",
       "      <td>1</td>\n",
       "      <td>1</td>\n",
       "      <td>0</td>\n",
       "      <td>3</td>\n",
       "      <td>1</td>\n",
       "      <td>0</td>\n",
       "      <td>-0.747253</td>\n",
       "      <td>-95.660854</td>\n",
       "    </tr>\n",
       "    <tr>\n",
       "      <th>4</th>\n",
       "      <td>17287694</td>\n",
       "      <td>0</td>\n",
       "      <td>1</td>\n",
       "      <td>0</td>\n",
       "      <td>4</td>\n",
       "      <td>1</td>\n",
       "      <td>1</td>\n",
       "      <td>0.590918</td>\n",
       "      <td>-31.149896</td>\n",
       "    </tr>\n",
       "  </tbody>\n",
       "</table>\n",
       "</div>"
      ],
      "text/plain": [
       "   dataFileHandleId  device  session  site  task  visit  deviceSide  Duration  \\\n",
       "0          17287647       0        1     0     0      1           1  0.590918   \n",
       "1          17287654       0        1     0     1      1           1 -0.747253   \n",
       "2          17287666       1        1     0     2      1           0  0.590918   \n",
       "3          17287674       1        1     0     3      1           0 -0.747253   \n",
       "4          17287694       0        1     0     4      1           1  0.590918   \n",
       "\n",
       "   SVMScoreMin  \n",
       "0    16.194559  \n",
       "1   -20.809532  \n",
       "2    49.195197  \n",
       "3   -95.660854  \n",
       "4   -31.149896  "
      ]
     },
     "execution_count": 168,
     "metadata": {},
     "output_type": "execute_result"
    }
   ],
   "source": [
    "X_dysk.head()"
   ]
  },
  {
   "cell_type": "code",
   "execution_count": 169,
   "metadata": {
    "collapsed": true
   },
   "outputs": [],
   "source": [
    "X_dysk.to_csv('./Submissions/Submission_Dysk.csv',index=False)"
   ]
  },
  {
   "cell_type": "markdown",
   "metadata": {},
   "source": [
    "## Stacking classifiers using LOSOCV and metafeatures as inputs\n",
    "Use output posterior probability from each classifier as feature for the classification "
   ]
  },
  {
   "cell_type": "code",
   "execution_count": 104,
   "metadata": {
    "collapsed": true
   },
   "outputs": [],
   "source": [
    "X_meta_train = pd.read_csv('metadfnum_train_brady.csv')\n",
    "X_meta_train.index = df_train.index\n",
    "#drop patient as metafeatures and store for LOSOCV \n",
    "groups_train = X_meta_train.patient.values\n",
    "X_meta_train=X_meta_train.drop('patient',axis=1) #DROP PATIENT"
   ]
  },
  {
   "cell_type": "code",
   "execution_count": 105,
   "metadata": {
    "collapsed": false
   },
   "outputs": [],
   "source": [
    "models = [RandomForestClassifier(n_estimators=100,random_state=2),\n",
    "          GradientBoostingClassifier(n_estimators=100,max_depth=2,random_state=3),\n",
    "          SVC(kernel='rbf',C=1,cache_size=800,probability=True,random_state=3),\n",
    "          XGBClassifier(n_estimators=150,subsample=1,learning_rate=0.5,max_depth=2)\n",
    "         ]\n",
    "model_name = ['Random Forest','Gradient Boosting','SVM','XGB']"
   ]
  },
  {
   "cell_type": "code",
   "execution_count": 106,
   "metadata": {
    "collapsed": false
   },
   "outputs": [
    {
     "data": {
      "text/plain": [
       "2913"
      ]
     },
     "execution_count": 106,
     "metadata": {},
     "output_type": "execute_result"
    }
   ],
   "source": [
    "len(X_meta_train)"
   ]
  },
  {
   "cell_type": "code",
   "execution_count": 107,
   "metadata": {
    "collapsed": false
   },
   "outputs": [
    {
     "data": {
      "text/html": [
       "<div>\n",
       "<style>\n",
       "    .dataframe thead tr:only-child th {\n",
       "        text-align: right;\n",
       "    }\n",
       "\n",
       "    .dataframe thead th {\n",
       "        text-align: left;\n",
       "    }\n",
       "\n",
       "    .dataframe tbody tr th {\n",
       "        vertical-align: top;\n",
       "    }\n",
       "</style>\n",
       "<table border=\"1\" class=\"dataframe\">\n",
       "  <thead>\n",
       "    <tr style=\"text-align: right;\">\n",
       "      <th></th>\n",
       "      <th>dataFileHandleId</th>\n",
       "      <th>device</th>\n",
       "      <th>session</th>\n",
       "      <th>site</th>\n",
       "      <th>task</th>\n",
       "      <th>visit</th>\n",
       "      <th>deviceSide</th>\n",
       "      <th>Duration</th>\n",
       "    </tr>\n",
       "  </thead>\n",
       "  <tbody>\n",
       "    <tr>\n",
       "      <th>25819_22</th>\n",
       "      <td>17286028</td>\n",
       "      <td>0</td>\n",
       "      <td>1</td>\n",
       "      <td>0</td>\n",
       "      <td>0</td>\n",
       "      <td>1</td>\n",
       "      <td>1</td>\n",
       "      <td>1.022774</td>\n",
       "    </tr>\n",
       "    <tr>\n",
       "      <th>25820_22</th>\n",
       "      <td>17286030</td>\n",
       "      <td>1</td>\n",
       "      <td>1</td>\n",
       "      <td>0</td>\n",
       "      <td>0</td>\n",
       "      <td>1</td>\n",
       "      <td>0</td>\n",
       "      <td>1.022774</td>\n",
       "    </tr>\n",
       "  </tbody>\n",
       "</table>\n",
       "</div>"
      ],
      "text/plain": [
       "          dataFileHandleId  device  session  site  task  visit  deviceSide  \\\n",
       "25819_22          17286028       0        1     0     0      1           1   \n",
       "25820_22          17286030       1        1     0     0      1           0   \n",
       "\n",
       "          Duration  \n",
       "25819_22  1.022774  \n",
       "25820_22  1.022774  "
      ]
     },
     "execution_count": 107,
     "metadata": {},
     "output_type": "execute_result"
    }
   ],
   "source": [
    "X_meta_train.head(2)"
   ]
  },
  {
   "cell_type": "code",
   "execution_count": 108,
   "metadata": {
    "collapsed": false
   },
   "outputs": [
    {
     "data": {
      "text/html": [
       "<div>\n",
       "<style>\n",
       "    .dataframe thead tr:only-child th {\n",
       "        text-align: right;\n",
       "    }\n",
       "\n",
       "    .dataframe thead th {\n",
       "        text-align: left;\n",
       "    }\n",
       "\n",
       "    .dataframe tbody tr th {\n",
       "        vertical-align: top;\n",
       "    }\n",
       "</style>\n",
       "<table border=\"1\" class=\"dataframe\">\n",
       "  <thead>\n",
       "    <tr style=\"text-align: right;\">\n",
       "      <th></th>\n",
       "      <th>dataFileHandleId</th>\n",
       "      <th>Random Forest</th>\n",
       "      <th>Gradient Boosting</th>\n",
       "      <th>SVM</th>\n",
       "      <th>XGB</th>\n",
       "    </tr>\n",
       "  </thead>\n",
       "  <tbody>\n",
       "    <tr>\n",
       "      <th>0</th>\n",
       "      <td>17286028</td>\n",
       "      <td>0</td>\n",
       "      <td>0</td>\n",
       "      <td>0</td>\n",
       "      <td>0</td>\n",
       "    </tr>\n",
       "    <tr>\n",
       "      <th>1</th>\n",
       "      <td>17286030</td>\n",
       "      <td>0</td>\n",
       "      <td>0</td>\n",
       "      <td>0</td>\n",
       "      <td>0</td>\n",
       "    </tr>\n",
       "    <tr>\n",
       "      <th>2</th>\n",
       "      <td>17286034</td>\n",
       "      <td>0</td>\n",
       "      <td>0</td>\n",
       "      <td>0</td>\n",
       "      <td>0</td>\n",
       "    </tr>\n",
       "    <tr>\n",
       "      <th>3</th>\n",
       "      <td>17286036</td>\n",
       "      <td>0</td>\n",
       "      <td>0</td>\n",
       "      <td>0</td>\n",
       "      <td>0</td>\n",
       "    </tr>\n",
       "    <tr>\n",
       "      <th>4</th>\n",
       "      <td>17286042</td>\n",
       "      <td>0</td>\n",
       "      <td>0</td>\n",
       "      <td>0</td>\n",
       "      <td>0</td>\n",
       "    </tr>\n",
       "  </tbody>\n",
       "</table>\n",
       "</div>"
      ],
      "text/plain": [
       "   dataFileHandleId  Random Forest  Gradient Boosting  SVM  XGB\n",
       "0          17286028              0                  0    0    0\n",
       "1          17286030              0                  0    0    0\n",
       "2          17286034              0                  0    0    0\n",
       "3          17286036              0                  0    0    0\n",
       "4          17286042              0                  0    0    0"
      ]
     },
     "execution_count": 108,
     "metadata": {},
     "output_type": "execute_result"
    }
   ],
   "source": [
    "#create dataframe to store posterior scores from each clf\n",
    "Fnew = X_meta_train.copy()\n",
    "Fnew=Fnew[['dataFileHandleId']]\n",
    "for m in model_name:\n",
    "    Fnew[m]=0\n",
    "Fnew.index=range(len(Fnew)) #reindex array\n",
    "Fnew.head()"
   ]
  },
  {
   "cell_type": "code",
   "execution_count": 109,
   "metadata": {
    "collapsed": false,
    "scrolled": false
   },
   "outputs": [
    {
     "name": "stdout",
     "output_type": "stream",
     "text": [
      "Training Random Forest\n",
      "Random Forest, mean F1 on training set = 0.894 (+/- 0.003)\n",
      "Random Forest, mean Prec = 0.624 (+/- 0.131)\n",
      "Random Forest, mean Rec = 0.609 (+/- 0.144)\n",
      "Training Gradient Boosting\n",
      "Gradient Boosting, mean F1 on training set = 0.760 (+/- 0.005)\n",
      "Gradient Boosting, mean Prec = 0.881 (+/- 0.076)\n",
      "Gradient Boosting, mean Rec = 0.542 (+/- 0.164)\n",
      "Training SVM\n"
     ]
    },
    {
     "name": "stderr",
     "output_type": "stream",
     "text": [
      "/Users/luca/anaconda/envs/py35_pd20/lib/python3.5/site-packages/sklearn/metrics/classification.py:1135: UndefinedMetricWarning: Precision is ill-defined and being set to 0.0 due to no predicted samples.\n",
      "  'precision', 'predicted', average, warn_for)\n"
     ]
    },
    {
     "name": "stdout",
     "output_type": "stream",
     "text": [
      "SVM, mean F1 on training set = 0.759 (+/- 0.005)\n",
      "SVM, mean Prec = 0.801 (+/- 0.139)\n",
      "SVM, mean Rec = 0.531 (+/- 0.169)\n",
      "Training XGB\n",
      "XGB, mean F1 on training set = 0.791 (+/- 0.005)\n",
      "XGB, mean Prec = 0.783 (+/- 0.121)\n",
      "XGB, mean Rec = 0.603 (+/- 0.155)\n"
     ]
    }
   ],
   "source": [
    "#LOSO CV - Compute prediction posteriors from each classifier and aggregate\n",
    "# X = X_meta_train.iloc[:,1:].as_matrix() #drop fileid \n",
    "# y = df_train['bradykinesiaScore'].values\n",
    "\n",
    "m = zip(models,model_name)\n",
    "Fnew = LOSOCV(X_meta_train.iloc[:,1:].as_matrix(),y_train,groups_train,m,Fnew)"
   ]
  },
  {
   "cell_type": "markdown",
   "metadata": {},
   "source": [
    "## Make submission"
   ]
  },
  {
   "cell_type": "code",
   "execution_count": 110,
   "metadata": {
    "collapsed": false
   },
   "outputs": [
    {
     "data": {
      "text/html": [
       "<div>\n",
       "<style>\n",
       "    .dataframe thead tr:only-child th {\n",
       "        text-align: right;\n",
       "    }\n",
       "\n",
       "    .dataframe thead th {\n",
       "        text-align: left;\n",
       "    }\n",
       "\n",
       "    .dataframe tbody tr th {\n",
       "        vertical-align: top;\n",
       "    }\n",
       "</style>\n",
       "<table border=\"1\" class=\"dataframe\">\n",
       "  <thead>\n",
       "    <tr style=\"text-align: right;\">\n",
       "      <th></th>\n",
       "      <th>dataFileHandleId</th>\n",
       "      <th>Random Forest</th>\n",
       "      <th>Gradient Boosting</th>\n",
       "      <th>SVM</th>\n",
       "      <th>XGB</th>\n",
       "    </tr>\n",
       "  </thead>\n",
       "  <tbody>\n",
       "    <tr>\n",
       "      <th>0</th>\n",
       "      <td>17286028</td>\n",
       "      <td>0.006667</td>\n",
       "      <td>0.087325</td>\n",
       "      <td>0.093792</td>\n",
       "      <td>0.026341</td>\n",
       "    </tr>\n",
       "    <tr>\n",
       "      <th>1</th>\n",
       "      <td>17286030</td>\n",
       "      <td>0.010000</td>\n",
       "      <td>0.084324</td>\n",
       "      <td>0.085097</td>\n",
       "      <td>0.023234</td>\n",
       "    </tr>\n",
       "    <tr>\n",
       "      <th>2</th>\n",
       "      <td>17286034</td>\n",
       "      <td>0.900000</td>\n",
       "      <td>0.820659</td>\n",
       "      <td>0.960686</td>\n",
       "      <td>0.586292</td>\n",
       "    </tr>\n",
       "    <tr>\n",
       "      <th>3</th>\n",
       "      <td>17286036</td>\n",
       "      <td>0.870000</td>\n",
       "      <td>0.814961</td>\n",
       "      <td>0.943490</td>\n",
       "      <td>0.489512</td>\n",
       "    </tr>\n",
       "    <tr>\n",
       "      <th>4</th>\n",
       "      <td>17286042</td>\n",
       "      <td>0.012500</td>\n",
       "      <td>0.251301</td>\n",
       "      <td>0.117062</td>\n",
       "      <td>0.142725</td>\n",
       "    </tr>\n",
       "  </tbody>\n",
       "</table>\n",
       "</div>"
      ],
      "text/plain": [
       "   dataFileHandleId  Random Forest  Gradient Boosting       SVM       XGB\n",
       "0          17286028       0.006667           0.087325  0.093792  0.026341\n",
       "1          17286030       0.010000           0.084324  0.085097  0.023234\n",
       "2          17286034       0.900000           0.820659  0.960686  0.586292\n",
       "3          17286036       0.870000           0.814961  0.943490  0.489512\n",
       "4          17286042       0.012500           0.251301  0.117062  0.142725"
      ]
     },
     "execution_count": 110,
     "metadata": {},
     "output_type": "execute_result"
    }
   ],
   "source": [
    "Fnew.head()"
   ]
  },
  {
   "cell_type": "code",
   "execution_count": 129,
   "metadata": {
    "collapsed": false
   },
   "outputs": [],
   "source": [
    "#add patient column (WILL BE REMOVED LATER FOR FINAL SUBMISSION)\n",
    "# X_meta['patient']=groups"
   ]
  },
  {
   "cell_type": "code",
   "execution_count": 112,
   "metadata": {
    "collapsed": false
   },
   "outputs": [],
   "source": [
    "Fnew.index=X_meta_train.index"
   ]
  },
  {
   "cell_type": "code",
   "execution_count": 113,
   "metadata": {
    "collapsed": true
   },
   "outputs": [],
   "source": [
    "#concatenate metadata features and stacking output dataframes\n",
    "X = pd.concat((X_meta_train,Fnew.iloc[:,1:]),axis=1)"
   ]
  },
  {
   "cell_type": "code",
   "execution_count": 114,
   "metadata": {
    "collapsed": false
   },
   "outputs": [
    {
     "data": {
      "text/html": [
       "<div>\n",
       "<style>\n",
       "    .dataframe thead tr:only-child th {\n",
       "        text-align: right;\n",
       "    }\n",
       "\n",
       "    .dataframe thead th {\n",
       "        text-align: left;\n",
       "    }\n",
       "\n",
       "    .dataframe tbody tr th {\n",
       "        vertical-align: top;\n",
       "    }\n",
       "</style>\n",
       "<table border=\"1\" class=\"dataframe\">\n",
       "  <thead>\n",
       "    <tr style=\"text-align: right;\">\n",
       "      <th></th>\n",
       "      <th>dataFileHandleId</th>\n",
       "      <th>device</th>\n",
       "      <th>session</th>\n",
       "      <th>site</th>\n",
       "      <th>task</th>\n",
       "      <th>visit</th>\n",
       "      <th>deviceSide</th>\n",
       "      <th>Duration</th>\n",
       "      <th>Random Forest</th>\n",
       "      <th>Gradient Boosting</th>\n",
       "      <th>SVM</th>\n",
       "      <th>XGB</th>\n",
       "    </tr>\n",
       "  </thead>\n",
       "  <tbody>\n",
       "    <tr>\n",
       "      <th>25819_22</th>\n",
       "      <td>17286028</td>\n",
       "      <td>0</td>\n",
       "      <td>1</td>\n",
       "      <td>0</td>\n",
       "      <td>0</td>\n",
       "      <td>1</td>\n",
       "      <td>1</td>\n",
       "      <td>1.022774</td>\n",
       "      <td>0.006667</td>\n",
       "      <td>0.087325</td>\n",
       "      <td>0.093792</td>\n",
       "      <td>0.026341</td>\n",
       "    </tr>\n",
       "    <tr>\n",
       "      <th>25820_22</th>\n",
       "      <td>17286030</td>\n",
       "      <td>1</td>\n",
       "      <td>1</td>\n",
       "      <td>0</td>\n",
       "      <td>0</td>\n",
       "      <td>1</td>\n",
       "      <td>0</td>\n",
       "      <td>1.022774</td>\n",
       "      <td>0.010000</td>\n",
       "      <td>0.084324</td>\n",
       "      <td>0.085097</td>\n",
       "      <td>0.023234</td>\n",
       "    </tr>\n",
       "    <tr>\n",
       "      <th>25821_22</th>\n",
       "      <td>17286034</td>\n",
       "      <td>0</td>\n",
       "      <td>1</td>\n",
       "      <td>0</td>\n",
       "      <td>1</td>\n",
       "      <td>1</td>\n",
       "      <td>1</td>\n",
       "      <td>6.714734</td>\n",
       "      <td>0.900000</td>\n",
       "      <td>0.820659</td>\n",
       "      <td>0.960686</td>\n",
       "      <td>0.586292</td>\n",
       "    </tr>\n",
       "    <tr>\n",
       "      <th>25822_22</th>\n",
       "      <td>17286036</td>\n",
       "      <td>1</td>\n",
       "      <td>1</td>\n",
       "      <td>0</td>\n",
       "      <td>1</td>\n",
       "      <td>1</td>\n",
       "      <td>0</td>\n",
       "      <td>6.714734</td>\n",
       "      <td>0.870000</td>\n",
       "      <td>0.814961</td>\n",
       "      <td>0.943490</td>\n",
       "      <td>0.489512</td>\n",
       "    </tr>\n",
       "    <tr>\n",
       "      <th>25824_22</th>\n",
       "      <td>17286042</td>\n",
       "      <td>1</td>\n",
       "      <td>1</td>\n",
       "      <td>0</td>\n",
       "      <td>2</td>\n",
       "      <td>1</td>\n",
       "      <td>0</td>\n",
       "      <td>-0.874546</td>\n",
       "      <td>0.012500</td>\n",
       "      <td>0.251301</td>\n",
       "      <td>0.117062</td>\n",
       "      <td>0.142725</td>\n",
       "    </tr>\n",
       "  </tbody>\n",
       "</table>\n",
       "</div>"
      ],
      "text/plain": [
       "          dataFileHandleId  device  session  site  task  visit  deviceSide  \\\n",
       "25819_22          17286028       0        1     0     0      1           1   \n",
       "25820_22          17286030       1        1     0     0      1           0   \n",
       "25821_22          17286034       0        1     0     1      1           1   \n",
       "25822_22          17286036       1        1     0     1      1           0   \n",
       "25824_22          17286042       1        1     0     2      1           0   \n",
       "\n",
       "          Duration  Random Forest  Gradient Boosting       SVM       XGB  \n",
       "25819_22  1.022774       0.006667           0.087325  0.093792  0.026341  \n",
       "25820_22  1.022774       0.010000           0.084324  0.085097  0.023234  \n",
       "25821_22  6.714734       0.900000           0.820659  0.960686  0.586292  \n",
       "25822_22  6.714734       0.870000           0.814961  0.943490  0.489512  \n",
       "25824_22 -0.874546       0.012500           0.251301  0.117062  0.142725  "
      ]
     },
     "execution_count": 114,
     "metadata": {},
     "output_type": "execute_result"
    }
   ],
   "source": [
    "X.head()"
   ]
  },
  {
   "cell_type": "code",
   "execution_count": 115,
   "metadata": {
    "collapsed": false
   },
   "outputs": [],
   "source": [
    "X.to_csv('Submission_Metaf&Metaf_Stacking.csv',index=False) #store features for training data"
   ]
  },
  {
   "cell_type": "markdown",
   "metadata": {},
   "source": [
    "** Metadata + Stacked Metadata **"
   ]
  },
  {
   "cell_type": "code",
   "execution_count": 116,
   "metadata": {
    "collapsed": false
   },
   "outputs": [
    {
     "name": "stdout",
     "output_type": "stream",
     "text": [
      "Welcome, Luca Lonini!\n",
      "\n",
      "AUPRC: 0.920\n"
     ]
    }
   ],
   "source": [
    "%run sc2FitModels_LOSOCV.py 'bradykinesia' Submission_Metaf\\&Metaf_Stacking.csv"
   ]
  },
  {
   "cell_type": "markdown",
   "metadata": {},
   "source": [
    "** Stacked Metadata only **"
   ]
  },
  {
   "cell_type": "code",
   "execution_count": 450,
   "metadata": {
    "collapsed": false
   },
   "outputs": [
    {
     "name": "stdout",
     "output_type": "stream",
     "text": [
      "Welcome, Luca Lonini!\n",
      "\n",
      "AUPRC: 0.868\n"
     ]
    }
   ],
   "source": [
    "%run sc2FitModels_LOSOCV.py 'bradykinesia' Submission_Metaf_Stacking.csv"
   ]
  },
  {
   "cell_type": "markdown",
   "metadata": {},
   "source": [
    "## Compute features on test data and create Final submission"
   ]
  },
  {
   "cell_type": "code",
   "execution_count": 127,
   "metadata": {
    "collapsed": true
   },
   "outputs": [],
   "source": [
    "#load metadata from test and drop patiet\n",
    "X_meta_test = pd.read_csv('metadfnum_test_brady.csv')\n",
    "X_meta_test.index = df_test.index #necessary to re-index to aggregate features in Fnew\n",
    "#drop patient id from test metadata\n",
    "X_meta_test=X_meta_test.drop('patient',axis=1) #DROP PATIENT"
   ]
  },
  {
   "cell_type": "code",
   "execution_count": 129,
   "metadata": {
    "collapsed": false
   },
   "outputs": [
    {
     "data": {
      "text/plain": [
       "1367"
      ]
     },
     "execution_count": 129,
     "metadata": {},
     "output_type": "execute_result"
    }
   ],
   "source": [
    "len(X_meta_test)"
   ]
  },
  {
   "cell_type": "code",
   "execution_count": 131,
   "metadata": {
    "collapsed": false
   },
   "outputs": [
    {
     "name": "stdout",
     "output_type": "stream",
     "text": [
      "Training Random Forest\n",
      "Computing prediction Random Forest\n",
      "Training Gradient Boosting\n",
      "Computing prediction Gradient Boosting\n",
      "Training SVM\n",
      "Computing prediction SVM\n",
      "Training XGB\n",
      "Computing prediction XGB\n"
     ]
    }
   ],
   "source": [
    "#train stacked models on all training data \n",
    "models = [RandomForestClassifier(n_estimators=100,random_state=2),\n",
    "          GradientBoostingClassifier(n_estimators=100,max_depth=2,random_state=3),\n",
    "          SVC(kernel='rbf',C=1,cache_size=800,probability=True,random_state=3),\n",
    "          XGBClassifier(n_estimators=150,subsample=1,learning_rate=0.5,max_depth=2)\n",
    "         ]\n",
    "model_name = ['Random Forest','Gradient Boosting','SVM','XGB']\n",
    "#create dataframe to store posterior scores from each clf\n",
    "Fnew = X_meta_test.copy()\n",
    "Fnew=Fnew[['dataFileHandleId']]\n",
    "for m in model_name:\n",
    "    Fnew[m]=0\n",
    "Fnew.index=range(len(Fnew)) #reindex array\n",
    "#zip models\n",
    "m = zip(models,model_name)\n",
    "#train and compute stacking predictions on test set\n",
    "Fnew_test=testdata_stacking(X_meta_train.iloc[:,1:],y_train,X_meta_test.iloc[:,1:],m,Fnew)"
   ]
  },
  {
   "cell_type": "code",
   "execution_count": 136,
   "metadata": {
    "collapsed": true
   },
   "outputs": [],
   "source": [
    "Fnew_test.index=df_test.index"
   ]
  },
  {
   "cell_type": "code",
   "execution_count": 137,
   "metadata": {
    "collapsed": false
   },
   "outputs": [
    {
     "data": {
      "text/html": [
       "<div>\n",
       "<style>\n",
       "    .dataframe thead tr:only-child th {\n",
       "        text-align: right;\n",
       "    }\n",
       "\n",
       "    .dataframe thead th {\n",
       "        text-align: left;\n",
       "    }\n",
       "\n",
       "    .dataframe tbody tr th {\n",
       "        vertical-align: top;\n",
       "    }\n",
       "</style>\n",
       "<table border=\"1\" class=\"dataframe\">\n",
       "  <thead>\n",
       "    <tr style=\"text-align: right;\">\n",
       "      <th></th>\n",
       "      <th>dataFileHandleId</th>\n",
       "      <th>Random Forest</th>\n",
       "      <th>Gradient Boosting</th>\n",
       "      <th>SVM</th>\n",
       "      <th>XGB</th>\n",
       "    </tr>\n",
       "  </thead>\n",
       "  <tbody>\n",
       "    <tr>\n",
       "      <th>12959_10</th>\n",
       "      <td>17287630</td>\n",
       "      <td>0.050000</td>\n",
       "      <td>0.121028</td>\n",
       "      <td>0.123628</td>\n",
       "      <td>0.062891</td>\n",
       "    </tr>\n",
       "    <tr>\n",
       "      <th>12960_10</th>\n",
       "      <td>17287634</td>\n",
       "      <td>0.080000</td>\n",
       "      <td>0.115793</td>\n",
       "      <td>0.128452</td>\n",
       "      <td>0.051649</td>\n",
       "    </tr>\n",
       "    <tr>\n",
       "      <th>12961_10</th>\n",
       "      <td>17287639</td>\n",
       "      <td>0.100000</td>\n",
       "      <td>0.151852</td>\n",
       "      <td>0.099247</td>\n",
       "      <td>0.088959</td>\n",
       "    </tr>\n",
       "    <tr>\n",
       "      <th>12962_10</th>\n",
       "      <td>17287642</td>\n",
       "      <td>0.076667</td>\n",
       "      <td>0.145504</td>\n",
       "      <td>0.083337</td>\n",
       "      <td>0.083818</td>\n",
       "    </tr>\n",
       "    <tr>\n",
       "      <th>12964_10</th>\n",
       "      <td>17287650</td>\n",
       "      <td>0.310440</td>\n",
       "      <td>0.356194</td>\n",
       "      <td>0.137389</td>\n",
       "      <td>0.251858</td>\n",
       "    </tr>\n",
       "  </tbody>\n",
       "</table>\n",
       "</div>"
      ],
      "text/plain": [
       "          dataFileHandleId  Random Forest  Gradient Boosting       SVM  \\\n",
       "12959_10          17287630       0.050000           0.121028  0.123628   \n",
       "12960_10          17287634       0.080000           0.115793  0.128452   \n",
       "12961_10          17287639       0.100000           0.151852  0.099247   \n",
       "12962_10          17287642       0.076667           0.145504  0.083337   \n",
       "12964_10          17287650       0.310440           0.356194  0.137389   \n",
       "\n",
       "               XGB  \n",
       "12959_10  0.062891  \n",
       "12960_10  0.051649  \n",
       "12961_10  0.088959  \n",
       "12962_10  0.083818  \n",
       "12964_10  0.251858  "
      ]
     },
     "execution_count": 137,
     "metadata": {},
     "output_type": "execute_result"
    }
   ],
   "source": [
    "Fnew_test.head()"
   ]
  },
  {
   "cell_type": "code",
   "execution_count": 138,
   "metadata": {
    "collapsed": false
   },
   "outputs": [
    {
     "data": {
      "text/plain": [
       "1367"
      ]
     },
     "execution_count": 138,
     "metadata": {},
     "output_type": "execute_result"
    }
   ],
   "source": [
    "len(Fnew_test)"
   ]
  },
  {
   "cell_type": "code",
   "execution_count": 139,
   "metadata": {
    "collapsed": true
   },
   "outputs": [],
   "source": [
    "#attach metadata \n",
    "X_test = pd.concat((X_meta_test,Fnew_test.iloc[:,1:]),axis=1)"
   ]
  },
  {
   "cell_type": "code",
   "execution_count": 140,
   "metadata": {
    "collapsed": false
   },
   "outputs": [
    {
     "data": {
      "text/html": [
       "<div>\n",
       "<style>\n",
       "    .dataframe thead tr:only-child th {\n",
       "        text-align: right;\n",
       "    }\n",
       "\n",
       "    .dataframe thead th {\n",
       "        text-align: left;\n",
       "    }\n",
       "\n",
       "    .dataframe tbody tr th {\n",
       "        vertical-align: top;\n",
       "    }\n",
       "</style>\n",
       "<table border=\"1\" class=\"dataframe\">\n",
       "  <thead>\n",
       "    <tr style=\"text-align: right;\">\n",
       "      <th></th>\n",
       "      <th>dataFileHandleId</th>\n",
       "      <th>device</th>\n",
       "      <th>session</th>\n",
       "      <th>site</th>\n",
       "      <th>task</th>\n",
       "      <th>visit</th>\n",
       "      <th>deviceSide</th>\n",
       "      <th>Duration</th>\n",
       "      <th>Random Forest</th>\n",
       "      <th>Gradient Boosting</th>\n",
       "      <th>SVM</th>\n",
       "      <th>XGB</th>\n",
       "    </tr>\n",
       "  </thead>\n",
       "  <tbody>\n",
       "    <tr>\n",
       "      <th>12959_10</th>\n",
       "      <td>17287630</td>\n",
       "      <td>0</td>\n",
       "      <td>1</td>\n",
       "      <td>0</td>\n",
       "      <td>0</td>\n",
       "      <td>1</td>\n",
       "      <td>1</td>\n",
       "      <td>0.206077</td>\n",
       "      <td>0.050000</td>\n",
       "      <td>0.121028</td>\n",
       "      <td>0.123628</td>\n",
       "      <td>0.062891</td>\n",
       "    </tr>\n",
       "    <tr>\n",
       "      <th>12960_10</th>\n",
       "      <td>17287634</td>\n",
       "      <td>1</td>\n",
       "      <td>1</td>\n",
       "      <td>0</td>\n",
       "      <td>0</td>\n",
       "      <td>1</td>\n",
       "      <td>0</td>\n",
       "      <td>0.206077</td>\n",
       "      <td>0.080000</td>\n",
       "      <td>0.115793</td>\n",
       "      <td>0.128452</td>\n",
       "      <td>0.051649</td>\n",
       "    </tr>\n",
       "    <tr>\n",
       "      <th>12961_10</th>\n",
       "      <td>17287639</td>\n",
       "      <td>0</td>\n",
       "      <td>1</td>\n",
       "      <td>0</td>\n",
       "      <td>1</td>\n",
       "      <td>1</td>\n",
       "      <td>1</td>\n",
       "      <td>1.740564</td>\n",
       "      <td>0.100000</td>\n",
       "      <td>0.151852</td>\n",
       "      <td>0.099247</td>\n",
       "      <td>0.088959</td>\n",
       "    </tr>\n",
       "    <tr>\n",
       "      <th>12962_10</th>\n",
       "      <td>17287642</td>\n",
       "      <td>1</td>\n",
       "      <td>1</td>\n",
       "      <td>0</td>\n",
       "      <td>1</td>\n",
       "      <td>1</td>\n",
       "      <td>0</td>\n",
       "      <td>1.740564</td>\n",
       "      <td>0.076667</td>\n",
       "      <td>0.145504</td>\n",
       "      <td>0.083337</td>\n",
       "      <td>0.083818</td>\n",
       "    </tr>\n",
       "    <tr>\n",
       "      <th>12964_10</th>\n",
       "      <td>17287650</td>\n",
       "      <td>1</td>\n",
       "      <td>1</td>\n",
       "      <td>0</td>\n",
       "      <td>2</td>\n",
       "      <td>1</td>\n",
       "      <td>0</td>\n",
       "      <td>-0.848883</td>\n",
       "      <td>0.310440</td>\n",
       "      <td>0.356194</td>\n",
       "      <td>0.137389</td>\n",
       "      <td>0.251858</td>\n",
       "    </tr>\n",
       "  </tbody>\n",
       "</table>\n",
       "</div>"
      ],
      "text/plain": [
       "          dataFileHandleId  device  session  site  task  visit  deviceSide  \\\n",
       "12959_10          17287630       0        1     0     0      1           1   \n",
       "12960_10          17287634       1        1     0     0      1           0   \n",
       "12961_10          17287639       0        1     0     1      1           1   \n",
       "12962_10          17287642       1        1     0     1      1           0   \n",
       "12964_10          17287650       1        1     0     2      1           0   \n",
       "\n",
       "          Duration  Random Forest  Gradient Boosting       SVM       XGB  \n",
       "12959_10  0.206077       0.050000           0.121028  0.123628  0.062891  \n",
       "12960_10  0.206077       0.080000           0.115793  0.128452  0.051649  \n",
       "12961_10  1.740564       0.100000           0.151852  0.099247  0.088959  \n",
       "12962_10  1.740564       0.076667           0.145504  0.083337  0.083818  \n",
       "12964_10 -0.848883       0.310440           0.356194  0.137389  0.251858  "
      ]
     },
     "execution_count": 140,
     "metadata": {},
     "output_type": "execute_result"
    }
   ],
   "source": [
    "X_test.head()"
   ]
  },
  {
   "cell_type": "code",
   "execution_count": 142,
   "metadata": {
    "collapsed": true
   },
   "outputs": [],
   "source": [
    "# create final submission file with features from train and test\n",
    "X_train = pd.read_csv('Submission_Metaf&Metaf_Stacking.csv')\n",
    "X_submission = pd.concat((X_test,X_train),axis=0)\n",
    "X_submission.to_csv('./Submissions/Submission_brady_MetafandMetaf_Stacking.csv',index=False)"
   ]
  },
  {
   "cell_type": "code",
   "execution_count": 143,
   "metadata": {
    "collapsed": false
   },
   "outputs": [
    {
     "data": {
      "text/plain": [
       "4280"
      ]
     },
     "execution_count": 143,
     "metadata": {},
     "output_type": "execute_result"
    }
   ],
   "source": [
    "len(X_submission)"
   ]
  }
 ],
 "metadata": {
  "anaconda-cloud": {},
  "kernelspec": {
   "display_name": "Python [default]",
   "language": "python",
   "name": "python3"
  },
  "language_info": {
   "codemirror_mode": {
    "name": "ipython",
    "version": 3
   },
   "file_extension": ".py",
   "mimetype": "text/x-python",
   "name": "python",
   "nbconvert_exporter": "python",
   "pygments_lexer": "ipython3",
   "version": "3.5.2"
  }
 },
 "nbformat": 4,
 "nbformat_minor": 1
}
