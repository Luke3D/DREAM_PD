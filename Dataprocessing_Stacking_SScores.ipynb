{
 "cells": [
  {
   "cell_type": "code",
   "execution_count": 1,
   "metadata": {
    "collapsed": false
   },
   "outputs": [],
   "source": [
    "import pandas as pd\n",
    "import json\n",
    "import numpy as np\n",
    "import pickle #to save files\n",
    "\n",
    "from scipy.stats import skew, kurtosis, pearsonr\n",
    "from scipy.signal import butter, welch, filtfilt\n",
    "\n",
    "from sklearn.preprocessing import StandardScaler\n",
    "from sklearn.model_selection import LeaveOneGroupOut\n",
    "from sklearn import preprocessing\n",
    "# import xgboost as xgb\n",
    "# from xgboost.sklearn import XGBClassifier #this is the SKlearn wrapper\n",
    "from sklearn.ensemble import RandomForestClassifier, AdaBoostClassifier, GradientBoostingClassifier, ExtraTreesClassifier\n",
    "from sklearn.linear_model import ElasticNetCV, LogisticRegression\n",
    "from sklearn.svm import SVC, OneClassSVM\n",
    "\n",
    "from sklearn.metrics import precision_score, recall_score,f1_score\n",
    "\n",
    "import nolds\n",
    "import time\n",
    "import matplotlib.pyplot as plt\n",
    "import seaborn as sns\n",
    "%matplotlib inline"
   ]
  },
  {
   "cell_type": "code",
   "execution_count": 2,
   "metadata": {
    "collapsed": false
   },
   "outputs": [
    {
     "name": "stdout",
     "output_type": "stream",
     "text": [
      "Welcome, Luca Lonini!\n",
      "\n"
     ]
    }
   ],
   "source": [
    "from IPython.core.debugger import Tracer\n",
    "import synapseclient\n",
    "syn=synapseclient.login()"
   ]
  },
  {
   "cell_type": "markdown",
   "metadata": {},
   "source": [
    "## Helper fcns"
   ]
  },
  {
   "cell_type": "code",
   "execution_count": 3,
   "metadata": {
    "collapsed": true
   },
   "outputs": [],
   "source": [
    "#feature extraction\n",
    "#INPUT: raw x,y,z accelerometer data (dataframe)\n",
    "def feature_extraction(rawdata):\n",
    "    \n",
    "    #drop time and magnitude feature\n",
    "    rawdata_wtime = rawdata.copy()\n",
    "    rawdata=rawdata.iloc[:,1:4]\n",
    "    \n",
    "    features_list = ['EX','EY','EZ','rangeX','rangeY','rangeZ','meanX','meanY','meanZ','varX','varY','varZ',\n",
    "                    'skewX','skewY','skewZ','kurtX','kurtY','kurtZ','xcor_peakXY','xcorr_peakXZ','xcorr_peakYZ',\n",
    "                    'xcorr_lagXY','xcorr_lagXZ','xcorr_lagYZ','Dom_freq','Pdom_rel','PSD_mean','PSD_std','PSD_skew',\n",
    "                    'PSD_kur','jerk_mean','jerk_std','jerk_skew','jerk_kur','Sen_X','Sen_Y','Sen_Z','Sen_FFTX',\n",
    "                    'Sen_FFTY','Sen_FFTZ']\n",
    "    \n",
    "\n",
    "    #cycle through all clips for current trial and save dataframe of features for current trial and sensor\n",
    "    features = []\n",
    "\n",
    "    #extract features on current clip\n",
    "\n",
    "    #Energy of signal on each axis\n",
    "    E = np.asarray(np.sum(rawdata**2,axis=0))\n",
    "\n",
    "    #range on each axis\n",
    "    min_xyz = np.min(rawdata,axis=0)\n",
    "    max_xyz = np.max(rawdata,axis=0)\n",
    "    r = np.asarray(max_xyz-min_xyz)\n",
    "\n",
    "    #Moments on each axis\n",
    "    mean = np.asarray(np.mean(rawdata,axis=0))\n",
    "    var = np.asarray(np.std(rawdata,axis=0))\n",
    "    sk = skew(rawdata)\n",
    "    kurt = kurtosis(rawdata)\n",
    "\n",
    "    #Cross-correlation between axes pairs\n",
    "    xcorr_xy = np.correlate(rawdata.iloc[:,0],rawdata.iloc[:,1],mode='same')\n",
    "    xcorr_xy = xcorr_xy/np.sum(xcorr_xy) #normalize values\n",
    "    xcorr_peak_xy = np.max(xcorr_xy)\n",
    "    xcorr_lag_xy = (np.argmax(xcorr_xy))/len(xcorr_xy) #normalized lag\n",
    "\n",
    "    xcorr_xz = np.correlate(rawdata.iloc[:,0],rawdata.iloc[:,2],mode='same')\n",
    "    xcorr_xz = xcorr_xz/np.sum(xcorr_xz) #normalize values\n",
    "    xcorr_peak_xz = np.max(xcorr_xz)\n",
    "    xcorr_lag_xz = (np.argmax(xcorr_xz))/len(xcorr_xz)\n",
    "\n",
    "    xcorr_yz = np.correlate(rawdata.iloc[:,1],rawdata.iloc[:,2],mode='same')\n",
    "    xcorr_yz = xcorr_yz/np.sum(xcorr_yz) #normalize values\n",
    "    xcorr_peak_yz = np.max(xcorr_yz)\n",
    "    xcorr_lag_yz = (np.argmax(xcorr_yz))/len(xcorr_yz)\n",
    "\n",
    "    #pack xcorr features\n",
    "    xcorr_peak = np.array([xcorr_peak_xy,xcorr_peak_xz,xcorr_peak_yz])\n",
    "    xcorr_lag = np.array([xcorr_lag_xy,xcorr_lag_xz,xcorr_lag_yz])\n",
    "    \n",
    "    #jerk moments on magnitude\n",
    "    jerk = rawdata.iloc[:,-1].diff().values\n",
    "    jerk_moments = np.array([np.nanmean(jerk),np.nanstd(jerk),skew(jerk[~np.isnan(jerk)]),kurtosis(jerk[~np.isnan(jerk)])])\n",
    "\n",
    "    #Dominant freq and relative magnitude (on acc magnitude)\n",
    "    Pxx = power_spectra_welch(rawdata_wtime,fm=1,fM=10)\n",
    "    domfreq = np.asarray([Pxx.iloc[:,-1].argmax()]) \n",
    "    Pdom_rel = Pxx.loc[domfreq].iloc[:,-1].values/Pxx.iloc[:,-1].sum() #power at dominant freq rel to total\n",
    "    \n",
    "    #moments of PSD\n",
    "    Pxx_moments = np.array([np.nanmean(Pxx.values),np.nanstd(Pxx.values),skew(Pxx.values),kurtosis(Pxx.values)])\n",
    "\n",
    "    #sample entropy raw data and FFT - COMPUTATIONALLY EXPENSIVE - TAKE OUT FOR NOW\n",
    "    sH_raw = []; sH_fft = []\n",
    "    #on magnitude\n",
    "#     x = rawdata.iloc[:,-1]\n",
    "#     n = len(x) #number of samples in clip\n",
    "#     Fs = np.mean(1/(np.diff(x.index)/1000)) #sampling rate in clip\n",
    "#     sH_raw=nolds.sampen(x) #samp entr raw magnitude\n",
    "#     f,Pxx_den = welch(x,Fs,nperseg=min(256,n/4))\n",
    "#     sH_fft=(nolds.sampen(Pxx_den)) #samp entr fft\n",
    "    #Sen on each axis\n",
    "    for a in range(3):\n",
    "        x = rawdata.iloc[:,a]\n",
    "        n = len(x) #number of samples in clip\n",
    "        Fs = np.mean(1/(np.diff(rawdata_wtime.timestamp))) #sampling rate in clip\n",
    "        sH_raw.append(nolds.sampen(x)) #samp entr raw data\n",
    "        f,Pxx_den = welch(x,Fs,nperseg=min(256,n/4))\n",
    "        sH_fft.append(nolds.sampen(Pxx_den)) #samp entr fft\n",
    "\n",
    "    #Assemble features in array\n",
    "    X = np.concatenate((E,r,mean,var,sk,kurt,xcorr_peak,xcorr_lag,domfreq,Pdom_rel,Pxx_moments,jerk_moments,sH_raw,sH_fft))\n",
    "#                 X = X.reshape(1,X.shape[0])\n",
    "    features.append(X)\n",
    "\n",
    "    F = np.asarray(features) #feature matrix for all clips from current trial\n",
    "    return F,features_list\n",
    "\n",
    "\n",
    "def gen_clips(rawdata,clipsize=5,overlap=0,interp=False):\n",
    "    \n",
    "    len_tol = 0.8   #% of the intended clipsize below which clip is not used (deprecated for now)\n",
    "    #reindex time (relative to start)\n",
    "    t = rawdata.timestamp\n",
    "    t = t-t.iloc[0]\n",
    "    rawdata.timestamp = t\n",
    "    #create clips data\n",
    "    deltat = np.median(np.diff(rawdata.timestamp))\n",
    "    idx = np.arange(0,rawdata.timestamp.iloc[-1],clipsize*(1-overlap))\n",
    "    clips = []\n",
    "    for i in idx:\n",
    "        c = rawdata[(rawdata.timestamp>=i) & (rawdata.timestamp<i+clipsize)]\n",
    "        if interp:\n",
    "            if len(c) == 250:\n",
    "                clips.append(c)\n",
    "            #resample clip if not enough samples are there\n",
    "            elif (len(c) >200) & (len(c)<250): #for now hard code clip size (enforce 250 samples)\n",
    "                t = c.timestamp.values\n",
    "                tnew = np.linspace(t[0],t[-1],250)  \n",
    "                x_res = resample(c.iloc[:,1].values,num,tnew)[0]\n",
    "                y_res = resample(c.iloc[:,2].values,num,tnew)[0]\n",
    "                z_res = resample(c.iloc[:,3].values,num,tnew)[0]\n",
    "                mag_res = resample(c.iloc[:,4].values,num,tnew)[0]\n",
    "                cres = pd.DataFrame(data=np.vstack((tnew,x_res,y_res,z_res,mag_res)).T,columns=list(c.columns))\n",
    "                clips.append(cres)\n",
    "        else:\n",
    "            if len(c) > 10: #at least n data points in clip\n",
    "                clips.append(c)\n",
    "#         if len(c) > 0.8*int(clipsize/deltat): #discard clips whose length is less than len_tol% of the window size\n",
    "    return clips\n",
    "\n",
    "#returns power spectra of the signal over each channel between min and max freq at given resolution (nbins)\n",
    "#returns the labels for each bin; #if nbins = -1 does not bin the data\n",
    "#if binavg is True it averages the PSD within bins to reduce PSD noise\n",
    "#**DO NOT USE - NEED TO FIX BUG*** \n",
    "def powerspectra(x,fm,fM,nbins=-1,relative=False,binavg=True):\n",
    "    \n",
    "    #feature labels (if binned)\n",
    "    labels=[]\n",
    "    if nbins > 0:\n",
    "        s = np.linspace(fm,fM,nbins)\n",
    "        lax = ['X','Y','Z']\n",
    "        for l in lax:\n",
    "            for i in s:\n",
    "                labels.append('fft'+l+str(int(i)))\n",
    "        \n",
    "    #signal features\n",
    "    n = len(x) #number of samples in clip\n",
    "    Fs = np.nanmean(1/(np.diff(x.timestamp))) #sampling rate in clip\n",
    "    timestep = 1/Fs \n",
    "    freq = np.fft.fftfreq(n,d=timestep) #frequency bins\n",
    "\n",
    "    #run FFT on each channel \n",
    "    x = x.drop('timestamp',axis=1)\n",
    "    Xf = x.apply(np.fft.fft)\n",
    "    Xf.index = np.round(freq,decimals=1) #reindex w frequency bin\n",
    "    Pxx = Xf.apply(np.abs)\n",
    "    Pxx = Pxx**2 #power spectra\n",
    "    \n",
    "    if relative:\n",
    "        Pxx = Pxx/np.sum(Pxx,axis=0) #power relative to total\n",
    "        \n",
    "    if nbins > 0:\n",
    "        #power spectra between fm-fM Hz\n",
    "        bin1 = int(timestep*n*fm)\n",
    "        bin2 = int(timestep*n*fM)\n",
    "        bins = np.linspace(bin1,bin2,nbins,dtype=int)\n",
    "    #     print(bins/(round(timestep*n)))\n",
    "\n",
    "        #average power spectra within bins - CHECK FOR BUG!\n",
    "        if binavg:\n",
    "            deltab = int(0.5*np.diff(bins)[0]) #half the size of a bin (in samples)\n",
    "            Pxxm = []\n",
    "            for i in bins:\n",
    "                start = int(max(i-deltab,bins[0]))\n",
    "                end = int(min(i+deltab,bins[-1]))\n",
    "                Pxxm.append(np.nanmean(Pxx.iloc[start:end,:].values,axis=0))            \n",
    "            Pxxm = np.asarray(Pxxm)\n",
    "            Pxx = pd.DataFrame(data=Pxxm,index=Pxx.index[bins],columns=Pxx.columns)\n",
    "            return Pxx, labels\n",
    "\n",
    "        else:\n",
    "            return Pxx.iloc[bins,:], labels\n",
    "    #no binning\n",
    "    else:\n",
    "        return Pxx\n",
    "\n",
    "    \n",
    "#PSD on magnitude using Welch\n",
    "def power_spectra_welch(rawdata,fm,fM):\n",
    "    x = rawdata.iloc[:,-1]\n",
    "    n = len(x) #number of samples in clip\n",
    "    Fs = np.mean(1/(np.diff(rawdata.timestamp))) #sampling rate in clip\n",
    "    f,Pxx_den = welch(x,Fs,nperseg=min(256,n))\n",
    "    #return PSD in desired interval of freq\n",
    "    inds = (f<=fM)&(f>=fm)\n",
    "    f=f[inds]\n",
    "    Pxx_den=Pxx_den[inds]\n",
    "    Pxxdf = pd.DataFrame(data=Pxx_den,index=f,columns=['PSD_magnitude'])\n",
    "\n",
    "    return Pxxdf\n",
    "\n",
    "    \n",
    "#highpass (or lowpass) filter data. HP to remove gravity (offset - limb orientation) from accelerometer data from each visit (trial)\n",
    "def filter_signal(rawdata,cutoff=0.75,ftype='highpass',order=4):\n",
    "\n",
    "    t = rawdata.timestamp\n",
    "    t = t-t.iloc[0]\n",
    "    rawdata.timestamp = t\n",
    "    x = rawdata.iloc[:,1:].values\n",
    "    Fs = np.mean(1/(np.diff(rawdata.timestamp))) #sampling rate    \n",
    "    #filter design\n",
    "    cutoff_norm = cutoff/(0.5*Fs)\n",
    "    b,a = butter(order,cutoff_norm,btype=ftype,analog=False)\n",
    "    #filter data\n",
    "    xfilt = filtfilt(b,a,x,axis=0)\n",
    "    t = np.expand_dims(t,axis=1)\n",
    "    rawdatafilt = pd.DataFrame(data=np.hstack((t,xfilt)),columns=rawdata.columns)\n",
    "    return rawdatafilt\n",
    "\n",
    "#X,y are numpy arrays with features and target\n",
    "#Fnew is dataframe storing the posteriors (new features)\n",
    "#returns mean feature importance\n",
    "def LOSOCV(X,y,groups,models,Fnew):\n",
    "\n",
    "    subj = LeaveOneGroupOut() \n",
    "\n",
    "    #train multiple classifiers\n",
    "    for clf,model_name in models:\n",
    "\n",
    "        Prec_all=[]; Rec_all=[]; f1_train=[]; Posteriors=[] \n",
    "\n",
    "        print('Training %s'%model_name)\n",
    "        \n",
    "        #LOSO CV for current classifier\n",
    "        for train_index, test_index in subj.split(X, y, groups):\n",
    "            Xtr, Xte = X[train_index], X[test_index]\n",
    "            ytr, yte = y[train_index], y[test_index]\n",
    "            clf.fit(Xtr,ytr)\n",
    "            ypred = clf.predict(Xte)\n",
    "            yscore = clf.predict_proba(Xte) #posterior scores on left out subject\n",
    "            yscore = yscore[:,1]\n",
    "            \n",
    "            #accuracy on train set\n",
    "            ypred_train = clf.predict(Xtr)\n",
    "            f1_train.append(f1_score(ytr,ypred_train))\n",
    "\n",
    "            #compute Sens and Spec for current subject and classifier\n",
    "            if np.sum(yte==1)>0:                    \n",
    "                Prec = precision_score(yte,ypred)\n",
    "                Rec = recall_score(yte,ypred)\n",
    "            else:\n",
    "                print('no positive examples for current test subj')\n",
    "                Sens = np.nan\n",
    "            Prec_all.append(Prec); Rec_all.append(Rec)\n",
    "\n",
    "            #store posteriors from current classifier and subject\n",
    "#             Fnew[model_name].iloc[test_index]=yscore\n",
    "            Fnew.loc[test_index,model_name]=yscore\n",
    "\n",
    "            \n",
    "        #mean across all subjects\n",
    "        print(('%s, mean F1 on training set = %.3f (+/- %0.3f)')%(model_name,np.nanmean(f1_train),2*np.nanstd(f1_train)/np.sqrt(len(f1_train))))\n",
    "        print(('%s, mean Prec = %.3f (+/- %0.3f)')%(model_name,np.nanmean(Prec_all),2*np.nanstd(Prec_all)/np.sqrt(len(Prec_all))))\n",
    "        print(('%s, mean Rec = %.3f (+/- %0.3f)')%(model_name,np.nanmean(Rec_all),2*np.nanstd(Rec_all)/np.sqrt(len(Rec_all))))\n",
    "\n",
    "    return Fnew\n",
    "\n",
    "\n",
    "#train classifiers on input training features Xtr and target ytr; \n",
    "#returns posterior predictions Fnew from each clf on test data X\n",
    "def testdata_stacking(Xtr,ytr,Xte,models,Fnew):\n",
    "\n",
    "    #train multiple classifiers\n",
    "    for clf,model_name in models:\n",
    "        print('Training %s'%model_name)\n",
    "        clf.fit(Xtr,ytr)\n",
    "        print('Computing prediction %s'%model_name)\n",
    "        yscore = clf.predict_proba(Xte) #posterior scores on test data\n",
    "        yscore = yscore[:,1]\n",
    "        #store posteriors from current classifier on test data\n",
    "        Fnew.loc[:,model_name]=yscore\n",
    "\n",
    "    return Fnew\n"
   ]
  },
  {
   "cell_type": "code",
   "execution_count": 4,
   "metadata": {
    "collapsed": true
   },
   "outputs": [],
   "source": [
    "def findnanrows(df):\n",
    "\n",
    "    empty_ind = []\n",
    "    nans_found=0; n_empty=0\n",
    "    for i in range(len(df)):\n",
    "\n",
    "        f = df.iloc[i,:].path\n",
    "        rawdata = pd.read_csv(f,sep='\\t') #load file\n",
    "\n",
    "        #remove nans\n",
    "        rawdata = rawdata.astype('float64') #make sure everything is float\n",
    "        if sum(np.sum(rawdata.isnull())) > 0:\n",
    "            nans_found+=1 # of files w nans\n",
    "            rawdata = rawdata.dropna() #drop nans\n",
    "\n",
    "        #store row indices of empty files\n",
    "        if rawdata.empty == True:\n",
    "            n_empty+=1 #empty files\n",
    "            empty_ind.append(i)\n",
    "    print('Files w nans: %d'%nans_found)\n",
    "    print('Files w 0 non-nan rows %d'%n_empty)\n",
    "    return empty_ind"
   ]
  },
  {
   "cell_type": "markdown",
   "metadata": {},
   "source": [
    "## Pull Train data (remove empty files rows)"
   ]
  },
  {
   "cell_type": "code",
   "execution_count": 10,
   "metadata": {
    "collapsed": true
   },
   "outputs": [],
   "source": [
    "symptom_score = 'bradykinesiaScore'\n",
    "# symptom_score = 'dyskinesiaScore'\n",
    "# symptom_score = 'tremorScore'"
   ]
  },
  {
   "cell_type": "code",
   "execution_count": 11,
   "metadata": {
    "collapsed": false
   },
   "outputs": [],
   "source": [
    "q_train = syn.tableQuery(\"SELECT * from syn10495809 where bradykinesiaScore is not null\")"
   ]
  },
  {
   "cell_type": "code",
   "execution_count": 125,
   "metadata": {
    "collapsed": true
   },
   "outputs": [],
   "source": [
    "# q_train = syn.tableQuery(\"SELECT * from syn10495809 where dyskinesiaScore is not null\")"
   ]
  },
  {
   "cell_type": "code",
   "execution_count": 126,
   "metadata": {
    "collapsed": true
   },
   "outputs": [],
   "source": [
    "# q_train = syn.tableQuery(\"SELECT * from syn10495809 where tremorScore is not null\")"
   ]
  },
  {
   "cell_type": "code",
   "execution_count": 12,
   "metadata": {
    "collapsed": false
   },
   "outputs": [
    {
     "name": "stdout",
     "output_type": "stream",
     "text": [
      "Downloading 0 files, 3016 cached locally\n"
     ]
    }
   ],
   "source": [
    "paths_train = syn.downloadTableColumns(q_train,'dataFileHandleId')"
   ]
  },
  {
   "cell_type": "code",
   "execution_count": 13,
   "metadata": {
    "collapsed": false
   },
   "outputs": [
    {
     "data": {
      "text/html": [
       "<div>\n",
       "<style>\n",
       "    .dataframe thead tr:only-child th {\n",
       "        text-align: right;\n",
       "    }\n",
       "\n",
       "    .dataframe thead th {\n",
       "        text-align: left;\n",
       "    }\n",
       "\n",
       "    .dataframe tbody tr th {\n",
       "        vertical-align: top;\n",
       "    }\n",
       "</style>\n",
       "<table border=\"1\" class=\"dataframe\">\n",
       "  <thead>\n",
       "    <tr style=\"text-align: right;\">\n",
       "      <th></th>\n",
       "      <th>dataFileHandleId</th>\n",
       "      <th>device</th>\n",
       "      <th>patient</th>\n",
       "      <th>session</th>\n",
       "      <th>site</th>\n",
       "      <th>task</th>\n",
       "      <th>visit</th>\n",
       "      <th>deviceSide</th>\n",
       "      <th>tremorScore</th>\n",
       "      <th>dyskinesiaScore</th>\n",
       "      <th>bradykinesiaScore</th>\n",
       "      <th>path</th>\n",
       "    </tr>\n",
       "  </thead>\n",
       "  <tbody>\n",
       "    <tr>\n",
       "      <th>25819_22</th>\n",
       "      <td>17286028</td>\n",
       "      <td>GENEActiv</td>\n",
       "      <td>13_BOS</td>\n",
       "      <td>1</td>\n",
       "      <td>Boston</td>\n",
       "      <td>drnkg</td>\n",
       "      <td>1</td>\n",
       "      <td>Right</td>\n",
       "      <td>1</td>\n",
       "      <td>NaN</td>\n",
       "      <td>1</td>\n",
       "      <td>/Users/luca/Projects/DREAM_PD/Data/28/17286028...</td>\n",
       "    </tr>\n",
       "    <tr>\n",
       "      <th>25820_22</th>\n",
       "      <td>17286030</td>\n",
       "      <td>Pebble</td>\n",
       "      <td>13_BOS</td>\n",
       "      <td>1</td>\n",
       "      <td>Boston</td>\n",
       "      <td>drnkg</td>\n",
       "      <td>1</td>\n",
       "      <td>Left</td>\n",
       "      <td>1</td>\n",
       "      <td>NaN</td>\n",
       "      <td>1</td>\n",
       "      <td>/Users/luca/Projects/DREAM_PD/Data/30/17286030...</td>\n",
       "    </tr>\n",
       "    <tr>\n",
       "      <th>25821_22</th>\n",
       "      <td>17286034</td>\n",
       "      <td>GENEActiv</td>\n",
       "      <td>13_BOS</td>\n",
       "      <td>1</td>\n",
       "      <td>Boston</td>\n",
       "      <td>fldng</td>\n",
       "      <td>1</td>\n",
       "      <td>Right</td>\n",
       "      <td>2</td>\n",
       "      <td>NaN</td>\n",
       "      <td>1</td>\n",
       "      <td>/Users/luca/Projects/DREAM_PD/Data/34/17286034...</td>\n",
       "    </tr>\n",
       "    <tr>\n",
       "      <th>25822_22</th>\n",
       "      <td>17286036</td>\n",
       "      <td>Pebble</td>\n",
       "      <td>13_BOS</td>\n",
       "      <td>1</td>\n",
       "      <td>Boston</td>\n",
       "      <td>fldng</td>\n",
       "      <td>1</td>\n",
       "      <td>Left</td>\n",
       "      <td>1</td>\n",
       "      <td>NaN</td>\n",
       "      <td>1</td>\n",
       "      <td>/Users/luca/Projects/DREAM_PD/Data/36/17286036...</td>\n",
       "    </tr>\n",
       "    <tr>\n",
       "      <th>25824_22</th>\n",
       "      <td>17286042</td>\n",
       "      <td>Pebble</td>\n",
       "      <td>13_BOS</td>\n",
       "      <td>1</td>\n",
       "      <td>Boston</td>\n",
       "      <td>ftnl1</td>\n",
       "      <td>1</td>\n",
       "      <td>Left</td>\n",
       "      <td>2</td>\n",
       "      <td>NaN</td>\n",
       "      <td>1</td>\n",
       "      <td>/Users/luca/Projects/DREAM_PD/Data/42/17286042...</td>\n",
       "    </tr>\n",
       "  </tbody>\n",
       "</table>\n",
       "</div>"
      ],
      "text/plain": [
       "          dataFileHandleId     device patient  session    site   task  visit  \\\n",
       "25819_22          17286028  GENEActiv  13_BOS        1  Boston  drnkg      1   \n",
       "25820_22          17286030     Pebble  13_BOS        1  Boston  drnkg      1   \n",
       "25821_22          17286034  GENEActiv  13_BOS        1  Boston  fldng      1   \n",
       "25822_22          17286036     Pebble  13_BOS        1  Boston  fldng      1   \n",
       "25824_22          17286042     Pebble  13_BOS        1  Boston  ftnl1      1   \n",
       "\n",
       "         deviceSide  tremorScore  dyskinesiaScore  bradykinesiaScore  \\\n",
       "25819_22      Right            1              NaN                  1   \n",
       "25820_22       Left            1              NaN                  1   \n",
       "25821_22      Right            2              NaN                  1   \n",
       "25822_22       Left            1              NaN                  1   \n",
       "25824_22       Left            2              NaN                  1   \n",
       "\n",
       "                                                       path  \n",
       "25819_22  /Users/luca/Projects/DREAM_PD/Data/28/17286028...  \n",
       "25820_22  /Users/luca/Projects/DREAM_PD/Data/30/17286030...  \n",
       "25821_22  /Users/luca/Projects/DREAM_PD/Data/34/17286034...  \n",
       "25822_22  /Users/luca/Projects/DREAM_PD/Data/36/17286036...  \n",
       "25824_22  /Users/luca/Projects/DREAM_PD/Data/42/17286042...  "
      ]
     },
     "execution_count": 13,
     "metadata": {},
     "output_type": "execute_result"
    }
   ],
   "source": [
    "df_train = q_train.asDataFrame()\n",
    "df_train['path']=df_train.dataFileHandleId.astype(str).map(paths_train)\n",
    "df_train.head()"
   ]
  },
  {
   "cell_type": "code",
   "execution_count": 14,
   "metadata": {
    "collapsed": false
   },
   "outputs": [
    {
     "name": "stdout",
     "output_type": "stream",
     "text": [
      "Files w nans: 190\n",
      "Files w 0 non-nan rows 103\n"
     ]
    },
    {
     "data": {
      "text/plain": [
       "2913"
      ]
     },
     "execution_count": 14,
     "metadata": {},
     "output_type": "execute_result"
    }
   ],
   "source": [
    "#remove nanrows\n",
    "inds = findnanrows(df_train)\n",
    "df_train=df_train.drop(df_train.index[inds])\n",
    "y_train = df_train[symptom_score].values\n",
    "len(df_train)"
   ]
  },
  {
   "cell_type": "markdown",
   "metadata": {},
   "source": [
    "## Pull test data"
   ]
  },
  {
   "cell_type": "code",
   "execution_count": 12,
   "metadata": {
    "collapsed": true
   },
   "outputs": [],
   "source": [
    "# q_test = syn.tableQuery(\"SELECT * from syn10701954 where dyskinesiaScore = 'Score'\")"
   ]
  },
  {
   "cell_type": "code",
   "execution_count": 15,
   "metadata": {
    "collapsed": true
   },
   "outputs": [],
   "source": [
    "q_test = syn.tableQuery(\"SELECT * from syn10701954 where bradykinesiaScore = 'Score'\")"
   ]
  },
  {
   "cell_type": "code",
   "execution_count": 16,
   "metadata": {
    "collapsed": false
   },
   "outputs": [
    {
     "name": "stdout",
     "output_type": "stream",
     "text": [
      "Downloading 0 files, 1409 cached locally\n"
     ]
    }
   ],
   "source": [
    "paths_test = syn.downloadTableColumns(q_test,'dataFileHandleId')"
   ]
  },
  {
   "cell_type": "code",
   "execution_count": 17,
   "metadata": {
    "collapsed": false
   },
   "outputs": [
    {
     "data": {
      "text/html": [
       "<div>\n",
       "<style>\n",
       "    .dataframe thead tr:only-child th {\n",
       "        text-align: right;\n",
       "    }\n",
       "\n",
       "    .dataframe thead th {\n",
       "        text-align: left;\n",
       "    }\n",
       "\n",
       "    .dataframe tbody tr th {\n",
       "        vertical-align: top;\n",
       "    }\n",
       "</style>\n",
       "<table border=\"1\" class=\"dataframe\">\n",
       "  <thead>\n",
       "    <tr style=\"text-align: right;\">\n",
       "      <th></th>\n",
       "      <th>dataFileHandleId</th>\n",
       "      <th>device</th>\n",
       "      <th>patient</th>\n",
       "      <th>session</th>\n",
       "      <th>site</th>\n",
       "      <th>task</th>\n",
       "      <th>visit</th>\n",
       "      <th>deviceSide</th>\n",
       "      <th>tremorScore</th>\n",
       "      <th>dyskinesiaScore</th>\n",
       "      <th>bradykinesiaScore</th>\n",
       "      <th>path</th>\n",
       "    </tr>\n",
       "  </thead>\n",
       "  <tbody>\n",
       "    <tr>\n",
       "      <th>12959_10</th>\n",
       "      <td>17287630</td>\n",
       "      <td>GENEActiv</td>\n",
       "      <td>14_BOS</td>\n",
       "      <td>1</td>\n",
       "      <td>Boston</td>\n",
       "      <td>drnkg</td>\n",
       "      <td>1</td>\n",
       "      <td>Right</td>\n",
       "      <td>Score</td>\n",
       "      <td>NotApplicable</td>\n",
       "      <td>Score</td>\n",
       "      <td>/Users/luca/Projects/DREAM_PD/Code/Data/630/17...</td>\n",
       "    </tr>\n",
       "    <tr>\n",
       "      <th>12960_10</th>\n",
       "      <td>17287634</td>\n",
       "      <td>Pebble</td>\n",
       "      <td>14_BOS</td>\n",
       "      <td>1</td>\n",
       "      <td>Boston</td>\n",
       "      <td>drnkg</td>\n",
       "      <td>1</td>\n",
       "      <td>Left</td>\n",
       "      <td>Score</td>\n",
       "      <td>NotApplicable</td>\n",
       "      <td>Score</td>\n",
       "      <td>/Users/luca/Projects/DREAM_PD/Code/Data/634/17...</td>\n",
       "    </tr>\n",
       "    <tr>\n",
       "      <th>12961_10</th>\n",
       "      <td>17287639</td>\n",
       "      <td>GENEActiv</td>\n",
       "      <td>14_BOS</td>\n",
       "      <td>1</td>\n",
       "      <td>Boston</td>\n",
       "      <td>fldng</td>\n",
       "      <td>1</td>\n",
       "      <td>Right</td>\n",
       "      <td>Score</td>\n",
       "      <td>NotApplicable</td>\n",
       "      <td>Score</td>\n",
       "      <td>/Users/luca/Projects/DREAM_PD/Code/Data/639/17...</td>\n",
       "    </tr>\n",
       "    <tr>\n",
       "      <th>12962_10</th>\n",
       "      <td>17287642</td>\n",
       "      <td>Pebble</td>\n",
       "      <td>14_BOS</td>\n",
       "      <td>1</td>\n",
       "      <td>Boston</td>\n",
       "      <td>fldng</td>\n",
       "      <td>1</td>\n",
       "      <td>Left</td>\n",
       "      <td>Score</td>\n",
       "      <td>NotApplicable</td>\n",
       "      <td>Score</td>\n",
       "      <td>/Users/luca/Projects/DREAM_PD/Code/Data/642/17...</td>\n",
       "    </tr>\n",
       "    <tr>\n",
       "      <th>12964_10</th>\n",
       "      <td>17287650</td>\n",
       "      <td>Pebble</td>\n",
       "      <td>14_BOS</td>\n",
       "      <td>1</td>\n",
       "      <td>Boston</td>\n",
       "      <td>ftnl1</td>\n",
       "      <td>1</td>\n",
       "      <td>Left</td>\n",
       "      <td>Score</td>\n",
       "      <td>NotApplicable</td>\n",
       "      <td>Score</td>\n",
       "      <td>/Users/luca/Projects/DREAM_PD/Code/Data/650/17...</td>\n",
       "    </tr>\n",
       "  </tbody>\n",
       "</table>\n",
       "</div>"
      ],
      "text/plain": [
       "          dataFileHandleId     device patient  session    site   task  visit  \\\n",
       "12959_10          17287630  GENEActiv  14_BOS        1  Boston  drnkg      1   \n",
       "12960_10          17287634     Pebble  14_BOS        1  Boston  drnkg      1   \n",
       "12961_10          17287639  GENEActiv  14_BOS        1  Boston  fldng      1   \n",
       "12962_10          17287642     Pebble  14_BOS        1  Boston  fldng      1   \n",
       "12964_10          17287650     Pebble  14_BOS        1  Boston  ftnl1      1   \n",
       "\n",
       "         deviceSide tremorScore dyskinesiaScore bradykinesiaScore  \\\n",
       "12959_10      Right       Score   NotApplicable             Score   \n",
       "12960_10       Left       Score   NotApplicable             Score   \n",
       "12961_10      Right       Score   NotApplicable             Score   \n",
       "12962_10       Left       Score   NotApplicable             Score   \n",
       "12964_10       Left       Score   NotApplicable             Score   \n",
       "\n",
       "                                                       path  \n",
       "12959_10  /Users/luca/Projects/DREAM_PD/Code/Data/630/17...  \n",
       "12960_10  /Users/luca/Projects/DREAM_PD/Code/Data/634/17...  \n",
       "12961_10  /Users/luca/Projects/DREAM_PD/Code/Data/639/17...  \n",
       "12962_10  /Users/luca/Projects/DREAM_PD/Code/Data/642/17...  \n",
       "12964_10  /Users/luca/Projects/DREAM_PD/Code/Data/650/17...  "
      ]
     },
     "execution_count": 17,
     "metadata": {},
     "output_type": "execute_result"
    }
   ],
   "source": [
    "df_test = q_test.asDataFrame()\n",
    "df_test['path']=df_test.dataFileHandleId.astype(str).map(paths_test)\n",
    "df_test.head()"
   ]
  },
  {
   "cell_type": "code",
   "execution_count": 18,
   "metadata": {
    "collapsed": false
   },
   "outputs": [
    {
     "data": {
      "text/plain": [
       "1409"
      ]
     },
     "execution_count": 18,
     "metadata": {},
     "output_type": "execute_result"
    }
   ],
   "source": [
    "len(df_test)"
   ]
  },
  {
   "cell_type": "code",
   "execution_count": 19,
   "metadata": {
    "collapsed": false
   },
   "outputs": [
    {
     "name": "stdout",
     "output_type": "stream",
     "text": [
      "Files w nans: 125\n",
      "Files w 0 non-nan rows 42\n"
     ]
    },
    {
     "data": {
      "text/plain": [
       "1367"
      ]
     },
     "execution_count": 19,
     "metadata": {},
     "output_type": "execute_result"
    }
   ],
   "source": [
    "#remove nanrows\n",
    "inds = findnanrows(df_test)\n",
    "df_test=df_test.drop(df_test.index[inds])\n",
    "len(df_test)"
   ]
  },
  {
   "cell_type": "markdown",
   "metadata": {},
   "source": [
    "## Metadata features\n"
   ]
  },
  {
   "cell_type": "code",
   "execution_count": 77,
   "metadata": {
    "collapsed": true
   },
   "outputs": [],
   "source": [
    "# df = df_train\n",
    "df = df_test #to run on df_test"
   ]
  },
  {
   "cell_type": "code",
   "execution_count": 78,
   "metadata": {
    "collapsed": false
   },
   "outputs": [
    {
     "data": {
      "text/plain": [
       "1367"
      ]
     },
     "execution_count": 78,
     "metadata": {},
     "output_type": "execute_result"
    }
   ],
   "source": [
    "len(df)"
   ]
  },
  {
   "cell_type": "code",
   "execution_count": 79,
   "metadata": {
    "collapsed": true
   },
   "outputs": [],
   "source": [
    "X_meta = df[['dataFileHandleId','device','patient','session','site','task','visit','deviceSide']]\n",
    "y_meta = df[symptom_score]"
   ]
  },
  {
   "cell_type": "code",
   "execution_count": 80,
   "metadata": {
    "collapsed": true
   },
   "outputs": [],
   "source": [
    "#encode cat vars with num\n",
    "le = preprocessing.LabelEncoder()\n",
    "X_meta_copy = X_meta.copy()\n",
    "cat_cols = X_meta.select_dtypes(['object']).columns\n",
    "for c in cat_cols:\n",
    "    X_meta_copy[c]=le.fit_transform(X_meta[c])"
   ]
  },
  {
   "cell_type": "code",
   "execution_count": 81,
   "metadata": {
    "collapsed": true
   },
   "outputs": [],
   "source": [
    "X_meta=X_meta_copy\n",
    "Metadata = X_meta_copy #store the metadata alone for later"
   ]
  },
  {
   "cell_type": "code",
   "execution_count": 82,
   "metadata": {
    "collapsed": false
   },
   "outputs": [],
   "source": [
    "#add task duration as another meta variable\n",
    "#durations of tasks\n",
    "c = 0\n",
    "Dur = []\n",
    "for f in df.path:\n",
    "    rawdata = pd.read_csv(f,sep='\\t')\n",
    "    t = rawdata.timestamp\n",
    "    t = t-t[0]\n",
    "    rawdata.timestamp = t\n",
    "    Dur.append(rawdata.timestamp.iloc[-1])\n",
    "    c+=1\n",
    "Dur = np.asarray(Dur)\n",
    "X_meta['Duration']=Dur"
   ]
  },
  {
   "cell_type": "code",
   "execution_count": 83,
   "metadata": {
    "collapsed": false
   },
   "outputs": [],
   "source": [
    "#standardize duration \n",
    "scaler = StandardScaler()\n",
    "X_meta.iloc[:,-1]=scaler.fit_transform(X_meta.iloc[:,-1].values.reshape(-1,1))"
   ]
  },
  {
   "cell_type": "code",
   "execution_count": 84,
   "metadata": {
    "collapsed": false
   },
   "outputs": [],
   "source": [
    "# #drop patient as metafeatures and store for later \n",
    "# groups = X_meta.patient.values\n",
    "# X_meta=X_meta.drop('patient',axis=1)"
   ]
  },
  {
   "cell_type": "code",
   "execution_count": 85,
   "metadata": {
    "collapsed": false
   },
   "outputs": [
    {
     "data": {
      "text/html": [
       "<div>\n",
       "<style>\n",
       "    .dataframe thead tr:only-child th {\n",
       "        text-align: right;\n",
       "    }\n",
       "\n",
       "    .dataframe thead th {\n",
       "        text-align: left;\n",
       "    }\n",
       "\n",
       "    .dataframe tbody tr th {\n",
       "        vertical-align: top;\n",
       "    }\n",
       "</style>\n",
       "<table border=\"1\" class=\"dataframe\">\n",
       "  <thead>\n",
       "    <tr style=\"text-align: right;\">\n",
       "      <th></th>\n",
       "      <th>dataFileHandleId</th>\n",
       "      <th>device</th>\n",
       "      <th>patient</th>\n",
       "      <th>session</th>\n",
       "      <th>site</th>\n",
       "      <th>task</th>\n",
       "      <th>visit</th>\n",
       "      <th>deviceSide</th>\n",
       "      <th>Duration</th>\n",
       "    </tr>\n",
       "  </thead>\n",
       "  <tbody>\n",
       "    <tr>\n",
       "      <th>12959_10</th>\n",
       "      <td>17287630</td>\n",
       "      <td>0</td>\n",
       "      <td>4</td>\n",
       "      <td>1</td>\n",
       "      <td>0</td>\n",
       "      <td>0</td>\n",
       "      <td>1</td>\n",
       "      <td>1</td>\n",
       "      <td>0.206077</td>\n",
       "    </tr>\n",
       "    <tr>\n",
       "      <th>12960_10</th>\n",
       "      <td>17287634</td>\n",
       "      <td>1</td>\n",
       "      <td>4</td>\n",
       "      <td>1</td>\n",
       "      <td>0</td>\n",
       "      <td>0</td>\n",
       "      <td>1</td>\n",
       "      <td>0</td>\n",
       "      <td>0.206077</td>\n",
       "    </tr>\n",
       "    <tr>\n",
       "      <th>12961_10</th>\n",
       "      <td>17287639</td>\n",
       "      <td>0</td>\n",
       "      <td>4</td>\n",
       "      <td>1</td>\n",
       "      <td>0</td>\n",
       "      <td>1</td>\n",
       "      <td>1</td>\n",
       "      <td>1</td>\n",
       "      <td>1.740564</td>\n",
       "    </tr>\n",
       "    <tr>\n",
       "      <th>12962_10</th>\n",
       "      <td>17287642</td>\n",
       "      <td>1</td>\n",
       "      <td>4</td>\n",
       "      <td>1</td>\n",
       "      <td>0</td>\n",
       "      <td>1</td>\n",
       "      <td>1</td>\n",
       "      <td>0</td>\n",
       "      <td>1.740564</td>\n",
       "    </tr>\n",
       "    <tr>\n",
       "      <th>12964_10</th>\n",
       "      <td>17287650</td>\n",
       "      <td>1</td>\n",
       "      <td>4</td>\n",
       "      <td>1</td>\n",
       "      <td>0</td>\n",
       "      <td>2</td>\n",
       "      <td>1</td>\n",
       "      <td>0</td>\n",
       "      <td>-0.848883</td>\n",
       "    </tr>\n",
       "  </tbody>\n",
       "</table>\n",
       "</div>"
      ],
      "text/plain": [
       "          dataFileHandleId  device  patient  session  site  task  visit  \\\n",
       "12959_10          17287630       0        4        1     0     0      1   \n",
       "12960_10          17287634       1        4        1     0     0      1   \n",
       "12961_10          17287639       0        4        1     0     1      1   \n",
       "12962_10          17287642       1        4        1     0     1      1   \n",
       "12964_10          17287650       1        4        1     0     2      1   \n",
       "\n",
       "          deviceSide  Duration  \n",
       "12959_10           1  0.206077  \n",
       "12960_10           0  0.206077  \n",
       "12961_10           1  1.740564  \n",
       "12962_10           0  1.740564  \n",
       "12964_10           0 -0.848883  "
      ]
     },
     "execution_count": 85,
     "metadata": {},
     "output_type": "execute_result"
    }
   ],
   "source": [
    "X_meta.head()"
   ]
  },
  {
   "cell_type": "code",
   "execution_count": 24,
   "metadata": {
    "collapsed": true
   },
   "outputs": [],
   "source": [
    "#save dataframe\n",
    "# df.to_csv('./DataFrames/metadf_test_brady.csv')\n",
    "# df.to_csv('./DataFrames/metadf_train_brady.csv')"
   ]
  },
  {
   "cell_type": "code",
   "execution_count": 87,
   "metadata": {
    "collapsed": true
   },
   "outputs": [],
   "source": [
    "#save numeric metadata features\n",
    "# X_meta.to_csv('metadfnum_train_brady.csv',index=False)\n",
    "X_meta.to_csv('metadfnum_test_brady.csv',index=False)"
   ]
  },
  {
   "cell_type": "markdown",
   "metadata": {},
   "source": [
    "## Compute surprise score"
   ]
  },
  {
   "cell_type": "code",
   "execution_count": 27,
   "metadata": {
    "collapsed": true
   },
   "outputs": [],
   "source": [
    "#feature extraction\n",
    "#INPUT: raw x,y,z accelerometer data (dataframe)\n",
    "def feature_extraction(rawdata):\n",
    "    \n",
    "    #drop time and magnitude feature\n",
    "    rawdata_wtime = rawdata.copy()\n",
    "    rawdata=rawdata.iloc[:,1:4]\n",
    "    \n",
    "    features_list = ['EX','EY','EZ','rangeX','rangeY','rangeZ','meanX','meanY','meanZ','varX','varY','varZ',\n",
    "                    'skewX','skewY','skewZ','kurtX','kurtY','kurtZ','xcor_peakXY','xcorr_peakXZ','xcorr_peakYZ',\n",
    "                    'xcorr_lagXY','xcorr_lagXZ','xcorr_lagYZ','Dom_freq','Pdom_rel','PSD_mean','PSD_std','PSD_skew',\n",
    "                    'PSD_kur','jerk_mean','jerk_std','jerk_skew','jerk_kur']\n",
    "    \n",
    "\n",
    "    #cycle through all clips for current trial and save dataframe of features for current trial and sensor\n",
    "    features = []\n",
    "\n",
    "    #extract features on current clip\n",
    "\n",
    "    #Energy of signal on each axis\n",
    "    E = np.asarray(np.sum(rawdata**2,axis=0))\n",
    "\n",
    "    #range on each axis\n",
    "    min_xyz = np.min(rawdata,axis=0)\n",
    "    max_xyz = np.max(rawdata,axis=0)\n",
    "    r = np.asarray(max_xyz-min_xyz)\n",
    "\n",
    "    #Moments on each axis\n",
    "    mean = np.asarray(np.mean(rawdata,axis=0))\n",
    "    var = np.asarray(np.std(rawdata,axis=0))\n",
    "    sk = skew(rawdata)\n",
    "    kurt = kurtosis(rawdata)\n",
    "\n",
    "    #Cross-correlation between axes pairs\n",
    "    xcorr_xy = np.correlate(rawdata.iloc[:,0],rawdata.iloc[:,1],mode='same')\n",
    "    xcorr_xy = xcorr_xy/np.sum(xcorr_xy) #normalize values\n",
    "    xcorr_peak_xy = np.max(xcorr_xy)\n",
    "    xcorr_lag_xy = (np.argmax(xcorr_xy))/len(xcorr_xy) #normalized lag\n",
    "\n",
    "    xcorr_xz = np.correlate(rawdata.iloc[:,0],rawdata.iloc[:,2],mode='same')\n",
    "    xcorr_xz = xcorr_xz/np.sum(xcorr_xz) #normalize values\n",
    "    xcorr_peak_xz = np.max(xcorr_xz)\n",
    "    xcorr_lag_xz = (np.argmax(xcorr_xz))/len(xcorr_xz)\n",
    "\n",
    "    xcorr_yz = np.correlate(rawdata.iloc[:,1],rawdata.iloc[:,2],mode='same')\n",
    "    xcorr_yz = xcorr_yz/np.sum(xcorr_yz) #normalize values\n",
    "    xcorr_peak_yz = np.max(xcorr_yz)\n",
    "    xcorr_lag_yz = (np.argmax(xcorr_yz))/len(xcorr_yz)\n",
    "\n",
    "    #pack xcorr features\n",
    "    xcorr_peak = np.array([xcorr_peak_xy,xcorr_peak_xz,xcorr_peak_yz])\n",
    "    xcorr_lag = np.array([xcorr_lag_xy,xcorr_lag_xz,xcorr_lag_yz])\n",
    "    \n",
    "    #jerk moments on magnitude\n",
    "    jerk = rawdata.iloc[:,-1].diff().values\n",
    "    jerk_moments = np.array([np.nanmean(jerk),np.nanstd(jerk),skew(jerk[~np.isnan(jerk)]),kurtosis(jerk[~np.isnan(jerk)])])\n",
    "\n",
    "    #Dominant freq and relative magnitude (on acc magnitude)\n",
    "    Pxx = power_spectra_welch(rawdata_wtime,fm=1,fM=10)\n",
    "    domfreq = np.asarray([Pxx.iloc[:,-1].argmax()]) \n",
    "    Pdom_rel = Pxx.loc[domfreq].iloc[:,-1].values/Pxx.iloc[:,-1].sum() #power at dominant freq rel to total\n",
    "    \n",
    "    #moments of PSD\n",
    "    Pxx_moments = np.array([np.nanmean(Pxx.values),np.nanstd(Pxx.values),skew(Pxx.values),kurtosis(Pxx.values)])\n",
    "\n",
    "    #sample entropy raw data and FFT - COMPUTATIONALLY EXPENSIVE - TAKE OUT FOR NOW\n",
    "    sH_raw = []; sH_fft = []\n",
    "    #on magnitude\n",
    "#     x = rawdata.iloc[:,-1]\n",
    "#     n = len(x) #number of samples in clip\n",
    "#     Fs = np.mean(1/(np.diff(x.index)/1000)) #sampling rate in clip\n",
    "#     sH_raw=nolds.sampen(x) #samp entr raw magnitude\n",
    "#     f,Pxx_den = welch(x,Fs,nperseg=min(256,n/4))\n",
    "#     sH_fft=(nolds.sampen(Pxx_den)) #samp entr fft\n",
    "#     #Sen on each axis\n",
    "#     for a in range(3):\n",
    "#         x = rawdata.iloc[:,a]\n",
    "#         n = len(x) #number of samples in clip\n",
    "#         Fs = np.mean(1/(np.diff(rawdata_wtime.timestamp))) #sampling rate in clip\n",
    "#         sH_raw.append(nolds.sampen(x)) #samp entr raw data\n",
    "#         f,Pxx_den = welch(x,Fs,nperseg=min(256,n/4))\n",
    "#         sH_fft.append(nolds.sampen(Pxx_den)) #samp entr fft\n",
    "\n",
    "    #Assemble features in array\n",
    "    X = np.concatenate((E,r,mean,var,sk,kurt,xcorr_peak,xcorr_lag,domfreq,Pdom_rel,Pxx_moments,jerk_moments,sH_raw,sH_fft))\n",
    "#                 X = X.reshape(1,X.shape[0])\n",
    "    features.append(X)\n",
    "\n",
    "    F = np.asarray(features) #feature matrix for all clips from current trial\n",
    "    return F,features_list"
   ]
  },
  {
   "cell_type": "code",
   "execution_count": 86,
   "metadata": {
    "collapsed": false
   },
   "outputs": [],
   "source": [
    "#load metadata\n",
    "# Metadata = pd.read_csv('metadfnum_train_brady.csv')\n",
    "Metadata = pd.read_csv('metadfnum_test_brady.csv')\n",
    "Metadata.index = df_test.index"
   ]
  },
  {
   "cell_type": "code",
   "execution_count": 87,
   "metadata": {
    "collapsed": false
   },
   "outputs": [
    {
     "data": {
      "text/html": [
       "<div>\n",
       "<style>\n",
       "    .dataframe thead tr:only-child th {\n",
       "        text-align: right;\n",
       "    }\n",
       "\n",
       "    .dataframe thead th {\n",
       "        text-align: left;\n",
       "    }\n",
       "\n",
       "    .dataframe tbody tr th {\n",
       "        vertical-align: top;\n",
       "    }\n",
       "</style>\n",
       "<table border=\"1\" class=\"dataframe\">\n",
       "  <thead>\n",
       "    <tr style=\"text-align: right;\">\n",
       "      <th></th>\n",
       "      <th>dataFileHandleId</th>\n",
       "      <th>device</th>\n",
       "      <th>patient</th>\n",
       "      <th>session</th>\n",
       "      <th>site</th>\n",
       "      <th>task</th>\n",
       "      <th>visit</th>\n",
       "      <th>deviceSide</th>\n",
       "      <th>Duration</th>\n",
       "    </tr>\n",
       "  </thead>\n",
       "  <tbody>\n",
       "    <tr>\n",
       "      <th>12959_10</th>\n",
       "      <td>17287630</td>\n",
       "      <td>0</td>\n",
       "      <td>4</td>\n",
       "      <td>1</td>\n",
       "      <td>0</td>\n",
       "      <td>0</td>\n",
       "      <td>1</td>\n",
       "      <td>1</td>\n",
       "      <td>0.206077</td>\n",
       "    </tr>\n",
       "    <tr>\n",
       "      <th>12960_10</th>\n",
       "      <td>17287634</td>\n",
       "      <td>1</td>\n",
       "      <td>4</td>\n",
       "      <td>1</td>\n",
       "      <td>0</td>\n",
       "      <td>0</td>\n",
       "      <td>1</td>\n",
       "      <td>0</td>\n",
       "      <td>0.206077</td>\n",
       "    </tr>\n",
       "    <tr>\n",
       "      <th>12961_10</th>\n",
       "      <td>17287639</td>\n",
       "      <td>0</td>\n",
       "      <td>4</td>\n",
       "      <td>1</td>\n",
       "      <td>0</td>\n",
       "      <td>1</td>\n",
       "      <td>1</td>\n",
       "      <td>1</td>\n",
       "      <td>1.740564</td>\n",
       "    </tr>\n",
       "    <tr>\n",
       "      <th>12962_10</th>\n",
       "      <td>17287642</td>\n",
       "      <td>1</td>\n",
       "      <td>4</td>\n",
       "      <td>1</td>\n",
       "      <td>0</td>\n",
       "      <td>1</td>\n",
       "      <td>1</td>\n",
       "      <td>0</td>\n",
       "      <td>1.740564</td>\n",
       "    </tr>\n",
       "    <tr>\n",
       "      <th>12964_10</th>\n",
       "      <td>17287650</td>\n",
       "      <td>1</td>\n",
       "      <td>4</td>\n",
       "      <td>1</td>\n",
       "      <td>0</td>\n",
       "      <td>2</td>\n",
       "      <td>1</td>\n",
       "      <td>0</td>\n",
       "      <td>-0.848883</td>\n",
       "    </tr>\n",
       "  </tbody>\n",
       "</table>\n",
       "</div>"
      ],
      "text/plain": [
       "          dataFileHandleId  device  patient  session  site  task  visit  \\\n",
       "12959_10          17287630       0        4        1     0     0      1   \n",
       "12960_10          17287634       1        4        1     0     0      1   \n",
       "12961_10          17287639       0        4        1     0     1      1   \n",
       "12962_10          17287642       1        4        1     0     1      1   \n",
       "12964_10          17287650       1        4        1     0     2      1   \n",
       "\n",
       "          deviceSide  Duration  \n",
       "12959_10           1  0.206077  \n",
       "12960_10           0  0.206077  \n",
       "12961_10           1  1.740564  \n",
       "12962_10           0  1.740564  \n",
       "12964_10           0 -0.848883  "
      ]
     },
     "execution_count": 87,
     "metadata": {},
     "output_type": "execute_result"
    }
   ],
   "source": [
    "Metadata.head()"
   ]
  },
  {
   "cell_type": "code",
   "execution_count": 88,
   "metadata": {
    "collapsed": true
   },
   "outputs": [],
   "source": [
    "df_train_num = df_test.copy()\n",
    "# df_train_num = df_train.copy()"
   ]
  },
  {
   "cell_type": "code",
   "execution_count": 89,
   "metadata": {
    "collapsed": false
   },
   "outputs": [],
   "source": [
    "df_train_num[['device', 'patient', 'session', 'site', 'task', 'visit', 'deviceSide', 'Duration']] = Metadata.iloc[:,1:]"
   ]
  },
  {
   "cell_type": "code",
   "execution_count": 90,
   "metadata": {
    "collapsed": false
   },
   "outputs": [
    {
     "data": {
      "text/html": [
       "<div>\n",
       "<style>\n",
       "    .dataframe thead tr:only-child th {\n",
       "        text-align: right;\n",
       "    }\n",
       "\n",
       "    .dataframe thead th {\n",
       "        text-align: left;\n",
       "    }\n",
       "\n",
       "    .dataframe tbody tr th {\n",
       "        vertical-align: top;\n",
       "    }\n",
       "</style>\n",
       "<table border=\"1\" class=\"dataframe\">\n",
       "  <thead>\n",
       "    <tr style=\"text-align: right;\">\n",
       "      <th></th>\n",
       "      <th>dataFileHandleId</th>\n",
       "      <th>device</th>\n",
       "      <th>patient</th>\n",
       "      <th>session</th>\n",
       "      <th>site</th>\n",
       "      <th>task</th>\n",
       "      <th>visit</th>\n",
       "      <th>deviceSide</th>\n",
       "      <th>tremorScore</th>\n",
       "      <th>dyskinesiaScore</th>\n",
       "      <th>bradykinesiaScore</th>\n",
       "      <th>path</th>\n",
       "      <th>Duration</th>\n",
       "    </tr>\n",
       "  </thead>\n",
       "  <tbody>\n",
       "    <tr>\n",
       "      <th>12959_10</th>\n",
       "      <td>17287630</td>\n",
       "      <td>0</td>\n",
       "      <td>4</td>\n",
       "      <td>1</td>\n",
       "      <td>0</td>\n",
       "      <td>0</td>\n",
       "      <td>1</td>\n",
       "      <td>1</td>\n",
       "      <td>Score</td>\n",
       "      <td>NotApplicable</td>\n",
       "      <td>Score</td>\n",
       "      <td>/Users/luca/Projects/DREAM_PD/Code/Data/630/17...</td>\n",
       "      <td>0.206077</td>\n",
       "    </tr>\n",
       "    <tr>\n",
       "      <th>12960_10</th>\n",
       "      <td>17287634</td>\n",
       "      <td>1</td>\n",
       "      <td>4</td>\n",
       "      <td>1</td>\n",
       "      <td>0</td>\n",
       "      <td>0</td>\n",
       "      <td>1</td>\n",
       "      <td>0</td>\n",
       "      <td>Score</td>\n",
       "      <td>NotApplicable</td>\n",
       "      <td>Score</td>\n",
       "      <td>/Users/luca/Projects/DREAM_PD/Code/Data/634/17...</td>\n",
       "      <td>0.206077</td>\n",
       "    </tr>\n",
       "    <tr>\n",
       "      <th>12961_10</th>\n",
       "      <td>17287639</td>\n",
       "      <td>0</td>\n",
       "      <td>4</td>\n",
       "      <td>1</td>\n",
       "      <td>0</td>\n",
       "      <td>1</td>\n",
       "      <td>1</td>\n",
       "      <td>1</td>\n",
       "      <td>Score</td>\n",
       "      <td>NotApplicable</td>\n",
       "      <td>Score</td>\n",
       "      <td>/Users/luca/Projects/DREAM_PD/Code/Data/639/17...</td>\n",
       "      <td>1.740564</td>\n",
       "    </tr>\n",
       "    <tr>\n",
       "      <th>12962_10</th>\n",
       "      <td>17287642</td>\n",
       "      <td>1</td>\n",
       "      <td>4</td>\n",
       "      <td>1</td>\n",
       "      <td>0</td>\n",
       "      <td>1</td>\n",
       "      <td>1</td>\n",
       "      <td>0</td>\n",
       "      <td>Score</td>\n",
       "      <td>NotApplicable</td>\n",
       "      <td>Score</td>\n",
       "      <td>/Users/luca/Projects/DREAM_PD/Code/Data/642/17...</td>\n",
       "      <td>1.740564</td>\n",
       "    </tr>\n",
       "    <tr>\n",
       "      <th>12964_10</th>\n",
       "      <td>17287650</td>\n",
       "      <td>1</td>\n",
       "      <td>4</td>\n",
       "      <td>1</td>\n",
       "      <td>0</td>\n",
       "      <td>2</td>\n",
       "      <td>1</td>\n",
       "      <td>0</td>\n",
       "      <td>Score</td>\n",
       "      <td>NotApplicable</td>\n",
       "      <td>Score</td>\n",
       "      <td>/Users/luca/Projects/DREAM_PD/Code/Data/650/17...</td>\n",
       "      <td>-0.848883</td>\n",
       "    </tr>\n",
       "  </tbody>\n",
       "</table>\n",
       "</div>"
      ],
      "text/plain": [
       "          dataFileHandleId  device  patient  session  site  task  visit  \\\n",
       "12959_10          17287630       0        4        1     0     0      1   \n",
       "12960_10          17287634       1        4        1     0     0      1   \n",
       "12961_10          17287639       0        4        1     0     1      1   \n",
       "12962_10          17287642       1        4        1     0     1      1   \n",
       "12964_10          17287650       1        4        1     0     2      1   \n",
       "\n",
       "          deviceSide tremorScore dyskinesiaScore bradykinesiaScore  \\\n",
       "12959_10           1       Score   NotApplicable             Score   \n",
       "12960_10           0       Score   NotApplicable             Score   \n",
       "12961_10           1       Score   NotApplicable             Score   \n",
       "12962_10           0       Score   NotApplicable             Score   \n",
       "12964_10           0       Score   NotApplicable             Score   \n",
       "\n",
       "                                                       path  Duration  \n",
       "12959_10  /Users/luca/Projects/DREAM_PD/Code/Data/630/17...  0.206077  \n",
       "12960_10  /Users/luca/Projects/DREAM_PD/Code/Data/634/17...  0.206077  \n",
       "12961_10  /Users/luca/Projects/DREAM_PD/Code/Data/639/17...  1.740564  \n",
       "12962_10  /Users/luca/Projects/DREAM_PD/Code/Data/642/17...  1.740564  \n",
       "12964_10  /Users/luca/Projects/DREAM_PD/Code/Data/650/17... -0.848883  "
      ]
     },
     "execution_count": 90,
     "metadata": {},
     "output_type": "execute_result"
    }
   ],
   "source": [
    "df_train_num.head()"
   ]
  },
  {
   "cell_type": "markdown",
   "metadata": {},
   "source": [
    "### Computing features on 5 secs windows of data (train or test)"
   ]
  },
  {
   "cell_type": "code",
   "execution_count": 44,
   "metadata": {
    "collapsed": false
   },
   "outputs": [
    {
     "data": {
      "text/plain": [
       "'bradykinesiaScore'"
      ]
     },
     "execution_count": 44,
     "metadata": {},
     "output_type": "execute_result"
    }
   ],
   "source": [
    "symptom_score"
   ]
  },
  {
   "cell_type": "code",
   "execution_count": 97,
   "metadata": {
    "collapsed": false
   },
   "outputs": [
    {
     "name": "stdout",
     "output_type": "stream",
     "text": [
      "0\n",
      "1000\n",
      "Elapsed Time:[s] 151.7\n",
      "Files w nans: 83\n",
      "Files w 0 non-nan rows 0\n",
      "Tot rows: 1367\n"
     ]
    }
   ],
   "source": [
    "# def svmscores(df_train_num):\n",
    "\n",
    "row = 0\n",
    "nans_found=0; n_empty=0\n",
    "max_nans = []\n",
    "Features = []; \n",
    "Scores = []\n",
    "Subjs = []\n",
    "DataFiles = []\n",
    "t1 = time.time()\n",
    "# for f in df_train.path:\n",
    "for i in range(len(df_train_num)):\n",
    "\n",
    "    f = df_train_num.iloc[i,:].path\n",
    "    metadata = pd.to_numeric(df_train_num.iloc[i,:][['device', 'session', 'site', 'task', 'visit', 'deviceSide', 'Duration']]).values\n",
    "    score = df_train_num.iloc[i,:][symptom_score]\n",
    "    subj = df_train_num.iloc[i,:].patient\n",
    "    dfile = df_train_num.iloc[i,:].dataFileHandleId\n",
    "    if row%1000==0:\n",
    "        print(row)\n",
    "    rawdata = pd.read_csv(f,sep='\\t') #load file\n",
    "\n",
    "    #remove nans\n",
    "    rawdata = rawdata.astype('float64') #make sure everything is float\n",
    "    if sum(np.sum(rawdata.isnull())) > 0:\n",
    "        nans_found+=1 # of files w nans\n",
    "        if np.sum(rawdata.isnull()).max() < len(rawdata):\n",
    "            max_nans.append((np.sum(rawdata.isnull()).max())/len(rawdata))\n",
    "        rawdata = rawdata.dropna() #drop nans\n",
    "\n",
    "    #compute features if at least one data point is there\n",
    "    if rawdata.empty != True:\n",
    "        #reindex timestamp data relative to start \n",
    "        t = rawdata.timestamp\n",
    "        t = t-t.iloc[0]\n",
    "        rawdata.timestamp = t\n",
    "\n",
    "        #HP filter data (remove gravity)\n",
    "        rawdata = filter_signal(rawdata,order=2)\n",
    "\n",
    "        #compute features on each clip and stats over clips\n",
    "        try:\n",
    "            Fclips=[]\n",
    "            clips = gen_clips(rawdata,clipsize=5,overlap=0.5) #take clips\n",
    "            for clip in clips:\n",
    "                F,flist = feature_extraction(clip)\n",
    "                F = np.append(metadata,F)\n",
    "                F = np.reshape(F,(1,-1))\n",
    "                Features.append(F) #the features from all the clips\n",
    "                Scores.append(score)\n",
    "                Subjs.append(subj)\n",
    "                DataFiles.append(dfile)\n",
    "        except(TypeError):\n",
    "            print('found incompatible datatype')\n",
    "\n",
    "    else:\n",
    "        F = np.empty((1,len(flist)+7)) #empty array of features\n",
    "        F[:]=np.nan\n",
    "        Features.append(F)\n",
    "        n_empty+=1\n",
    "\n",
    "    row+=1\n",
    "\n",
    "elapsed = time.time()-t1\n",
    "print('Elapsed Time:[s] %.1f'%elapsed)\n",
    "print('Files w nans: %d'%nans_found)\n",
    "print('Files w 0 non-nan rows %d'%n_empty)\n",
    "print('Tot rows: %d'%row)"
   ]
  },
  {
   "cell_type": "markdown",
   "metadata": {},
   "source": [
    "## Prepping train and test data "
   ]
  },
  {
   "cell_type": "code",
   "execution_count": 98,
   "metadata": {
    "collapsed": false
   },
   "outputs": [
    {
     "name": "stdout",
     "output_type": "stream",
     "text": [
      "(15883, 41)\n"
     ]
    }
   ],
   "source": [
    "isTrain = False\n",
    "\n",
    "tempFeatures = Features\n",
    "if isTrain:\n",
    "    Features_Train = tempFeatures\n",
    "    Features_Train = np.asarray(Features_Train)\n",
    "    Features_Train = Features_Train.squeeze(axis=1)\n",
    "    print(Features_Train.shape)\n",
    "\n",
    "    NAFeat_Train = pd.DataFrame(Features_Train).dropna()\n",
    "    SVMScores = pd.DataFrame(np.zeros((len(NAFeat_Train.iloc[:,1]),1)))\n",
    "    TrainScores = np.array(Scores)\n",
    "else:\n",
    "    Features_Test = tempFeatures\n",
    "    Features_Test = np.asarray(Features_Test)\n",
    "    Features_Test = Features_Test.squeeze(axis=1)\n",
    "    print(Features_Test.shape)\n",
    "\n",
    "    NAFeat_Test = pd.DataFrame(Features_Test).dropna()\n",
    "    SVMScores = pd.DataFrame(np.zeros((len(NAFeat_Test.iloc[:,1]),1)))\n",
    "    TestScores = np.array(Scores)\n",
    "\n"
   ]
  },
  {
   "cell_type": "code",
   "execution_count": 103,
   "metadata": {
    "collapsed": false
   },
   "outputs": [
    {
     "data": {
      "text/plain": [
       "(15883, 41)"
      ]
     },
     "execution_count": 103,
     "metadata": {},
     "output_type": "execute_result"
    }
   ],
   "source": [
    "Features_Test.shape"
   ]
  },
  {
   "cell_type": "code",
   "execution_count": null,
   "metadata": {
    "collapsed": false
   },
   "outputs": [],
   "source": [
    "# Test Set\n",
    "# Features = tempFeatures\n",
    "# Features = np.asarray(Features)\n",
    "# Features = Features.squeeze(axis=1)\n",
    "# print(Features.shape)\n",
    "\n",
    "# NAFeat = pd.DataFrame(Features).dropna()\n",
    "# SVMScores = pd.DataFrame(np.zeros((len(NAFeat.iloc[:,1]),1)))\n",
    "# Scores = np.array(Scores)\n",
    "\n",
    "# Filter Data and remove Nans\n",
    "Train = pd.DataFrame(NAFeat_Train.values)\n",
    "Test = pd.DataFrame(NAFeat_Test.values)\n",
    "\n",
    "TrainScores\n",
    "TestScores = Scores\n",
    "\n",
    "scaler = StandardScaler()\n",
    "Train.iloc[:,6:]=scaler.fit_transform(Train.iloc[:,6:])\n",
    "Test.iloc[:,6:]=scaler.transform(Test.iloc[:,6:])\n",
    "\n",
    "ZScoreID = TrainScores==0\n",
    "\n",
    "# svc = OneClassSVM(kernel='rbf', nu=.05) #tremor\n",
    "#     svc = OneClassSVM(kernel='rbf', nu=.1) # dyskinesia\n",
    "svc.fit(Train.values[ZScoreID,:])\n",
    "\n",
    "SVMScores.values[test_index] = svc.decision_function(Test.values)\n",
    "\n",
    "DataFiles = pd.Series(DataFiles)\n",
    "IDs = pd.DataFrame(df_test.dataFileHandleId)\n",
    "SVMScoreMax = []\n",
    "SVMScoreMin = []\n",
    "SVMScoreMedian = []\n",
    "SVMScore75 = []\n",
    "SVMScore25 = []\n",
    "SVMScoreMean = []\n",
    "SVMScoreStd = []\n",
    "for row in IDs.itertuples():\n",
    "    index = DataFiles == row[1]\n",
    "    if not any(index):\n",
    "        continue\n",
    "    SVMScoreMax.append(np.max(SVMScores[index]))\n",
    "    SVMScoreMin.append(np.min(SVMScores[index]))\n",
    "    SVMScoreMedian.append(np.median(SVMScores[index]))\n",
    "    SVMScore75.append(np.percentile(SVMScores[index],3))\n",
    "    SVMScore25.append(np.percentile(SVMScores[index],2))\n",
    "    SVMScoreMean.append(np.mean(SVMScores[index]))\n",
    "    SVMScoreStd.append(np.std(SVMScores[index]))\n",
    "    \n",
    "#convert them to 1D numpy array\n",
    "SVMScoreMax=np.squeeze(SVMScoreMax)\n",
    "SVMScoreMin=np.squeeze(SVMScoreMin)\n",
    "SVMScoreMedian=np.squeeze(SVMScoreMedian)\n",
    "SVMScoreMean=np.squeeze(SVMScoreMean)\n",
    "SVMScoreStd=np.squeeze(SVMScoreStd)\n",
    "SVMScore25=np.squeeze(SVMScore25)\n",
    "SVMScore75=np.squeeze(SVMScore75)\n",
    "\n",
    "# return pd.DataFrame(data=[np.asarray([SVMScoreMax,SVMScoreMin,])]) "
   ]
  },
  {
   "cell_type": "code",
   "execution_count": 104,
   "metadata": {
    "collapsed": false
   },
   "outputs": [
    {
     "data": {
      "text/plain": [
       "31541"
      ]
     },
     "execution_count": 104,
     "metadata": {},
     "output_type": "execute_result"
    }
   ],
   "source": [
    "len(TrainScores)"
   ]
  },
  {
   "cell_type": "code",
   "execution_count": 66,
   "metadata": {
    "collapsed": false
   },
   "outputs": [
    {
     "name": "stdout",
     "output_type": "stream",
     "text": [
      "(33399, 41)\n",
      "[0]\n",
      "[1]\n",
      "[2]\n",
      "[3]\n",
      "[4]\n",
      "[5]\n",
      "[6]\n",
      "[7]\n",
      "[8]\n",
      "[9]\n",
      "[10]\n",
      "[11]\n",
      "[12]\n",
      "[13]\n",
      "[14]\n",
      "[15]\n",
      "[16]\n",
      "[17]\n",
      "[18]\n"
     ]
    }
   ],
   "source": [
    "# Train set\n",
    "Features = tempFeatures\n",
    "Features = np.asarray(Features)\n",
    "Features = Features.squeeze(axis=1)\n",
    "print(Features.shape)\n",
    "\n",
    "NAFeat = pd.DataFrame(Features).dropna()\n",
    "SVMScores = pd.DataFrame(np.zeros((len(NAFeat.iloc[:,1]),1)))\n",
    "Scores = np.array(Scores)\n",
    "\n",
    "logo = LeaveOneGroupOut()\n",
    "for train_index, test_index in logo.split(X = NAFeat, groups = Subjs):\n",
    "\n",
    "    print(np.unique(np.array(Subjs)[test_index]))\n",
    "\n",
    "    # Filter Data and remove Nans\n",
    "    Train = pd.DataFrame(NAFeat.values[train_index,:])\n",
    "    Test = pd.DataFrame(NAFeat.values[test_index,:])\n",
    "\n",
    "    TrainScores = Scores[train_index]\n",
    "    TestScores = Scores[test_index]\n",
    "\n",
    "    scaler = StandardScaler()\n",
    "    Train.iloc[:,6:]=scaler.fit_transform(Train.iloc[:,6:])\n",
    "    Test.iloc[:,6:]=scaler.transform(Test.iloc[:,6:])\n",
    "\n",
    "    ZScoreID = TrainScores==0\n",
    "\n",
    "    svc = OneClassSVM(kernel='rbf', nu=.1)\n",
    "#     svc = OneClassSVM(kernel='rbf', nu=.2) # dyskinesia\n",
    "    svc.fit(Train.values[ZScoreID,:])\n",
    "\n",
    "    SVMScores.values[test_index] = svc.decision_function(Test.values)\n",
    "\n",
    "DataFiles = pd.Series(DataFiles)\n",
    "IDs = pd.DataFrame(df_train.dataFileHandleId)\n",
    "SVMScoreMax = []\n",
    "SVMScoreMin = []\n",
    "SVMScoreMedian = []\n",
    "SVMScore75 = []\n",
    "SVMScore25 = []\n",
    "SVMScoreMean = []\n",
    "SVMScoreStd = []\n",
    "for row in IDs.itertuples():\n",
    "    index = DataFiles == row[1]\n",
    "    if not any(index):\n",
    "        continue\n",
    "    SVMScoreMax.append(np.max(SVMScores[index]))\n",
    "    SVMScoreMin.append(np.min(SVMScores[index]))\n",
    "    SVMScoreMedian.append(np.median(SVMScores[index]))\n",
    "    SVMScore75.append(np.percentile(SVMScores[index],3))\n",
    "    SVMScore25.append(np.percentile(SVMScores[index],2))\n",
    "    SVMScoreMean.append(np.mean(SVMScores[index]))\n",
    "    SVMScoreStd.append(np.std(SVMScores[index]))\n",
    "    \n",
    "#convert them to 1D numpy array\n",
    "SVMScoreMax=np.squeeze(SVMScoreMax)\n",
    "SVMScoreMin=np.squeeze(SVMScoreMin)\n",
    "SVMScoreMedian=np.squeeze(SVMScoreMedian)\n",
    "SVMScoreMean=np.squeeze(SVMScoreMean)\n",
    "SVMScoreStd=np.squeeze(SVMScoreStd)\n",
    "SVMScore25=np.squeeze(SVMScore25)\n",
    "SVMScore75=np.squeeze(SVMScore75)\n",
    "\n",
    "# return pd.DataFrame(data=[np.asarray([SVMScoreMax,SVMScoreMin,])]) "
   ]
  },
  {
   "cell_type": "code",
   "execution_count": 67,
   "metadata": {
    "collapsed": false
   },
   "outputs": [
    {
     "data": {
      "text/plain": [
       "(2913, 12)"
      ]
     },
     "execution_count": 67,
     "metadata": {},
     "output_type": "execute_result"
    }
   ],
   "source": [
    "df_train.shape"
   ]
  },
  {
   "cell_type": "code",
   "execution_count": 68,
   "metadata": {
    "collapsed": false
   },
   "outputs": [
    {
     "data": {
      "text/plain": [
       "(2913,)"
      ]
     },
     "execution_count": 68,
     "metadata": {},
     "output_type": "execute_result"
    }
   ],
   "source": [
    "SVMScoreMin.shape"
   ]
  },
  {
   "cell_type": "code",
   "execution_count": 69,
   "metadata": {
    "collapsed": false,
    "scrolled": true
   },
   "outputs": [
    {
     "data": {
      "text/plain": [
       "<matplotlib.axes._subplots.AxesSubplot at 0x119980fd0>"
      ]
     },
     "execution_count": 69,
     "metadata": {},
     "output_type": "execute_result"
    },
    {
     "data": {
      "image/png": "[encoded data removed]",
      "text/plain": [
       "<matplotlib.figure.Figure at 0x104528fd0>"
      ]
     },
     "metadata": {},
     "output_type": "display_data"
    }
   ],
   "source": [
    "sns.distplot(SVMScoreMin[(df_train[symptom_score]==0).values])"
   ]
  },
  {
   "cell_type": "code",
   "execution_count": 70,
   "metadata": {
    "collapsed": false
   },
   "outputs": [
    {
     "data": {
      "text/plain": [
       "<matplotlib.axes._subplots.AxesSubplot at 0x11880f668>"
      ]
     },
     "execution_count": 70,
     "metadata": {},
     "output_type": "execute_result"
    },
    {
     "data": {
      "image/png": "[encoded data removed]",
      "text/plain": [
       "<matplotlib.figure.Figure at 0x109f0ecf8>"
      ]
     },
     "metadata": {},
     "output_type": "display_data"
    }
   ],
   "source": [
    "sns.distplot(SVMScoreMin[(df_train[symptom_score]>0).values])"
   ]
  },
  {
   "cell_type": "code",
   "execution_count": 71,
   "metadata": {
    "collapsed": false
   },
   "outputs": [],
   "source": [
    "sscores=pd.DataFrame(data={'SVMScoreMax':SVMScoreMax,'SVMScoreMin':SVMScoreMin,'SVMScoreMedian':SVMScoreMedian,\n",
    "                  'SVMScoreMean':SVMScoreMean,'SVMScoreStd':SVMScoreStd,'SVMScore25':SVMScore25,'SVMScore75':SVMScore75}) "
   ]
  },
  {
   "cell_type": "code",
   "execution_count": 72,
   "metadata": {
    "collapsed": true
   },
   "outputs": [],
   "source": [
    "#save the sscores\n",
    "sscores.to_csv('Brady_Train_SScores.csv',index=False)"
   ]
  },
  {
   "cell_type": "code",
   "execution_count": 73,
   "metadata": {
    "collapsed": false
   },
   "outputs": [],
   "source": [
    "sscores.index=Metadata.index\n",
    "X = pd.concat((Metadata,sscores[['SVMScoreMin']]),axis=1)"
   ]
  },
  {
   "cell_type": "code",
   "execution_count": 74,
   "metadata": {
    "collapsed": false
   },
   "outputs": [],
   "source": [
    "X.drop(['patient'],axis=1).to_csv(\"Submission_Brady_Train.csv\",index=False)"
   ]
  },
  {
   "cell_type": "code",
   "execution_count": 75,
   "metadata": {
    "collapsed": false
   },
   "outputs": [
    {
     "name": "stdout",
     "output_type": "stream",
     "text": [
      "Welcome, Luca Lonini!\n",
      "\n",
      "AUPRC: 0.828\n"
     ]
    }
   ],
   "source": [
    "%run sc2FitModels_LOSOCV.py 'bradykinesia' 'SVM_Test3.csv'"
   ]
  },
  {
   "cell_type": "markdown",
   "metadata": {},
   "source": [
    "## Generate Train and Test Submission"
   ]
  },
  {
   "cell_type": "code",
   "execution_count": 161,
   "metadata": {
    "collapsed": true
   },
   "outputs": [],
   "source": [
    "SScores_train = pd.read_csv('Dys_Train_SScores.csv')\n",
    "SScores_test = pd.read_csv('Dys_Test_SScores.csv')"
   ]
  },
  {
   "cell_type": "code",
   "execution_count": 162,
   "metadata": {
    "collapsed": false
   },
   "outputs": [],
   "source": [
    "#take the minimum score (farthest window from hyperplane)\n",
    "SScores_train = SScores_train[['SVMScoreMin']]\n",
    "SScores_test = SScores_test[['SVMScoreMin']]"
   ]
  },
  {
   "cell_type": "code",
   "execution_count": 163,
   "metadata": {
    "collapsed": false
   },
   "outputs": [],
   "source": [
    "#attach metadata\n",
    "Meta_train = pd.read_csv('metadfnum_train_dysk.csv')\n",
    "Meta_test = pd.read_csv('metadfnum_test_dysk.csv')"
   ]
  },
  {
   "cell_type": "code",
   "execution_count": 164,
   "metadata": {
    "collapsed": false
   },
   "outputs": [],
   "source": [
    "Meta_train = Meta_train.drop('patient',axis=1)\n",
    "Meta_test = Meta_test.drop('patient',axis=1)"
   ]
  },
  {
   "cell_type": "code",
   "execution_count": 165,
   "metadata": {
    "collapsed": true
   },
   "outputs": [],
   "source": [
    "#concatenate metadata and SScores\n",
    "SScores = pd.concat((SScores_test,SScores_train),axis=0)"
   ]
  },
  {
   "cell_type": "code",
   "execution_count": 166,
   "metadata": {
    "collapsed": false
   },
   "outputs": [],
   "source": [
    "X_dysk = pd.concat((Meta_test,Meta_train),axis=0)"
   ]
  },
  {
   "cell_type": "code",
   "execution_count": 167,
   "metadata": {
    "collapsed": true
   },
   "outputs": [],
   "source": [
    "X_dysk = pd.concat((X_tremor,SScores),axis=1)"
   ]
  },
  {
   "cell_type": "code",
   "execution_count": 168,
   "metadata": {
    "collapsed": false
   },
   "outputs": [
    {
     "data": {
      "text/html": [
       "<div>\n",
       "<style>\n",
       "    .dataframe thead tr:only-child th {\n",
       "        text-align: right;\n",
       "    }\n",
       "\n",
       "    .dataframe thead th {\n",
       "        text-align: left;\n",
       "    }\n",
       "\n",
       "    .dataframe tbody tr th {\n",
       "        vertical-align: top;\n",
       "    }\n",
       "</style>\n",
       "<table border=\"1\" class=\"dataframe\">\n",
       "  <thead>\n",
       "    <tr style=\"text-align: right;\">\n",
       "      <th></th>\n",
       "      <th>dataFileHandleId</th>\n",
       "      <th>device</th>\n",
       "      <th>session</th>\n",
       "      <th>site</th>\n",
       "      <th>task</th>\n",
       "      <th>visit</th>\n",
       "      <th>deviceSide</th>\n",
       "      <th>Duration</th>\n",
       "      <th>SVMScoreMin</th>\n",
       "    </tr>\n",
       "  </thead>\n",
       "  <tbody>\n",
       "    <tr>\n",
       "      <th>0</th>\n",
       "      <td>17287647</td>\n",
       "      <td>0</td>\n",
       "      <td>1</td>\n",
       "      <td>0</td>\n",
       "      <td>0</td>\n",
       "      <td>1</td>\n",
       "      <td>1</td>\n",
       "      <td>0.590918</td>\n",
       "      <td>16.194559</td>\n",
       "    </tr>\n",
       "    <tr>\n",
       "      <th>1</th>\n",
       "      <td>17287654</td>\n",
       "      <td>0</td>\n",
       "      <td>1</td>\n",
       "      <td>0</td>\n",
       "      <td>1</td>\n",
       "      <td>1</td>\n",
       "      <td>1</td>\n",
       "      <td>-0.747253</td>\n",
       "      <td>-20.809532</td>\n",
       "    </tr>\n",
       "    <tr>\n",
       "      <th>2</th>\n",
       "      <td>17287666</td>\n",
       "      <td>1</td>\n",
       "      <td>1</td>\n",
       "      <td>0</td>\n",
       "      <td>2</td>\n",
       "      <td>1</td>\n",
       "      <td>0</td>\n",
       "      <td>0.590918</td>\n",
       "      <td>49.195197</td>\n",
       "    </tr>\n",
       "    <tr>\n",
       "      <th>3</th>\n",
       "      <td>17287674</td>\n",
       "      <td>1</td>\n",
       "      <td>1</td>\n",
       "      <td>0</td>\n",
       "      <td>3</td>\n",
       "      <td>1</td>\n",
       "      <td>0</td>\n",
       "      <td>-0.747253</td>\n",
       "      <td>-95.660854</td>\n",
       "    </tr>\n",
       "    <tr>\n",
       "      <th>4</th>\n",
       "      <td>17287694</td>\n",
       "      <td>0</td>\n",
       "      <td>1</td>\n",
       "      <td>0</td>\n",
       "      <td>4</td>\n",
       "      <td>1</td>\n",
       "      <td>1</td>\n",
       "      <td>0.590918</td>\n",
       "      <td>-31.149896</td>\n",
       "    </tr>\n",
       "  </tbody>\n",
       "</table>\n",
       "</div>"
      ],
      "text/plain": [
       "   dataFileHandleId  device  session  site  task  visit  deviceSide  Duration  \\\n",
       "0          17287647       0        1     0     0      1           1  0.590918   \n",
       "1          17287654       0        1     0     1      1           1 -0.747253   \n",
       "2          17287666       1        1     0     2      1           0  0.590918   \n",
       "3          17287674       1        1     0     3      1           0 -0.747253   \n",
       "4          17287694       0        1     0     4      1           1  0.590918   \n",
       "\n",
       "   SVMScoreMin  \n",
       "0    16.194559  \n",
       "1   -20.809532  \n",
       "2    49.195197  \n",
       "3   -95.660854  \n",
       "4   -31.149896  "
      ]
     },
     "execution_count": 168,
     "metadata": {},
     "output_type": "execute_result"
    }
   ],
   "source": [
    "X_dysk.head()"
   ]
  },
  {
   "cell_type": "code",
   "execution_count": 169,
   "metadata": {
    "collapsed": true
   },
   "outputs": [],
   "source": [
    "X_dysk.to_csv('./Submissions/Submission_Dysk.csv',index=False)"
   ]
  },
  {
   "cell_type": "markdown",
   "metadata": {},
   "source": [
    "## Stacking classifiers using LOSOCV and metafeatures as inputs\n",
    "Use output posterior probability from each classifier as feature for the classification "
   ]
  },
  {
   "cell_type": "code",
   "execution_count": 104,
   "metadata": {
    "collapsed": true
   },
   "outputs": [],
   "source": [
    "X_meta_train = pd.read_csv('metadfnum_train_brady.csv')\n",
    "X_meta_train.index = df_train.index\n",
    "#drop patient as metafeatures and store for LOSOCV \n",
    "groups_train = X_meta_train.patient.values\n",
    "X_meta_train=X_meta_train.drop('patient',axis=1) #DROP PATIENT"
   ]
  },
  {
   "cell_type": "code",
   "execution_count": 105,
   "metadata": {
    "collapsed": false
   },
   "outputs": [],
   "source": [
    "models = [RandomForestClassifier(n_estimators=100,random_state=2),\n",
    "          GradientBoostingClassifier(n_estimators=100,max_depth=2,random_state=3),\n",
    "          SVC(kernel='rbf',C=1,cache_size=800,probability=True,random_state=3),\n",
    "          XGBClassifier(n_estimators=150,subsample=1,learning_rate=0.5,max_depth=2)\n",
    "         ]\n",
    "model_name = ['Random Forest','Gradient Boosting','SVM','XGB']"
   ]
  },
  {
   "cell_type": "code",
   "execution_count": 106,
   "metadata": {
    "collapsed": false
   },
   "outputs": [
    {
     "data": {
      "text/plain": [
       "2913"
      ]
     },
     "execution_count": 106,
     "metadata": {},
     "output_type": "execute_result"
    }
   ],
   "source": [
    "len(X_meta_train)"
   ]
  },
  {
   "cell_type": "code",
   "execution_count": 107,
   "metadata": {
    "collapsed": false
   },
   "outputs": [
    {
     "data": {
      "text/html": [
       "<div>\n",
       "<style>\n",
       "    .dataframe thead tr:only-child th {\n",
       "        text-align: right;\n",
       "    }\n",
       "\n",
       "    .dataframe thead th {\n",
       "        text-align: left;\n",
       "    }\n",
       "\n",
       "    .dataframe tbody tr th {\n",
       "        vertical-align: top;\n",
       "    }\n",
       "</style>\n",
       "<table border=\"1\" class=\"dataframe\">\n",
       "  <thead>\n",
       "    <tr style=\"text-align: right;\">\n",
       "      <th></th>\n",
       "      <th>dataFileHandleId</th>\n",
       "      <th>device</th>\n",
       "      <th>session</th>\n",
       "      <th>site</th>\n",
       "      <th>task</th>\n",
       "      <th>visit</th>\n",
       "      <th>deviceSide</th>\n",
       "      <th>Duration</th>\n",
       "    </tr>\n",
       "  </thead>\n",
       "  <tbody>\n",
       "    <tr>\n",
       "      <th>25819_22</th>\n",
       "      <td>17286028</td>\n",
       "      <td>0</td>\n",
       "      <td>1</td>\n",
       "      <td>0</td>\n",
       "      <td>0</td>\n",
       "      <td>1</td>\n",
       "      <td>1</td>\n",
       "      <td>1.022774</td>\n",
       "    </tr>\n",
       "    <tr>\n",
       "      <th>25820_22</th>\n",
       "      <td>17286030</td>\n",
       "      <td>1</td>\n",
       "      <td>1</td>\n",
       "      <td>0</td>\n",
       "      <td>0</td>\n",
       "      <td>1</td>\n",
       "      <td>0</td>\n",
       "      <td>1.022774</td>\n",
       "    </tr>\n",
       "  </tbody>\n",
       "</table>\n",
       "</div>"
      ],
      "text/plain": [
       "          dataFileHandleId  device  session  site  task  visit  deviceSide  \\\n",
       "25819_22          17286028       0        1     0     0      1           1   \n",
       "25820_22          17286030       1        1     0     0      1           0   \n",
       "\n",
       "          Duration  \n",
       "25819_22  1.022774  \n",
       "25820_22  1.022774  "
      ]
     },
     "execution_count": 107,
     "metadata": {},
     "output_type": "execute_result"
    }
   ],
   "source": [
    "X_meta_train.head(2)"
   ]
  },
  {
   "cell_type": "code",
   "execution_count": 108,
   "metadata": {
    "collapsed": false
   },
   "outputs": [
    {
     "data": {
      "text/html": [
       "<div>\n",
       "<style>\n",
       "    .dataframe thead tr:only-child th {\n",
       "        text-align: right;\n",
       "    }\n",
       "\n",
       "    .dataframe thead th {\n",
       "        text-align: left;\n",
       "    }\n",
       "\n",
       "    .dataframe tbody tr th {\n",
       "        vertical-align: top;\n",
       "    }\n",
       "</style>\n",
       "<table border=\"1\" class=\"dataframe\">\n",
       "  <thead>\n",
       "    <tr style=\"text-align: right;\">\n",
       "      <th></th>\n",
       "      <th>dataFileHandleId</th>\n",
       "      <th>Random Forest</th>\n",
       "      <th>Gradient Boosting</th>\n",
       "      <th>SVM</th>\n",
       "      <th>XGB</th>\n",
       "    </tr>\n",
       "  </thead>\n",
       "  <tbody>\n",
       "    <tr>\n",
       "      <th>0</th>\n",
       "      <td>17286028</td>\n",
       "      <td>0</td>\n",
       "      <td>0</td>\n",
       "      <td>0</td>\n",
       "      <td>0</td>\n",
       "    </tr>\n",
       "    <tr>\n",
       "      <th>1</th>\n",
       "      <td>17286030</td>\n",
       "      <td>0</td>\n",
       "      <td>0</td>\n",
       "      <td>0</td>\n",
       "      <td>0</td>\n",
       "    </tr>\n",
       "    <tr>\n",
       "      <th>2</th>\n",
       "      <td>17286034</td>\n",
       "      <td>0</td>\n",
       "      <td>0</td>\n",
       "      <td>0</td>\n",
       "      <td>0</td>\n",
       "    </tr>\n",
       "    <tr>\n",
       "      <th>3</th>\n",
       "      <td>17286036</td>\n",
       "      <td>0</td>\n",
       "      <td>0</td>\n",
       "      <td>0</td>\n",
       "      <td>0</td>\n",
       "    </tr>\n",
       "    <tr>\n",
       "      <th>4</th>\n",
       "      <td>17286042</td>\n",
       "      <td>0</td>\n",
       "      <td>0</td>\n",
       "      <td>0</td>\n",
       "      <td>0</td>\n",
       "    </tr>\n",
       "  </tbody>\n",
       "</table>\n",
       "</div>"
      ],
      "text/plain": [
       "   dataFileHandleId  Random Forest  Gradient Boosting  SVM  XGB\n",
       "0          17286028              0                  0    0    0\n",
       "1          17286030              0                  0    0    0\n",
       "2          17286034              0                  0    0    0\n",
       "3          17286036              0                  0    0    0\n",
       "4          17286042              0                  0    0    0"
      ]
     },
     "execution_count": 108,
     "metadata": {},
     "output_type": "execute_result"
    }
   ],
   "source": [
    "#create dataframe to store posterior scores from each clf\n",
    "Fnew = X_meta_train.copy()\n",
    "Fnew=Fnew[['dataFileHandleId']]\n",
    "for m in model_name:\n",
    "    Fnew[m]=0\n",
    "Fnew.index=range(len(Fnew)) #reindex array\n",
    "Fnew.head()"
   ]
  },
  {
   "cell_type": "code",
   "execution_count": 109,
   "metadata": {
    "collapsed": false,
    "scrolled": false
   },
   "outputs": [
    {
     "name": "stdout",
     "output_type": "stream",
     "text": [
      "Training Random Forest\n",
      "Random Forest, mean F1 on training set = 0.894 (+/- 0.003)\n",
      "Random Forest, mean Prec = 0.624 (+/- 0.131)\n",
      "Random Forest, mean Rec = 0.609 (+/- 0.144)\n",
      "Training Gradient Boosting\n",
      "Gradient Boosting, mean F1 on training set = 0.760 (+/- 0.005)\n",
      "Gradient Boosting, mean Prec = 0.881 (+/- 0.076)\n",
      "Gradient Boosting, mean Rec = 0.542 (+/- 0.164)\n",
      "Training SVM\n"
     ]
    },
    {
     "name": "stderr",
     "output_type": "stream",
     "text": [
      "/Users/luca/anaconda/envs/py35_pd20/lib/python3.5/site-packages/sklearn/metrics/classification.py:1135: UndefinedMetricWarning: Precision is ill-defined and being set to 0.0 due to no predicted samples.\n",
      "  'precision', 'predicted', average, warn_for)\n"
     ]
    },
    {
     "name": "stdout",
     "output_type": "stream",
     "text": [
      "SVM, mean F1 on training set = 0.759 (+/- 0.005)\n",
      "SVM, mean Prec = 0.801 (+/- 0.139)\n",
      "SVM, mean Rec = 0.531 (+/- 0.169)\n",
      "Training XGB\n",
      "XGB, mean F1 on training set = 0.791 (+/- 0.005)\n",
      "XGB, mean Prec = 0.783 (+/- 0.121)\n",
      "XGB, mean Rec = 0.603 (+/- 0.155)\n"
     ]
    }
   ],
   "source": [
    "#LOSO CV - Compute prediction posteriors from each classifier and aggregate\n",
    "# X = X_meta_train.iloc[:,1:].as_matrix() #drop fileid \n",
    "# y = df_train['bradykinesiaScore'].values\n",
    "\n",
    "m = zip(models,model_name)\n",
    "Fnew = LOSOCV(X_meta_train.iloc[:,1:].as_matrix(),y_train,groups_train,m,Fnew)"
   ]
  },
  {
   "cell_type": "markdown",
   "metadata": {},
   "source": [
    "## Make submission"
   ]
  },
  {
   "cell_type": "code",
   "execution_count": 110,
   "metadata": {
    "collapsed": false
   },
   "outputs": [
    {
     "data": {
      "text/html": [
       "<div>\n",
       "<style>\n",
       "    .dataframe thead tr:only-child th {\n",
       "        text-align: right;\n",
       "    }\n",
       "\n",
       "    .dataframe thead th {\n",
       "        text-align: left;\n",
       "    }\n",
       "\n",
       "    .dataframe tbody tr th {\n",
       "        vertical-align: top;\n",
       "    }\n",
       "</style>\n",
       "<table border=\"1\" class=\"dataframe\">\n",
       "  <thead>\n",
       "    <tr style=\"text-align: right;\">\n",
       "      <th></th>\n",
       "      <th>dataFileHandleId</th>\n",
       "      <th>Random Forest</th>\n",
       "      <th>Gradient Boosting</th>\n",
       "      <th>SVM</th>\n",
       "      <th>XGB</th>\n",
       "    </tr>\n",
       "  </thead>\n",
       "  <tbody>\n",
       "    <tr>\n",
       "      <th>0</th>\n",
       "      <td>17286028</td>\n",
       "      <td>0.006667</td>\n",
       "      <td>0.087325</td>\n",
       "      <td>0.093792</td>\n",
       "      <td>0.026341</td>\n",
       "    </tr>\n",
       "    <tr>\n",
       "      <th>1</th>\n",
       "      <td>17286030</td>\n",
       "      <td>0.010000</td>\n",
       "      <td>0.084324</td>\n",
       "      <td>0.085097</td>\n",
       "      <td>0.023234</td>\n",
       "    </tr>\n",
       "    <tr>\n",
       "      <th>2</th>\n",
       "      <td>17286034</td>\n",
       "      <td>0.900000</td>\n",
       "      <td>0.820659</td>\n",
       "      <td>0.960686</td>\n",
       "      <td>0.586292</td>\n",
       "    </tr>\n",
       "    <tr>\n",
       "      <th>3</th>\n",
       "      <td>17286036</td>\n",
       "      <td>0.870000</td>\n",
       "      <td>0.814961</td>\n",
       "      <td>0.943490</td>\n",
       "      <td>0.489512</td>\n",
       "    </tr>\n",
       "    <tr>\n",
       "      <th>4</th>\n",
       "      <td>17286042</td>\n",
       "      <td>0.012500</td>\n",
       "      <td>0.251301</td>\n",
       "      <td>0.117062</td>\n",
       "      <td>0.142725</td>\n",
       "    </tr>\n",
       "  </tbody>\n",
       "</table>\n",
       "</div>"
      ],
      "text/plain": [
       "   dataFileHandleId  Random Forest  Gradient Boosting       SVM       XGB\n",
       "0          17286028       0.006667           0.087325  0.093792  0.026341\n",
       "1          17286030       0.010000           0.084324  0.085097  0.023234\n",
       "2          17286034       0.900000           0.820659  0.960686  0.586292\n",
       "3          17286036       0.870000           0.814961  0.943490  0.489512\n",
       "4          17286042       0.012500           0.251301  0.117062  0.142725"
      ]
     },
     "execution_count": 110,
     "metadata": {},
     "output_type": "execute_result"
    }
   ],
   "source": [
    "Fnew.head()"
   ]
  },
  {
   "cell_type": "code",
   "execution_count": 129,
   "metadata": {
    "collapsed": false
   },
   "outputs": [],
   "source": [
    "#add patient column (WILL BE REMOVED LATER FOR FINAL SUBMISSION)\n",
    "# X_meta['patient']=groups"
   ]
  },
  {
   "cell_type": "code",
   "execution_count": 112,
   "metadata": {
    "collapsed": false
   },
   "outputs": [],
   "source": [
    "Fnew.index=X_meta_train.index"
   ]
  },
  {
   "cell_type": "code",
   "execution_count": 113,
   "metadata": {
    "collapsed": true
   },
   "outputs": [],
   "source": [
    "#concatenate metadata features and stacking output dataframes\n",
    "X = pd.concat((X_meta_train,Fnew.iloc[:,1:]),axis=1)"
   ]
  },
  {
   "cell_type": "code",
   "execution_count": 114,
   "metadata": {
    "collapsed": false
   },
   "outputs": [
    {
     "data": {
      "text/html": [
       "<div>\n",
       "<style>\n",
       "    .dataframe thead tr:only-child th {\n",
       "        text-align: right;\n",
       "    }\n",
       "\n",
       "    .dataframe thead th {\n",
       "        text-align: left;\n",
       "    }\n",
       "\n",
       "    .dataframe tbody tr th {\n",
       "        vertical-align: top;\n",
       "    }\n",
       "</style>\n",
       "<table border=\"1\" class=\"dataframe\">\n",
       "  <thead>\n",
       "    <tr style=\"text-align: right;\">\n",
       "      <th></th>\n",
       "      <th>dataFileHandleId</th>\n",
       "      <th>device</th>\n",
       "      <th>session</th>\n",
       "      <th>site</th>\n",
       "      <th>task</th>\n",
       "      <th>visit</th>\n",
       "      <th>deviceSide</th>\n",
       "      <th>Duration</th>\n",
       "      <th>Random Forest</th>\n",
       "      <th>Gradient Boosting</th>\n",
       "      <th>SVM</th>\n",
       "      <th>XGB</th>\n",
       "    </tr>\n",
       "  </thead>\n",
       "  <tbody>\n",
       "    <tr>\n",
       "      <th>25819_22</th>\n",
       "      <td>17286028</td>\n",
       "      <td>0</td>\n",
       "      <td>1</td>\n",
       "      <td>0</td>\n",
       "      <td>0</td>\n",
       "      <td>1</td>\n",
       "      <td>1</td>\n",
       "      <td>1.022774</td>\n",
       "      <td>0.006667</td>\n",
       "      <td>0.087325</td>\n",
       "      <td>0.093792</td>\n",
       "      <td>0.026341</td>\n",
       "    </tr>\n",
       "    <tr>\n",
       "      <th>25820_22</th>\n",
       "      <td>17286030</td>\n",
       "      <td>1</td>\n",
       "      <td>1</td>\n",
       "      <td>0</td>\n",
       "      <td>0</td>\n",
       "      <td>1</td>\n",
       "      <td>0</td>\n",
       "      <td>1.022774</td>\n",
       "      <td>0.010000</td>\n",
       "      <td>0.084324</td>\n",
       "      <td>0.085097</td>\n",
       "      <td>0.023234</td>\n",
       "    </tr>\n",
       "    <tr>\n",
       "      <th>25821_22</th>\n",
       "      <td>17286034</td>\n",
       "      <td>0</td>\n",
       "      <td>1</td>\n",
       "      <td>0</td>\n",
       "      <td>1</td>\n",
       "      <td>1</td>\n",
       "      <td>1</td>\n",
       "      <td>6.714734</td>\n",
       "      <td>0.900000</td>\n",
       "      <td>0.820659</td>\n",
       "      <td>0.960686</td>\n",
       "      <td>0.586292</td>\n",
       "    </tr>\n",
       "    <tr>\n",
       "      <th>25822_22</th>\n",
       "      <td>17286036</td>\n",
       "      <td>1</td>\n",
       "      <td>1</td>\n",
       "      <td>0</td>\n",
       "      <td>1</td>\n",
       "      <td>1</td>\n",
       "      <td>0</td>\n",
       "      <td>6.714734</td>\n",
       "      <td>0.870000</td>\n",
       "      <td>0.814961</td>\n",
       "      <td>0.943490</td>\n",
       "      <td>0.489512</td>\n",
       "    </tr>\n",
       "    <tr>\n",
       "      <th>25824_22</th>\n",
       "      <td>17286042</td>\n",
       "      <td>1</td>\n",
       "      <td>1</td>\n",
       "      <td>0</td>\n",
       "      <td>2</td>\n",
       "      <td>1</td>\n",
       "      <td>0</td>\n",
       "      <td>-0.874546</td>\n",
       "      <td>0.012500</td>\n",
       "      <td>0.251301</td>\n",
       "      <td>0.117062</td>\n",
       "      <td>0.142725</td>\n",
       "    </tr>\n",
       "  </tbody>\n",
       "</table>\n",
       "</div>"
      ],
      "text/plain": [
       "          dataFileHandleId  device  session  site  task  visit  deviceSide  \\\n",
       "25819_22          17286028       0        1     0     0      1           1   \n",
       "25820_22          17286030       1        1     0     0      1           0   \n",
       "25821_22          17286034       0        1     0     1      1           1   \n",
       "25822_22          17286036       1        1     0     1      1           0   \n",
       "25824_22          17286042       1        1     0     2      1           0   \n",
       "\n",
       "          Duration  Random Forest  Gradient Boosting       SVM       XGB  \n",
       "25819_22  1.022774       0.006667           0.087325  0.093792  0.026341  \n",
       "25820_22  1.022774       0.010000           0.084324  0.085097  0.023234  \n",
       "25821_22  6.714734       0.900000           0.820659  0.960686  0.586292  \n",
       "25822_22  6.714734       0.870000           0.814961  0.943490  0.489512  \n",
       "25824_22 -0.874546       0.012500           0.251301  0.117062  0.142725  "
      ]
     },
     "execution_count": 114,
     "metadata": {},
     "output_type": "execute_result"
    }
   ],
   "source": [
    "X.head()"
   ]
  },
  {
   "cell_type": "code",
   "execution_count": 115,
   "metadata": {
    "collapsed": false
   },
   "outputs": [],
   "source": [
    "X.to_csv('Submission_Metaf&Metaf_Stacking.csv',index=False) #store features for training data"
   ]
  },
  {
   "cell_type": "markdown",
   "metadata": {},
   "source": [
    "** Metadata + Stacked Metadata **"
   ]
  },
  {
   "cell_type": "code",
   "execution_count": 116,
   "metadata": {
    "collapsed": false
   },
   "outputs": [
    {
     "name": "stdout",
     "output_type": "stream",
     "text": [
      "Welcome, Luca Lonini!\n",
      "\n",
      "AUPRC: 0.920\n"
     ]
    }
   ],
   "source": [
    "%run sc2FitModels_LOSOCV.py 'bradykinesia' Submission_Metaf\\&Metaf_Stacking.csv"
   ]
  },
  {
   "cell_type": "markdown",
   "metadata": {},
   "source": [
    "** Stacked Metadata only **"
   ]
  },
  {
   "cell_type": "code",
   "execution_count": 450,
   "metadata": {
    "collapsed": false
   },
   "outputs": [
    {
     "name": "stdout",
     "output_type": "stream",
     "text": [
      "Welcome, Luca Lonini!\n",
      "\n",
      "AUPRC: 0.868\n"
     ]
    }
   ],
   "source": [
    "%run sc2FitModels_LOSOCV.py 'bradykinesia' Submission_Metaf_Stacking.csv"
   ]
  },
  {
   "cell_type": "markdown",
   "metadata": {},
   "source": [
    "## Compute features on test data and create Final submission"
   ]
  },
  {
   "cell_type": "code",
   "execution_count": 127,
   "metadata": {
    "collapsed": true
   },
   "outputs": [],
   "source": [
    "#load metadata from test and drop patiet\n",
    "X_meta_test = pd.read_csv('metadfnum_test_brady.csv')\n",
    "X_meta_test.index = df_test.index #necessary to re-index to aggregate features in Fnew\n",
    "#drop patient id from test metadata\n",
    "X_meta_test=X_meta_test.drop('patient',axis=1) #DROP PATIENT"
   ]
  },
  {
   "cell_type": "code",
   "execution_count": 129,
   "metadata": {
    "collapsed": false
   },
   "outputs": [
    {
     "data": {
      "text/plain": [
       "1367"
      ]
     },
     "execution_count": 129,
     "metadata": {},
     "output_type": "execute_result"
    }
   ],
   "source": [
    "len(X_meta_test)"
   ]
  },
  {
   "cell_type": "code",
   "execution_count": 131,
   "metadata": {
    "collapsed": false
   },
   "outputs": [
    {
     "name": "stdout",
     "output_type": "stream",
     "text": [
      "Training Random Forest\n",
      "Computing prediction Random Forest\n",
      "Training Gradient Boosting\n",
      "Computing prediction Gradient Boosting\n",
      "Training SVM\n",
      "Computing prediction SVM\n",
      "Training XGB\n",
      "Computing prediction XGB\n"
     ]
    }
   ],
   "source": [
    "#train stacked models on all training data \n",
    "models = [RandomForestClassifier(n_estimators=100,random_state=2),\n",
    "          GradientBoostingClassifier(n_estimators=100,max_depth=2,random_state=3),\n",
    "          SVC(kernel='rbf',C=1,cache_size=800,probability=True,random_state=3),\n",
    "          XGBClassifier(n_estimators=150,subsample=1,learning_rate=0.5,max_depth=2)\n",
    "         ]\n",
    "model_name = ['Random Forest','Gradient Boosting','SVM','XGB']\n",
    "#create dataframe to store posterior scores from each clf\n",
    "Fnew = X_meta_test.copy()\n",
    "Fnew=Fnew[['dataFileHandleId']]\n",
    "for m in model_name:\n",
    "    Fnew[m]=0\n",
    "Fnew.index=range(len(Fnew)) #reindex array\n",
    "#zip models\n",
    "m = zip(models,model_name)\n",
    "#train and compute stacking predictions on test set\n",
    "Fnew_test=testdata_stacking(X_meta_train.iloc[:,1:],y_train,X_meta_test.iloc[:,1:],m,Fnew)"
   ]
  },
  {
   "cell_type": "code",
   "execution_count": 136,
   "metadata": {
    "collapsed": true
   },
   "outputs": [],
   "source": [
    "Fnew_test.index=df_test.index"
   ]
  },
  {
   "cell_type": "code",
   "execution_count": 137,
   "metadata": {
    "collapsed": false
   },
   "outputs": [
    {
     "data": {
      "text/html": [
       "<div>\n",
       "<style>\n",
       "    .dataframe thead tr:only-child th {\n",
       "        text-align: right;\n",
       "    }\n",
       "\n",
       "    .dataframe thead th {\n",
       "        text-align: left;\n",
       "    }\n",
       "\n",
       "    .dataframe tbody tr th {\n",
       "        vertical-align: top;\n",
       "    }\n",
       "</style>\n",
       "<table border=\"1\" class=\"dataframe\">\n",
       "  <thead>\n",
       "    <tr style=\"text-align: right;\">\n",
       "      <th></th>\n",
       "      <th>dataFileHandleId</th>\n",
       "      <th>Random Forest</th>\n",
       "      <th>Gradient Boosting</th>\n",
       "      <th>SVM</th>\n",
       "      <th>XGB</th>\n",
       "    </tr>\n",
       "  </thead>\n",
       "  <tbody>\n",
       "    <tr>\n",
       "      <th>12959_10</th>\n",
       "      <td>17287630</td>\n",
       "      <td>0.050000</td>\n",
       "      <td>0.121028</td>\n",
       "      <td>0.123628</td>\n",
       "      <td>0.062891</td>\n",
       "    </tr>\n",
       "    <tr>\n",
       "      <th>12960_10</th>\n",
       "      <td>17287634</td>\n",
       "      <td>0.080000</td>\n",
       "      <td>0.115793</td>\n",
       "      <td>0.128452</td>\n",
       "      <td>0.051649</td>\n",
       "    </tr>\n",
       "    <tr>\n",
       "      <th>12961_10</th>\n",
       "      <td>17287639</td>\n",
       "      <td>0.100000</td>\n",
       "      <td>0.151852</td>\n",
       "      <td>0.099247</td>\n",
       "      <td>0.088959</td>\n",
       "    </tr>\n",
       "    <tr>\n",
       "      <th>12962_10</th>\n",
       "      <td>17287642</td>\n",
       "      <td>0.076667</td>\n",
       "      <td>0.145504</td>\n",
       "      <td>0.083337</td>\n",
       "      <td>0.083818</td>\n",
       "    </tr>\n",
       "    <tr>\n",
       "      <th>12964_10</th>\n",
       "      <td>17287650</td>\n",
       "      <td>0.310440</td>\n",
       "      <td>0.356194</td>\n",
       "      <td>0.137389</td>\n",
       "      <td>0.251858</td>\n",
       "    </tr>\n",
       "  </tbody>\n",
       "</table>\n",
       "</div>"
      ],
      "text/plain": [
       "          dataFileHandleId  Random Forest  Gradient Boosting       SVM  \\\n",
       "12959_10          17287630       0.050000           0.121028  0.123628   \n",
       "12960_10          17287634       0.080000           0.115793  0.128452   \n",
       "12961_10          17287639       0.100000           0.151852  0.099247   \n",
       "12962_10          17287642       0.076667           0.145504  0.083337   \n",
       "12964_10          17287650       0.310440           0.356194  0.137389   \n",
       "\n",
       "               XGB  \n",
       "12959_10  0.062891  \n",
       "12960_10  0.051649  \n",
       "12961_10  0.088959  \n",
       "12962_10  0.083818  \n",
       "12964_10  0.251858  "
      ]
     },
     "execution_count": 137,
     "metadata": {},
     "output_type": "execute_result"
    }
   ],
   "source": [
    "Fnew_test.head()"
   ]
  },
  {
   "cell_type": "code",
   "execution_count": 138,
   "metadata": {
    "collapsed": false
   },
   "outputs": [
    {
     "data": {
      "text/plain": [
       "1367"
      ]
     },
     "execution_count": 138,
     "metadata": {},
     "output_type": "execute_result"
    }
   ],
   "source": [
    "len(Fnew_test)"
   ]
  },
  {
   "cell_type": "code",
   "execution_count": 139,
   "metadata": {
    "collapsed": true
   },
   "outputs": [],
   "source": [
    "#attach metadata \n",
    "X_test = pd.concat((X_meta_test,Fnew_test.iloc[:,1:]),axis=1)"
   ]
  },
  {
   "cell_type": "code",
   "execution_count": 140,
   "metadata": {
    "collapsed": false
   },
   "outputs": [
    {
     "data": {
      "text/html": [
       "<div>\n",
       "<style>\n",
       "    .dataframe thead tr:only-child th {\n",
       "        text-align: right;\n",
       "    }\n",
       "\n",
       "    .dataframe thead th {\n",
       "        text-align: left;\n",
       "    }\n",
       "\n",
       "    .dataframe tbody tr th {\n",
       "        vertical-align: top;\n",
       "    }\n",
       "</style>\n",
       "<table border=\"1\" class=\"dataframe\">\n",
       "  <thead>\n",
       "    <tr style=\"text-align: right;\">\n",
       "      <th></th>\n",
       "      <th>dataFileHandleId</th>\n",
       "      <th>device</th>\n",
       "      <th>session</th>\n",
       "      <th>site</th>\n",
       "      <th>task</th>\n",
       "      <th>visit</th>\n",
       "      <th>deviceSide</th>\n",
       "      <th>Duration</th>\n",
       "      <th>Random Forest</th>\n",
       "      <th>Gradient Boosting</th>\n",
       "      <th>SVM</th>\n",
       "      <th>XGB</th>\n",
       "    </tr>\n",
       "  </thead>\n",
       "  <tbody>\n",
       "    <tr>\n",
       "      <th>12959_10</th>\n",
       "      <td>17287630</td>\n",
       "      <td>0</td>\n",
       "      <td>1</td>\n",
       "      <td>0</td>\n",
       "      <td>0</td>\n",
       "      <td>1</td>\n",
       "      <td>1</td>\n",
       "      <td>0.206077</td>\n",
       "      <td>0.050000</td>\n",
       "      <td>0.121028</td>\n",
       "      <td>0.123628</td>\n",
       "      <td>0.062891</td>\n",
       "    </tr>\n",
       "    <tr>\n",
       "      <th>12960_10</th>\n",
       "      <td>17287634</td>\n",
       "      <td>1</td>\n",
       "      <td>1</td>\n",
       "      <td>0</td>\n",
       "      <td>0</td>\n",
       "      <td>1</td>\n",
       "      <td>0</td>\n",
       "      <td>0.206077</td>\n",
       "      <td>0.080000</td>\n",
       "      <td>0.115793</td>\n",
       "      <td>0.128452</td>\n",
       "      <td>0.051649</td>\n",
       "    </tr>\n",
       "    <tr>\n",
       "      <th>12961_10</th>\n",
       "      <td>17287639</td>\n",
       "      <td>0</td>\n",
       "      <td>1</td>\n",
       "      <td>0</td>\n",
       "      <td>1</td>\n",
       "      <td>1</td>\n",
       "      <td>1</td>\n",
       "      <td>1.740564</td>\n",
       "      <td>0.100000</td>\n",
       "      <td>0.151852</td>\n",
       "      <td>0.099247</td>\n",
       "      <td>0.088959</td>\n",
       "    </tr>\n",
       "    <tr>\n",
       "      <th>12962_10</th>\n",
       "      <td>17287642</td>\n",
       "      <td>1</td>\n",
       "      <td>1</td>\n",
       "      <td>0</td>\n",
       "      <td>1</td>\n",
       "      <td>1</td>\n",
       "      <td>0</td>\n",
       "      <td>1.740564</td>\n",
       "      <td>0.076667</td>\n",
       "      <td>0.145504</td>\n",
       "      <td>0.083337</td>\n",
       "      <td>0.083818</td>\n",
       "    </tr>\n",
       "    <tr>\n",
       "      <th>12964_10</th>\n",
       "      <td>17287650</td>\n",
       "      <td>1</td>\n",
       "      <td>1</td>\n",
       "      <td>0</td>\n",
       "      <td>2</td>\n",
       "      <td>1</td>\n",
       "      <td>0</td>\n",
       "      <td>-0.848883</td>\n",
       "      <td>0.310440</td>\n",
       "      <td>0.356194</td>\n",
       "      <td>0.137389</td>\n",
       "      <td>0.251858</td>\n",
       "    </tr>\n",
       "  </tbody>\n",
       "</table>\n",
       "</div>"
      ],
      "text/plain": [
       "          dataFileHandleId  device  session  site  task  visit  deviceSide  \\\n",
       "12959_10          17287630       0        1     0     0      1           1   \n",
       "12960_10          17287634       1        1     0     0      1           0   \n",
       "12961_10          17287639       0        1     0     1      1           1   \n",
       "12962_10          17287642       1        1     0     1      1           0   \n",
       "12964_10          17287650       1        1     0     2      1           0   \n",
       "\n",
       "          Duration  Random Forest  Gradient Boosting       SVM       XGB  \n",
       "12959_10  0.206077       0.050000           0.121028  0.123628  0.062891  \n",
       "12960_10  0.206077       0.080000           0.115793  0.128452  0.051649  \n",
       "12961_10  1.740564       0.100000           0.151852  0.099247  0.088959  \n",
       "12962_10  1.740564       0.076667           0.145504  0.083337  0.083818  \n",
       "12964_10 -0.848883       0.310440           0.356194  0.137389  0.251858  "
      ]
     },
     "execution_count": 140,
     "metadata": {},
     "output_type": "execute_result"
    }
   ],
   "source": [
    "X_test.head()"
   ]
  },
  {
   "cell_type": "code",
   "execution_count": 142,
   "metadata": {
    "collapsed": true
   },
   "outputs": [],
   "source": [
    "# create final submission file with features from train and test\n",
    "X_train = pd.read_csv('Submission_Metaf&Metaf_Stacking.csv')\n",
    "X_submission = pd.concat((X_test,X_train),axis=0)\n",
    "X_submission.to_csv('./Submissions/Submission_brady_MetafandMetaf_Stacking.csv',index=False)"
   ]
  },
  {
   "cell_type": "code",
   "execution_count": 143,
   "metadata": {
    "collapsed": false
   },
   "outputs": [
    {
     "data": {
      "text/plain": [
       "4280"
      ]
     },
     "execution_count": 143,
     "metadata": {},
     "output_type": "execute_result"
    }
   ],
   "source": [
    "len(X_submission)"
   ]
  },
  {
   "cell_type": "markdown",
   "metadata": {},
   "source": [
    "## Append Features to Metadata and Metadata_stacking"
   ]
  },
  {
   "cell_type": "code",
   "execution_count": 175,
   "metadata": {
    "collapsed": false
   },
   "outputs": [
    {
     "data": {
      "text/plain": [
       "2234"
      ]
     },
     "execution_count": 175,
     "metadata": {},
     "output_type": "execute_result"
    }
   ],
   "source": [
    "len(df_feat_train)"
   ]
  },
  {
   "cell_type": "code",
   "execution_count": 174,
   "metadata": {
    "collapsed": false
   },
   "outputs": [
    {
     "data": {
      "text/plain": [
       "2913"
      ]
     },
     "execution_count": 174,
     "metadata": {},
     "output_type": "execute_result"
    }
   ],
   "source": [
    "len(df_train)"
   ]
  },
  {
   "cell_type": "code",
   "execution_count": 170,
   "metadata": {
    "collapsed": false
   },
   "outputs": [],
   "source": [
    "filename = './Features/FeaturesWsen_unnormalized_bradykinesia_train.csv'\n",
    "df_feat_train = pd.read_csv(filename)\n",
    "# df_feat_train = df_feat_train.dropna()\n",
    "# df_feat_train.index = df_train.index\n",
    "# df_train.head()"
   ]
  },
  {
   "cell_type": "code",
   "execution_count": 169,
   "metadata": {
    "collapsed": false
   },
   "outputs": [
    {
     "data": {
      "text/html": [
       "<div>\n",
       "<style>\n",
       "    .dataframe thead tr:only-child th {\n",
       "        text-align: right;\n",
       "    }\n",
       "\n",
       "    .dataframe thead th {\n",
       "        text-align: left;\n",
       "    }\n",
       "\n",
       "    .dataframe tbody tr th {\n",
       "        vertical-align: top;\n",
       "    }\n",
       "</style>\n",
       "<table border=\"1\" class=\"dataframe\">\n",
       "  <thead>\n",
       "    <tr style=\"text-align: right;\">\n",
       "      <th></th>\n",
       "      <th>EX</th>\n",
       "      <th>EY</th>\n",
       "      <th>EZ</th>\n",
       "      <th>rangeX</th>\n",
       "      <th>rangeY</th>\n",
       "      <th>rangeZ</th>\n",
       "      <th>meanX</th>\n",
       "      <th>meanY</th>\n",
       "      <th>meanZ</th>\n",
       "      <th>varX</th>\n",
       "      <th>...</th>\n",
       "      <th>jerk_mean</th>\n",
       "      <th>jerk_std</th>\n",
       "      <th>jerk_skew</th>\n",
       "      <th>jerk_kur</th>\n",
       "      <th>Sen_X</th>\n",
       "      <th>Sen_Y</th>\n",
       "      <th>Sen_Z</th>\n",
       "      <th>Sen_FFTX</th>\n",
       "      <th>Sen_FFTY</th>\n",
       "      <th>Sen_FFTZ</th>\n",
       "    </tr>\n",
       "  </thead>\n",
       "  <tbody>\n",
       "    <tr>\n",
       "      <th>12959_10</th>\n",
       "      <td>1013.568489</td>\n",
       "      <td>220.900041</td>\n",
       "      <td>771.756398</td>\n",
       "      <td>27.892684</td>\n",
       "      <td>11.666199</td>\n",
       "      <td>23.316780</td>\n",
       "      <td>-0.001896</td>\n",
       "      <td>0.001006</td>\n",
       "      <td>0.002749</td>\n",
       "      <td>0.822289</td>\n",
       "      <td>...</td>\n",
       "      <td>0.000181</td>\n",
       "      <td>0.847867</td>\n",
       "      <td>-4.513384</td>\n",
       "      <td>392.395344</td>\n",
       "      <td>0.541614</td>\n",
       "      <td>1.149442</td>\n",
       "      <td>0.801953</td>\n",
       "      <td>0.189765</td>\n",
       "      <td>0.375378</td>\n",
       "      <td>0.084485</td>\n",
       "    </tr>\n",
       "    <tr>\n",
       "      <th>12960_10</th>\n",
       "      <td>871.034858</td>\n",
       "      <td>2227.102358</td>\n",
       "      <td>934.109841</td>\n",
       "      <td>6.364213</td>\n",
       "      <td>12.106878</td>\n",
       "      <td>7.341778</td>\n",
       "      <td>-0.000460</td>\n",
       "      <td>-0.003139</td>\n",
       "      <td>-0.000026</td>\n",
       "      <td>0.762284</td>\n",
       "      <td>...</td>\n",
       "      <td>-0.000016</td>\n",
       "      <td>0.605342</td>\n",
       "      <td>0.135422</td>\n",
       "      <td>3.791866</td>\n",
       "      <td>0.640321</td>\n",
       "      <td>0.558109</td>\n",
       "      <td>1.070417</td>\n",
       "      <td>0.026542</td>\n",
       "      <td>0.040553</td>\n",
       "      <td>0.104611</td>\n",
       "    </tr>\n",
       "    <tr>\n",
       "      <th>12961_10</th>\n",
       "      <td>5334.388977</td>\n",
       "      <td>2464.630582</td>\n",
       "      <td>4554.095368</td>\n",
       "      <td>23.913334</td>\n",
       "      <td>11.894317</td>\n",
       "      <td>15.872916</td>\n",
       "      <td>0.000039</td>\n",
       "      <td>-0.000194</td>\n",
       "      <td>-0.000704</td>\n",
       "      <td>1.523256</td>\n",
       "      <td>...</td>\n",
       "      <td>0.000015</td>\n",
       "      <td>0.910962</td>\n",
       "      <td>-0.124101</td>\n",
       "      <td>7.905189</td>\n",
       "      <td>0.731023</td>\n",
       "      <td>0.744664</td>\n",
       "      <td>0.829240</td>\n",
       "      <td>0.216645</td>\n",
       "      <td>0.026248</td>\n",
       "      <td>0.051907</td>\n",
       "    </tr>\n",
       "    <tr>\n",
       "      <th>12962_10</th>\n",
       "      <td>2955.630823</td>\n",
       "      <td>2604.125538</td>\n",
       "      <td>3787.537735</td>\n",
       "      <td>10.247299</td>\n",
       "      <td>12.714847</td>\n",
       "      <td>19.530314</td>\n",
       "      <td>0.002929</td>\n",
       "      <td>-0.004089</td>\n",
       "      <td>-0.004904</td>\n",
       "      <td>1.133846</td>\n",
       "      <td>...</td>\n",
       "      <td>0.000126</td>\n",
       "      <td>0.845343</td>\n",
       "      <td>0.457271</td>\n",
       "      <td>21.903214</td>\n",
       "      <td>0.485914</td>\n",
       "      <td>0.678817</td>\n",
       "      <td>0.825549</td>\n",
       "      <td>0.019300</td>\n",
       "      <td>0.055500</td>\n",
       "      <td>0.076544</td>\n",
       "    </tr>\n",
       "    <tr>\n",
       "      <th>12964_10</th>\n",
       "      <td>11840.601773</td>\n",
       "      <td>10392.629633</td>\n",
       "      <td>3567.844693</td>\n",
       "      <td>17.512561</td>\n",
       "      <td>18.628811</td>\n",
       "      <td>14.303188</td>\n",
       "      <td>-0.026837</td>\n",
       "      <td>-0.021255</td>\n",
       "      <td>0.007585</td>\n",
       "      <td>3.532167</td>\n",
       "      <td>...</td>\n",
       "      <td>-0.000780</td>\n",
       "      <td>1.382120</td>\n",
       "      <td>-0.152621</td>\n",
       "      <td>0.921125</td>\n",
       "      <td>0.656861</td>\n",
       "      <td>0.930417</td>\n",
       "      <td>1.297259</td>\n",
       "      <td>0.037561</td>\n",
       "      <td>0.083932</td>\n",
       "      <td>0.078295</td>\n",
       "    </tr>\n",
       "  </tbody>\n",
       "</table>\n",
       "<p>5 rows × 40 columns</p>\n",
       "</div>"
      ],
      "text/plain": [
       "                    EX            EY           EZ     rangeX     rangeY  \\\n",
       "12959_10   1013.568489    220.900041   771.756398  27.892684  11.666199   \n",
       "12960_10    871.034858   2227.102358   934.109841   6.364213  12.106878   \n",
       "12961_10   5334.388977   2464.630582  4554.095368  23.913334  11.894317   \n",
       "12962_10   2955.630823   2604.125538  3787.537735  10.247299  12.714847   \n",
       "12964_10  11840.601773  10392.629633  3567.844693  17.512561  18.628811   \n",
       "\n",
       "             rangeZ     meanX     meanY     meanZ      varX    ...     \\\n",
       "12959_10  23.316780 -0.001896  0.001006  0.002749  0.822289    ...      \n",
       "12960_10   7.341778 -0.000460 -0.003139 -0.000026  0.762284    ...      \n",
       "12961_10  15.872916  0.000039 -0.000194 -0.000704  1.523256    ...      \n",
       "12962_10  19.530314  0.002929 -0.004089 -0.004904  1.133846    ...      \n",
       "12964_10  14.303188 -0.026837 -0.021255  0.007585  3.532167    ...      \n",
       "\n",
       "          jerk_mean  jerk_std  jerk_skew    jerk_kur     Sen_X     Sen_Y  \\\n",
       "12959_10   0.000181  0.847867  -4.513384  392.395344  0.541614  1.149442   \n",
       "12960_10  -0.000016  0.605342   0.135422    3.791866  0.640321  0.558109   \n",
       "12961_10   0.000015  0.910962  -0.124101    7.905189  0.731023  0.744664   \n",
       "12962_10   0.000126  0.845343   0.457271   21.903214  0.485914  0.678817   \n",
       "12964_10  -0.000780  1.382120  -0.152621    0.921125  0.656861  0.930417   \n",
       "\n",
       "             Sen_Z  Sen_FFTX  Sen_FFTY  Sen_FFTZ  \n",
       "12959_10  0.801953  0.189765  0.375378  0.084485  \n",
       "12960_10  1.070417  0.026542  0.040553  0.104611  \n",
       "12961_10  0.829240  0.216645  0.026248  0.051907  \n",
       "12962_10  0.825549  0.019300  0.055500  0.076544  \n",
       "12964_10  1.297259  0.037561  0.083932  0.078295  \n",
       "\n",
       "[5 rows x 40 columns]"
      ]
     },
     "execution_count": 169,
     "metadata": {},
     "output_type": "execute_result"
    }
   ],
   "source": [
    "#load features for test and train and concatenate to metadatafeatures\n",
    "filename = './Features/FeaturesWsen_unnormalized_bradykinesia_test.csv'\n",
    "df_feat_test = pd.read_csv(filename)\n",
    "df_feat_test = df_feat_test.dropna()\n",
    "df_feat_test.index = df_test.index\n",
    "df_feat_test.head()"
   ]
  },
  {
   "cell_type": "markdown",
   "metadata": {},
   "source": [
    "## Stacking using time and freq-domain features + metadata as input"
   ]
  },
  {
   "cell_type": "code",
   "execution_count": null,
   "metadata": {
    "collapsed": false
   },
   "outputs": [
    {
     "name": "stdout",
     "output_type": "stream",
     "text": [
      "0\n"
     ]
    }
   ],
   "source": [
    "#compute features on entire recordings \n",
    "row = 0\n",
    "nans_found=0; n_empty=0\n",
    "Features = []\n",
    "t1 = time.time()\n",
    "# for f in df_train.path:\n",
    "for i in range(len(df_train)):\n",
    "\n",
    "    f = df_train.iloc[i,:].path\n",
    "    if row%1000==0:\n",
    "        print(row)\n",
    "    rawdata = pd.read_csv(f,sep='\\t') #load file\n",
    "   \n",
    "    #remove nans\n",
    "    rawdata = rawdata.astype('float64') #make sure everything is float\n",
    "    if sum(np.sum(rawdata.isnull())) > 0:\n",
    "        nans_found+=1 # of files w nans\n",
    "        rawdata = rawdata.dropna() #drop nans\n",
    "        \n",
    "    #compute features if at least one data point is there\n",
    "    if rawdata.empty != True:\n",
    "        #reindex timestamp data relative to start \n",
    "        t = rawdata.timestamp\n",
    "        t = t-t.iloc[0]\n",
    "        rawdata.timestamp = t\n",
    "\n",
    "        #HP filter data (remove gravity)\n",
    "        rawdata = filter_signal(rawdata,order=2)\n",
    "\n",
    "        #compute features on entire recording\n",
    "        try:\n",
    "            F,flist = feature_extraction(rawdata)\n",
    "            Features.append(F)\n",
    "        except(TypeError):\n",
    "            print('found incompatible datatype')\n",
    "    else:\n",
    "        F = np.empty((1,len(flist))) #empty array of features\n",
    "        F[:]=np.nan\n",
    "        Features.append(F)\n",
    "        n_empty+=1\n",
    "\n",
    "    row+=1\n",
    "        \n",
    "elapsed = time.time()-t1\n",
    "print('Elapsed Time:[s] %.1f'%elapsed)\n",
    "print('Files w nans: %d'%nans_found)\n",
    "print('Files w 0 non-nan rows %d'%n_empty)\n",
    "print('Tot rows: %d'%row)\n",
    "\n",
    "Features = np.asarray(Features)\n",
    "Features = Features.squeeze(axis=1)\n",
    "print(Features.shape)"
   ]
  },
  {
   "cell_type": "code",
   "execution_count": 213,
   "metadata": {
    "collapsed": false
   },
   "outputs": [],
   "source": [
    "df_feat = pd.DataFrame(data=Features,columns=flist,dtype='float64')\n",
    "df_feat.index = df_train.index"
   ]
  },
  {
   "cell_type": "code",
   "execution_count": 215,
   "metadata": {
    "collapsed": false
   },
   "outputs": [],
   "source": [
    "#save features\n",
    "df_feat.to_csv('Features_unnormalized.csv',index=False)"
   ]
  },
  {
   "cell_type": "markdown",
   "metadata": {},
   "source": [
    "## Submission with Stacked metadata and Stacked Features"
   ]
  },
  {
   "cell_type": "code",
   "execution_count": 579,
   "metadata": {
    "collapsed": false
   },
   "outputs": [
    {
     "data": {
      "text/html": [
       "<div>\n",
       "<style>\n",
       "    .dataframe thead tr:only-child th {\n",
       "        text-align: right;\n",
       "    }\n",
       "\n",
       "    .dataframe thead th {\n",
       "        text-align: left;\n",
       "    }\n",
       "\n",
       "    .dataframe tbody tr th {\n",
       "        vertical-align: top;\n",
       "    }\n",
       "</style>\n",
       "<table border=\"1\" class=\"dataframe\">\n",
       "  <thead>\n",
       "    <tr style=\"text-align: right;\">\n",
       "      <th></th>\n",
       "      <th>EX</th>\n",
       "      <th>EY</th>\n",
       "      <th>EZ</th>\n",
       "      <th>rangeX</th>\n",
       "      <th>rangeY</th>\n",
       "      <th>rangeZ</th>\n",
       "      <th>meanX</th>\n",
       "      <th>meanY</th>\n",
       "      <th>meanZ</th>\n",
       "      <th>varX</th>\n",
       "      <th>...</th>\n",
       "      <th>Dom_freq</th>\n",
       "      <th>Pdom_rel</th>\n",
       "      <th>PSD_mean</th>\n",
       "      <th>PSD_std</th>\n",
       "      <th>PSD_skew</th>\n",
       "      <th>PSD_kur</th>\n",
       "      <th>jerk_mean</th>\n",
       "      <th>jerk_std</th>\n",
       "      <th>jerk_skew</th>\n",
       "      <th>jerk_kur</th>\n",
       "    </tr>\n",
       "  </thead>\n",
       "  <tbody>\n",
       "    <tr>\n",
       "      <th>25819_22</th>\n",
       "      <td>261.944772</td>\n",
       "      <td>66.357233</td>\n",
       "      <td>166.503326</td>\n",
       "      <td>6.508088</td>\n",
       "      <td>2.097602</td>\n",
       "      <td>5.920023</td>\n",
       "      <td>-0.002255</td>\n",
       "      <td>-0.000393</td>\n",
       "      <td>0.000628</td>\n",
       "      <td>0.366505</td>\n",
       "      <td>...</td>\n",
       "      <td>1.562500</td>\n",
       "      <td>0.043495</td>\n",
       "      <td>0.003869</td>\n",
       "      <td>0.001502</td>\n",
       "      <td>0.245445</td>\n",
       "      <td>-0.344417</td>\n",
       "      <td>0.000017</td>\n",
       "      <td>0.360148</td>\n",
       "      <td>1.344217</td>\n",
       "      <td>51.836805</td>\n",
       "    </tr>\n",
       "    <tr>\n",
       "      <th>25820_22</th>\n",
       "      <td>1140.053894</td>\n",
       "      <td>2079.908881</td>\n",
       "      <td>1562.356156</td>\n",
       "      <td>6.305006</td>\n",
       "      <td>8.578169</td>\n",
       "      <td>8.644839</td>\n",
       "      <td>0.001872</td>\n",
       "      <td>0.005767</td>\n",
       "      <td>-0.006592</td>\n",
       "      <td>0.764617</td>\n",
       "      <td>...</td>\n",
       "      <td>1.367187</td>\n",
       "      <td>0.143907</td>\n",
       "      <td>0.050698</td>\n",
       "      <td>0.072788</td>\n",
       "      <td>2.379819</td>\n",
       "      <td>5.293353</td>\n",
       "      <td>-0.000185</td>\n",
       "      <td>0.508781</td>\n",
       "      <td>0.701911</td>\n",
       "      <td>10.937510</td>\n",
       "    </tr>\n",
       "    <tr>\n",
       "      <th>25821_22</th>\n",
       "      <td>2710.009059</td>\n",
       "      <td>2203.722703</td>\n",
       "      <td>2020.787975</td>\n",
       "      <td>10.204077</td>\n",
       "      <td>11.931431</td>\n",
       "      <td>9.172293</td>\n",
       "      <td>0.001058</td>\n",
       "      <td>-0.000190</td>\n",
       "      <td>-0.000438</td>\n",
       "      <td>0.728953</td>\n",
       "      <td>...</td>\n",
       "      <td>2.343750</td>\n",
       "      <td>0.045680</td>\n",
       "      <td>0.042349</td>\n",
       "      <td>0.016684</td>\n",
       "      <td>1.081894</td>\n",
       "      <td>0.570791</td>\n",
       "      <td>-0.000019</td>\n",
       "      <td>0.410676</td>\n",
       "      <td>-0.106500</td>\n",
       "      <td>4.133854</td>\n",
       "    </tr>\n",
       "    <tr>\n",
       "      <th>25822_22</th>\n",
       "      <td>2380.027757</td>\n",
       "      <td>2461.789409</td>\n",
       "      <td>4666.780133</td>\n",
       "      <td>11.444425</td>\n",
       "      <td>8.052109</td>\n",
       "      <td>11.298829</td>\n",
       "      <td>-0.001485</td>\n",
       "      <td>-0.000532</td>\n",
       "      <td>0.001081</td>\n",
       "      <td>0.683132</td>\n",
       "      <td>...</td>\n",
       "      <td>1.562500</td>\n",
       "      <td>0.089059</td>\n",
       "      <td>0.039644</td>\n",
       "      <td>0.040317</td>\n",
       "      <td>1.566515</td>\n",
       "      <td>1.400621</td>\n",
       "      <td>0.000006</td>\n",
       "      <td>0.470394</td>\n",
       "      <td>-0.767359</td>\n",
       "      <td>13.588961</td>\n",
       "    </tr>\n",
       "    <tr>\n",
       "      <th>25824_22</th>\n",
       "      <td>339.931766</td>\n",
       "      <td>612.807190</td>\n",
       "      <td>239.894044</td>\n",
       "      <td>3.590126</td>\n",
       "      <td>5.785387</td>\n",
       "      <td>3.153366</td>\n",
       "      <td>-0.011761</td>\n",
       "      <td>-0.006484</td>\n",
       "      <td>-0.005807</td>\n",
       "      <td>0.614462</td>\n",
       "      <td>...</td>\n",
       "      <td>1.757812</td>\n",
       "      <td>0.303718</td>\n",
       "      <td>0.021948</td>\n",
       "      <td>0.050055</td>\n",
       "      <td>4.377813</td>\n",
       "      <td>20.632291</td>\n",
       "      <td>-0.000066</td>\n",
       "      <td>0.304035</td>\n",
       "      <td>-0.280895</td>\n",
       "      <td>0.818470</td>\n",
       "    </tr>\n",
       "  </tbody>\n",
       "</table>\n",
       "<p>5 rows × 34 columns</p>\n",
       "</div>"
      ],
      "text/plain": [
       "                   EX           EY           EZ     rangeX     rangeY  \\\n",
       "25819_22   261.944772    66.357233   166.503326   6.508088   2.097602   \n",
       "25820_22  1140.053894  2079.908881  1562.356156   6.305006   8.578169   \n",
       "25821_22  2710.009059  2203.722703  2020.787975  10.204077  11.931431   \n",
       "25822_22  2380.027757  2461.789409  4666.780133  11.444425   8.052109   \n",
       "25824_22   339.931766   612.807190   239.894044   3.590126   5.785387   \n",
       "\n",
       "             rangeZ     meanX     meanY     meanZ      varX    ...      \\\n",
       "25819_22   5.920023 -0.002255 -0.000393  0.000628  0.366505    ...       \n",
       "25820_22   8.644839  0.001872  0.005767 -0.006592  0.764617    ...       \n",
       "25821_22   9.172293  0.001058 -0.000190 -0.000438  0.728953    ...       \n",
       "25822_22  11.298829 -0.001485 -0.000532  0.001081  0.683132    ...       \n",
       "25824_22   3.153366 -0.011761 -0.006484 -0.005807  0.614462    ...       \n",
       "\n",
       "          Dom_freq  Pdom_rel  PSD_mean   PSD_std  PSD_skew    PSD_kur  \\\n",
       "25819_22  1.562500  0.043495  0.003869  0.001502  0.245445  -0.344417   \n",
       "25820_22  1.367187  0.143907  0.050698  0.072788  2.379819   5.293353   \n",
       "25821_22  2.343750  0.045680  0.042349  0.016684  1.081894   0.570791   \n",
       "25822_22  1.562500  0.089059  0.039644  0.040317  1.566515   1.400621   \n",
       "25824_22  1.757812  0.303718  0.021948  0.050055  4.377813  20.632291   \n",
       "\n",
       "          jerk_mean  jerk_std  jerk_skew   jerk_kur  \n",
       "25819_22   0.000017  0.360148   1.344217  51.836805  \n",
       "25820_22  -0.000185  0.508781   0.701911  10.937510  \n",
       "25821_22  -0.000019  0.410676  -0.106500   4.133854  \n",
       "25822_22   0.000006  0.470394  -0.767359  13.588961  \n",
       "25824_22  -0.000066  0.304035  -0.280895   0.818470  \n",
       "\n",
       "[5 rows x 34 columns]"
      ]
     },
     "execution_count": 579,
     "metadata": {},
     "output_type": "execute_result"
    }
   ],
   "source": [
    "#load features\n",
    "filename = 'Features_unnormalized.csv'\n",
    "df_feat = pd.read_csv(filename)\n",
    "df_feat.index = df_train.index\n",
    "df_feat.head()"
   ]
  },
  {
   "cell_type": "code",
   "execution_count": 580,
   "metadata": {
    "collapsed": false
   },
   "outputs": [
    {
     "data": {
      "text/plain": [
       "3016"
      ]
     },
     "execution_count": 580,
     "metadata": {},
     "output_type": "execute_result"
    }
   ],
   "source": [
    "len(X_meta)"
   ]
  },
  {
   "cell_type": "code",
   "execution_count": 581,
   "metadata": {
    "collapsed": false
   },
   "outputs": [],
   "source": [
    "#add fileId, target and patient (to keep track of dropped rows)\n",
    "# X = pd.concat((X_meta.iloc[:,0],df_feat),axis=1) #feat only - add fileid\n",
    "X = pd.concat((X_meta,df_feat),axis=1) #concatenate metadata and features\n",
    "X['patient'] = Metadata['patient']\n",
    "X['bradykinesiaScore']=df_train['bradykinesiaScore']\n",
    "\n",
    "#drop nans and store separately the score\n",
    "X=X.dropna()\n",
    "y = X['bradykinesiaScore'].values\n",
    "groups = X['patient']\n",
    "X = X.drop('bradykinesiaScore',axis=1)\n",
    "X = X.drop('patient',axis=1)\n",
    "\n",
    "# X.head()"
   ]
  },
  {
   "cell_type": "code",
   "execution_count": 582,
   "metadata": {
    "collapsed": false
   },
   "outputs": [],
   "source": [
    "#standardize features\n",
    "scaler = StandardScaler()\n",
    "X.iloc[:,8:]=scaler.fit_transform(X.iloc[:,8:])"
   ]
  },
  {
   "cell_type": "code",
   "execution_count": 583,
   "metadata": {
    "collapsed": false
   },
   "outputs": [
    {
     "data": {
      "text/html": [
       "<div>\n",
       "<style>\n",
       "    .dataframe thead tr:only-child th {\n",
       "        text-align: right;\n",
       "    }\n",
       "\n",
       "    .dataframe thead th {\n",
       "        text-align: left;\n",
       "    }\n",
       "\n",
       "    .dataframe tbody tr th {\n",
       "        vertical-align: top;\n",
       "    }\n",
       "</style>\n",
       "<table border=\"1\" class=\"dataframe\">\n",
       "  <thead>\n",
       "    <tr style=\"text-align: right;\">\n",
       "      <th></th>\n",
       "      <th>dataFileHandleId</th>\n",
       "      <th>device</th>\n",
       "      <th>session</th>\n",
       "      <th>site</th>\n",
       "      <th>task</th>\n",
       "      <th>visit</th>\n",
       "      <th>deviceSide</th>\n",
       "      <th>Duration</th>\n",
       "      <th>EX</th>\n",
       "      <th>EY</th>\n",
       "      <th>...</th>\n",
       "      <th>Dom_freq</th>\n",
       "      <th>Pdom_rel</th>\n",
       "      <th>PSD_mean</th>\n",
       "      <th>PSD_std</th>\n",
       "      <th>PSD_skew</th>\n",
       "      <th>PSD_kur</th>\n",
       "      <th>jerk_mean</th>\n",
       "      <th>jerk_std</th>\n",
       "      <th>jerk_skew</th>\n",
       "      <th>jerk_kur</th>\n",
       "    </tr>\n",
       "  </thead>\n",
       "  <tbody>\n",
       "    <tr>\n",
       "      <th>25819_22</th>\n",
       "      <td>17286028</td>\n",
       "      <td>0</td>\n",
       "      <td>1</td>\n",
       "      <td>0</td>\n",
       "      <td>0</td>\n",
       "      <td>1</td>\n",
       "      <td>1</td>\n",
       "      <td>1.042534</td>\n",
       "      <td>-0.460739</td>\n",
       "      <td>-0.554383</td>\n",
       "      <td>...</td>\n",
       "      <td>-0.545353</td>\n",
       "      <td>-1.170413</td>\n",
       "      <td>-0.729816</td>\n",
       "      <td>-0.622104</td>\n",
       "      <td>-1.911450</td>\n",
       "      <td>-0.983782</td>\n",
       "      <td>0.010024</td>\n",
       "      <td>-0.847169</td>\n",
       "      <td>1.285868</td>\n",
       "      <td>0.546600</td>\n",
       "    </tr>\n",
       "    <tr>\n",
       "      <th>25820_22</th>\n",
       "      <td>17286030</td>\n",
       "      <td>1</td>\n",
       "      <td>1</td>\n",
       "      <td>0</td>\n",
       "      <td>0</td>\n",
       "      <td>1</td>\n",
       "      <td>0</td>\n",
       "      <td>1.042534</td>\n",
       "      <td>-0.406806</td>\n",
       "      <td>-0.375379</td>\n",
       "      <td>...</td>\n",
       "      <td>-0.673378</td>\n",
       "      <td>0.172239</td>\n",
       "      <td>-0.631879</td>\n",
       "      <td>-0.531417</td>\n",
       "      <td>0.065927</td>\n",
       "      <td>-0.141123</td>\n",
       "      <td>-0.111706</td>\n",
       "      <td>-0.685110</td>\n",
       "      <td>0.717222</td>\n",
       "      <td>-0.154402</td>\n",
       "    </tr>\n",
       "    <tr>\n",
       "      <th>25821_22</th>\n",
       "      <td>17286034</td>\n",
       "      <td>0</td>\n",
       "      <td>1</td>\n",
       "      <td>0</td>\n",
       "      <td>1</td>\n",
       "      <td>1</td>\n",
       "      <td>1</td>\n",
       "      <td>6.784089</td>\n",
       "      <td>-0.310379</td>\n",
       "      <td>-0.364372</td>\n",
       "      <td>...</td>\n",
       "      <td>-0.033255</td>\n",
       "      <td>-1.141204</td>\n",
       "      <td>-0.649340</td>\n",
       "      <td>-0.602790</td>\n",
       "      <td>-1.136528</td>\n",
       "      <td>-0.846988</td>\n",
       "      <td>-0.011680</td>\n",
       "      <td>-0.792078</td>\n",
       "      <td>0.001519</td>\n",
       "      <td>-0.271015</td>\n",
       "    </tr>\n",
       "    <tr>\n",
       "      <th>25822_22</th>\n",
       "      <td>17286036</td>\n",
       "      <td>1</td>\n",
       "      <td>1</td>\n",
       "      <td>0</td>\n",
       "      <td>1</td>\n",
       "      <td>1</td>\n",
       "      <td>0</td>\n",
       "      <td>6.784089</td>\n",
       "      <td>-0.330647</td>\n",
       "      <td>-0.341429</td>\n",
       "      <td>...</td>\n",
       "      <td>-0.545353</td>\n",
       "      <td>-0.561158</td>\n",
       "      <td>-0.654997</td>\n",
       "      <td>-0.572725</td>\n",
       "      <td>-0.687553</td>\n",
       "      <td>-0.722957</td>\n",
       "      <td>0.003355</td>\n",
       "      <td>-0.726964</td>\n",
       "      <td>-0.583552</td>\n",
       "      <td>-0.108957</td>\n",
       "    </tr>\n",
       "    <tr>\n",
       "      <th>25824_22</th>\n",
       "      <td>17286042</td>\n",
       "      <td>1</td>\n",
       "      <td>1</td>\n",
       "      <td>0</td>\n",
       "      <td>2</td>\n",
       "      <td>1</td>\n",
       "      <td>0</td>\n",
       "      <td>-0.871318</td>\n",
       "      <td>-0.455949</td>\n",
       "      <td>-0.505804</td>\n",
       "      <td>...</td>\n",
       "      <td>-0.417329</td>\n",
       "      <td>2.309139</td>\n",
       "      <td>-0.692006</td>\n",
       "      <td>-0.560337</td>\n",
       "      <td>1.916957</td>\n",
       "      <td>2.151536</td>\n",
       "      <td>-0.039743</td>\n",
       "      <td>-0.908352</td>\n",
       "      <td>-0.152876</td>\n",
       "      <td>-0.327839</td>\n",
       "    </tr>\n",
       "  </tbody>\n",
       "</table>\n",
       "<p>5 rows × 42 columns</p>\n",
       "</div>"
      ],
      "text/plain": [
       "          dataFileHandleId  device  session  site  task  visit  deviceSide  \\\n",
       "25819_22          17286028       0        1     0     0      1           1   \n",
       "25820_22          17286030       1        1     0     0      1           0   \n",
       "25821_22          17286034       0        1     0     1      1           1   \n",
       "25822_22          17286036       1        1     0     1      1           0   \n",
       "25824_22          17286042       1        1     0     2      1           0   \n",
       "\n",
       "          Duration        EX        EY    ...     Dom_freq  Pdom_rel  \\\n",
       "25819_22  1.042534 -0.460739 -0.554383    ...    -0.545353 -1.170413   \n",
       "25820_22  1.042534 -0.406806 -0.375379    ...    -0.673378  0.172239   \n",
       "25821_22  6.784089 -0.310379 -0.364372    ...    -0.033255 -1.141204   \n",
       "25822_22  6.784089 -0.330647 -0.341429    ...    -0.545353 -0.561158   \n",
       "25824_22 -0.871318 -0.455949 -0.505804    ...    -0.417329  2.309139   \n",
       "\n",
       "          PSD_mean   PSD_std  PSD_skew   PSD_kur  jerk_mean  jerk_std  \\\n",
       "25819_22 -0.729816 -0.622104 -1.911450 -0.983782   0.010024 -0.847169   \n",
       "25820_22 -0.631879 -0.531417  0.065927 -0.141123  -0.111706 -0.685110   \n",
       "25821_22 -0.649340 -0.602790 -1.136528 -0.846988  -0.011680 -0.792078   \n",
       "25822_22 -0.654997 -0.572725 -0.687553 -0.722957   0.003355 -0.726964   \n",
       "25824_22 -0.692006 -0.560337  1.916957  2.151536  -0.039743 -0.908352   \n",
       "\n",
       "          jerk_skew  jerk_kur  \n",
       "25819_22   1.285868  0.546600  \n",
       "25820_22   0.717222 -0.154402  \n",
       "25821_22   0.001519 -0.271015  \n",
       "25822_22  -0.583552 -0.108957  \n",
       "25824_22  -0.152876 -0.327839  \n",
       "\n",
       "[5 rows x 42 columns]"
      ]
     },
     "execution_count": 583,
     "metadata": {},
     "output_type": "execute_result"
    }
   ],
   "source": [
    "X.head() #the matrix of features"
   ]
  },
  {
   "cell_type": "code",
   "execution_count": 584,
   "metadata": {
    "collapsed": false
   },
   "outputs": [
    {
     "data": {
      "text/plain": [
       "Index(['dataFileHandleId', 'device', 'session', 'site', 'task', 'visit',\n",
       "       'deviceSide', 'Duration', 'EX', 'EY', 'EZ', 'rangeX', 'rangeY',\n",
       "       'rangeZ', 'meanX', 'meanY', 'meanZ', 'varX', 'varY', 'varZ', 'skewX',\n",
       "       'skewY', 'skewZ', 'kurtX', 'kurtY', 'kurtZ', 'xcor_peakXY',\n",
       "       'xcorr_peakXZ', 'xcorr_peakYZ', 'xcorr_lagXY', 'xcorr_lagXZ',\n",
       "       'xcorr_lagYZ', 'Dom_freq', 'Pdom_rel', 'PSD_mean', 'PSD_std',\n",
       "       'PSD_skew', 'PSD_kur', 'jerk_mean', 'jerk_std', 'jerk_skew',\n",
       "       'jerk_kur'],\n",
       "      dtype='object')"
      ]
     },
     "execution_count": 584,
     "metadata": {},
     "output_type": "execute_result"
    }
   ],
   "source": [
    "X.columns"
   ]
  },
  {
   "cell_type": "code",
   "execution_count": 585,
   "metadata": {
    "collapsed": true
   },
   "outputs": [],
   "source": [
    "models = [RandomForestClassifier(n_estimators=100,random_state=2),\n",
    "          GradientBoostingClassifier(n_estimators=100,max_depth=2,random_state=3),\n",
    "          SVC(kernel='rbf',C=1,cache_size=800,probability=True,random_state=3),\n",
    "          XGBClassifier(n_estimators=150,subsample=1,learning_rate=0.5,max_depth=2)\n",
    "         ]\n",
    "model_name = ['Random Forest','Gradient Boosting','SVM','XGB']"
   ]
  },
  {
   "cell_type": "code",
   "execution_count": 586,
   "metadata": {
    "collapsed": false
   },
   "outputs": [],
   "source": [
    "#create dataframe to store posterior scores from each clf\n",
    "Fnew = X.copy()\n",
    "Fnew=Fnew[['dataFileHandleId']]\n",
    "for m in model_name:\n",
    "    Fnew[m]=0\n",
    "Fnew.index=range(len(Fnew)) #reindex array\n",
    "# Fnew.head()"
   ]
  },
  {
   "cell_type": "code",
   "execution_count": 573,
   "metadata": {
    "collapsed": false
   },
   "outputs": [
    {
     "name": "stdout",
     "output_type": "stream",
     "text": [
      "Training Random Forest\n"
     ]
    },
    {
     "name": "stderr",
     "output_type": "stream",
     "text": [
      "/Users/luca/anaconda/envs/py35_pd20/lib/python3.5/site-packages/sklearn/metrics/classification.py:1135: UndefinedMetricWarning: Precision is ill-defined and being set to 0.0 due to no predicted samples.\n",
      "  'precision', 'predicted', average, warn_for)\n"
     ]
    },
    {
     "name": "stdout",
     "output_type": "stream",
     "text": [
      "Random Forest, mean F1 on training set = 1.000 (+/- 0.000)\n",
      "Random Forest, mean Prec = 0.743 (+/- 0.156)\n",
      "Random Forest, mean Rec = 0.529 (+/- 0.177)\n",
      "Training Gradient Boosting\n"
     ]
    },
    {
     "name": "stderr",
     "output_type": "stream",
     "text": [
      "/Users/luca/anaconda/envs/py35_pd20/lib/python3.5/site-packages/sklearn/metrics/classification.py:1135: UndefinedMetricWarning: Precision is ill-defined and being set to 0.0 due to no predicted samples.\n",
      "  'precision', 'predicted', average, warn_for)\n"
     ]
    },
    {
     "name": "stdout",
     "output_type": "stream",
     "text": [
      "Gradient Boosting, mean F1 on training set = 0.844 (+/- 0.004)\n",
      "Gradient Boosting, mean Prec = 0.727 (+/- 0.184)\n",
      "Gradient Boosting, mean Rec = 0.520 (+/- 0.184)\n",
      "Training SVM\n",
      "SVM, mean F1 on training set = 0.805 (+/- 0.005)\n",
      "SVM, mean Prec = 0.770 (+/- 0.155)\n",
      "SVM, mean Rec = 0.437 (+/- 0.150)\n",
      "Training XGB\n",
      "XGB, mean F1 on training set = 0.985 (+/- 0.002)\n",
      "XGB, mean Prec = 0.727 (+/- 0.119)\n",
      "XGB, mean Rec = 0.584 (+/- 0.153)\n"
     ]
    }
   ],
   "source": [
    "#LOSO CV - Compute prediction posteriors from each classifier and aggregate\n",
    "#drop \n",
    "# X = X.iloc[:,1:].as_matrix() #drop fileid \n",
    "m = zip(models,model_name)\n",
    "Fnew = LOSOCV(X.iloc[:,1:].as_matrix(),y,groups,m,Fnew)"
   ]
  },
  {
   "cell_type": "code",
   "execution_count": 574,
   "metadata": {
    "collapsed": false
   },
   "outputs": [],
   "source": [
    "Fnew.index=X.index"
   ]
  },
  {
   "cell_type": "code",
   "execution_count": 575,
   "metadata": {
    "collapsed": false
   },
   "outputs": [
    {
     "data": {
      "text/html": [
       "<div>\n",
       "<style>\n",
       "    .dataframe thead tr:only-child th {\n",
       "        text-align: right;\n",
       "    }\n",
       "\n",
       "    .dataframe thead th {\n",
       "        text-align: left;\n",
       "    }\n",
       "\n",
       "    .dataframe tbody tr th {\n",
       "        vertical-align: top;\n",
       "    }\n",
       "</style>\n",
       "<table border=\"1\" class=\"dataframe\">\n",
       "  <thead>\n",
       "    <tr style=\"text-align: right;\">\n",
       "      <th></th>\n",
       "      <th>dataFileHandleId</th>\n",
       "      <th>Random Forest</th>\n",
       "      <th>Gradient Boosting</th>\n",
       "      <th>SVM</th>\n",
       "      <th>XGB</th>\n",
       "    </tr>\n",
       "  </thead>\n",
       "  <tbody>\n",
       "    <tr>\n",
       "      <th>25819_22</th>\n",
       "      <td>17286028</td>\n",
       "      <td>0.41</td>\n",
       "      <td>0.103653</td>\n",
       "      <td>0.026299</td>\n",
       "      <td>0.016171</td>\n",
       "    </tr>\n",
       "    <tr>\n",
       "      <th>25820_22</th>\n",
       "      <td>17286030</td>\n",
       "      <td>0.29</td>\n",
       "      <td>0.202378</td>\n",
       "      <td>0.132396</td>\n",
       "      <td>0.158059</td>\n",
       "    </tr>\n",
       "    <tr>\n",
       "      <th>25821_22</th>\n",
       "      <td>17286034</td>\n",
       "      <td>0.65</td>\n",
       "      <td>0.710318</td>\n",
       "      <td>0.980504</td>\n",
       "      <td>0.679180</td>\n",
       "    </tr>\n",
       "    <tr>\n",
       "      <th>25822_22</th>\n",
       "      <td>17286036</td>\n",
       "      <td>0.38</td>\n",
       "      <td>0.409006</td>\n",
       "      <td>0.979566</td>\n",
       "      <td>0.340328</td>\n",
       "    </tr>\n",
       "    <tr>\n",
       "      <th>25824_22</th>\n",
       "      <td>17286042</td>\n",
       "      <td>0.63</td>\n",
       "      <td>0.820082</td>\n",
       "      <td>0.861562</td>\n",
       "      <td>0.571107</td>\n",
       "    </tr>\n",
       "  </tbody>\n",
       "</table>\n",
       "</div>"
      ],
      "text/plain": [
       "          dataFileHandleId  Random Forest  Gradient Boosting       SVM  \\\n",
       "25819_22          17286028           0.41           0.103653  0.026299   \n",
       "25820_22          17286030           0.29           0.202378  0.132396   \n",
       "25821_22          17286034           0.65           0.710318  0.980504   \n",
       "25822_22          17286036           0.38           0.409006  0.979566   \n",
       "25824_22          17286042           0.63           0.820082  0.861562   \n",
       "\n",
       "               XGB  \n",
       "25819_22  0.016171  \n",
       "25820_22  0.158059  \n",
       "25821_22  0.679180  \n",
       "25822_22  0.340328  \n",
       "25824_22  0.571107  "
      ]
     },
     "execution_count": 575,
     "metadata": {},
     "output_type": "execute_result"
    }
   ],
   "source": [
    "Fnew.head()"
   ]
  },
  {
   "cell_type": "code",
   "execution_count": 576,
   "metadata": {
    "collapsed": false
   },
   "outputs": [
    {
     "data": {
      "text/html": [
       "<div>\n",
       "<style>\n",
       "    .dataframe thead tr:only-child th {\n",
       "        text-align: right;\n",
       "    }\n",
       "\n",
       "    .dataframe thead th {\n",
       "        text-align: left;\n",
       "    }\n",
       "\n",
       "    .dataframe tbody tr th {\n",
       "        vertical-align: top;\n",
       "    }\n",
       "</style>\n",
       "<table border=\"1\" class=\"dataframe\">\n",
       "  <thead>\n",
       "    <tr style=\"text-align: right;\">\n",
       "      <th></th>\n",
       "      <th>dataFileHandleId</th>\n",
       "      <th>device</th>\n",
       "      <th>session</th>\n",
       "      <th>site</th>\n",
       "      <th>task</th>\n",
       "      <th>visit</th>\n",
       "      <th>deviceSide</th>\n",
       "      <th>Duration</th>\n",
       "      <th>Random Forest</th>\n",
       "      <th>Gradient Boosting</th>\n",
       "      <th>SVM</th>\n",
       "      <th>XGB</th>\n",
       "    </tr>\n",
       "  </thead>\n",
       "  <tbody>\n",
       "    <tr>\n",
       "      <th>25819_22</th>\n",
       "      <td>17286028</td>\n",
       "      <td>0</td>\n",
       "      <td>1</td>\n",
       "      <td>0</td>\n",
       "      <td>0</td>\n",
       "      <td>1</td>\n",
       "      <td>1</td>\n",
       "      <td>1.042534</td>\n",
       "      <td>0.41</td>\n",
       "      <td>0.103653</td>\n",
       "      <td>0.026299</td>\n",
       "      <td>0.016171</td>\n",
       "    </tr>\n",
       "    <tr>\n",
       "      <th>25820_22</th>\n",
       "      <td>17286030</td>\n",
       "      <td>1</td>\n",
       "      <td>1</td>\n",
       "      <td>0</td>\n",
       "      <td>0</td>\n",
       "      <td>1</td>\n",
       "      <td>0</td>\n",
       "      <td>1.042534</td>\n",
       "      <td>0.29</td>\n",
       "      <td>0.202378</td>\n",
       "      <td>0.132396</td>\n",
       "      <td>0.158059</td>\n",
       "    </tr>\n",
       "  </tbody>\n",
       "</table>\n",
       "</div>"
      ],
      "text/plain": [
       "          dataFileHandleId  device  session  site  task  visit  deviceSide  \\\n",
       "25819_22          17286028       0        1     0     0      1           1   \n",
       "25820_22          17286030       1        1     0     0      1           0   \n",
       "\n",
       "          Duration  Random Forest  Gradient Boosting       SVM       XGB  \n",
       "25819_22  1.042534           0.41           0.103653  0.026299  0.016171  \n",
       "25820_22  1.042534           0.29           0.202378  0.132396  0.158059  "
      ]
     },
     "execution_count": 576,
     "metadata": {},
     "output_type": "execute_result"
    }
   ],
   "source": [
    "Fnew_wMeta=pd.concat((X.iloc[:,:8],Fnew.iloc[:,1:]),axis=1)\n",
    "Fnew_wMeta.head(2)"
   ]
  },
  {
   "cell_type": "code",
   "execution_count": 433,
   "metadata": {
    "collapsed": true
   },
   "outputs": [],
   "source": [
    "Fnew_wMeta.to_csv('Submission_MetaandFeat_Stacking.csv',index=False)"
   ]
  },
  {
   "cell_type": "code",
   "execution_count": 403,
   "metadata": {
    "collapsed": false
   },
   "outputs": [
    {
     "name": "stdout",
     "output_type": "stream",
     "text": [
      "Welcome, Luca Lonini!\n",
      "\n",
      "AUPRC: 0.857\n"
     ]
    }
   ],
   "source": [
    "%run sc2FitModels_LOSOCV.py 'bradykinesia' 'Submission_Meta&Feat_Stacking.csv'"
   ]
  },
  {
   "cell_type": "code",
   "execution_count": 434,
   "metadata": {
    "collapsed": false
   },
   "outputs": [
    {
     "name": "stdout",
     "output_type": "stream",
     "text": [
      "Welcome, Luca Lonini!\n",
      "\n",
      "AUPRC: 0.885\n"
     ]
    }
   ],
   "source": [
    "%run sc2FitModels_LOSOCV.py 'bradykinesia' 'Submission_Meta&Feat_Stacking.csv'"
   ]
  },
  {
   "cell_type": "code",
   "execution_count": 180,
   "metadata": {
    "collapsed": false
   },
   "outputs": [],
   "source": [
    "sscores.index=X_meta.index\n",
    "X = pd.concat((X_meta,sscores[['SVMScoreMin']]),axis=1)\n"
   ]
  },
  {
   "cell_type": "code",
   "execution_count": 182,
   "metadata": {
    "collapsed": false
   },
   "outputs": [],
   "source": [
    "X.drop(['patient'],axis=1).to_csv(\"SVM_Test3.csv\")"
   ]
  },
  {
   "cell_type": "code",
   "execution_count": 45,
   "metadata": {
    "collapsed": false
   },
   "outputs": [
    {
     "ename": "FileNotFoundError",
     "evalue": "File b'Features_unnormalized.csv' does not exist",
     "output_type": "error",
     "traceback": [
      "\u001b[0;31m---------------------------------------------------------------------------\u001b[0m",
      "\u001b[0;31mFileNotFoundError\u001b[0m                         Traceback (most recent call last)",
      "\u001b[0;32m<ipython-input-45-423d7a8974fc>\u001b[0m in \u001b[0;36m<module>\u001b[0;34m()\u001b[0m\n\u001b[1;32m      1\u001b[0m \u001b[0;31m#load features\u001b[0m\u001b[0;34m\u001b[0m\u001b[0;34m\u001b[0m\u001b[0m\n\u001b[1;32m      2\u001b[0m \u001b[0mfilename\u001b[0m \u001b[0;34m=\u001b[0m \u001b[0;34m'Features_unnormalized.csv'\u001b[0m\u001b[0;34m\u001b[0m\u001b[0m\n\u001b[0;32m----> 3\u001b[0;31m \u001b[0mdf_feat\u001b[0m \u001b[0;34m=\u001b[0m \u001b[0mpd\u001b[0m\u001b[0;34m.\u001b[0m\u001b[0mread_csv\u001b[0m\u001b[0;34m(\u001b[0m\u001b[0mfilename\u001b[0m\u001b[0;34m)\u001b[0m\u001b[0;34m\u001b[0m\u001b[0m\n\u001b[0m\u001b[1;32m      4\u001b[0m \u001b[0mdf_feat\u001b[0m\u001b[0;34m.\u001b[0m\u001b[0mindex\u001b[0m \u001b[0;34m=\u001b[0m \u001b[0mdf_train\u001b[0m\u001b[0;34m.\u001b[0m\u001b[0mindex\u001b[0m\u001b[0;34m\u001b[0m\u001b[0m\n\u001b[1;32m      5\u001b[0m \u001b[0;31m#add fileId, target and patient (to keep track of dropped rows)\u001b[0m\u001b[0;34m\u001b[0m\u001b[0;34m\u001b[0m\u001b[0m\n",
      "\u001b[0;32m/Users/nicholasshawen/anaconda3/lib/python3.6/site-packages/pandas/io/parsers.py\u001b[0m in \u001b[0;36mparser_f\u001b[0;34m(filepath_or_buffer, sep, delimiter, header, names, index_col, usecols, squeeze, prefix, mangle_dupe_cols, dtype, engine, converters, true_values, false_values, skipinitialspace, skiprows, nrows, na_values, keep_default_na, na_filter, verbose, skip_blank_lines, parse_dates, infer_datetime_format, keep_date_col, date_parser, dayfirst, iterator, chunksize, compression, thousands, decimal, lineterminator, quotechar, quoting, escapechar, comment, encoding, dialect, tupleize_cols, error_bad_lines, warn_bad_lines, skipfooter, skip_footer, doublequote, delim_whitespace, as_recarray, compact_ints, use_unsigned, low_memory, buffer_lines, memory_map, float_precision)\u001b[0m\n\u001b[1;32m    644\u001b[0m                     skip_blank_lines=skip_blank_lines)\n\u001b[1;32m    645\u001b[0m \u001b[0;34m\u001b[0m\u001b[0m\n\u001b[0;32m--> 646\u001b[0;31m         \u001b[0;32mreturn\u001b[0m \u001b[0m_read\u001b[0m\u001b[0;34m(\u001b[0m\u001b[0mfilepath_or_buffer\u001b[0m\u001b[0;34m,\u001b[0m \u001b[0mkwds\u001b[0m\u001b[0;34m)\u001b[0m\u001b[0;34m\u001b[0m\u001b[0m\n\u001b[0m\u001b[1;32m    647\u001b[0m \u001b[0;34m\u001b[0m\u001b[0m\n\u001b[1;32m    648\u001b[0m     \u001b[0mparser_f\u001b[0m\u001b[0;34m.\u001b[0m\u001b[0m__name__\u001b[0m \u001b[0;34m=\u001b[0m \u001b[0mname\u001b[0m\u001b[0;34m\u001b[0m\u001b[0m\n",
      "\u001b[0;32m/Users/nicholasshawen/anaconda3/lib/python3.6/site-packages/pandas/io/parsers.py\u001b[0m in \u001b[0;36m_read\u001b[0;34m(filepath_or_buffer, kwds)\u001b[0m\n\u001b[1;32m    387\u001b[0m \u001b[0;34m\u001b[0m\u001b[0m\n\u001b[1;32m    388\u001b[0m     \u001b[0;31m# Create the parser.\u001b[0m\u001b[0;34m\u001b[0m\u001b[0;34m\u001b[0m\u001b[0m\n\u001b[0;32m--> 389\u001b[0;31m     \u001b[0mparser\u001b[0m \u001b[0;34m=\u001b[0m \u001b[0mTextFileReader\u001b[0m\u001b[0;34m(\u001b[0m\u001b[0mfilepath_or_buffer\u001b[0m\u001b[0;34m,\u001b[0m \u001b[0;34m**\u001b[0m\u001b[0mkwds\u001b[0m\u001b[0;34m)\u001b[0m\u001b[0;34m\u001b[0m\u001b[0m\n\u001b[0m\u001b[1;32m    390\u001b[0m \u001b[0;34m\u001b[0m\u001b[0m\n\u001b[1;32m    391\u001b[0m     \u001b[0;32mif\u001b[0m \u001b[0;34m(\u001b[0m\u001b[0mnrows\u001b[0m \u001b[0;32mis\u001b[0m \u001b[0;32mnot\u001b[0m \u001b[0;32mNone\u001b[0m\u001b[0;34m)\u001b[0m \u001b[0;32mand\u001b[0m \u001b[0;34m(\u001b[0m\u001b[0mchunksize\u001b[0m \u001b[0;32mis\u001b[0m \u001b[0;32mnot\u001b[0m \u001b[0;32mNone\u001b[0m\u001b[0;34m)\u001b[0m\u001b[0;34m:\u001b[0m\u001b[0;34m\u001b[0m\u001b[0m\n",
      "\u001b[0;32m/Users/nicholasshawen/anaconda3/lib/python3.6/site-packages/pandas/io/parsers.py\u001b[0m in \u001b[0;36m__init__\u001b[0;34m(self, f, engine, **kwds)\u001b[0m\n\u001b[1;32m    728\u001b[0m             \u001b[0mself\u001b[0m\u001b[0;34m.\u001b[0m\u001b[0moptions\u001b[0m\u001b[0;34m[\u001b[0m\u001b[0;34m'has_index_names'\u001b[0m\u001b[0;34m]\u001b[0m \u001b[0;34m=\u001b[0m \u001b[0mkwds\u001b[0m\u001b[0;34m[\u001b[0m\u001b[0;34m'has_index_names'\u001b[0m\u001b[0;34m]\u001b[0m\u001b[0;34m\u001b[0m\u001b[0m\n\u001b[1;32m    729\u001b[0m \u001b[0;34m\u001b[0m\u001b[0m\n\u001b[0;32m--> 730\u001b[0;31m         \u001b[0mself\u001b[0m\u001b[0;34m.\u001b[0m\u001b[0m_make_engine\u001b[0m\u001b[0;34m(\u001b[0m\u001b[0mself\u001b[0m\u001b[0;34m.\u001b[0m\u001b[0mengine\u001b[0m\u001b[0;34m)\u001b[0m\u001b[0;34m\u001b[0m\u001b[0m\n\u001b[0m\u001b[1;32m    731\u001b[0m \u001b[0;34m\u001b[0m\u001b[0m\n\u001b[1;32m    732\u001b[0m     \u001b[0;32mdef\u001b[0m \u001b[0mclose\u001b[0m\u001b[0;34m(\u001b[0m\u001b[0mself\u001b[0m\u001b[0;34m)\u001b[0m\u001b[0;34m:\u001b[0m\u001b[0;34m\u001b[0m\u001b[0m\n",
      "\u001b[0;32m/Users/nicholasshawen/anaconda3/lib/python3.6/site-packages/pandas/io/parsers.py\u001b[0m in \u001b[0;36m_make_engine\u001b[0;34m(self, engine)\u001b[0m\n\u001b[1;32m    921\u001b[0m     \u001b[0;32mdef\u001b[0m \u001b[0m_make_engine\u001b[0m\u001b[0;34m(\u001b[0m\u001b[0mself\u001b[0m\u001b[0;34m,\u001b[0m \u001b[0mengine\u001b[0m\u001b[0;34m=\u001b[0m\u001b[0;34m'c'\u001b[0m\u001b[0;34m)\u001b[0m\u001b[0;34m:\u001b[0m\u001b[0;34m\u001b[0m\u001b[0m\n\u001b[1;32m    922\u001b[0m         \u001b[0;32mif\u001b[0m \u001b[0mengine\u001b[0m \u001b[0;34m==\u001b[0m \u001b[0;34m'c'\u001b[0m\u001b[0;34m:\u001b[0m\u001b[0;34m\u001b[0m\u001b[0m\n\u001b[0;32m--> 923\u001b[0;31m             \u001b[0mself\u001b[0m\u001b[0;34m.\u001b[0m\u001b[0m_engine\u001b[0m \u001b[0;34m=\u001b[0m \u001b[0mCParserWrapper\u001b[0m\u001b[0;34m(\u001b[0m\u001b[0mself\u001b[0m\u001b[0;34m.\u001b[0m\u001b[0mf\u001b[0m\u001b[0;34m,\u001b[0m \u001b[0;34m**\u001b[0m\u001b[0mself\u001b[0m\u001b[0;34m.\u001b[0m\u001b[0moptions\u001b[0m\u001b[0;34m)\u001b[0m\u001b[0;34m\u001b[0m\u001b[0m\n\u001b[0m\u001b[1;32m    924\u001b[0m         \u001b[0;32melse\u001b[0m\u001b[0;34m:\u001b[0m\u001b[0;34m\u001b[0m\u001b[0m\n\u001b[1;32m    925\u001b[0m             \u001b[0;32mif\u001b[0m \u001b[0mengine\u001b[0m \u001b[0;34m==\u001b[0m \u001b[0;34m'python'\u001b[0m\u001b[0;34m:\u001b[0m\u001b[0;34m\u001b[0m\u001b[0m\n",
      "\u001b[0;32m/Users/nicholasshawen/anaconda3/lib/python3.6/site-packages/pandas/io/parsers.py\u001b[0m in \u001b[0;36m__init__\u001b[0;34m(self, src, **kwds)\u001b[0m\n\u001b[1;32m   1388\u001b[0m         \u001b[0mkwds\u001b[0m\u001b[0;34m[\u001b[0m\u001b[0;34m'allow_leading_cols'\u001b[0m\u001b[0;34m]\u001b[0m \u001b[0;34m=\u001b[0m \u001b[0mself\u001b[0m\u001b[0;34m.\u001b[0m\u001b[0mindex_col\u001b[0m \u001b[0;32mis\u001b[0m \u001b[0;32mnot\u001b[0m \u001b[0;32mFalse\u001b[0m\u001b[0;34m\u001b[0m\u001b[0m\n\u001b[1;32m   1389\u001b[0m \u001b[0;34m\u001b[0m\u001b[0m\n\u001b[0;32m-> 1390\u001b[0;31m         \u001b[0mself\u001b[0m\u001b[0;34m.\u001b[0m\u001b[0m_reader\u001b[0m \u001b[0;34m=\u001b[0m \u001b[0m_parser\u001b[0m\u001b[0;34m.\u001b[0m\u001b[0mTextReader\u001b[0m\u001b[0;34m(\u001b[0m\u001b[0msrc\u001b[0m\u001b[0;34m,\u001b[0m \u001b[0;34m**\u001b[0m\u001b[0mkwds\u001b[0m\u001b[0;34m)\u001b[0m\u001b[0;34m\u001b[0m\u001b[0m\n\u001b[0m\u001b[1;32m   1391\u001b[0m \u001b[0;34m\u001b[0m\u001b[0m\n\u001b[1;32m   1392\u001b[0m         \u001b[0;31m# XXX\u001b[0m\u001b[0;34m\u001b[0m\u001b[0;34m\u001b[0m\u001b[0m\n",
      "\u001b[0;32mpandas/parser.pyx\u001b[0m in \u001b[0;36mpandas.parser.TextReader.__cinit__ (pandas/parser.c:4184)\u001b[0;34m()\u001b[0m\n",
      "\u001b[0;32mpandas/parser.pyx\u001b[0m in \u001b[0;36mpandas.parser.TextReader._setup_parser_source (pandas/parser.c:8449)\u001b[0;34m()\u001b[0m\n",
      "\u001b[0;31mFileNotFoundError\u001b[0m: File b'Features_unnormalized.csv' does not exist"
     ]
    }
   ],
   "source": [
    "#load features\n",
    "filename = 'Features_unnormalized.csv'\n",
    "df_feat = pd.read_csv(filename)\n",
    "df_feat.index = df_train.index\n",
    "#add fileId, target and patient (to keep track of dropped rows)\n",
    "X = pd.concat((X_meta.iloc[:,0],df_feat),axis=1)\n",
    "X['patient'] = Metadata['patient']\n",
    "X['bradykinesiaScore']=df_train['bradykinesiaScore']\n",
    "#drop nans and store separately the score\n",
    "X=X.dropna()\n",
    "y = X['bradykinesiaScore'].values\n",
    "groups = X['patient']\n",
    "X = X.drop('bradykinesiaScore',axis=1)\n",
    "X = X.drop('patient',axis=1)\n",
    "#add index to sscores and concatenate to other features\n",
    "sscores.index=X.index\n",
    "X = pd.concat((X,sscores),axis=1)\n",
    "#standardize features\n",
    "scaler = StandardScaler()\n",
    "X.iloc[:,1:]=scaler.fit_transform(X.iloc[:,1:])"
   ]
  },
  {
   "cell_type": "code",
   "execution_count": 341,
   "metadata": {
    "collapsed": false
   },
   "outputs": [
    {
     "data": {
      "text/html": [
       "<div>\n",
       "<style>\n",
       "    .dataframe thead tr:only-child th {\n",
       "        text-align: right;\n",
       "    }\n",
       "\n",
       "    .dataframe thead th {\n",
       "        text-align: left;\n",
       "    }\n",
       "\n",
       "    .dataframe tbody tr th {\n",
       "        vertical-align: top;\n",
       "    }\n",
       "</style>\n",
       "<table border=\"1\" class=\"dataframe\">\n",
       "  <thead>\n",
       "    <tr style=\"text-align: right;\">\n",
       "      <th></th>\n",
       "      <th>dataFileHandleId</th>\n",
       "      <th>EX</th>\n",
       "      <th>EY</th>\n",
       "      <th>EZ</th>\n",
       "      <th>rangeX</th>\n",
       "      <th>rangeY</th>\n",
       "      <th>rangeZ</th>\n",
       "      <th>meanX</th>\n",
       "      <th>meanY</th>\n",
       "      <th>meanZ</th>\n",
       "      <th>...</th>\n",
       "      <th>jerk_std</th>\n",
       "      <th>jerk_skew</th>\n",
       "      <th>jerk_kur</th>\n",
       "      <th>SVMScore25</th>\n",
       "      <th>SVMScore75</th>\n",
       "      <th>SVMScoreMax</th>\n",
       "      <th>SVMScoreMean</th>\n",
       "      <th>SVMScoreMedian</th>\n",
       "      <th>SVMScoreMin</th>\n",
       "      <th>SVMScoreStd</th>\n",
       "    </tr>\n",
       "  </thead>\n",
       "  <tbody>\n",
       "    <tr>\n",
       "      <th>25819_22</th>\n",
       "      <td>17286028</td>\n",
       "      <td>-0.460739</td>\n",
       "      <td>-0.554383</td>\n",
       "      <td>-0.734066</td>\n",
       "      <td>-0.749468</td>\n",
       "      <td>-1.311779</td>\n",
       "      <td>-1.086488</td>\n",
       "      <td>-0.085276</td>\n",
       "      <td>0.005512</td>\n",
       "      <td>0.040137</td>\n",
       "      <td>...</td>\n",
       "      <td>-0.847169</td>\n",
       "      <td>1.285868</td>\n",
       "      <td>0.546600</td>\n",
       "      <td>-1.304407</td>\n",
       "      <td>-0.395617</td>\n",
       "      <td>-0.170443</td>\n",
       "      <td>-0.701715</td>\n",
       "      <td>-0.363260</td>\n",
       "      <td>-0.985201</td>\n",
       "      <td>0.837066</td>\n",
       "    </tr>\n",
       "    <tr>\n",
       "      <th>25820_22</th>\n",
       "      <td>17286030</td>\n",
       "      <td>-0.406806</td>\n",
       "      <td>-0.375379</td>\n",
       "      <td>-0.616679</td>\n",
       "      <td>-0.763467</td>\n",
       "      <td>-0.633755</td>\n",
       "      <td>-0.843581</td>\n",
       "      <td>0.099766</td>\n",
       "      <td>0.370935</td>\n",
       "      <td>-0.203844</td>\n",
       "      <td>...</td>\n",
       "      <td>-0.685110</td>\n",
       "      <td>0.717222</td>\n",
       "      <td>-0.154402</td>\n",
       "      <td>0.253925</td>\n",
       "      <td>0.126600</td>\n",
       "      <td>0.072570</td>\n",
       "      <td>0.253158</td>\n",
       "      <td>0.320171</td>\n",
       "      <td>0.062849</td>\n",
       "      <td>-0.352609</td>\n",
       "    </tr>\n",
       "    <tr>\n",
       "      <th>25821_22</th>\n",
       "      <td>17286034</td>\n",
       "      <td>-0.310379</td>\n",
       "      <td>-0.364372</td>\n",
       "      <td>-0.578126</td>\n",
       "      <td>-0.494683</td>\n",
       "      <td>-0.282922</td>\n",
       "      <td>-0.796560</td>\n",
       "      <td>0.063283</td>\n",
       "      <td>0.017561</td>\n",
       "      <td>0.004127</td>\n",
       "      <td>...</td>\n",
       "      <td>-0.792078</td>\n",
       "      <td>0.001519</td>\n",
       "      <td>-0.271015</td>\n",
       "      <td>-0.971369</td>\n",
       "      <td>-1.332533</td>\n",
       "      <td>-1.516577</td>\n",
       "      <td>-1.182357</td>\n",
       "      <td>-1.194811</td>\n",
       "      <td>-0.279008</td>\n",
       "      <td>-1.287595</td>\n",
       "    </tr>\n",
       "    <tr>\n",
       "      <th>25822_22</th>\n",
       "      <td>17286036</td>\n",
       "      <td>-0.330647</td>\n",
       "      <td>-0.341429</td>\n",
       "      <td>-0.355607</td>\n",
       "      <td>-0.409179</td>\n",
       "      <td>-0.688793</td>\n",
       "      <td>-0.606987</td>\n",
       "      <td>-0.050726</td>\n",
       "      <td>-0.002726</td>\n",
       "      <td>0.055454</td>\n",
       "      <td>...</td>\n",
       "      <td>-0.726964</td>\n",
       "      <td>-0.583552</td>\n",
       "      <td>-0.108957</td>\n",
       "      <td>-0.870597</td>\n",
       "      <td>-1.280451</td>\n",
       "      <td>-1.531320</td>\n",
       "      <td>-1.103975</td>\n",
       "      <td>-1.113008</td>\n",
       "      <td>-0.266107</td>\n",
       "      <td>-1.392541</td>\n",
       "    </tr>\n",
       "    <tr>\n",
       "      <th>25824_22</th>\n",
       "      <td>17286042</td>\n",
       "      <td>-0.455949</td>\n",
       "      <td>-0.505804</td>\n",
       "      <td>-0.727894</td>\n",
       "      <td>-0.950619</td>\n",
       "      <td>-0.925947</td>\n",
       "      <td>-1.333126</td>\n",
       "      <td>-0.511436</td>\n",
       "      <td>-0.355837</td>\n",
       "      <td>-0.177313</td>\n",
       "      <td>...</td>\n",
       "      <td>-0.908352</td>\n",
       "      <td>-0.152876</td>\n",
       "      <td>-0.327839</td>\n",
       "      <td>-0.036136</td>\n",
       "      <td>0.030493</td>\n",
       "      <td>0.019477</td>\n",
       "      <td>0.094938</td>\n",
       "      <td>0.107224</td>\n",
       "      <td>0.597663</td>\n",
       "      <td>-0.386465</td>\n",
       "    </tr>\n",
       "  </tbody>\n",
       "</table>\n",
       "<p>5 rows × 42 columns</p>\n",
       "</div>"
      ],
      "text/plain": [
       "          dataFileHandleId        EX        EY        EZ    rangeX    rangeY  \\\n",
       "25819_22          17286028 -0.460739 -0.554383 -0.734066 -0.749468 -1.311779   \n",
       "25820_22          17286030 -0.406806 -0.375379 -0.616679 -0.763467 -0.633755   \n",
       "25821_22          17286034 -0.310379 -0.364372 -0.578126 -0.494683 -0.282922   \n",
       "25822_22          17286036 -0.330647 -0.341429 -0.355607 -0.409179 -0.688793   \n",
       "25824_22          17286042 -0.455949 -0.505804 -0.727894 -0.950619 -0.925947   \n",
       "\n",
       "            rangeZ     meanX     meanY     meanZ     ...       jerk_std  \\\n",
       "25819_22 -1.086488 -0.085276  0.005512  0.040137     ...      -0.847169   \n",
       "25820_22 -0.843581  0.099766  0.370935 -0.203844     ...      -0.685110   \n",
       "25821_22 -0.796560  0.063283  0.017561  0.004127     ...      -0.792078   \n",
       "25822_22 -0.606987 -0.050726 -0.002726  0.055454     ...      -0.726964   \n",
       "25824_22 -1.333126 -0.511436 -0.355837 -0.177313     ...      -0.908352   \n",
       "\n",
       "          jerk_skew  jerk_kur  SVMScore25  SVMScore75  SVMScoreMax  \\\n",
       "25819_22   1.285868  0.546600   -1.304407   -0.395617    -0.170443   \n",
       "25820_22   0.717222 -0.154402    0.253925    0.126600     0.072570   \n",
       "25821_22   0.001519 -0.271015   -0.971369   -1.332533    -1.516577   \n",
       "25822_22  -0.583552 -0.108957   -0.870597   -1.280451    -1.531320   \n",
       "25824_22  -0.152876 -0.327839   -0.036136    0.030493     0.019477   \n",
       "\n",
       "          SVMScoreMean  SVMScoreMedian  SVMScoreMin  SVMScoreStd  \n",
       "25819_22     -0.701715       -0.363260    -0.985201     0.837066  \n",
       "25820_22      0.253158        0.320171     0.062849    -0.352609  \n",
       "25821_22     -1.182357       -1.194811    -0.279008    -1.287595  \n",
       "25822_22     -1.103975       -1.113008    -0.266107    -1.392541  \n",
       "25824_22      0.094938        0.107224     0.597663    -0.386465  \n",
       "\n",
       "[5 rows x 42 columns]"
      ]
     },
     "execution_count": 341,
     "metadata": {},
     "output_type": "execute_result"
    }
   ],
   "source": [
    "X.head()"
   ]
  },
  {
   "cell_type": "code",
   "execution_count": 335,
   "metadata": {
    "collapsed": true
   },
   "outputs": [],
   "source": [
    "models = [RandomForestClassifier(n_estimators=100,random_state=2),\n",
    "          GradientBoostingClassifier(n_estimators=100,max_depth=2,random_state=3),\n",
    "          SVC(kernel='rbf',C=1,cache_size=800,probability=True,random_state=3),\n",
    "          XGBClassifier(n_estimators=150,subsample=1,learning_rate=0.5,max_depth=2)\n",
    "         ]\n",
    "model_name = ['Random Forest','Gradient Boosting','SVM','XGB']"
   ]
  },
  {
   "cell_type": "code",
   "execution_count": 336,
   "metadata": {
    "collapsed": false
   },
   "outputs": [],
   "source": [
    "#create dataframe to store posterior scores from each clf\n",
    "Fnew = X.copy()\n",
    "Fnew=Fnew[['dataFileHandleId']]\n",
    "for m in model_name:\n",
    "    Fnew[m]=0\n",
    "Fnew.index=range(len(Fnew)) #reindex array\n",
    "# Fnew.head()"
   ]
  },
  {
   "cell_type": "code",
   "execution_count": 337,
   "metadata": {
    "collapsed": false
   },
   "outputs": [
    {
     "name": "stdout",
     "output_type": "stream",
     "text": [
      "Training Random Forest\n",
      "Random Forest, mean F1 on training set = 1.000 (+/- 0.000)\n",
      "Random Forest, mean Prec = 0.506 (+/- 0.195)\n",
      "Random Forest, mean Rec = 0.287 (+/- 0.125)\n",
      "Training Gradient Boosting\n",
      "Gradient Boosting, mean F1 on training set = 0.744 (+/- 0.007)\n",
      "Gradient Boosting, mean Prec = 0.532 (+/- 0.191)\n",
      "Gradient Boosting, mean Rec = 0.283 (+/- 0.123)\n",
      "Training SVM\n",
      "SVM, mean F1 on training set = 0.643 (+/- 0.011)\n",
      "SVM, mean Prec = 0.559 (+/- 0.204)\n",
      "SVM, mean Rec = 0.178 (+/- 0.080)\n",
      "Training XGB\n",
      "XGB, mean F1 on training set = 0.948 (+/- 0.002)\n",
      "XGB, mean Prec = 0.525 (+/- 0.160)\n",
      "XGB, mean Rec = 0.390 (+/- 0.101)\n"
     ]
    }
   ],
   "source": [
    "#LOSO CV - Compute prediction posteriors from each classifier and aggregate\n",
    "#drop \n",
    "# X = X.iloc[:,1:].as_matrix() #drop fileid \n",
    "m = zip(models,model_name)\n",
    "Fnew = LOSOCV(X.iloc[:,1:].as_matrix(),y,groups,m,Fnew)"
   ]
  },
  {
   "cell_type": "markdown",
   "metadata": {},
   "source": [
    "### Make submisssion"
   ]
  },
  {
   "cell_type": "code",
   "execution_count": 353,
   "metadata": {
    "collapsed": false
   },
   "outputs": [],
   "source": [
    "clfxgb = models[3]"
   ]
  },
  {
   "cell_type": "code",
   "execution_count": 355,
   "metadata": {
    "collapsed": false
   },
   "outputs": [
    {
     "data": {
      "text/plain": [
       "(41,)"
      ]
     },
     "execution_count": 355,
     "metadata": {},
     "output_type": "execute_result"
    }
   ],
   "source": [
    "clfxgb.feature_importances_.shape"
   ]
  },
  {
   "cell_type": "code",
   "execution_count": 347,
   "metadata": {
    "collapsed": false
   },
   "outputs": [
    {
     "data": {
      "text/html": [
       "<div>\n",
       "<style>\n",
       "    .dataframe thead tr:only-child th {\n",
       "        text-align: right;\n",
       "    }\n",
       "\n",
       "    .dataframe thead th {\n",
       "        text-align: left;\n",
       "    }\n",
       "\n",
       "    .dataframe tbody tr th {\n",
       "        vertical-align: top;\n",
       "    }\n",
       "</style>\n",
       "<table border=\"1\" class=\"dataframe\">\n",
       "  <thead>\n",
       "    <tr style=\"text-align: right;\">\n",
       "      <th></th>\n",
       "      <th>dataFileHandleId</th>\n",
       "      <th>Random Forest</th>\n",
       "      <th>Gradient Boosting</th>\n",
       "      <th>SVM</th>\n",
       "      <th>XGB</th>\n",
       "    </tr>\n",
       "  </thead>\n",
       "  <tbody>\n",
       "    <tr>\n",
       "      <th>0</th>\n",
       "      <td>17286028</td>\n",
       "      <td>0.30</td>\n",
       "      <td>0.166298</td>\n",
       "      <td>0.135550</td>\n",
       "      <td>0.173430</td>\n",
       "    </tr>\n",
       "    <tr>\n",
       "      <th>1</th>\n",
       "      <td>17286030</td>\n",
       "      <td>0.12</td>\n",
       "      <td>0.126891</td>\n",
       "      <td>0.142753</td>\n",
       "      <td>0.214902</td>\n",
       "    </tr>\n",
       "    <tr>\n",
       "      <th>2</th>\n",
       "      <td>17286034</td>\n",
       "      <td>0.32</td>\n",
       "      <td>0.474954</td>\n",
       "      <td>0.181625</td>\n",
       "      <td>0.270035</td>\n",
       "    </tr>\n",
       "    <tr>\n",
       "      <th>3</th>\n",
       "      <td>17286036</td>\n",
       "      <td>0.30</td>\n",
       "      <td>0.209473</td>\n",
       "      <td>0.205921</td>\n",
       "      <td>0.221518</td>\n",
       "    </tr>\n",
       "    <tr>\n",
       "      <th>4</th>\n",
       "      <td>17286042</td>\n",
       "      <td>0.56</td>\n",
       "      <td>0.561740</td>\n",
       "      <td>0.127604</td>\n",
       "      <td>0.159283</td>\n",
       "    </tr>\n",
       "  </tbody>\n",
       "</table>\n",
       "</div>"
      ],
      "text/plain": [
       "   dataFileHandleId  Random Forest  Gradient Boosting       SVM       XGB\n",
       "0          17286028           0.30           0.166298  0.135550  0.173430\n",
       "1          17286030           0.12           0.126891  0.142753  0.214902\n",
       "2          17286034           0.32           0.474954  0.181625  0.270035\n",
       "3          17286036           0.30           0.209473  0.205921  0.221518\n",
       "4          17286042           0.56           0.561740  0.127604  0.159283"
      ]
     },
     "execution_count": 347,
     "metadata": {},
     "output_type": "execute_result"
    }
   ],
   "source": [
    "Fnew.head()"
   ]
  },
  {
   "cell_type": "code",
   "execution_count": 356,
   "metadata": {
    "collapsed": true
   },
   "outputs": [],
   "source": [
    "Fnew.to_csv('Submission_FwSs_Stacking.csv',index=False)"
   ]
  },
  {
   "cell_type": "code",
   "execution_count": 184,
   "metadata": {
    "collapsed": false
   },
   "outputs": [
    {
     "name": "stdout",
     "output_type": "stream",
     "text": [
      "Welcome, Nicholas Shawen!\n",
      "\n",
      "AUPRC: 0.892\n"
     ]
    }
   ],
   "source": [
    "%run sc2FitModels_LOSOCV.py 'tremor' SVM_Test3.csv"
   ]
  },
  {
   "cell_type": "code",
   "execution_count": 357,
   "metadata": {
    "collapsed": false
   },
   "outputs": [
    {
     "name": "stdout",
     "output_type": "stream",
     "text": [
      "Welcome, Luca Lonini!\n",
      "\n",
      "AUPRC: 0.576\n"
     ]
    }
   ],
   "source": [
    "%run sc2FitModels_LOSOCV.py 'bradykinesia' Submission_FwSs_Stacking.csv"
   ]
  },
  {
   "cell_type": "code",
   "execution_count": 185,
   "metadata": {
    "collapsed": false
   },
   "outputs": [
    {
     "data": {
      "text/html": [
       "<div>\n",
       "<table border=\"1\" class=\"dataframe\">\n",
       "  <thead>\n",
       "    <tr style=\"text-align: right;\">\n",
       "      <th></th>\n",
       "      <th>dataFileHandleId</th>\n",
       "      <th>device</th>\n",
       "      <th>patient</th>\n",
       "      <th>session</th>\n",
       "      <th>site</th>\n",
       "      <th>task</th>\n",
       "      <th>visit</th>\n",
       "      <th>deviceSide</th>\n",
       "      <th>Duration</th>\n",
       "      <th>SVMScoreMin</th>\n",
       "    </tr>\n",
       "  </thead>\n",
       "  <tbody>\n",
       "    <tr>\n",
       "      <th>25819_22</th>\n",
       "      <td>17286028</td>\n",
       "      <td>0</td>\n",
       "      <td>2</td>\n",
       "      <td>1</td>\n",
       "      <td>0</td>\n",
       "      <td>0</td>\n",
       "      <td>1</td>\n",
       "      <td>1</td>\n",
       "      <td>1.014863</td>\n",
       "      <td>-2.674450</td>\n",
       "    </tr>\n",
       "    <tr>\n",
       "      <th>25820_22</th>\n",
       "      <td>17286030</td>\n",
       "      <td>1</td>\n",
       "      <td>2</td>\n",
       "      <td>1</td>\n",
       "      <td>0</td>\n",
       "      <td>0</td>\n",
       "      <td>1</td>\n",
       "      <td>0</td>\n",
       "      <td>1.014863</td>\n",
       "      <td>-1.800807</td>\n",
       "    </tr>\n",
       "    <tr>\n",
       "      <th>25821_22</th>\n",
       "      <td>17286034</td>\n",
       "      <td>0</td>\n",
       "      <td>2</td>\n",
       "      <td>1</td>\n",
       "      <td>0</td>\n",
       "      <td>1</td>\n",
       "      <td>1</td>\n",
       "      <td>1</td>\n",
       "      <td>6.984001</td>\n",
       "      <td>-8.937845</td>\n",
       "    </tr>\n",
       "    <tr>\n",
       "      <th>25822_22</th>\n",
       "      <td>17286036</td>\n",
       "      <td>1</td>\n",
       "      <td>2</td>\n",
       "      <td>1</td>\n",
       "      <td>0</td>\n",
       "      <td>1</td>\n",
       "      <td>1</td>\n",
       "      <td>0</td>\n",
       "      <td>6.984001</td>\n",
       "      <td>-8.991113</td>\n",
       "    </tr>\n",
       "    <tr>\n",
       "      <th>25824_22</th>\n",
       "      <td>17286042</td>\n",
       "      <td>1</td>\n",
       "      <td>2</td>\n",
       "      <td>1</td>\n",
       "      <td>0</td>\n",
       "      <td>2</td>\n",
       "      <td>1</td>\n",
       "      <td>0</td>\n",
       "      <td>-0.974849</td>\n",
       "      <td>3.154763</td>\n",
       "    </tr>\n",
       "    <tr>\n",
       "      <th>25826_22</th>\n",
       "      <td>17286048</td>\n",
       "      <td>1</td>\n",
       "      <td>2</td>\n",
       "      <td>1</td>\n",
       "      <td>0</td>\n",
       "      <td>3</td>\n",
       "      <td>1</td>\n",
       "      <td>0</td>\n",
       "      <td>-0.974849</td>\n",
       "      <td>3.727398</td>\n",
       "    </tr>\n",
       "    <tr>\n",
       "      <th>25827_22</th>\n",
       "      <td>17286052</td>\n",
       "      <td>0</td>\n",
       "      <td>2</td>\n",
       "      <td>1</td>\n",
       "      <td>0</td>\n",
       "      <td>4</td>\n",
       "      <td>1</td>\n",
       "      <td>1</td>\n",
       "      <td>-0.974849</td>\n",
       "      <td>7.310012</td>\n",
       "    </tr>\n",
       "    <tr>\n",
       "      <th>25829_22</th>\n",
       "      <td>17286058</td>\n",
       "      <td>0</td>\n",
       "      <td>2</td>\n",
       "      <td>1</td>\n",
       "      <td>0</td>\n",
       "      <td>5</td>\n",
       "      <td>1</td>\n",
       "      <td>1</td>\n",
       "      <td>-0.880101</td>\n",
       "      <td>8.942900</td>\n",
       "    </tr>\n",
       "    <tr>\n",
       "      <th>25831_22</th>\n",
       "      <td>17286064</td>\n",
       "      <td>0</td>\n",
       "      <td>2</td>\n",
       "      <td>1</td>\n",
       "      <td>0</td>\n",
       "      <td>6</td>\n",
       "      <td>1</td>\n",
       "      <td>1</td>\n",
       "      <td>0.446374</td>\n",
       "      <td>4.361210</td>\n",
       "    </tr>\n",
       "    <tr>\n",
       "      <th>25832_22</th>\n",
       "      <td>17286066</td>\n",
       "      <td>1</td>\n",
       "      <td>2</td>\n",
       "      <td>1</td>\n",
       "      <td>0</td>\n",
       "      <td>6</td>\n",
       "      <td>1</td>\n",
       "      <td>0</td>\n",
       "      <td>0.446374</td>\n",
       "      <td>6.914857</td>\n",
       "    </tr>\n",
       "    <tr>\n",
       "      <th>25833_22</th>\n",
       "      <td>17286069</td>\n",
       "      <td>0</td>\n",
       "      <td>2</td>\n",
       "      <td>1</td>\n",
       "      <td>0</td>\n",
       "      <td>7</td>\n",
       "      <td>1</td>\n",
       "      <td>1</td>\n",
       "      <td>3.952058</td>\n",
       "      <td>-2.659632</td>\n",
       "    </tr>\n",
       "    <tr>\n",
       "      <th>25834_22</th>\n",
       "      <td>17286072</td>\n",
       "      <td>1</td>\n",
       "      <td>2</td>\n",
       "      <td>1</td>\n",
       "      <td>0</td>\n",
       "      <td>7</td>\n",
       "      <td>1</td>\n",
       "      <td>0</td>\n",
       "      <td>3.952058</td>\n",
       "      <td>0.002453</td>\n",
       "    </tr>\n",
       "    <tr>\n",
       "      <th>25836_22</th>\n",
       "      <td>17286078</td>\n",
       "      <td>1</td>\n",
       "      <td>2</td>\n",
       "      <td>1</td>\n",
       "      <td>0</td>\n",
       "      <td>8</td>\n",
       "      <td>1</td>\n",
       "      <td>0</td>\n",
       "      <td>-0.880101</td>\n",
       "      <td>4.160674</td>\n",
       "    </tr>\n",
       "    <tr>\n",
       "      <th>25838_22</th>\n",
       "      <td>17286084</td>\n",
       "      <td>1</td>\n",
       "      <td>2</td>\n",
       "      <td>1</td>\n",
       "      <td>0</td>\n",
       "      <td>9</td>\n",
       "      <td>1</td>\n",
       "      <td>0</td>\n",
       "      <td>-0.880101</td>\n",
       "      <td>-1.726618</td>\n",
       "    </tr>\n",
       "    <tr>\n",
       "      <th>25839_22</th>\n",
       "      <td>17286088</td>\n",
       "      <td>0</td>\n",
       "      <td>2</td>\n",
       "      <td>1</td>\n",
       "      <td>0</td>\n",
       "      <td>10</td>\n",
       "      <td>1</td>\n",
       "      <td>1</td>\n",
       "      <td>-0.974849</td>\n",
       "      <td>-3.151854</td>\n",
       "    </tr>\n",
       "    <tr>\n",
       "      <th>25841_22</th>\n",
       "      <td>17286094</td>\n",
       "      <td>0</td>\n",
       "      <td>2</td>\n",
       "      <td>1</td>\n",
       "      <td>0</td>\n",
       "      <td>11</td>\n",
       "      <td>1</td>\n",
       "      <td>1</td>\n",
       "      <td>-0.974849</td>\n",
       "      <td>-3.327016</td>\n",
       "    </tr>\n",
       "    <tr>\n",
       "      <th>25843_22</th>\n",
       "      <td>17286161</td>\n",
       "      <td>0</td>\n",
       "      <td>2</td>\n",
       "      <td>2</td>\n",
       "      <td>0</td>\n",
       "      <td>0</td>\n",
       "      <td>1</td>\n",
       "      <td>1</td>\n",
       "      <td>0.825367</td>\n",
       "      <td>3.951370</td>\n",
       "    </tr>\n",
       "    <tr>\n",
       "      <th>25844_22</th>\n",
       "      <td>17286163</td>\n",
       "      <td>1</td>\n",
       "      <td>2</td>\n",
       "      <td>2</td>\n",
       "      <td>0</td>\n",
       "      <td>0</td>\n",
       "      <td>1</td>\n",
       "      <td>0</td>\n",
       "      <td>0.825367</td>\n",
       "      <td>-2.504054</td>\n",
       "    </tr>\n",
       "    <tr>\n",
       "      <th>25845_22</th>\n",
       "      <td>17286167</td>\n",
       "      <td>0</td>\n",
       "      <td>2</td>\n",
       "      <td>2</td>\n",
       "      <td>0</td>\n",
       "      <td>1</td>\n",
       "      <td>1</td>\n",
       "      <td>1</td>\n",
       "      <td>5.278533</td>\n",
       "      <td>-4.515851</td>\n",
       "    </tr>\n",
       "    <tr>\n",
       "      <th>25846_22</th>\n",
       "      <td>17286169</td>\n",
       "      <td>1</td>\n",
       "      <td>2</td>\n",
       "      <td>2</td>\n",
       "      <td>0</td>\n",
       "      <td>1</td>\n",
       "      <td>1</td>\n",
       "      <td>0</td>\n",
       "      <td>5.278533</td>\n",
       "      <td>-2.691258</td>\n",
       "    </tr>\n",
       "    <tr>\n",
       "      <th>25848_22</th>\n",
       "      <td>17286175</td>\n",
       "      <td>1</td>\n",
       "      <td>2</td>\n",
       "      <td>2</td>\n",
       "      <td>0</td>\n",
       "      <td>2</td>\n",
       "      <td>1</td>\n",
       "      <td>0</td>\n",
       "      <td>-0.974849</td>\n",
       "      <td>6.759036</td>\n",
       "    </tr>\n",
       "    <tr>\n",
       "      <th>25850_22</th>\n",
       "      <td>17286181</td>\n",
       "      <td>1</td>\n",
       "      <td>2</td>\n",
       "      <td>2</td>\n",
       "      <td>0</td>\n",
       "      <td>3</td>\n",
       "      <td>1</td>\n",
       "      <td>0</td>\n",
       "      <td>-0.974849</td>\n",
       "      <td>7.724229</td>\n",
       "    </tr>\n",
       "    <tr>\n",
       "      <th>25851_22</th>\n",
       "      <td>17286185</td>\n",
       "      <td>0</td>\n",
       "      <td>2</td>\n",
       "      <td>2</td>\n",
       "      <td>0</td>\n",
       "      <td>4</td>\n",
       "      <td>1</td>\n",
       "      <td>1</td>\n",
       "      <td>-0.880101</td>\n",
       "      <td>7.759435</td>\n",
       "    </tr>\n",
       "    <tr>\n",
       "      <th>25853_22</th>\n",
       "      <td>17286191</td>\n",
       "      <td>0</td>\n",
       "      <td>2</td>\n",
       "      <td>2</td>\n",
       "      <td>0</td>\n",
       "      <td>5</td>\n",
       "      <td>1</td>\n",
       "      <td>1</td>\n",
       "      <td>-0.880101</td>\n",
       "      <td>15.114945</td>\n",
       "    </tr>\n",
       "    <tr>\n",
       "      <th>25855_22</th>\n",
       "      <td>17286198</td>\n",
       "      <td>0</td>\n",
       "      <td>2</td>\n",
       "      <td>2</td>\n",
       "      <td>0</td>\n",
       "      <td>6</td>\n",
       "      <td>1</td>\n",
       "      <td>1</td>\n",
       "      <td>0.541122</td>\n",
       "      <td>5.992255</td>\n",
       "    </tr>\n",
       "    <tr>\n",
       "      <th>25856_22</th>\n",
       "      <td>17286200</td>\n",
       "      <td>1</td>\n",
       "      <td>2</td>\n",
       "      <td>2</td>\n",
       "      <td>0</td>\n",
       "      <td>6</td>\n",
       "      <td>1</td>\n",
       "      <td>0</td>\n",
       "      <td>0.541122</td>\n",
       "      <td>8.310319</td>\n",
       "    </tr>\n",
       "    <tr>\n",
       "      <th>25857_22</th>\n",
       "      <td>17286204</td>\n",
       "      <td>0</td>\n",
       "      <td>2</td>\n",
       "      <td>2</td>\n",
       "      <td>0</td>\n",
       "      <td>7</td>\n",
       "      <td>1</td>\n",
       "      <td>1</td>\n",
       "      <td>1.204360</td>\n",
       "      <td>6.861336</td>\n",
       "    </tr>\n",
       "    <tr>\n",
       "      <th>25858_22</th>\n",
       "      <td>17286206</td>\n",
       "      <td>1</td>\n",
       "      <td>2</td>\n",
       "      <td>2</td>\n",
       "      <td>0</td>\n",
       "      <td>7</td>\n",
       "      <td>1</td>\n",
       "      <td>0</td>\n",
       "      <td>1.204360</td>\n",
       "      <td>3.247711</td>\n",
       "    </tr>\n",
       "    <tr>\n",
       "      <th>25860_22</th>\n",
       "      <td>17286212</td>\n",
       "      <td>1</td>\n",
       "      <td>2</td>\n",
       "      <td>2</td>\n",
       "      <td>0</td>\n",
       "      <td>8</td>\n",
       "      <td>1</td>\n",
       "      <td>0</td>\n",
       "      <td>-0.880101</td>\n",
       "      <td>5.629089</td>\n",
       "    </tr>\n",
       "    <tr>\n",
       "      <th>25862_22</th>\n",
       "      <td>17286218</td>\n",
       "      <td>1</td>\n",
       "      <td>2</td>\n",
       "      <td>2</td>\n",
       "      <td>0</td>\n",
       "      <td>9</td>\n",
       "      <td>1</td>\n",
       "      <td>0</td>\n",
       "      <td>-0.974849</td>\n",
       "      <td>0.952762</td>\n",
       "    </tr>\n",
       "    <tr>\n",
       "      <th>...</th>\n",
       "      <td>...</td>\n",
       "      <td>...</td>\n",
       "      <td>...</td>\n",
       "      <td>...</td>\n",
       "      <td>...</td>\n",
       "      <td>...</td>\n",
       "      <td>...</td>\n",
       "      <td>...</td>\n",
       "      <td>...</td>\n",
       "      <td>...</td>\n",
       "    </tr>\n",
       "    <tr>\n",
       "      <th>30947_23</th>\n",
       "      <td>17306289</td>\n",
       "      <td>0</td>\n",
       "      <td>17</td>\n",
       "      <td>6</td>\n",
       "      <td>1</td>\n",
       "      <td>6</td>\n",
       "      <td>2</td>\n",
       "      <td>1</td>\n",
       "      <td>0.541122</td>\n",
       "      <td>6.063049</td>\n",
       "    </tr>\n",
       "    <tr>\n",
       "      <th>30948_23</th>\n",
       "      <td>17306291</td>\n",
       "      <td>1</td>\n",
       "      <td>17</td>\n",
       "      <td>6</td>\n",
       "      <td>1</td>\n",
       "      <td>6</td>\n",
       "      <td>2</td>\n",
       "      <td>0</td>\n",
       "      <td>0.541122</td>\n",
       "      <td>1.133204</td>\n",
       "    </tr>\n",
       "    <tr>\n",
       "      <th>30949_23</th>\n",
       "      <td>17306295</td>\n",
       "      <td>0</td>\n",
       "      <td>17</td>\n",
       "      <td>6</td>\n",
       "      <td>1</td>\n",
       "      <td>7</td>\n",
       "      <td>2</td>\n",
       "      <td>1</td>\n",
       "      <td>0.730619</td>\n",
       "      <td>7.372709</td>\n",
       "    </tr>\n",
       "    <tr>\n",
       "      <th>30950_23</th>\n",
       "      <td>17306297</td>\n",
       "      <td>1</td>\n",
       "      <td>17</td>\n",
       "      <td>6</td>\n",
       "      <td>1</td>\n",
       "      <td>7</td>\n",
       "      <td>2</td>\n",
       "      <td>0</td>\n",
       "      <td>0.730619</td>\n",
       "      <td>10.129776</td>\n",
       "    </tr>\n",
       "    <tr>\n",
       "      <th>30952_23</th>\n",
       "      <td>17306303</td>\n",
       "      <td>1</td>\n",
       "      <td>17</td>\n",
       "      <td>6</td>\n",
       "      <td>1</td>\n",
       "      <td>8</td>\n",
       "      <td>2</td>\n",
       "      <td>0</td>\n",
       "      <td>-0.880101</td>\n",
       "      <td>2.035598</td>\n",
       "    </tr>\n",
       "    <tr>\n",
       "      <th>30953_23</th>\n",
       "      <td>17306313</td>\n",
       "      <td>0</td>\n",
       "      <td>17</td>\n",
       "      <td>6</td>\n",
       "      <td>1</td>\n",
       "      <td>10</td>\n",
       "      <td>2</td>\n",
       "      <td>1</td>\n",
       "      <td>-0.880101</td>\n",
       "      <td>-10.247909</td>\n",
       "    </tr>\n",
       "    <tr>\n",
       "      <th>30955_23</th>\n",
       "      <td>17316089</td>\n",
       "      <td>0</td>\n",
       "      <td>17</td>\n",
       "      <td>7</td>\n",
       "      <td>1</td>\n",
       "      <td>0</td>\n",
       "      <td>2</td>\n",
       "      <td>1</td>\n",
       "      <td>0.541122</td>\n",
       "      <td>4.788070</td>\n",
       "    </tr>\n",
       "    <tr>\n",
       "      <th>30956_23</th>\n",
       "      <td>17316091</td>\n",
       "      <td>1</td>\n",
       "      <td>17</td>\n",
       "      <td>7</td>\n",
       "      <td>1</td>\n",
       "      <td>0</td>\n",
       "      <td>2</td>\n",
       "      <td>0</td>\n",
       "      <td>0.541122</td>\n",
       "      <td>4.229715</td>\n",
       "    </tr>\n",
       "    <tr>\n",
       "      <th>30957_23</th>\n",
       "      <td>17316095</td>\n",
       "      <td>0</td>\n",
       "      <td>17</td>\n",
       "      <td>7</td>\n",
       "      <td>1</td>\n",
       "      <td>1</td>\n",
       "      <td>2</td>\n",
       "      <td>1</td>\n",
       "      <td>0.541122</td>\n",
       "      <td>3.114421</td>\n",
       "    </tr>\n",
       "    <tr>\n",
       "      <th>30958_23</th>\n",
       "      <td>17316097</td>\n",
       "      <td>1</td>\n",
       "      <td>17</td>\n",
       "      <td>7</td>\n",
       "      <td>1</td>\n",
       "      <td>1</td>\n",
       "      <td>2</td>\n",
       "      <td>0</td>\n",
       "      <td>0.541122</td>\n",
       "      <td>5.380182</td>\n",
       "    </tr>\n",
       "    <tr>\n",
       "      <th>30960_23</th>\n",
       "      <td>17316103</td>\n",
       "      <td>1</td>\n",
       "      <td>17</td>\n",
       "      <td>7</td>\n",
       "      <td>1</td>\n",
       "      <td>2</td>\n",
       "      <td>2</td>\n",
       "      <td>0</td>\n",
       "      <td>-0.880101</td>\n",
       "      <td>-7.185552</td>\n",
       "    </tr>\n",
       "    <tr>\n",
       "      <th>30961_23</th>\n",
       "      <td>17316107</td>\n",
       "      <td>0</td>\n",
       "      <td>17</td>\n",
       "      <td>7</td>\n",
       "      <td>1</td>\n",
       "      <td>4</td>\n",
       "      <td>2</td>\n",
       "      <td>1</td>\n",
       "      <td>-0.880101</td>\n",
       "      <td>-12.875290</td>\n",
       "    </tr>\n",
       "    <tr>\n",
       "      <th>30963_23</th>\n",
       "      <td>17316114</td>\n",
       "      <td>0</td>\n",
       "      <td>17</td>\n",
       "      <td>7</td>\n",
       "      <td>1</td>\n",
       "      <td>6</td>\n",
       "      <td>2</td>\n",
       "      <td>1</td>\n",
       "      <td>0.541122</td>\n",
       "      <td>9.221064</td>\n",
       "    </tr>\n",
       "    <tr>\n",
       "      <th>30964_23</th>\n",
       "      <td>17316116</td>\n",
       "      <td>1</td>\n",
       "      <td>17</td>\n",
       "      <td>7</td>\n",
       "      <td>1</td>\n",
       "      <td>6</td>\n",
       "      <td>2</td>\n",
       "      <td>0</td>\n",
       "      <td>0.541122</td>\n",
       "      <td>3.411870</td>\n",
       "    </tr>\n",
       "    <tr>\n",
       "      <th>30965_23</th>\n",
       "      <td>17316120</td>\n",
       "      <td>0</td>\n",
       "      <td>17</td>\n",
       "      <td>7</td>\n",
       "      <td>1</td>\n",
       "      <td>7</td>\n",
       "      <td>2</td>\n",
       "      <td>1</td>\n",
       "      <td>0.541122</td>\n",
       "      <td>5.145009</td>\n",
       "    </tr>\n",
       "    <tr>\n",
       "      <th>30966_23</th>\n",
       "      <td>17316122</td>\n",
       "      <td>1</td>\n",
       "      <td>17</td>\n",
       "      <td>7</td>\n",
       "      <td>1</td>\n",
       "      <td>7</td>\n",
       "      <td>2</td>\n",
       "      <td>0</td>\n",
       "      <td>0.541122</td>\n",
       "      <td>8.171386</td>\n",
       "    </tr>\n",
       "    <tr>\n",
       "      <th>30968_23</th>\n",
       "      <td>17316128</td>\n",
       "      <td>1</td>\n",
       "      <td>17</td>\n",
       "      <td>7</td>\n",
       "      <td>1</td>\n",
       "      <td>8</td>\n",
       "      <td>2</td>\n",
       "      <td>0</td>\n",
       "      <td>-0.880101</td>\n",
       "      <td>-9.858158</td>\n",
       "    </tr>\n",
       "    <tr>\n",
       "      <th>30969_23</th>\n",
       "      <td>17316134</td>\n",
       "      <td>0</td>\n",
       "      <td>17</td>\n",
       "      <td>7</td>\n",
       "      <td>1</td>\n",
       "      <td>10</td>\n",
       "      <td>2</td>\n",
       "      <td>1</td>\n",
       "      <td>-0.974849</td>\n",
       "      <td>-14.236706</td>\n",
       "    </tr>\n",
       "    <tr>\n",
       "      <th>30971_23</th>\n",
       "      <td>17316191</td>\n",
       "      <td>0</td>\n",
       "      <td>17</td>\n",
       "      <td>8</td>\n",
       "      <td>1</td>\n",
       "      <td>0</td>\n",
       "      <td>2</td>\n",
       "      <td>1</td>\n",
       "      <td>0.446374</td>\n",
       "      <td>-13.907392</td>\n",
       "    </tr>\n",
       "    <tr>\n",
       "      <th>30972_23</th>\n",
       "      <td>17316193</td>\n",
       "      <td>1</td>\n",
       "      <td>17</td>\n",
       "      <td>8</td>\n",
       "      <td>1</td>\n",
       "      <td>0</td>\n",
       "      <td>2</td>\n",
       "      <td>0</td>\n",
       "      <td>0.446374</td>\n",
       "      <td>-15.706241</td>\n",
       "    </tr>\n",
       "    <tr>\n",
       "      <th>30973_23</th>\n",
       "      <td>17316197</td>\n",
       "      <td>0</td>\n",
       "      <td>17</td>\n",
       "      <td>8</td>\n",
       "      <td>1</td>\n",
       "      <td>1</td>\n",
       "      <td>2</td>\n",
       "      <td>1</td>\n",
       "      <td>0.541122</td>\n",
       "      <td>-2.820778</td>\n",
       "    </tr>\n",
       "    <tr>\n",
       "      <th>30974_23</th>\n",
       "      <td>17316199</td>\n",
       "      <td>1</td>\n",
       "      <td>17</td>\n",
       "      <td>8</td>\n",
       "      <td>1</td>\n",
       "      <td>1</td>\n",
       "      <td>2</td>\n",
       "      <td>0</td>\n",
       "      <td>0.541122</td>\n",
       "      <td>-2.852681</td>\n",
       "    </tr>\n",
       "    <tr>\n",
       "      <th>30976_23</th>\n",
       "      <td>17316205</td>\n",
       "      <td>1</td>\n",
       "      <td>17</td>\n",
       "      <td>8</td>\n",
       "      <td>1</td>\n",
       "      <td>2</td>\n",
       "      <td>2</td>\n",
       "      <td>0</td>\n",
       "      <td>-0.880101</td>\n",
       "      <td>-4.169600</td>\n",
       "    </tr>\n",
       "    <tr>\n",
       "      <th>30977_23</th>\n",
       "      <td>17316209</td>\n",
       "      <td>0</td>\n",
       "      <td>17</td>\n",
       "      <td>8</td>\n",
       "      <td>1</td>\n",
       "      <td>4</td>\n",
       "      <td>2</td>\n",
       "      <td>1</td>\n",
       "      <td>-0.880101</td>\n",
       "      <td>4.744432</td>\n",
       "    </tr>\n",
       "    <tr>\n",
       "      <th>30979_23</th>\n",
       "      <td>17316215</td>\n",
       "      <td>0</td>\n",
       "      <td>17</td>\n",
       "      <td>8</td>\n",
       "      <td>1</td>\n",
       "      <td>6</td>\n",
       "      <td>2</td>\n",
       "      <td>1</td>\n",
       "      <td>0.541122</td>\n",
       "      <td>-16.493866</td>\n",
       "    </tr>\n",
       "    <tr>\n",
       "      <th>30980_23</th>\n",
       "      <td>17316217</td>\n",
       "      <td>1</td>\n",
       "      <td>17</td>\n",
       "      <td>8</td>\n",
       "      <td>1</td>\n",
       "      <td>6</td>\n",
       "      <td>2</td>\n",
       "      <td>0</td>\n",
       "      <td>0.541122</td>\n",
       "      <td>-0.267607</td>\n",
       "    </tr>\n",
       "    <tr>\n",
       "      <th>30981_23</th>\n",
       "      <td>17316221</td>\n",
       "      <td>0</td>\n",
       "      <td>17</td>\n",
       "      <td>8</td>\n",
       "      <td>1</td>\n",
       "      <td>7</td>\n",
       "      <td>2</td>\n",
       "      <td>1</td>\n",
       "      <td>0.446374</td>\n",
       "      <td>-1.570495</td>\n",
       "    </tr>\n",
       "    <tr>\n",
       "      <th>30982_23</th>\n",
       "      <td>17316224</td>\n",
       "      <td>1</td>\n",
       "      <td>17</td>\n",
       "      <td>8</td>\n",
       "      <td>1</td>\n",
       "      <td>7</td>\n",
       "      <td>2</td>\n",
       "      <td>0</td>\n",
       "      <td>0.446374</td>\n",
       "      <td>1.857010</td>\n",
       "    </tr>\n",
       "    <tr>\n",
       "      <th>30984_23</th>\n",
       "      <td>17316230</td>\n",
       "      <td>1</td>\n",
       "      <td>17</td>\n",
       "      <td>8</td>\n",
       "      <td>1</td>\n",
       "      <td>8</td>\n",
       "      <td>2</td>\n",
       "      <td>0</td>\n",
       "      <td>-0.880101</td>\n",
       "      <td>1.423938</td>\n",
       "    </tr>\n",
       "    <tr>\n",
       "      <th>30985_23</th>\n",
       "      <td>17316235</td>\n",
       "      <td>0</td>\n",
       "      <td>17</td>\n",
       "      <td>8</td>\n",
       "      <td>1</td>\n",
       "      <td>10</td>\n",
       "      <td>2</td>\n",
       "      <td>1</td>\n",
       "      <td>-0.880101</td>\n",
       "      <td>-10.425899</td>\n",
       "    </tr>\n",
       "  </tbody>\n",
       "</table>\n",
       "<p>3547 rows × 10 columns</p>\n",
       "</div>"
      ],
      "text/plain": [
       "          dataFileHandleId  device  patient  session  site  task  visit  \\\n",
       "25819_22          17286028       0        2        1     0     0      1   \n",
       "25820_22          17286030       1        2        1     0     0      1   \n",
       "25821_22          17286034       0        2        1     0     1      1   \n",
       "25822_22          17286036       1        2        1     0     1      1   \n",
       "25824_22          17286042       1        2        1     0     2      1   \n",
       "25826_22          17286048       1        2        1     0     3      1   \n",
       "25827_22          17286052       0        2        1     0     4      1   \n",
       "25829_22          17286058       0        2        1     0     5      1   \n",
       "25831_22          17286064       0        2        1     0     6      1   \n",
       "25832_22          17286066       1        2        1     0     6      1   \n",
       "25833_22          17286069       0        2        1     0     7      1   \n",
       "25834_22          17286072       1        2        1     0     7      1   \n",
       "25836_22          17286078       1        2        1     0     8      1   \n",
       "25838_22          17286084       1        2        1     0     9      1   \n",
       "25839_22          17286088       0        2        1     0    10      1   \n",
       "25841_22          17286094       0        2        1     0    11      1   \n",
       "25843_22          17286161       0        2        2     0     0      1   \n",
       "25844_22          17286163       1        2        2     0     0      1   \n",
       "25845_22          17286167       0        2        2     0     1      1   \n",
       "25846_22          17286169       1        2        2     0     1      1   \n",
       "25848_22          17286175       1        2        2     0     2      1   \n",
       "25850_22          17286181       1        2        2     0     3      1   \n",
       "25851_22          17286185       0        2        2     0     4      1   \n",
       "25853_22          17286191       0        2        2     0     5      1   \n",
       "25855_22          17286198       0        2        2     0     6      1   \n",
       "25856_22          17286200       1        2        2     0     6      1   \n",
       "25857_22          17286204       0        2        2     0     7      1   \n",
       "25858_22          17286206       1        2        2     0     7      1   \n",
       "25860_22          17286212       1        2        2     0     8      1   \n",
       "25862_22          17286218       1        2        2     0     9      1   \n",
       "...                    ...     ...      ...      ...   ...   ...    ...   \n",
       "30947_23          17306289       0       17        6     1     6      2   \n",
       "30948_23          17306291       1       17        6     1     6      2   \n",
       "30949_23          17306295       0       17        6     1     7      2   \n",
       "30950_23          17306297       1       17        6     1     7      2   \n",
       "30952_23          17306303       1       17        6     1     8      2   \n",
       "30953_23          17306313       0       17        6     1    10      2   \n",
       "30955_23          17316089       0       17        7     1     0      2   \n",
       "30956_23          17316091       1       17        7     1     0      2   \n",
       "30957_23          17316095       0       17        7     1     1      2   \n",
       "30958_23          17316097       1       17        7     1     1      2   \n",
       "30960_23          17316103       1       17        7     1     2      2   \n",
       "30961_23          17316107       0       17        7     1     4      2   \n",
       "30963_23          17316114       0       17        7     1     6      2   \n",
       "30964_23          17316116       1       17        7     1     6      2   \n",
       "30965_23          17316120       0       17        7     1     7      2   \n",
       "30966_23          17316122       1       17        7     1     7      2   \n",
       "30968_23          17316128       1       17        7     1     8      2   \n",
       "30969_23          17316134       0       17        7     1    10      2   \n",
       "30971_23          17316191       0       17        8     1     0      2   \n",
       "30972_23          17316193       1       17        8     1     0      2   \n",
       "30973_23          17316197       0       17        8     1     1      2   \n",
       "30974_23          17316199       1       17        8     1     1      2   \n",
       "30976_23          17316205       1       17        8     1     2      2   \n",
       "30977_23          17316209       0       17        8     1     4      2   \n",
       "30979_23          17316215       0       17        8     1     6      2   \n",
       "30980_23          17316217       1       17        8     1     6      2   \n",
       "30981_23          17316221       0       17        8     1     7      2   \n",
       "30982_23          17316224       1       17        8     1     7      2   \n",
       "30984_23          17316230       1       17        8     1     8      2   \n",
       "30985_23          17316235       0       17        8     1    10      2   \n",
       "\n",
       "          deviceSide  Duration  SVMScoreMin  \n",
       "25819_22           1  1.014863    -2.674450  \n",
       "25820_22           0  1.014863    -1.800807  \n",
       "25821_22           1  6.984001    -8.937845  \n",
       "25822_22           0  6.984001    -8.991113  \n",
       "25824_22           0 -0.974849     3.154763  \n",
       "25826_22           0 -0.974849     3.727398  \n",
       "25827_22           1 -0.974849     7.310012  \n",
       "25829_22           1 -0.880101     8.942900  \n",
       "25831_22           1  0.446374     4.361210  \n",
       "25832_22           0  0.446374     6.914857  \n",
       "25833_22           1  3.952058    -2.659632  \n",
       "25834_22           0  3.952058     0.002453  \n",
       "25836_22           0 -0.880101     4.160674  \n",
       "25838_22           0 -0.880101    -1.726618  \n",
       "25839_22           1 -0.974849    -3.151854  \n",
       "25841_22           1 -0.974849    -3.327016  \n",
       "25843_22           1  0.825367     3.951370  \n",
       "25844_22           0  0.825367    -2.504054  \n",
       "25845_22           1  5.278533    -4.515851  \n",
       "25846_22           0  5.278533    -2.691258  \n",
       "25848_22           0 -0.974849     6.759036  \n",
       "25850_22           0 -0.974849     7.724229  \n",
       "25851_22           1 -0.880101     7.759435  \n",
       "25853_22           1 -0.880101    15.114945  \n",
       "25855_22           1  0.541122     5.992255  \n",
       "25856_22           0  0.541122     8.310319  \n",
       "25857_22           1  1.204360     6.861336  \n",
       "25858_22           0  1.204360     3.247711  \n",
       "25860_22           0 -0.880101     5.629089  \n",
       "25862_22           0 -0.974849     0.952762  \n",
       "...              ...       ...          ...  \n",
       "30947_23           1  0.541122     6.063049  \n",
       "30948_23           0  0.541122     1.133204  \n",
       "30949_23           1  0.730619     7.372709  \n",
       "30950_23           0  0.730619    10.129776  \n",
       "30952_23           0 -0.880101     2.035598  \n",
       "30953_23           1 -0.880101   -10.247909  \n",
       "30955_23           1  0.541122     4.788070  \n",
       "30956_23           0  0.541122     4.229715  \n",
       "30957_23           1  0.541122     3.114421  \n",
       "30958_23           0  0.541122     5.380182  \n",
       "30960_23           0 -0.880101    -7.185552  \n",
       "30961_23           1 -0.880101   -12.875290  \n",
       "30963_23           1  0.541122     9.221064  \n",
       "30964_23           0  0.541122     3.411870  \n",
       "30965_23           1  0.541122     5.145009  \n",
       "30966_23           0  0.541122     8.171386  \n",
       "30968_23           0 -0.880101    -9.858158  \n",
       "30969_23           1 -0.974849   -14.236706  \n",
       "30971_23           1  0.446374   -13.907392  \n",
       "30972_23           0  0.446374   -15.706241  \n",
       "30973_23           1  0.541122    -2.820778  \n",
       "30974_23           0  0.541122    -2.852681  \n",
       "30976_23           0 -0.880101    -4.169600  \n",
       "30977_23           1 -0.880101     4.744432  \n",
       "30979_23           1  0.541122   -16.493866  \n",
       "30980_23           0  0.541122    -0.267607  \n",
       "30981_23           1  0.446374    -1.570495  \n",
       "30982_23           0  0.446374     1.857010  \n",
       "30984_23           0 -0.880101     1.423938  \n",
       "30985_23           1 -0.880101   -10.425899  \n",
       "\n",
       "[3547 rows x 10 columns]"
      ]
     },
     "execution_count": 185,
     "metadata": {},
     "output_type": "execute_result"
    }
   ],
   "source": [
    "X"
   ]
  },
  {
   "cell_type": "code",
   "execution_count": null,
   "metadata": {
    "collapsed": true
   },
   "outputs": [],
   "source": []
  }
 ],
 "metadata": {
  "anaconda-cloud": {},
  "kernelspec": {
   "display_name": "Python [default]",
   "language": "python",
   "name": "python3"
  },
  "language_info": {
   "codemirror_mode": {
    "name": "ipython",
    "version": 3
   },
   "file_extension": ".py",
   "mimetype": "text/x-python",
   "name": "python",
   "nbconvert_exporter": "python",
   "pygments_lexer": "ipython3",
   "version": "3.5.2"
  }
 },
 "nbformat": 4,
 "nbformat_minor": 1
}
