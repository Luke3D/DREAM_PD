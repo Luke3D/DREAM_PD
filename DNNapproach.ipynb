{
 "cells": [
  {
   "cell_type": "markdown",
   "metadata": {},
   "source": [
    "# L-Dopa Subchallenge 2 \n",
    "## Use deep networks to predict symptoms\n"
   ]
  },
  {
   "cell_type": "code",
   "execution_count": 2,
   "metadata": {
    "collapsed": false
   },
   "outputs": [
    {
     "name": "stderr",
     "output_type": "stream",
     "text": [
      "Using Theano backend.\n"
     ]
    }
   ],
   "source": [
    "import pandas as pd\n",
    "import json\n",
    "import numpy as np\n",
    "import pickle #to save files\n",
    "\n",
    "from scipy.stats import skew, kurtosis, pearsonr\n",
    "from scipy.signal import butter, welch, filtfilt, resample\n",
    "\n",
    "from sklearn.preprocessing import StandardScaler\n",
    "from sklearn.model_selection import LeaveOneGroupOut, train_test_split\n",
    "\n",
    "from sklearn import preprocessing\n",
    "import xgboost as xgb\n",
    "from xgboost.sklearn import XGBClassifier #this is the SKlearn wrapper\n",
    "from sklearn.ensemble import RandomForestClassifier, AdaBoostClassifier, GradientBoostingClassifier, ExtraTreesClassifier\n",
    "from sklearn.linear_model import ElasticNetCV, LogisticRegression\n",
    "from sklearn.svm import SVC, OneClassSVM\n",
    "from sklearn.metrics import confusion_matrix\n",
    "from sklearn.metrics import f1_score\n",
    "\n",
    "from sklearn.metrics import precision_score, recall_score,f1_score, precision_recall_curve\n",
    "\n",
    "import keras\n",
    "from keras.models import Sequential\n",
    "from keras.layers import Conv2D, MaxPooling2D, LSTM, Dense, Dropout, Flatten, BatchNormalization\n",
    "from keras.layers.core import Permute, Reshape\n",
    "from keras import backend as K\n",
    "\n",
    "import nolds\n",
    "import time\n",
    "import matplotlib.pyplot as plt\n",
    "import seaborn as sns\n",
    "%matplotlib inline"
   ]
  },
  {
   "cell_type": "code",
   "execution_count": 3,
   "metadata": {
    "collapsed": false
   },
   "outputs": [
    {
     "name": "stdout",
     "output_type": "stream",
     "text": [
      "Welcome, Luca Lonini!\n",
      "\n"
     ]
    }
   ],
   "source": [
    "from IPython.core.debugger import Tracer\n",
    "import synapseclient\n",
    "syn=synapseclient.login()"
   ]
  },
  {
   "cell_type": "markdown",
   "metadata": {},
   "source": [
    "## Helper fcns"
   ]
  },
  {
   "cell_type": "code",
   "execution_count": 4,
   "metadata": {
    "collapsed": true
   },
   "outputs": [],
   "source": [
    "#feature extraction\n",
    "#INPUT: raw x,y,z accelerometer data (dataframe)\n",
    "def feature_extraction(rawdata):\n",
    "    \n",
    "    #drop time and magnitude feature\n",
    "    rawdata_wtime = rawdata.copy()\n",
    "    rawdata=rawdata.iloc[:,1:4]\n",
    "    \n",
    "    features_list = ['EX','EY','EZ','rangeX','rangeY','rangeZ','meanX','meanY','meanZ','varX','varY','varZ',\n",
    "                    'skewX','skewY','skewZ','kurtX','kurtY','kurtZ','xcor_peakXY','xcorr_peakXZ','xcorr_peakYZ',\n",
    "                    'xcorr_lagXY','xcorr_lagXZ','xcorr_lagYZ','Dom_freq','Pdom_rel','PSD_mean','PSD_std','PSD_skew',\n",
    "                    'PSD_kur','jerk_mean','jerk_std','jerk_skew','jerk_kur']#,'Sen_X','Sen_Y','Sen_Z','Sen_FFTX','Sen_FFTY','Sen_FFTZ']\n",
    "    \n",
    "\n",
    "    #cycle through all clips for current trial and save dataframe of features for current trial and sensor\n",
    "    features = []\n",
    "\n",
    "    #extract features on current clip\n",
    "\n",
    "    #Energy of signal on each axis\n",
    "    E = np.asarray(np.sum(rawdata**2,axis=0))\n",
    "\n",
    "    #range on each axis\n",
    "    min_xyz = np.min(rawdata,axis=0)\n",
    "    max_xyz = np.max(rawdata,axis=0)\n",
    "    r = np.asarray(max_xyz-min_xyz)\n",
    "\n",
    "    #Moments on each axis\n",
    "    mean = np.asarray(np.mean(rawdata,axis=0))\n",
    "    var = np.asarray(np.std(rawdata,axis=0))\n",
    "    sk = skew(rawdata)\n",
    "    kurt = kurtosis(rawdata)\n",
    "\n",
    "    #Cross-correlation between axes pairs\n",
    "    xcorr_xy = np.correlate(rawdata.iloc[:,0],rawdata.iloc[:,1],mode='same')\n",
    "    xcorr_xy = xcorr_xy/np.sum(xcorr_xy) #normalize values\n",
    "    xcorr_peak_xy = np.max(xcorr_xy)\n",
    "    xcorr_lag_xy = (np.argmax(xcorr_xy))/len(xcorr_xy) #normalized lag\n",
    "\n",
    "    xcorr_xz = np.correlate(rawdata.iloc[:,0],rawdata.iloc[:,2],mode='same')\n",
    "    xcorr_xz = xcorr_xz/np.sum(xcorr_xz) #normalize values\n",
    "    xcorr_peak_xz = np.max(xcorr_xz)\n",
    "    xcorr_lag_xz = (np.argmax(xcorr_xz))/len(xcorr_xz)\n",
    "\n",
    "    xcorr_yz = np.correlate(rawdata.iloc[:,1],rawdata.iloc[:,2],mode='same')\n",
    "    xcorr_yz = xcorr_yz/np.sum(xcorr_yz) #normalize values\n",
    "    xcorr_peak_yz = np.max(xcorr_yz)\n",
    "    xcorr_lag_yz = (np.argmax(xcorr_yz))/len(xcorr_yz)\n",
    "\n",
    "    #pack xcorr features\n",
    "    xcorr_peak = np.array([xcorr_peak_xy,xcorr_peak_xz,xcorr_peak_yz])\n",
    "    xcorr_lag = np.array([xcorr_lag_xy,xcorr_lag_xz,xcorr_lag_yz])\n",
    "    \n",
    "    #jerk moments on magnitude\n",
    "    jerk = rawdata.iloc[:,-1].diff().values\n",
    "    jerk_moments = np.array([np.nanmean(jerk),np.nanstd(jerk),skew(jerk[~np.isnan(jerk)]),kurtosis(jerk[~np.isnan(jerk)])])\n",
    "\n",
    "    #Dominant freq and relative magnitude (on acc magnitude)\n",
    "    Pxx = power_spectra_welch(rawdata_wtime,fm=1,fM=10)\n",
    "    domfreq = np.asarray([Pxx.iloc[:,-1].argmax()]) \n",
    "    Pdom_rel = Pxx.loc[domfreq].iloc[:,-1].values/Pxx.iloc[:,-1].sum() #power at dominant freq rel to total\n",
    "    \n",
    "    #moments of PSD\n",
    "    Pxx_moments = np.array([np.nanmean(Pxx.values),np.nanstd(Pxx.values),skew(Pxx.values),kurtosis(Pxx.values)])\n",
    "\n",
    "    #sample entropy raw data and FFT - COMPUTATIONALLY EXPENSIVE - TAKE OUT FOR NOW\n",
    "    sH_raw = []; sH_fft = []\n",
    "    #on magnitude\n",
    "#     x = rawdata.iloc[:,-1]\n",
    "#     n = len(x) #number of samples in clip\n",
    "#     Fs = np.mean(1/(np.diff(x.timestamp))) #sampling rate in clip\n",
    "#     sH_raw=nolds.sampen(x) #samp entr raw magnitude\n",
    "#     f,Pxx_den = welch(x,Fs,nperseg=min(256,n/4))\n",
    "#     sH_fft=(nolds.sampen(Pxx_den)) #samp entr fft\n",
    "    #Sample entropy on each axis\n",
    "#     for a in range(3):\n",
    "#         x = rawdata.iloc[:,a]\n",
    "#         n = len(x) #number of samples in clip\n",
    "#         Fs = np.mean(1/(np.diff(rawdata_wtime.timestamp))) #sampling rate in clip\n",
    "#         sH_raw.append(nolds.sampen(x)) #samp entr raw data\n",
    "#         f,Pxx_den = welch(x,Fs,nperseg=min(256,n/4))\n",
    "#         sH_fft.append(nolds.sampen(Pxx_den)) #samp entr fft\n",
    "\n",
    "    #Assemble features in array\n",
    "    X = np.concatenate((E,r,mean,var,sk,kurt,xcorr_peak,xcorr_lag,domfreq,Pdom_rel,Pxx_moments,jerk_moments))\n",
    "#                 X = X.reshape(1,X.shape[0])\n",
    "    features.append(X)\n",
    "\n",
    "    F = np.asarray(features) #feature matrix for all clips from current trial\n",
    "    return F,features_list\n",
    "\n",
    "\n",
    "#EXTRACT DATA WINDOWS FROM RAW DATA RECORDINGS\n",
    "def gen_clips(rawdata,clipsize=5,overlap=0,interp=False):\n",
    "    \n",
    "    len_tol = 0.8   #% of the intended clipsize below which clip is not used (deprecated for now)\n",
    "\n",
    "    #reindex time (relative to start)\n",
    "    t = rawdata.timestamp\n",
    "    t = t-t.iloc[0]\n",
    "    rawdata.timestamp = t\n",
    "    #create clips data\n",
    "    deltat = np.median(np.diff(rawdata.timestamp))\n",
    "    idx = np.arange(0,rawdata.timestamp.iloc[-1],clipsize*(1-overlap))\n",
    "    clips = []\n",
    "    \n",
    "    for i in idx:\n",
    "        c = rawdata[(rawdata.timestamp>=i) & (rawdata.timestamp<i+clipsize)]\n",
    "        if interp:\n",
    "            num = 50*clipsize #number of samples to enforce in resampled clip (assume 50 Hz sampling rate)\n",
    "            if len(c) == num:\n",
    "                clips.append(c)\n",
    "\n",
    "            #resample clip if not enough samples are there\n",
    "            elif (len(c) >len_tol*num) & (len(c)<num): #resample if enough data in clip (200 points for 5 sec clips)\n",
    "                t = c.timestamp.values\n",
    "                tnew = np.linspace(0,clipsize,num)\n",
    "                x_res = resample(c.iloc[:,1].values,num,t)[0]\n",
    "                y_res = resample(c.iloc[:,2].values,num,t)[0]\n",
    "                z_res = resample(c.iloc[:,3].values,num,t)[0]\n",
    "                mag_res = resample(c.iloc[:,4].values,num,t)[0]\n",
    "                cres = pd.DataFrame(data=np.vstack((tnew,x_res,y_res,z_res,mag_res)).T,columns=list(c.columns))\n",
    "                clips.append(cres)\n",
    "                \n",
    "        else:\n",
    "            if len(c) > 10: #at least n data points in clip\n",
    "                clips.append(c)\n",
    "#         if len(c) > 0.8*int(clipsize/deltat): #discard clips whose length is less than len_tol% of the window size\n",
    "    return clips\n",
    "\n",
    "\n",
    "    \n",
    "#PSD on magnitude using Welch method\n",
    "def power_spectra_welch(rawdata,fm,fM):\n",
    "    x = rawdata.iloc[:,-1]\n",
    "    n = len(x) #number of samples in clip\n",
    "    Fs = np.mean(1/(np.diff(rawdata.timestamp))) #sampling rate in clip\n",
    "    f,Pxx_den = welch(x,Fs,nperseg=min(256,n))\n",
    "    #return PSD in desired interval of freq\n",
    "    inds = (f<=fM)&(f>=fm)\n",
    "    f=f[inds]\n",
    "    Pxx_den=Pxx_den[inds]\n",
    "    Pxxdf = pd.DataFrame(data=Pxx_den,index=f,columns=['PSD_magnitude'])\n",
    "\n",
    "    return Pxxdf\n",
    "\n",
    "    \n",
    "#highpass (or lowpass) filter data. HP to remove gravity (offset - limb orientation) from accelerometer data from each visit (trial)\n",
    "def filter_signal(rawdata,cutoff=0.75,ftype='highpass',order=4):\n",
    "\n",
    "    t = rawdata.timestamp\n",
    "    t = t-t.iloc[0]\n",
    "    rawdata.timestamp = t\n",
    "    x = rawdata.iloc[:,1:].values\n",
    "    Fs = np.mean(1/(np.diff(rawdata.timestamp))) #sampling rate    \n",
    "    #filter design\n",
    "    cutoff_norm = cutoff/(0.5*Fs)\n",
    "    b,a = butter(order,cutoff_norm,btype=ftype,analog=False)\n",
    "    #filter data\n",
    "    xfilt = filtfilt(b,a,x,axis=0)\n",
    "    t = np.expand_dims(t,axis=1)\n",
    "    rawdatafilt = pd.DataFrame(data=np.hstack((t,xfilt)),columns=rawdata.columns)\n",
    "    return rawdatafilt\n",
    "\n",
    "#PERFORMS LEAVE ONE SUBJECT OUT CROSS VALIDATION TO EVALUATE PERFORMANCE OF MODELS AND STORE OUTPUT POSTERIOR \n",
    "#PROBABILITIES OF CLASSIFIERS TO BE USED AS FEATURES\n",
    "#X,y are numpy arrays with features and target\n",
    "#Fnew is dataframe storing the posteriors (new features)\n",
    "#returns mean feature importance\n",
    "def LOSOCV(X,y,groups,models,Fnew):\n",
    "\n",
    "    subj = LeaveOneGroupOut() \n",
    "\n",
    "    #train multiple classifiers\n",
    "    for clf,model_name in models:\n",
    "\n",
    "        Prec_all=[]; Rec_all=[]; f1_train=[]; Posteriors=[] \n",
    "\n",
    "        print('Training %s'%model_name)\n",
    "        \n",
    "        #LOSO CV for current classifier\n",
    "        for train_index, test_index in subj.split(X, y, groups):\n",
    "            Xtr, Xte = X[train_index], X[test_index]\n",
    "            ytr, yte = y[train_index], y[test_index]\n",
    "            clf.fit(Xtr,ytr)\n",
    "            ypred = clf.predict(Xte)\n",
    "            yscore = clf.predict_proba(Xte) #posterior scores on left out subject\n",
    "            yscore = yscore[:,1]\n",
    "            \n",
    "            #accuracy on train set\n",
    "            ypred_train = clf.predict(Xtr)\n",
    "            f1_train.append(f1_score(ytr,ypred_train))\n",
    "\n",
    "            #compute Sens and Spec for current subject and classifier\n",
    "            if np.sum(yte==1)>0:                    \n",
    "                Prec = precision_score(yte,ypred)\n",
    "                Rec = recall_score(yte,ypred)\n",
    "            else:\n",
    "                print('no positive examples for current test subj')\n",
    "                Sens = np.nan\n",
    "            Prec_all.append(Prec); Rec_all.append(Rec)\n",
    "\n",
    "            #store posteriors from current classifier and subject\n",
    "#             Fnew[model_name].iloc[test_index]=yscore\n",
    "            Fnew.loc[test_index,model_name]=yscore\n",
    "\n",
    "            \n",
    "        #mean across all subjects\n",
    "        print(('%s, mean F1 on training set = %.3f (+/- %0.3f)')%(model_name,np.nanmean(f1_train),2*np.nanstd(f1_train)/np.sqrt(len(f1_train))))\n",
    "        print(('%s, mean Prec = %.3f (+/- %0.3f)')%(model_name,np.nanmean(Prec_all),2*np.nanstd(Prec_all)/np.sqrt(len(Prec_all))))\n",
    "        print(('%s, mean Rec = %.3f (+/- %0.3f)')%(model_name,np.nanmean(Rec_all),2*np.nanstd(Rec_all)/np.sqrt(len(Rec_all))))\n",
    "\n",
    "    return Fnew\n",
    "\n",
    "\n",
    "#train classifiers on input training features Xtr and target ytr; \n",
    "#returns posterior predictions Fnew from each clf on test data X\n",
    "def testdata_stacking(Xtr,ytr,Xte,models,Fnew):\n",
    "\n",
    "    #train multiple classifiers\n",
    "    for clf,model_name in models:\n",
    "        print('Training %s'%model_name)\n",
    "        clf.fit(Xtr,ytr)\n",
    "        print('Computing prediction %s'%model_name)\n",
    "        yscore = clf.predict_proba(Xte) #posterior scores on test data\n",
    "        yscore = yscore[:,1]\n",
    "        #store posteriors from current classifier on test data\n",
    "        Fnew.loc[:,model_name]=yscore\n",
    "\n",
    "    return Fnew"
   ]
  },
  {
   "cell_type": "markdown",
   "metadata": {},
   "source": [
    "## Load data for a specific symptom "
   ]
  },
  {
   "cell_type": "code",
   "execution_count": 5,
   "metadata": {
    "collapsed": true
   },
   "outputs": [],
   "source": [
    "# symptom_score = 'tremorScore'\n",
    "symptom_score = 'bradykinesiaScore'\n",
    "# symptom_score = 'dyskinesiaScore'"
   ]
  },
  {
   "cell_type": "code",
   "execution_count": 6,
   "metadata": {
    "collapsed": true
   },
   "outputs": [],
   "source": [
    "#load dataframes and numeric metadata (including normalized recording duration)\n",
    "df_train = pd.read_csv('./Dataframes/df_train_brady.csv')\n",
    "# df_test = pd.read_csv('./Dataframes/df_test_brady.csv')\n",
    "metadata_train = pd.read_csv('metadfnum_train_brady.csv')"
   ]
  },
  {
   "cell_type": "code",
   "execution_count": 7,
   "metadata": {
    "collapsed": false
   },
   "outputs": [
    {
     "data": {
      "text/html": [
       "<div>\n",
       "<style>\n",
       "    .dataframe thead tr:only-child th {\n",
       "        text-align: right;\n",
       "    }\n",
       "\n",
       "    .dataframe thead th {\n",
       "        text-align: left;\n",
       "    }\n",
       "\n",
       "    .dataframe tbody tr th {\n",
       "        vertical-align: top;\n",
       "    }\n",
       "</style>\n",
       "<table border=\"1\" class=\"dataframe\">\n",
       "  <thead>\n",
       "    <tr style=\"text-align: right;\">\n",
       "      <th></th>\n",
       "      <th>Unnamed: 0</th>\n",
       "      <th>dataFileHandleId</th>\n",
       "      <th>device</th>\n",
       "      <th>patient</th>\n",
       "      <th>session</th>\n",
       "      <th>site</th>\n",
       "      <th>task</th>\n",
       "      <th>visit</th>\n",
       "      <th>deviceSide</th>\n",
       "      <th>tremorScore</th>\n",
       "      <th>dyskinesiaScore</th>\n",
       "      <th>bradykinesiaScore</th>\n",
       "      <th>path</th>\n",
       "    </tr>\n",
       "  </thead>\n",
       "  <tbody>\n",
       "    <tr>\n",
       "      <th>0</th>\n",
       "      <td>25819_22</td>\n",
       "      <td>17286028</td>\n",
       "      <td>GENEActiv</td>\n",
       "      <td>13_BOS</td>\n",
       "      <td>1</td>\n",
       "      <td>Boston</td>\n",
       "      <td>drnkg</td>\n",
       "      <td>1</td>\n",
       "      <td>Right</td>\n",
       "      <td>1</td>\n",
       "      <td>NaN</td>\n",
       "      <td>1</td>\n",
       "      <td>/Users/luca/Projects/DREAM_PD/Data/28/17286028...</td>\n",
       "    </tr>\n",
       "    <tr>\n",
       "      <th>1</th>\n",
       "      <td>25820_22</td>\n",
       "      <td>17286030</td>\n",
       "      <td>Pebble</td>\n",
       "      <td>13_BOS</td>\n",
       "      <td>1</td>\n",
       "      <td>Boston</td>\n",
       "      <td>drnkg</td>\n",
       "      <td>1</td>\n",
       "      <td>Left</td>\n",
       "      <td>1</td>\n",
       "      <td>NaN</td>\n",
       "      <td>1</td>\n",
       "      <td>/Users/luca/Projects/DREAM_PD/Data/30/17286030...</td>\n",
       "    </tr>\n",
       "    <tr>\n",
       "      <th>2</th>\n",
       "      <td>25821_22</td>\n",
       "      <td>17286034</td>\n",
       "      <td>GENEActiv</td>\n",
       "      <td>13_BOS</td>\n",
       "      <td>1</td>\n",
       "      <td>Boston</td>\n",
       "      <td>fldng</td>\n",
       "      <td>1</td>\n",
       "      <td>Right</td>\n",
       "      <td>2</td>\n",
       "      <td>NaN</td>\n",
       "      <td>1</td>\n",
       "      <td>/Users/luca/Projects/DREAM_PD/Data/34/17286034...</td>\n",
       "    </tr>\n",
       "    <tr>\n",
       "      <th>3</th>\n",
       "      <td>25822_22</td>\n",
       "      <td>17286036</td>\n",
       "      <td>Pebble</td>\n",
       "      <td>13_BOS</td>\n",
       "      <td>1</td>\n",
       "      <td>Boston</td>\n",
       "      <td>fldng</td>\n",
       "      <td>1</td>\n",
       "      <td>Left</td>\n",
       "      <td>1</td>\n",
       "      <td>NaN</td>\n",
       "      <td>1</td>\n",
       "      <td>/Users/luca/Projects/DREAM_PD/Data/36/17286036...</td>\n",
       "    </tr>\n",
       "    <tr>\n",
       "      <th>4</th>\n",
       "      <td>25824_22</td>\n",
       "      <td>17286042</td>\n",
       "      <td>Pebble</td>\n",
       "      <td>13_BOS</td>\n",
       "      <td>1</td>\n",
       "      <td>Boston</td>\n",
       "      <td>ftnl1</td>\n",
       "      <td>1</td>\n",
       "      <td>Left</td>\n",
       "      <td>2</td>\n",
       "      <td>NaN</td>\n",
       "      <td>1</td>\n",
       "      <td>/Users/luca/Projects/DREAM_PD/Data/42/17286042...</td>\n",
       "    </tr>\n",
       "  </tbody>\n",
       "</table>\n",
       "</div>"
      ],
      "text/plain": [
       "  Unnamed: 0  dataFileHandleId     device patient  session    site   task  \\\n",
       "0   25819_22          17286028  GENEActiv  13_BOS        1  Boston  drnkg   \n",
       "1   25820_22          17286030     Pebble  13_BOS        1  Boston  drnkg   \n",
       "2   25821_22          17286034  GENEActiv  13_BOS        1  Boston  fldng   \n",
       "3   25822_22          17286036     Pebble  13_BOS        1  Boston  fldng   \n",
       "4   25824_22          17286042     Pebble  13_BOS        1  Boston  ftnl1   \n",
       "\n",
       "   visit deviceSide  tremorScore  dyskinesiaScore  bradykinesiaScore  \\\n",
       "0      1      Right            1              NaN                  1   \n",
       "1      1       Left            1              NaN                  1   \n",
       "2      1      Right            2              NaN                  1   \n",
       "3      1       Left            1              NaN                  1   \n",
       "4      1       Left            2              NaN                  1   \n",
       "\n",
       "                                                path  \n",
       "0  /Users/luca/Projects/DREAM_PD/Data/28/17286028...  \n",
       "1  /Users/luca/Projects/DREAM_PD/Data/30/17286030...  \n",
       "2  /Users/luca/Projects/DREAM_PD/Data/34/17286034...  \n",
       "3  /Users/luca/Projects/DREAM_PD/Data/36/17286036...  \n",
       "4  /Users/luca/Projects/DREAM_PD/Data/42/17286042...  "
      ]
     },
     "execution_count": 7,
     "metadata": {},
     "output_type": "execute_result"
    }
   ],
   "source": [
    "df_train.head()"
   ]
  },
  {
   "cell_type": "code",
   "execution_count": 8,
   "metadata": {
    "collapsed": false
   },
   "outputs": [
    {
     "data": {
      "text/html": [
       "<div>\n",
       "<style>\n",
       "    .dataframe thead tr:only-child th {\n",
       "        text-align: right;\n",
       "    }\n",
       "\n",
       "    .dataframe thead th {\n",
       "        text-align: left;\n",
       "    }\n",
       "\n",
       "    .dataframe tbody tr th {\n",
       "        vertical-align: top;\n",
       "    }\n",
       "</style>\n",
       "<table border=\"1\" class=\"dataframe\">\n",
       "  <thead>\n",
       "    <tr style=\"text-align: right;\">\n",
       "      <th></th>\n",
       "      <th>dataFileHandleId</th>\n",
       "      <th>device</th>\n",
       "      <th>patient</th>\n",
       "      <th>session</th>\n",
       "      <th>site</th>\n",
       "      <th>task</th>\n",
       "      <th>visit</th>\n",
       "      <th>deviceSide</th>\n",
       "      <th>Duration</th>\n",
       "    </tr>\n",
       "  </thead>\n",
       "  <tbody>\n",
       "    <tr>\n",
       "      <th>0</th>\n",
       "      <td>17286028</td>\n",
       "      <td>0</td>\n",
       "      <td>2</td>\n",
       "      <td>1</td>\n",
       "      <td>0</td>\n",
       "      <td>0</td>\n",
       "      <td>1</td>\n",
       "      <td>1</td>\n",
       "      <td>1.022774</td>\n",
       "    </tr>\n",
       "    <tr>\n",
       "      <th>1</th>\n",
       "      <td>17286030</td>\n",
       "      <td>1</td>\n",
       "      <td>2</td>\n",
       "      <td>1</td>\n",
       "      <td>0</td>\n",
       "      <td>0</td>\n",
       "      <td>1</td>\n",
       "      <td>0</td>\n",
       "      <td>1.022774</td>\n",
       "    </tr>\n",
       "    <tr>\n",
       "      <th>2</th>\n",
       "      <td>17286034</td>\n",
       "      <td>0</td>\n",
       "      <td>2</td>\n",
       "      <td>1</td>\n",
       "      <td>0</td>\n",
       "      <td>1</td>\n",
       "      <td>1</td>\n",
       "      <td>1</td>\n",
       "      <td>6.714734</td>\n",
       "    </tr>\n",
       "  </tbody>\n",
       "</table>\n",
       "</div>"
      ],
      "text/plain": [
       "   dataFileHandleId  device  patient  session  site  task  visit  deviceSide  \\\n",
       "0          17286028       0        2        1     0     0      1           1   \n",
       "1          17286030       1        2        1     0     0      1           0   \n",
       "2          17286034       0        2        1     0     1      1           1   \n",
       "\n",
       "   Duration  \n",
       "0  1.022774  \n",
       "1  1.022774  \n",
       "2  6.714734  "
      ]
     },
     "execution_count": 8,
     "metadata": {},
     "output_type": "execute_result"
    }
   ],
   "source": [
    "metadata_train.head(3)"
   ]
  },
  {
   "cell_type": "code",
   "execution_count": 9,
   "metadata": {
    "collapsed": false
   },
   "outputs": [
    {
     "data": {
      "text/plain": [
       "<matplotlib.text.Text at 0x115020128>"
      ]
     },
     "execution_count": 9,
     "metadata": {},
     "output_type": "execute_result"
    },
    {
     "data": {
      "image/png": "[encoded data removed]",
      "text/plain": [
       "<matplotlib.figure.Figure at 0x112b92c50>"
      ]
     },
     "metadata": {},
     "output_type": "display_data"
    }
   ],
   "source": [
    "df_train[str(symptom_score)].hist()\n",
    "plt.title(symptom_score)"
   ]
  },
  {
   "cell_type": "code",
   "execution_count": 10,
   "metadata": {
    "collapsed": false
   },
   "outputs": [
    {
     "data": {
      "text/plain": [
       "2913"
      ]
     },
     "execution_count": 10,
     "metadata": {},
     "output_type": "execute_result"
    }
   ],
   "source": [
    "len(df_train)"
   ]
  },
  {
   "cell_type": "markdown",
   "metadata": {},
   "source": [
    "### Plot a recording"
   ]
  },
  {
   "cell_type": "code",
   "execution_count": 10,
   "metadata": {
    "collapsed": false
   },
   "outputs": [
    {
     "name": "stdout",
     "output_type": "stream",
     "text": [
      "Unnamed: 0                                                    25819_22\n",
      "dataFileHandleId                                              17286028\n",
      "device                                                       GENEActiv\n",
      "patient                                                         13_BOS\n",
      "session                                                              1\n",
      "site                                                            Boston\n",
      "task                                                             drnkg\n",
      "visit                                                                1\n",
      "deviceSide                                                       Right\n",
      "tremorScore                                                          1\n",
      "dyskinesiaScore                                                    NaN\n",
      "bradykinesiaScore                                                    1\n",
      "path                 /Users/luca/Projects/DREAM_PD/Data/28/17286028...\n",
      "Name: 0, dtype: object\n",
      "50.0000476838\n"
     ]
    },
    {
     "data": {
      "image/png": "[encoded data removed]",
      "text/plain": [
       "<matplotlib.figure.Figure at 0x104451d68>"
      ]
     },
     "metadata": {},
     "output_type": "display_data"
    }
   ],
   "source": [
    "#plot task\n",
    "idx=0\n",
    "print(df_train.iloc[idx,:]) \n",
    "p1 = df_train.path[idx]\n",
    "rawdata = pd.read_csv(p1,sep='\\t')\n",
    "rawdata = rawdata.astype('float64') #make sure everything is float\n",
    "#reindex timestamp data relative to start \n",
    "t = rawdata.timestamp\n",
    "t = t-t.iloc[0]\n",
    "rawdata.timestamp = t\n",
    "rawdata=rawdata.drop(rawdata.columns[-1],axis=1) #don't plot acc magnitude\n",
    "# rawdata = filter_signal(rawdata,order=2) #hp filter data\n",
    "ax = rawdata.plot(x='timestamp')\n",
    "deltat = np.median(np.diff(rawdata.timestamp)) #1/Fs\n",
    "print(1/deltat)"
   ]
  },
  {
   "cell_type": "code",
   "execution_count": 11,
   "metadata": {
    "collapsed": false
   },
   "outputs": [],
   "source": [
    "#compute clips and plot\n",
    "#create clips data\n",
    "clipsize=5\n",
    "overlap=0.5\n",
    "interp=True\n",
    "deltat = np.median(np.diff(rawdata.timestamp))\n",
    "idx = np.arange(0,rawdata.timestamp.iloc[-1],clipsize*(1-overlap))\n",
    "clips = []\n",
    "\n",
    "for i in idx:\n",
    "    c = rawdata[(rawdata.timestamp>=i) & (rawdata.timestamp<i+clipsize)]\n",
    "    num = 50*clipsize #number of samples to enforce in resampled clip (assume 50 Hz sampling rate)\n",
    "    if len(c) == num:\n",
    "        clips.append(c)"
   ]
  },
  {
   "cell_type": "code",
   "execution_count": 12,
   "metadata": {
    "collapsed": true
   },
   "outputs": [],
   "source": [
    "clips = gen_clips(rawdata,interp=True)"
   ]
  },
  {
   "cell_type": "code",
   "execution_count": 13,
   "metadata": {
    "collapsed": false
   },
   "outputs": [
    {
     "data": {
      "text/html": [
       "<div>\n",
       "<style>\n",
       "    .dataframe thead tr:only-child th {\n",
       "        text-align: right;\n",
       "    }\n",
       "\n",
       "    .dataframe thead th {\n",
       "        text-align: left;\n",
       "    }\n",
       "\n",
       "    .dataframe tbody tr th {\n",
       "        vertical-align: top;\n",
       "    }\n",
       "</style>\n",
       "<table border=\"1\" class=\"dataframe\">\n",
       "  <thead>\n",
       "    <tr style=\"text-align: right;\">\n",
       "      <th></th>\n",
       "      <th>timestamp</th>\n",
       "      <th>GENEActiv_X</th>\n",
       "      <th>GENEActiv_Y</th>\n",
       "      <th>GENEActiv_Z</th>\n",
       "    </tr>\n",
       "  </thead>\n",
       "  <tbody>\n",
       "    <tr>\n",
       "      <th>500</th>\n",
       "      <td>10.00</td>\n",
       "      <td>-7.90608</td>\n",
       "      <td>-2.43366</td>\n",
       "      <td>-5.24381</td>\n",
       "    </tr>\n",
       "    <tr>\n",
       "      <th>501</th>\n",
       "      <td>10.02</td>\n",
       "      <td>-8.02354</td>\n",
       "      <td>-2.43468</td>\n",
       "      <td>-5.24459</td>\n",
       "    </tr>\n",
       "    <tr>\n",
       "      <th>502</th>\n",
       "      <td>10.04</td>\n",
       "      <td>-7.98492</td>\n",
       "      <td>-2.16059</td>\n",
       "      <td>-5.32216</td>\n",
       "    </tr>\n",
       "    <tr>\n",
       "      <th>503</th>\n",
       "      <td>10.06</td>\n",
       "      <td>-7.90610</td>\n",
       "      <td>-2.35489</td>\n",
       "      <td>-5.16845</td>\n",
       "    </tr>\n",
       "    <tr>\n",
       "      <th>504</th>\n",
       "      <td>10.08</td>\n",
       "      <td>-7.98433</td>\n",
       "      <td>-2.39511</td>\n",
       "      <td>-5.16805</td>\n",
       "    </tr>\n",
       "  </tbody>\n",
       "</table>\n",
       "</div>"
      ],
      "text/plain": [
       "     timestamp  GENEActiv_X  GENEActiv_Y  GENEActiv_Z\n",
       "500      10.00     -7.90608     -2.43366     -5.24381\n",
       "501      10.02     -8.02354     -2.43468     -5.24459\n",
       "502      10.04     -7.98492     -2.16059     -5.32216\n",
       "503      10.06     -7.90610     -2.35489     -5.16845\n",
       "504      10.08     -7.98433     -2.39511     -5.16805"
      ]
     },
     "execution_count": 13,
     "metadata": {},
     "output_type": "execute_result"
    }
   ],
   "source": [
    "clips[2].head()"
   ]
  },
  {
   "cell_type": "code",
   "execution_count": 14,
   "metadata": {
    "collapsed": false,
    "scrolled": false
   },
   "outputs": [
    {
     "data": {
      "image/png": "[encoded data removed]",
      "text/plain": [
       "<matplotlib.figure.Figure at 0x115be2080>"
      ]
     },
     "metadata": {},
     "output_type": "display_data"
    }
   ],
   "source": [
    "for i in range(len(clips)):\n",
    "    plt.plot(clips[i].iloc[:,1:])"
   ]
  },
  {
   "cell_type": "code",
   "execution_count": 15,
   "metadata": {
    "collapsed": false
   },
   "outputs": [],
   "source": [
    "#plot resampled data\n",
    "num = 50*len(rawdata)\n",
    "rawdata = rawdata.astype('float64') #make sure everything is float\n",
    "rawdata_res = rawdata.copy()\n",
    "t = rawdata_res.timestamp.values\n",
    "x_res = resample(rawdata_res[~rawdata_res.iloc[:,1].isnull()].iloc[:,1].values,num,t)[0]\n",
    "y_res = resample(rawdata_res[~rawdata_res.iloc[:,2].isnull()].iloc[:,1].values,num,t)[0]\n",
    "z_res = resample(rawdata_res[~rawdata_res.iloc[:,3].isnull()].iloc[:,1].values,num,t)[0]"
   ]
  },
  {
   "cell_type": "code",
   "execution_count": 16,
   "metadata": {
    "collapsed": false
   },
   "outputs": [
    {
     "data": {
      "text/plain": [
       "1950"
      ]
     },
     "execution_count": 16,
     "metadata": {},
     "output_type": "execute_result"
    }
   ],
   "source": [
    "len(rawdata)"
   ]
  },
  {
   "cell_type": "markdown",
   "metadata": {},
   "source": [
    "## Test performance of classifiers using computed features\n",
    "this will give us a benchmark against the deep nets"
   ]
  },
  {
   "cell_type": "code",
   "execution_count": 11,
   "metadata": {
    "collapsed": false
   },
   "outputs": [
    {
     "name": "stdout",
     "output_type": "stream",
     "text": [
      "(2913, 40)\n"
     ]
    }
   ],
   "source": [
    "#load pre-computed features on entire recordings\n",
    "Xf = pd.read_csv('./Features/FeaturesWsen_unnormalized_bradykinesia_train.csv')\n",
    "y = df_train[symptom_score]\n",
    "subj = metadata_train.patient\n",
    "task = metadata_train.task\n",
    "print(Xf.shape)"
   ]
  },
  {
   "cell_type": "code",
   "execution_count": 12,
   "metadata": {
    "collapsed": false
   },
   "outputs": [],
   "source": [
    "#drop Sample Entropy on FFT (Inf)\n",
    "Xf = Xf.drop(['Sen_FFTX','Sen_FFTY','Sen_FFTZ'],axis=1)"
   ]
  },
  {
   "cell_type": "code",
   "execution_count": 19,
   "metadata": {
    "collapsed": false
   },
   "outputs": [
    {
     "data": {
      "text/plain": [
       "Index(['EX', 'EY', 'EZ', 'rangeX', 'rangeY', 'rangeZ', 'meanX', 'meanY',\n",
       "       'meanZ', 'varX', 'varY', 'varZ', 'skewX', 'skewY', 'skewZ', 'kurtX',\n",
       "       'kurtY', 'kurtZ', 'xcor_peakXY', 'xcorr_peakXZ', 'xcorr_peakYZ',\n",
       "       'xcorr_lagXY', 'xcorr_lagXZ', 'xcorr_lagYZ', 'Dom_freq', 'Pdom_rel',\n",
       "       'PSD_mean', 'PSD_std', 'PSD_skew', 'PSD_kur', 'jerk_mean', 'jerk_std',\n",
       "       'jerk_skew', 'jerk_kur', 'Sen_X', 'Sen_Y', 'Sen_Z'],\n",
       "      dtype='object')"
      ]
     },
     "execution_count": 19,
     "metadata": {},
     "output_type": "execute_result"
    }
   ],
   "source": [
    "Xf.columns"
   ]
  },
  {
   "cell_type": "code",
   "execution_count": 13,
   "metadata": {
    "collapsed": false
   },
   "outputs": [
    {
     "data": {
      "text/html": [
       "<div>\n",
       "<style>\n",
       "    .dataframe thead tr:only-child th {\n",
       "        text-align: right;\n",
       "    }\n",
       "\n",
       "    .dataframe thead th {\n",
       "        text-align: left;\n",
       "    }\n",
       "\n",
       "    .dataframe tbody tr th {\n",
       "        vertical-align: top;\n",
       "    }\n",
       "</style>\n",
       "<table border=\"1\" class=\"dataframe\">\n",
       "  <thead>\n",
       "    <tr style=\"text-align: right;\">\n",
       "      <th></th>\n",
       "      <th>EX</th>\n",
       "      <th>EY</th>\n",
       "      <th>EZ</th>\n",
       "      <th>rangeX</th>\n",
       "      <th>rangeY</th>\n",
       "      <th>rangeZ</th>\n",
       "      <th>meanX</th>\n",
       "      <th>meanY</th>\n",
       "      <th>meanZ</th>\n",
       "      <th>varX</th>\n",
       "      <th>...</th>\n",
       "      <th>PSD_std</th>\n",
       "      <th>PSD_skew</th>\n",
       "      <th>PSD_kur</th>\n",
       "      <th>jerk_mean</th>\n",
       "      <th>jerk_std</th>\n",
       "      <th>jerk_skew</th>\n",
       "      <th>jerk_kur</th>\n",
       "      <th>Sen_X</th>\n",
       "      <th>Sen_Y</th>\n",
       "      <th>Sen_Z</th>\n",
       "    </tr>\n",
       "  </thead>\n",
       "  <tbody>\n",
       "    <tr>\n",
       "      <th>0</th>\n",
       "      <td>261.944772</td>\n",
       "      <td>66.357233</td>\n",
       "      <td>166.503326</td>\n",
       "      <td>6.508088</td>\n",
       "      <td>2.097602</td>\n",
       "      <td>5.920023</td>\n",
       "      <td>-0.002255</td>\n",
       "      <td>-0.000393</td>\n",
       "      <td>0.000628</td>\n",
       "      <td>0.366505</td>\n",
       "      <td>...</td>\n",
       "      <td>0.001502</td>\n",
       "      <td>0.245445</td>\n",
       "      <td>-0.344417</td>\n",
       "      <td>0.000017</td>\n",
       "      <td>0.360148</td>\n",
       "      <td>1.344217</td>\n",
       "      <td>51.836805</td>\n",
       "      <td>1.000715</td>\n",
       "      <td>1.704556</td>\n",
       "      <td>1.578250</td>\n",
       "    </tr>\n",
       "    <tr>\n",
       "      <th>1</th>\n",
       "      <td>1140.053894</td>\n",
       "      <td>2079.908881</td>\n",
       "      <td>1562.356156</td>\n",
       "      <td>6.305006</td>\n",
       "      <td>8.578169</td>\n",
       "      <td>8.644839</td>\n",
       "      <td>0.001872</td>\n",
       "      <td>0.005767</td>\n",
       "      <td>-0.006592</td>\n",
       "      <td>0.764617</td>\n",
       "      <td>...</td>\n",
       "      <td>0.072788</td>\n",
       "      <td>2.379819</td>\n",
       "      <td>5.293353</td>\n",
       "      <td>-0.000185</td>\n",
       "      <td>0.508781</td>\n",
       "      <td>0.701911</td>\n",
       "      <td>10.937510</td>\n",
       "      <td>0.419525</td>\n",
       "      <td>0.390091</td>\n",
       "      <td>0.643539</td>\n",
       "    </tr>\n",
       "  </tbody>\n",
       "</table>\n",
       "<p>2 rows × 37 columns</p>\n",
       "</div>"
      ],
      "text/plain": [
       "            EX           EY           EZ    rangeX    rangeY    rangeZ  \\\n",
       "0   261.944772    66.357233   166.503326  6.508088  2.097602  5.920023   \n",
       "1  1140.053894  2079.908881  1562.356156  6.305006  8.578169  8.644839   \n",
       "\n",
       "      meanX     meanY     meanZ      varX    ...      PSD_std  PSD_skew  \\\n",
       "0 -0.002255 -0.000393  0.000628  0.366505    ...     0.001502  0.245445   \n",
       "1  0.001872  0.005767 -0.006592  0.764617    ...     0.072788  2.379819   \n",
       "\n",
       "    PSD_kur  jerk_mean  jerk_std  jerk_skew   jerk_kur     Sen_X     Sen_Y  \\\n",
       "0 -0.344417   0.000017  0.360148   1.344217  51.836805  1.000715  1.704556   \n",
       "1  5.293353  -0.000185  0.508781   0.701911  10.937510  0.419525  0.390091   \n",
       "\n",
       "      Sen_Z  \n",
       "0  1.578250  \n",
       "1  0.643539  \n",
       "\n",
       "[2 rows x 37 columns]"
      ]
     },
     "execution_count": 13,
     "metadata": {},
     "output_type": "execute_result"
    }
   ],
   "source": [
    "Xf.head(2)"
   ]
  },
  {
   "cell_type": "code",
   "execution_count": 14,
   "metadata": {
    "collapsed": false
   },
   "outputs": [
    {
     "name": "stdout",
     "output_type": "stream",
     "text": [
      "(2913, 37)\n"
     ]
    }
   ],
   "source": [
    "print(Xf.shape)"
   ]
  },
  {
   "cell_type": "code",
   "execution_count": 15,
   "metadata": {
    "collapsed": false
   },
   "outputs": [],
   "source": [
    "from sklearn.preprocessing import StandardScaler\n",
    "#standardize data\n",
    "scaler = StandardScaler()\n",
    "# Xf.iloc[:,:] = scaler.fit_transform(Xf)"
   ]
  },
  {
   "cell_type": "code",
   "execution_count": 16,
   "metadata": {
    "collapsed": false
   },
   "outputs": [],
   "source": [
    "#perform random train/val split\n",
    "X_train,X_test,y_train,y_test = train_test_split(Xf,y,test_size=0.2,random_state=10)\n",
    "# print(np.sort(task[X_train.index].unique()))\n",
    "# print(np.sort(subj[X_train.index].unique()))"
   ]
  },
  {
   "cell_type": "code",
   "execution_count": 17,
   "metadata": {
    "collapsed": false
   },
   "outputs": [],
   "source": [
    "X_train_norm = X_train.copy()\n",
    "X_test_norm = X_test.copy()\n",
    "X_train_norm.iloc[:,:] = scaler.fit_transform(X_train)\n",
    "X_test_norm.iloc[:,:] = scaler.transform(X_test)\n",
    "\n",
    "X_train=X_train_norm\n",
    "X_test=X_test_norm"
   ]
  },
  {
   "cell_type": "code",
   "execution_count": 18,
   "metadata": {
    "collapsed": false
   },
   "outputs": [
    {
     "name": "stdout",
     "output_type": "stream",
     "text": [
      "(2330, 37)\n",
      "(583, 37)\n"
     ]
    }
   ],
   "source": [
    "print(X_train.shape)\n",
    "print(X_test.shape)"
   ]
  },
  {
   "cell_type": "code",
   "execution_count": 84,
   "metadata": {
    "collapsed": true
   },
   "outputs": [],
   "source": [
    "models = [LogisticRegression(penalty='l1',random_state=2),\n",
    "          RandomForestClassifier(n_estimators=100,random_state=2),\n",
    "          GradientBoostingClassifier(n_estimators=100,max_depth=2,random_state=3),\n",
    "          SVC(C=10,kernel='rbf',cache_size=800,probability=True,random_state=3),\n",
    "          XGBClassifier(n_estimators=200)\n",
    "         ]\n",
    "model_name = ['LR','Random Forest','Gradient Boosting','SVM','XGB']\n",
    "models = list(zip(models,model_name))\n",
    "\n",
    "Xtr = X_train\n",
    "ytr = y_train\n",
    "Xte = X_test\n",
    "yte = y_test"
   ]
  },
  {
   "cell_type": "code",
   "execution_count": 85,
   "metadata": {
    "collapsed": false
   },
   "outputs": [
    {
     "name": "stdout",
     "output_type": "stream",
     "text": [
      "LR\n",
      "f1_train=0.512, f1_test=0.509, Prec=0.708, Rec=0.398, Acc=0.775\n",
      "[[384  28]\n",
      " [103  68]]\n",
      "Random Forest\n",
      "f1_train=1.000, f1_test=0.742, Prec=0.900, Rec=0.632, Acc=0.871\n",
      "[[400  12]\n",
      " [ 63 108]]\n",
      "Gradient Boosting\n",
      "f1_train=0.757, f1_test=0.669, Prec=0.815, Rec=0.567, Acc=0.835\n",
      "[[390  22]\n",
      " [ 74  97]]\n",
      "SVM\n",
      "f1_train=0.802, f1_test=0.669, Prec=0.901, Rec=0.532, Acc=0.846\n",
      "[[402  10]\n",
      " [ 80  91]]\n",
      "XGB\n",
      "f1_train=0.903, f1_test=0.701, Prec=0.850, Rec=0.596, Acc=0.851\n",
      "[[394  18]\n",
      " [ 69 102]]\n"
     ]
    }
   ],
   "source": [
    "#train multiple classifiers\n",
    "for clf,model_name in models:\n",
    "    \n",
    "        clf.fit(Xtr,ytr)\n",
    "        ypred_train = clf.predict(Xtr)\n",
    "        ypred = clf.predict(Xte)\n",
    "        yscore = clf.predict_proba(Xte)\n",
    "        yscore = yscore[:,1]\n",
    "\n",
    "        #accuracy on train and test set\n",
    "        acc = np.sum(yte == ypred)/len(yte)\n",
    "        f1_train=f1_score(ytr,ypred_train)\n",
    "        f1_test=f1_score(yte,ypred)\n",
    "\n",
    "        Prec = precision_score(yte,ypred)\n",
    "        Rec = recall_score(yte,ypred)\n",
    "\n",
    "        print('%s'%model_name)\n",
    "        print('f1_train=%.3f, f1_test=%.3f, Prec=%.3f, Rec=%.3f, Acc=%.3f'%(f1_train,f1_test,Prec,Rec,acc))\n",
    "        cf_matrix = confusion_matrix(yte, ypred)\n",
    "        print(cf_matrix)\n",
    "\n"
   ]
  },
  {
   "cell_type": "code",
   "execution_count": 107,
   "metadata": {
    "collapsed": false
   },
   "outputs": [
    {
     "data": {
      "image/png": "[encoded data removed]",
      "text/plain": [
       "<matplotlib.figure.Figure at 0x11a6fec18>"
      ]
     },
     "metadata": {},
     "output_type": "display_data"
    },
    {
     "data": {
      "image/png": "[encoded data removed]",
      "text/plain": [
       "<matplotlib.figure.Figure at 0x11bbf8780>"
      ]
     },
     "metadata": {},
     "output_type": "display_data"
    },
    {
     "data": {
      "image/png": "[encoded data removed]",
      "text/plain": [
       "<matplotlib.figure.Figure at 0x11a782f28>"
      ]
     },
     "metadata": {},
     "output_type": "display_data"
    },
    {
     "data": {
      "image/png": "[encoded data removed]",
      "text/plain": [
       "<matplotlib.figure.Figure at 0x11c46c668>"
      ]
     },
     "metadata": {},
     "output_type": "display_data"
    },
    {
     "data": {
      "image/png": "[encoded data removed]",
      "text/plain": [
       "<matplotlib.figure.Figure at 0x11d2f8828>"
      ]
     },
     "metadata": {},
     "output_type": "display_data"
    }
   ],
   "source": [
    "#check # errors per subject for best model\n",
    "for clf,model_name in models:\n",
    "    ypred=clf.predict(Xte)\n",
    "    Correct_pred = pd.DataFrame(data=[],columns=['SubjID','Symptom','Pred'])\n",
    "    Correct_pred['SubjID']=subj[Xte.index]\n",
    "    Correct_pred['Symptom']=yte\n",
    "    Correct_pred['Pred']=ypred\n",
    "    \n",
    "    #recall distribution per subjects\n",
    "    rec_subj = []\n",
    "    subjlist = []\n",
    "    ratio_p = []\n",
    "    for s in Correct_pred.SubjID.unique():\n",
    "        d = Correct_pred[(Correct_pred['SubjID']==s) & (Correct_pred['Symptom']==1)]        \n",
    "        if int(d.empty)<1:\n",
    "            rec = sum(d['Pred'])/len(d['Pred'])\n",
    "            rec_subj.append(rec)    \n",
    "            subjlist.append(s)\n",
    "            ratio_p.append(len(d)/len(Correct_pred[Correct_pred['SubjID']==s])) #ratio of pos/all\n",
    "        else:\n",
    "            continue\n",
    "        \n",
    "    fig = plt.figure(figsize=(6,4))\n",
    "#     fig.add_subplot(121)\n",
    "    ax=sns.barplot(x=subjlist,y=rec_subj)\n",
    "    plt.title(model_name)\n",
    "    ax.set_ylim([0,1])\n",
    "#     fig.add_subplot(122)\n",
    "#     ax=sns.barplot(x=subjlist,y=ratio_p)"
   ]
  },
  {
   "cell_type": "code",
   "execution_count": 289,
   "metadata": {
    "collapsed": false
   },
   "outputs": [
    {
     "data": {
      "text/plain": [
       "<matplotlib.axes._subplots.AxesSubplot at 0x124fe0208>"
      ]
     },
     "execution_count": 289,
     "metadata": {},
     "output_type": "execute_result"
    },
    {
     "data": {
      "image/png": "[encoded data removed]",
      "text/plain": [
       "<matplotlib.figure.Figure at 0x104460e10>"
      ]
     },
     "metadata": {},
     "output_type": "display_data"
    }
   ],
   "source": [
    "sns.distplot(rec_subj,bins=10)"
   ]
  },
  {
   "cell_type": "markdown",
   "metadata": {},
   "source": [
    "Some subjects are very hard to predict and have a very low recall (~0)"
   ]
  },
  {
   "cell_type": "markdown",
   "metadata": {},
   "source": [
    "### Train classifiers on windowed features"
   ]
  },
  {
   "cell_type": "code",
   "execution_count": 71,
   "metadata": {
    "collapsed": false
   },
   "outputs": [],
   "source": [
    "#load clips\n",
    "filename = './WindowedFeatures/Dysk_Unnorm_Train.pkl'\n",
    "f = open(filename, 'rb')\n",
    "Xwin = pickle.load(f)\n",
    "f.close()"
   ]
  },
  {
   "cell_type": "code",
   "execution_count": 72,
   "metadata": {
    "collapsed": false
   },
   "outputs": [
    {
     "data": {
      "text/plain": [
       "dict_keys(['Scores', 'Subjs', 'flist', 'DataFiles', 'Features'])"
      ]
     },
     "execution_count": 72,
     "metadata": {},
     "output_type": "execute_result"
    }
   ],
   "source": [
    "Xwin.keys()"
   ]
  },
  {
   "cell_type": "code",
   "execution_count": 73,
   "metadata": {
    "collapsed": false,
    "scrolled": true
   },
   "outputs": [],
   "source": [
    "# Xwin['flist']"
   ]
  },
  {
   "cell_type": "code",
   "execution_count": 74,
   "metadata": {
    "collapsed": false
   },
   "outputs": [],
   "source": [
    "X = Xwin['Features']\n",
    "y = Xwin['Scores']\n",
    "subj = Xwin['Subjs']"
   ]
  },
  {
   "cell_type": "code",
   "execution_count": 75,
   "metadata": {
    "collapsed": false
   },
   "outputs": [],
   "source": [
    "#drop metadata\n",
    "X = X[:,7:]"
   ]
  },
  {
   "cell_type": "code",
   "execution_count": 76,
   "metadata": {
    "collapsed": false
   },
   "outputs": [
    {
     "data": {
      "text/plain": [
       "(11954, 34)"
      ]
     },
     "execution_count": 76,
     "metadata": {},
     "output_type": "execute_result"
    }
   ],
   "source": [
    "X.shape"
   ]
  },
  {
   "cell_type": "code",
   "execution_count": 77,
   "metadata": {
    "collapsed": false
   },
   "outputs": [
    {
     "data": {
      "text/plain": [
       "(9563, 34)"
      ]
     },
     "execution_count": 77,
     "metadata": {},
     "output_type": "execute_result"
    }
   ],
   "source": [
    "#perform a random train_valid split first to test approach\n",
    "X_train,X_valid,y_train,y_valid = train_test_split(X,y,test_size=0.2,random_state=32)\n",
    "X_train.shape"
   ]
  },
  {
   "cell_type": "code",
   "execution_count": 78,
   "metadata": {
    "collapsed": false
   },
   "outputs": [],
   "source": [
    "#normalize data\n",
    "Xn_train = scaler.fit_transform(X_train)\n",
    "Xn_valid = scaler.transform(X_valid)"
   ]
  },
  {
   "cell_type": "code",
   "execution_count": 79,
   "metadata": {
    "collapsed": false
   },
   "outputs": [
    {
     "data": {
      "text/plain": [
       "(9563, 34)"
      ]
     },
     "execution_count": 79,
     "metadata": {},
     "output_type": "execute_result"
    }
   ],
   "source": [
    "X_train = Xn_train\n",
    "X_valid = Xn_valid\n",
    "X_train.shape"
   ]
  },
  {
   "cell_type": "code",
   "execution_count": 82,
   "metadata": {
    "collapsed": true
   },
   "outputs": [],
   "source": [
    "models = [LogisticRegression(penalty='l1',random_state=2),\n",
    "          RandomForestClassifier(n_estimators=100,random_state=2),\n",
    "          GradientBoostingClassifier(n_estimators=100,max_depth=2,random_state=3),\n",
    "          SVC(C=10,kernel='rbf',cache_size=800,probability=True,random_state=3),\n",
    "          XGBClassifier(n_estimators=200)\n",
    "         ]\n",
    "model_name = ['LR','Random Forest','Gradient Boosting','SVM','XGB']\n",
    "models = list(zip(models,model_name))\n",
    "\n",
    "Xtr = X_train\n",
    "ytr = y_train\n",
    "Xte = X_valid\n",
    "yte = y_valid"
   ]
  },
  {
   "cell_type": "code",
   "execution_count": 83,
   "metadata": {
    "collapsed": false
   },
   "outputs": [
    {
     "name": "stdout",
     "output_type": "stream",
     "text": [
      "LR\n",
      "f1_train=0.326, f1_test=0.372, Prec=0.633, Rec=0.264, Acc=0.825\n",
      "[[1849   72]\n",
      " [ 346  124]]\n",
      "Random Forest\n",
      "f1_train=1.000, f1_test=0.568, Prec=0.778, Rec=0.447, Acc=0.866\n",
      "[[1861   60]\n",
      " [ 260  210]]\n",
      "Gradient Boosting\n",
      "f1_train=0.557, f1_test=0.512, Prec=0.709, Rec=0.400, Acc=0.850\n",
      "[[1844   77]\n",
      " [ 282  188]]\n",
      "SVM\n",
      "f1_train=0.655, f1_test=0.482, Prec=0.732, Rec=0.360, Acc=0.848\n",
      "[[1859   62]\n",
      " [ 301  169]]\n",
      "XGB\n",
      "f1_train=0.677, f1_test=0.553, Prec=0.708, Rec=0.453, Acc=0.856\n",
      "[[1833   88]\n",
      " [ 257  213]]\n"
     ]
    }
   ],
   "source": [
    "#train multiple classifiers\n",
    "for clf,model_name in models:\n",
    "    \n",
    "        clf.fit(Xtr,ytr)\n",
    "        ypred_train = clf.predict(Xtr)\n",
    "        ypred = clf.predict(Xte)\n",
    "        yscore = clf.predict_proba(Xte)\n",
    "        yscore = yscore[:,1]\n",
    "\n",
    "        #accuracy on train and test set\n",
    "        acc = np.sum(yte == ypred)/len(yte)\n",
    "        f1_train=f1_score(ytr,ypred_train)\n",
    "        f1_test=f1_score(yte,ypred)\n",
    "\n",
    "        Prec = precision_score(yte,ypred)\n",
    "        Rec = recall_score(yte,ypred)\n",
    "\n",
    "        print('%s'%model_name)\n",
    "        print('f1_train=%.3f, f1_test=%.3f, Prec=%.3f, Rec=%.3f, Acc=%.3f'%(f1_train,f1_test,Prec,Rec,acc))\n",
    "        cf_matrix = confusion_matrix(yte, ypred)\n",
    "        print(cf_matrix)\n",
    "\n"
   ]
  },
  {
   "cell_type": "markdown",
   "metadata": {},
   "source": [
    "Training on smaller windows (5 s clips) reduces performance"
   ]
  },
  {
   "cell_type": "markdown",
   "metadata": {},
   "source": [
    "## Prepare data to be fed to a NN"
   ]
  },
  {
   "cell_type": "code",
   "execution_count": 24,
   "metadata": {
    "collapsed": true
   },
   "outputs": [],
   "source": [
    "# useful functions\n",
    "def _data_reshaping(X_train, X_valid, network_type):\n",
    "    _, win_len, dim = X_train.shape\n",
    "    print(network_type)\n",
    "    if network_type=='CNN' or network_type=='ConvLSTM':\n",
    "\n",
    "        # make it into (frame_number, dimension, window_size, channel=1) for convNet\n",
    "        X_train = np.swapaxes(X_train,1,2)\n",
    "        X_valid = np.swapaxes(X_valid,1,2)\n",
    "\n",
    "        X_train = np.reshape(X_train, (-1, dim, win_len, 1))\n",
    "        X_valid = np.reshape(X_valid, (-1, dim, win_len, 1))\n",
    "    if network_type=='MLP':\n",
    "        X_train = np.reshape(X_train, (-1, dim*win_len))\n",
    "        X_valid = np.reshape(X_valid, (-1, dim*win_len))\n",
    "\n",
    "    return X_train, X_valid\n",
    "\n",
    "\n",
    "def model_conv(model):\n",
    "    model.add(Conv2D(feat_map_num, kernel_size=(1, 5),\n",
    "                 activation='relu',\n",
    "                 input_shape=(dim, win_len, 1),\n",
    "                 padding='same'))\n",
    "    model.add(MaxPooling2D(pool_size=(1, 2)))\n",
    "    model.add(Dropout(0.5))\n",
    "    model.add(Conv2D(feat_map_num, kernel_size=(1, 5), activation='relu',padding='same'))\n",
    "    model.add(MaxPooling2D(pool_size=(1, 2)))\n",
    "    model.add(Dropout(0.5))\n",
    "\n",
    "\n",
    "def model_MLP(model,num1,drop1,num2,drop2):\n",
    "    model.add(Dense(num1, activation='relu', input_shape=(dim*win_len,)))\n",
    "    model.add(Dropout(drop1))\n",
    "    model.add(Dense(num2, activation='relu'))\n",
    "    model.add(Dropout(drop2))"
   ]
  },
  {
   "cell_type": "markdown",
   "metadata": {},
   "source": [
    "### Generate and save data clips to train network"
   ]
  },
  {
   "cell_type": "code",
   "execution_count": 231,
   "metadata": {
    "collapsed": false
   },
   "outputs": [
    {
     "name": "stdout",
     "output_type": "stream",
     "text": [
      "0\n",
      "1000\n",
      "2000\n",
      "Elapsed Time:[s] 56.1\n",
      "Files w nans: 87\n",
      "Files w 0 non-nan rows 0\n",
      "Tot rows: 2913\n"
     ]
    }
   ],
   "source": [
    "#gen raw data clips and store them in format (clip,time,channel)\n",
    "row = 0\n",
    "nans_found=0; n_empty=0\n",
    "max_nans = []\n",
    "ind_nan = [] #the indices of the clips with nans\n",
    "t1 = time.time()\n",
    "data = [] #store extracted clips\n",
    "targetscore = [] #store target score\n",
    "subj = [] #store subj for CV \n",
    "task = [] #store task\n",
    "\n",
    "X_meta = metadata_train\n",
    "\n",
    "for i in range(len(df_train)):\n",
    "\n",
    "    f = df_train.iloc[i,:].path\n",
    "    if row%1000==0:\n",
    "        print(row)\n",
    "    rawdata = pd.read_csv(f,sep='\\t') #load file\n",
    "   \n",
    "    #remove nans\n",
    "    rawdata = rawdata.astype('float64') #make sure everything is float\n",
    "    if sum(np.sum(rawdata.isnull())) > 0:\n",
    "        nans_found+=1 # of files w nans\n",
    "        ind_nan.append(i) #store the index of the clip with nans\n",
    "        if np.sum(rawdata.isnull()).max() < len(rawdata):\n",
    "            max_nans.append((np.sum(rawdata.isnull()).max())/len(rawdata))\n",
    "        rawdata = rawdata.dropna() #drop nans\n",
    "        \n",
    "    #attempt extracting clips if at least one data point is there\n",
    "    if rawdata.empty != True:\n",
    "        #reindex timestamp data relative to start \n",
    "        t = rawdata.timestamp\n",
    "        t = t-t.iloc[0]\n",
    "        rawdata.timestamp = t\n",
    "\n",
    "        #HP filter data (remove gravity)\n",
    "#         rawdata = filter_signal(rawdata,order=2)\n",
    "\n",
    "        #extract and concatenate clips data\n",
    "        clips = gen_clips(rawdata,overlap=0,interp=True) #take clips over recording\n",
    "        for clip in clips:\n",
    "            datac = np.expand_dims(clip.iloc[:,1:4].values,axis=0) #convert to format (nclip,time,channel)\n",
    "            data.append(datac)\n",
    "            targetscore.append(df_train.iloc[i][symptom_score]) #the score for the current clip\n",
    "            subj.append(X_meta.iloc[i].patient)\n",
    "            task.append(X_meta.iloc[i].task)\n",
    "#             data=np.concatenate((data,datac),axis=0)\n",
    "            \n",
    "    else:\n",
    "        n_empty+=1\n",
    "\n",
    "    row+=1\n",
    "        \n",
    "elapsed = time.time()-t1\n",
    "print('Elapsed Time:[s] %.1f'%elapsed)\n",
    "print('Files w nans: %d'%nans_found)\n",
    "print('Files w 0 non-nan rows %d'%n_empty)\n",
    "print('Tot rows: %d'%row)"
   ]
  },
  {
   "cell_type": "code",
   "execution_count": 233,
   "metadata": {
    "collapsed": true
   },
   "outputs": [],
   "source": [
    "features = np.asarray(data).squeeze()"
   ]
  },
  {
   "cell_type": "code",
   "execution_count": 234,
   "metadata": {
    "collapsed": false
   },
   "outputs": [
    {
     "data": {
      "text/plain": [
       "(14403, 250, 3)"
      ]
     },
     "execution_count": 234,
     "metadata": {},
     "output_type": "execute_result"
    }
   ],
   "source": [
    "features.shape"
   ]
  },
  {
   "cell_type": "code",
   "execution_count": 235,
   "metadata": {
    "collapsed": true
   },
   "outputs": [],
   "source": [
    "CNN_clips = {'X':features,'y':np.asarray(targetscore),'Subj':subj,'Task':task}"
   ]
  },
  {
   "cell_type": "code",
   "execution_count": 236,
   "metadata": {
    "collapsed": false
   },
   "outputs": [
    {
     "data": {
      "text/plain": [
       "(14403, 250, 3)"
      ]
     },
     "execution_count": 236,
     "metadata": {},
     "output_type": "execute_result"
    }
   ],
   "source": [
    "CNN_clips['X'].shape"
   ]
  },
  {
   "cell_type": "code",
   "execution_count": 237,
   "metadata": {
    "collapsed": true
   },
   "outputs": [],
   "source": [
    "#save clips\n",
    "filename = 'CNNclips_train_bradyk.pkl'\n",
    "f = open(filename,'wb')\n",
    "pickle.dump(CNN_clips,f)\n",
    "f.close()"
   ]
  },
  {
   "cell_type": "markdown",
   "metadata": {},
   "source": [
    "### Load data clips and train network"
   ]
  },
  {
   "cell_type": "code",
   "execution_count": 95,
   "metadata": {
    "collapsed": true
   },
   "outputs": [],
   "source": [
    "#load clips\n",
    "filename = 'CNNclips_train_bradyk.pkl'\n",
    "f = open(filename, 'rb')\n",
    "CNN_clips = pickle.load(f)\n",
    "f.close()"
   ]
  },
  {
   "cell_type": "code",
   "execution_count": 96,
   "metadata": {
    "collapsed": false
   },
   "outputs": [
    {
     "data": {
      "text/plain": [
       "(14403, 250, 3)"
      ]
     },
     "execution_count": 96,
     "metadata": {},
     "output_type": "execute_result"
    }
   ],
   "source": [
    "CNN_clips['X'].shape"
   ]
  },
  {
   "cell_type": "code",
   "execution_count": 97,
   "metadata": {
    "collapsed": true
   },
   "outputs": [],
   "source": [
    "X = CNN_clips['X']\n",
    "y = CNN_clips['y']\n",
    "groups = np.asarray(CNN_clips['Subj'])\n",
    "task = np.asarray(CNN_clips['Task'])"
   ]
  },
  {
   "cell_type": "code",
   "execution_count": 98,
   "metadata": {
    "collapsed": true
   },
   "outputs": [],
   "source": [
    "#select specific task\n",
    "# ind = (task>1) & (task < 6) #finger to nose\n",
    "# X = X[ind,:,:]\n",
    "# y = y[ind]"
   ]
  },
  {
   "cell_type": "code",
   "execution_count": 99,
   "metadata": {
    "collapsed": false
   },
   "outputs": [
    {
     "data": {
      "image/png": "[encoded data removed]",
      "text/plain": [
       "<matplotlib.figure.Figure at 0x119462b38>"
      ]
     },
     "metadata": {},
     "output_type": "display_data"
    }
   ],
   "source": [
    "#plot some clips\n",
    "for i in range(5,10):\n",
    "    plt.plot(X[i])"
   ]
  },
  {
   "cell_type": "code",
   "execution_count": 100,
   "metadata": {
    "collapsed": false
   },
   "outputs": [
    {
     "data": {
      "text/plain": [
       "(14403, 250, 3)"
      ]
     },
     "execution_count": 100,
     "metadata": {},
     "output_type": "execute_result"
    }
   ],
   "source": [
    "X.shape"
   ]
  },
  {
   "cell_type": "code",
   "execution_count": 101,
   "metadata": {
    "collapsed": false
   },
   "outputs": [
    {
     "data": {
      "text/plain": [
       "(3600750, 3)"
      ]
     },
     "execution_count": 101,
     "metadata": {},
     "output_type": "execute_result"
    }
   ],
   "source": [
    "a = np.reshape(X,(X.shape[0]*X.shape[1],X.shape[2]))\n",
    "a.shape"
   ]
  },
  {
   "cell_type": "code",
   "execution_count": 296,
   "metadata": {
    "collapsed": false
   },
   "outputs": [
    {
     "name": "stdout",
     "output_type": "stream",
     "text": [
      "[ 0.70594795  0.05769637  0.3447849 ] [ 3.73827342  0.31550379  1.81518491]\n",
      "[ 0.07201527  0.03161203  0.10429867] [ 0.38134934  0.17286556  0.54909992]\n",
      "[ 0.18944828  0.42901256  0.69767327] [ 1.00320353  2.34598989  3.673032  ]\n",
      "[ 0.40833216  0.847702    0.3383233 ] [ 2.16228018  4.63552936  1.78116659]\n",
      "[ 0.17041529  0.50082615  0.79012936] [ 0.90241631  2.73869158  4.15978446]\n"
     ]
    },
    {
     "data": {
      "image/png": "[encoded data removed]",
      "text/plain": [
       "<matplotlib.figure.Figure at 0x1155544a8>"
      ]
     },
     "metadata": {},
     "output_type": "display_data"
    }
   ],
   "source": [
    "#standardize clips data by channel (for CNN)\n",
    "Xn = X.copy()\n",
    "acc = np.reshape(X,(X.shape[0]*X.shape[1],X.shape[2]))\n",
    "m = np.mean(acc,axis=0)\n",
    "s = np.std(acc,axis=0)\n",
    "for c in range(X.shape[0]):\n",
    "    for a in range(X.shape[2]):\n",
    "        Xn[c,:,a]=(X[c,:,a]-m[a])/s[a]\n",
    "Xn.shape\n",
    "for i in range(5,10):\n",
    "    print(np.std(Xn[i],axis=0),np.std(X[i],axis=0))\n",
    "    plt.plot(Xn[i])\n",
    "    \n",
    "X = Xn"
   ]
  },
  {
   "cell_type": "code",
   "execution_count": null,
   "metadata": {
    "collapsed": false
   },
   "outputs": [],
   "source": [
    "#note that some clips have spikes in the acceleration (errors) that should be fixed\n",
    "indmax = np.where(np.abs(X>40))[0]\n",
    "# for i in indmax:\n",
    "#     x=X[i].copy()\n",
    "#     vals = x[(x>40) | (x<-40)]\n",
    "#     newvals = nps\n",
    "print(indmax)\n",
    "plt.plot(X[indmax[3]])"
   ]
  },
  {
   "cell_type": "code",
   "execution_count": 321,
   "metadata": {
    "collapsed": true
   },
   "outputs": [],
   "source": [
    "# #standardize data (mean 0, std 1)\n",
    "# Xscaler = StandardScaler()\n",
    "\n",
    "# for s in np.unique(groups):\n",
    "#     ind = groups==s\n",
    "#     for a in range(3):        \n",
    "#         X[ind,:,a]= Xscaler.fit_transform(X[ind,:,a])"
   ]
  },
  {
   "cell_type": "code",
   "execution_count": 309,
   "metadata": {
    "collapsed": false
   },
   "outputs": [
    {
     "data": {
      "text/plain": [
       "(11522, 250, 3)"
      ]
     },
     "execution_count": 309,
     "metadata": {},
     "output_type": "execute_result"
    }
   ],
   "source": [
    "#perform a random train_valid split first to test approach\n",
    "X_train,X_valid,y_train,y_valid = train_test_split(X,y,test_size=0.2,random_state=32)\n",
    "X_train.shape"
   ]
  },
  {
   "cell_type": "code",
   "execution_count": 310,
   "metadata": {
    "collapsed": false
   },
   "outputs": [],
   "source": [
    "num_classes = 2 # \n",
    "# convert class vectors to binary class matrices\n",
    "y_train = keras.utils.to_categorical(y_train, num_classes)\n",
    "y_valid = keras.utils.to_categorical(y_valid, num_classes)"
   ]
  },
  {
   "cell_type": "code",
   "execution_count": 311,
   "metadata": {
    "collapsed": false
   },
   "outputs": [],
   "source": [
    "#specifying hyper-parameters\n",
    "batch_size = 256 #1024\n",
    "feat_map_num = 16\n",
    "_, win_len, dim = X.shape\n",
    "network_type = 'MLP'"
   ]
  },
  {
   "cell_type": "code",
   "execution_count": 312,
   "metadata": {
    "collapsed": false
   },
   "outputs": [
    {
     "name": "stdout",
     "output_type": "stream",
     "text": [
      "reshaping data for different models ...\n",
      "MLP\n"
     ]
    },
    {
     "data": {
      "text/plain": [
       "(11522, 750)"
      ]
     },
     "execution_count": 312,
     "metadata": {},
     "output_type": "execute_result"
    }
   ],
   "source": [
    "print('reshaping data for different models ...')\n",
    "X_train, X_valid = _data_reshaping(X_train, X_valid, network_type)\n",
    "X_train.shape"
   ]
  },
  {
   "cell_type": "code",
   "execution_count": 22,
   "metadata": {
    "collapsed": false
   },
   "outputs": [],
   "source": [
    "# #normalize input train data\n",
    "# Xscaler = StandardScaler()\n",
    "# Xn_train = X_train.copy()\n",
    "# Xn_train = Xscaler.fit_transform(X_train)"
   ]
  },
  {
   "cell_type": "code",
   "execution_count": 29,
   "metadata": {
    "collapsed": false
   },
   "outputs": [],
   "source": [
    "# Xn_valid = X_valid.copy()\n",
    "# Xn_valid = Xscaler.transform(X_valid)"
   ]
  },
  {
   "cell_type": "markdown",
   "metadata": {},
   "source": [
    "## MLP"
   ]
  },
  {
   "cell_type": "code",
   "execution_count": 313,
   "metadata": {
    "collapsed": false
   },
   "outputs": [
    {
     "name": "stdout",
     "output_type": "stream",
     "text": [
      "building the model ...\n",
      "_________________________________________________________________\n",
      "Layer (type)                 Output Shape              Param #   \n",
      "=================================================================\n",
      "dense_1 (Dense)              (None, 64)                48064     \n",
      "_________________________________________________________________\n",
      "dropout_1 (Dropout)          (None, 64)                0         \n",
      "_________________________________________________________________\n",
      "dense_2 (Dense)              (None, 16)                1040      \n",
      "_________________________________________________________________\n",
      "dropout_2 (Dropout)          (None, 16)                0         \n",
      "_________________________________________________________________\n",
      "dense_3 (Dense)              (None, 2)                 34        \n",
      "=================================================================\n",
      "Total params: 49,138\n",
      "Trainable params: 49,138\n",
      "Non-trainable params: 0\n",
      "_________________________________________________________________\n"
     ]
    }
   ],
   "source": [
    "print('building the model ...')\n",
    "model = Sequential()\n",
    "if network_type=='CNN' or network_type=='ConvLSTM':\n",
    "    model_conv(model)\n",
    "    model_variant(model, network_type)\n",
    "if network_type=='LSTM':\n",
    "    model_LSTM(model)\n",
    "if network_type=='MLP':\n",
    "    model_MLP(model,64,0.1,16,0.1)\n",
    "model.add(Dense(num_classes, activation='softmax'))\n",
    "model.summary()\n"
   ]
  },
  {
   "cell_type": "code",
   "execution_count": 314,
   "metadata": {
    "collapsed": false,
    "scrolled": true
   },
   "outputs": [
    {
     "name": "stdout",
     "output_type": "stream",
     "text": [
      "model training ...\n",
      "Train on 11522 samples, validate on 2881 samples\n",
      "Epoch 1/20\n",
      "11522/11522 [==============================] - 0s - loss: 0.5519 - acc: 0.7515 - val_loss: 0.4923 - val_acc: 0.7952\n",
      "Epoch 2/20\n",
      "11522/11522 [==============================] - 0s - loss: 0.5131 - acc: 0.7845 - val_loss: 0.4827 - val_acc: 0.7997\n",
      "Epoch 3/20\n",
      "11522/11522 [==============================] - 0s - loss: 0.4892 - acc: 0.7953 - val_loss: 0.4762 - val_acc: 0.8018\n",
      "Epoch 4/20\n",
      "11522/11522 [==============================] - 0s - loss: 0.4811 - acc: 0.8002 - val_loss: 0.4789 - val_acc: 0.8035\n",
      "Epoch 5/20\n",
      "11522/11522 [==============================] - 0s - loss: 0.4709 - acc: 0.8065 - val_loss: 0.4698 - val_acc: 0.8053\n",
      "Epoch 6/20\n",
      "11522/11522 [==============================] - 0s - loss: 0.4752 - acc: 0.8059 - val_loss: 0.4672 - val_acc: 0.8053\n",
      "Epoch 7/20\n",
      "11522/11522 [==============================] - 0s - loss: 0.4623 - acc: 0.8100 - val_loss: 0.4625 - val_acc: 0.8039\n",
      "Epoch 8/20\n",
      "11522/11522 [==============================] - 0s - loss: 0.4606 - acc: 0.8093 - val_loss: 0.4637 - val_acc: 0.8067\n",
      "Epoch 9/20\n",
      "11522/11522 [==============================] - 0s - loss: 0.4744 - acc: 0.8039 - val_loss: 0.4692 - val_acc: 0.8028\n",
      "Epoch 10/20\n",
      "11522/11522 [==============================] - 0s - loss: 0.4559 - acc: 0.8130 - val_loss: 0.4639 - val_acc: 0.8035\n",
      "Epoch 11/20\n",
      "11522/11522 [==============================] - 0s - loss: 0.4498 - acc: 0.8148 - val_loss: 0.4611 - val_acc: 0.8056\n",
      "Epoch 12/20\n",
      "11522/11522 [==============================] - 0s - loss: 0.4466 - acc: 0.8157 - val_loss: 0.4643 - val_acc: 0.8063\n",
      "Epoch 13/20\n",
      "11522/11522 [==============================] - 0s - loss: 0.4435 - acc: 0.8190 - val_loss: 0.4613 - val_acc: 0.8074\n",
      "Epoch 14/20\n",
      "11522/11522 [==============================] - 0s - loss: 0.4455 - acc: 0.8195 - val_loss: 0.4582 - val_acc: 0.8098\n",
      "Epoch 15/20\n",
      "11522/11522 [==============================] - 0s - loss: 0.4352 - acc: 0.8237 - val_loss: 0.4553 - val_acc: 0.8081\n",
      "Epoch 16/20\n",
      "11522/11522 [==============================] - 0s - loss: 0.4281 - acc: 0.8263 - val_loss: 0.4579 - val_acc: 0.8084\n",
      "Epoch 17/20\n",
      "11522/11522 [==============================] - 0s - loss: 0.4316 - acc: 0.8243 - val_loss: 0.4643 - val_acc: 0.8049\n",
      "Epoch 18/20\n",
      "11522/11522 [==============================] - 0s - loss: 0.4293 - acc: 0.8244 - val_loss: 0.4638 - val_acc: 0.8119\n",
      "Epoch 19/20\n",
      "11522/11522 [==============================] - 0s - loss: 0.4248 - acc: 0.8307 - val_loss: 0.4602 - val_acc: 0.8115\n",
      "Epoch 20/20\n",
      "11522/11522 [==============================] - 0s - loss: 0.4194 - acc: 0.8314 - val_loss: 0.4656 - val_acc: 0.8070\n"
     ]
    }
   ],
   "source": [
    "print('model training ...')\n",
    "epochs = 20\n",
    "model.compile(loss=keras.losses.categorical_crossentropy,optimizer='adam',metrics=['accuracy'])\n",
    "hist=model.fit(X_train,y_train,batch_size,epochs,shuffle=True,validation_data=(X_valid,y_valid))"
   ]
  },
  {
   "cell_type": "code",
   "execution_count": 315,
   "metadata": {
    "collapsed": false,
    "scrolled": true
   },
   "outputs": [
    {
     "name": "stdout",
     "output_type": "stream",
     "text": [
      "calculating confusion matrix ... \n",
      "[[2188   73]\n",
      " [ 483  137]]\n",
      "the mean f1 score:0.61\n"
     ]
    },
    {
     "data": {
      "image/png": "[encoded data removed]",
      "text/plain": [
       "<matplotlib.figure.Figure at 0x13993f438>"
      ]
     },
     "metadata": {},
     "output_type": "display_data"
    }
   ],
   "source": [
    "fig=plt.figure()\n",
    "fig.add_subplot(121)\n",
    "plt.plot(hist.history['loss'])\n",
    "plt.plot(hist.history['val_loss'])\n",
    "plt.title('loss')\n",
    "fig.add_subplot(122)\n",
    "plt.plot(hist.history['acc'])\n",
    "plt.plot(hist.history['val_acc'])\n",
    "plt.title('accuracy')\n",
    "plt.legend(['train','test'],loc='best')\n",
    "\n",
    "#performance eval\n",
    "y_pred = np.argmax(model.predict(X_valid), axis=1)\n",
    "y_true = np.argmax(y_valid, axis=1)\n",
    "print('calculating confusion matrix ... ')\n",
    "cf_matrix = confusion_matrix(y_true, y_pred)\n",
    "print(cf_matrix)\n",
    "class_wise_f1 = np.round(f1_score(y_true, y_pred, average=None)*100)*0.01\n",
    "print('the mean f1 score:{:.2f}'.format(np.mean(class_wise_f1)))\n"
   ]
  },
  {
   "cell_type": "markdown",
   "metadata": {},
   "source": [
    "## CNN\n"
   ]
  },
  {
   "cell_type": "code",
   "execution_count": 316,
   "metadata": {
    "collapsed": false
   },
   "outputs": [
    {
     "data": {
      "text/plain": [
       "(11522, 250, 3)"
      ]
     },
     "execution_count": 316,
     "metadata": {},
     "output_type": "execute_result"
    }
   ],
   "source": [
    "#perform a random train_valid split first to test approach\n",
    "X_train,X_valid,y_train,y_valid = train_test_split(X,y,test_size=0.2,random_state=32)\n",
    "X_train.shape"
   ]
  },
  {
   "cell_type": "code",
   "execution_count": 365,
   "metadata": {
    "collapsed": false
   },
   "outputs": [
    {
     "data": {
      "text/plain": [
       "(2881, 3, 250, 1)"
      ]
     },
     "execution_count": 365,
     "metadata": {},
     "output_type": "execute_result"
    }
   ],
   "source": [
    "X_valid.shape"
   ]
  },
  {
   "cell_type": "code",
   "execution_count": 364,
   "metadata": {
    "collapsed": false
   },
   "outputs": [
    {
     "data": {
      "text/plain": [
       "14403"
      ]
     },
     "execution_count": 364,
     "metadata": {},
     "output_type": "execute_result"
    }
   ],
   "source": []
  },
  {
   "cell_type": "code",
   "execution_count": 317,
   "metadata": {
    "collapsed": false
   },
   "outputs": [],
   "source": [
    "num_classes = 2 # \n",
    "# convert class vectors to binary class matrices\n",
    "y_train = keras.utils.to_categorical(y_train, num_classes)\n",
    "y_valid = keras.utils.to_categorical(y_valid, num_classes)"
   ]
  },
  {
   "cell_type": "code",
   "execution_count": 318,
   "metadata": {
    "collapsed": false
   },
   "outputs": [],
   "source": [
    "#specifying hyper-parameters\n",
    "batch_size = 256 #1024\n",
    "feat_map_num = 16\n",
    "_, win_len, dim = X.shape\n",
    "network_type = 'CNN'"
   ]
  },
  {
   "cell_type": "code",
   "execution_count": 319,
   "metadata": {
    "collapsed": false
   },
   "outputs": [
    {
     "name": "stdout",
     "output_type": "stream",
     "text": [
      "reshaping data for different models ...\n",
      "CNN\n"
     ]
    },
    {
     "data": {
      "text/plain": [
       "(11522, 3, 250, 1)"
      ]
     },
     "execution_count": 319,
     "metadata": {},
     "output_type": "execute_result"
    }
   ],
   "source": [
    "print('reshaping data for different models ...')\n",
    "X_train, X_valid = _data_reshaping(X_train, X_valid, network_type)\n",
    "X_train.shape"
   ]
  },
  {
   "cell_type": "code",
   "execution_count": 357,
   "metadata": {
    "collapsed": true
   },
   "outputs": [],
   "source": [
    "#specifying hyper-parameters\n",
    "batch_size = 256 #1024\n",
    "feat_map_num = 16\n",
    "_, win_len, dim = X.shape\n",
    "network_type = 'CNN'"
   ]
  },
  {
   "cell_type": "code",
   "execution_count": 376,
   "metadata": {
    "collapsed": false
   },
   "outputs": [
    {
     "name": "stdout",
     "output_type": "stream",
     "text": [
      "building the model ...\n",
      "_________________________________________________________________\n",
      "Layer (type)                 Output Shape              Param #   \n",
      "=================================================================\n",
      "conv2d_28 (Conv2D)           (None, 3, 250, 16)        96        \n",
      "_________________________________________________________________\n",
      "batchnorm1 (BatchNormalizati (None, 3, 250, 16)        64        \n",
      "_________________________________________________________________\n",
      "max_pooling2d_27 (MaxPooling (None, 3, 125, 16)        0         \n",
      "_________________________________________________________________\n",
      "dropout_43 (Dropout)         (None, 3, 125, 16)        0         \n",
      "_________________________________________________________________\n",
      "conv2d_29 (Conv2D)           (None, 3, 125, 16)        1296      \n",
      "_________________________________________________________________\n",
      "batchnorm2 (BatchNormalizati (None, 3, 125, 16)        64        \n",
      "_________________________________________________________________\n",
      "max_pooling2d_28 (MaxPooling (None, 3, 62, 16)         0         \n",
      "_________________________________________________________________\n",
      "dropout_44 (Dropout)         (None, 3, 62, 16)         0         \n",
      "_________________________________________________________________\n",
      "flatten_13 (Flatten)         (None, 2976)              0         \n",
      "_________________________________________________________________\n",
      "dense_31 (Dense)             (None, 32)                95264     \n",
      "_________________________________________________________________\n",
      "dropout_45 (Dropout)         (None, 32)                0         \n",
      "_________________________________________________________________\n",
      "batch_normalization_4 (Batch (None, 32)                128       \n",
      "_________________________________________________________________\n",
      "dense_32 (Dense)             (None, 32)                1056      \n",
      "_________________________________________________________________\n",
      "dropout_46 (Dropout)         (None, 32)                0         \n",
      "_________________________________________________________________\n",
      "batch_normalization_5 (Batch (None, 32)                128       \n",
      "_________________________________________________________________\n",
      "dense_33 (Dense)             (None, 2)                 66        \n",
      "=================================================================\n",
      "Total params: 98,162\n",
      "Trainable params: 97,970\n",
      "Non-trainable params: 192\n",
      "_________________________________________________________________\n"
     ]
    }
   ],
   "source": [
    "print('building the model ...')\n",
    "model=Sequential()\n",
    "model.add(Conv2D(feat_map_num, kernel_size=(1, 5),\n",
    "             activation='relu',\n",
    "             input_shape=(dim, win_len, 1),\n",
    "             padding='same'))\n",
    "model.add(BatchNormalization(axis=3,name='batchnorm1'))\n",
    "model.add(MaxPooling2D(pool_size=(1, 2)))\n",
    "model.add(Dropout(0.5))\n",
    "model.add(Conv2D(feat_map_num, kernel_size=(1, 5), activation='relu',padding='same'))\n",
    "model.add(BatchNormalization(axis=3,name='batchnorm2'))\n",
    "model.add(MaxPooling2D(pool_size=(1, 2)))\n",
    "model.add(Dropout(0.5))\n",
    "model.add(Flatten())\n",
    "model.add(Dense(32, activation='relu'))\n",
    "model.add(Dropout(0.5))\n",
    "model.add(BatchNormalization())\n",
    "model.add(Dense(32,activation='relu'))\n",
    "model.add(Dropout(0.5))\n",
    "model.add(BatchNormalization())\n",
    "model.add(Dense(num_classes, activation='softmax'))\n",
    "model.summary()"
   ]
  },
  {
   "cell_type": "code",
   "execution_count": 377,
   "metadata": {
    "collapsed": false
   },
   "outputs": [
    {
     "name": "stdout",
     "output_type": "stream",
     "text": [
      "model training ...\n",
      "Train on 11522 samples, validate on 2881 samples\n",
      "Epoch 1/5\n",
      "11522/11522 [==============================] - 31s - loss: 0.8834 - acc: 0.5644 - val_loss: 0.5836 - val_acc: 0.7872\n",
      "Epoch 2/5\n",
      "11522/11522 [==============================] - 31s - loss: 0.7002 - acc: 0.6560 - val_loss: 0.5389 - val_acc: 0.7848\n",
      "Epoch 3/5\n",
      "11522/11522 [==============================] - 31s - loss: 0.6247 - acc: 0.7172 - val_loss: 0.5258 - val_acc: 0.7848\n",
      "Epoch 4/5\n",
      "11522/11522 [==============================] - 31s - loss: 0.5876 - acc: 0.7428 - val_loss: 0.5301 - val_acc: 0.7848\n",
      "Epoch 5/5\n",
      "11522/11522 [==============================] - 31s - loss: 0.5616 - acc: 0.7612 - val_loss: 0.5209 - val_acc: 0.7855\n"
     ]
    }
   ],
   "source": [
    "print('model training ...')\n",
    "epochs = 5\n",
    "model.compile(loss=keras.losses.categorical_crossentropy,optimizer='adam',metrics=['accuracy'])\n",
    "hist=model.fit(X_train,y_train,batch_size,epochs,shuffle=True,validation_data=(X_valid,y_valid))"
   ]
  },
  {
   "cell_type": "code",
   "execution_count": 368,
   "metadata": {
    "collapsed": false
   },
   "outputs": [
    {
     "name": "stdout",
     "output_type": "stream",
     "text": [
      "calculating confusion matrix ... \n",
      "[[2260    1]\n",
      " [ 588   32]]\n",
      "the mean f1 score:0.49\n"
     ]
    },
    {
     "data": {
      "image/png": "[encoded data removed]",
      "text/plain": [
       "<matplotlib.figure.Figure at 0x14097e400>"
      ]
     },
     "metadata": {},
     "output_type": "display_data"
    }
   ],
   "source": [
    "fig=plt.figure()\n",
    "fig.add_subplot(121)\n",
    "plt.plot(hist.history['loss'])\n",
    "plt.plot(hist.history['val_loss'])\n",
    "plt.title('loss')\n",
    "fig.add_subplot(122)\n",
    "plt.plot(hist.history['acc'])\n",
    "plt.plot(hist.history['val_acc'])\n",
    "plt.title('accuracy')\n",
    "plt.legend(['train','test'],loc='best')\n",
    "\n",
    "#performance eval\n",
    "y_pred = np.argmax(model.predict(X_valid), axis=1)\n",
    "y_true = np.argmax(y_valid, axis=1)\n",
    "print('calculating confusion matrix ... ')\n",
    "cf_matrix = confusion_matrix(y_true, y_pred)\n",
    "print(cf_matrix)\n",
    "class_wise_f1 = np.round(f1_score(y_true, y_pred, average=None)*100)*0.01\n",
    "print('the mean f1 score:{:.2f}'.format(np.mean(class_wise_f1)))\n"
   ]
  },
  {
   "cell_type": "code",
   "execution_count": 44,
   "metadata": {
    "collapsed": false
   },
   "outputs": [
    {
     "data": {
      "text/plain": [
       "6"
      ]
     },
     "execution_count": 44,
     "metadata": {},
     "output_type": "execute_result"
    }
   ],
   "source": [
    "len(model.get_weights())"
   ]
  },
  {
   "cell_type": "code",
   "execution_count": 62,
   "metadata": {
    "collapsed": false
   },
   "outputs": [
    {
     "data": {
      "text/plain": [
       "<function keras.activations.relu>"
      ]
     },
     "execution_count": 62,
     "metadata": {},
     "output_type": "execute_result"
    }
   ],
   "source": [
    "l1 = model.layers[0]\n",
    "l1.activation"
   ]
  },
  {
   "cell_type": "code",
   "execution_count": 45,
   "metadata": {
    "collapsed": false
   },
   "outputs": [
    {
     "name": "stdout",
     "output_type": "stream",
     "text": [
      "(750, 64)\n",
      "(64,)\n",
      "(64, 16)\n",
      "(16,)\n",
      "(16, 2)\n",
      "(2,)\n"
     ]
    }
   ],
   "source": [
    "W = model.get_weights()\n",
    "for w in W:\n",
    "    print(w.shape)"
   ]
  },
  {
   "cell_type": "code",
   "execution_count": 55,
   "metadata": {
    "collapsed": false
   },
   "outputs": [
    {
     "data": {
      "text/plain": [
       "(array([  155.,  2980.,  7288.,  7822.,  7813.,  7706.,  7703.,  5636.,\n",
       "          871.,    26.]),\n",
       " array([-0.12889788, -0.10154927, -0.07420066, -0.04685205, -0.01950344,\n",
       "         0.00784516,  0.03519377,  0.06254238,  0.08989099,  0.11723959,\n",
       "         0.1445882 ]),\n",
       " <a list of 10 Patch objects>)"
      ]
     },
     "execution_count": 55,
     "metadata": {},
     "output_type": "execute_result"
    },
    {
     "data": {
      "image/png": "[encoded data removed]",
      "text/plain": [
       "<matplotlib.figure.Figure at 0x138b9a5f8>"
      ]
     },
     "metadata": {},
     "output_type": "display_data"
    }
   ],
   "source": [
    "w0 = W[0]\n",
    "ax = plt.hist(np.reshape(w0,(w0.shape[0]*w0.shape[1])))"
   ]
  },
  {
   "cell_type": "markdown",
   "metadata": {},
   "source": [
    "## Train task-specific model"
   ]
  },
  {
   "cell_type": "code",
   "execution_count": 84,
   "metadata": {
    "collapsed": false
   },
   "outputs": [],
   "source": [
    "task=np.asarray(CNN_clips['Task'])"
   ]
  },
  {
   "cell_type": "code",
   "execution_count": 90,
   "metadata": {
    "collapsed": false
   },
   "outputs": [
    {
     "name": "stdout",
     "output_type": "stream",
     "text": [
      "[ 0  1  2  3  4  5  6  7  8  9 10] ['drnkg' 'fldng' 'ftnl1' 'ftnl2' 'ftnr1' 'ftnr2' 'orgpa' 'raml1' 'raml2'\n",
      " 'ramr1' 'ramr2']\n"
     ]
    }
   ],
   "source": [
    "le = preprocessing.LabelEncoder()\n",
    "tasknum = le.fit_transform(df_train.task)\n",
    "tasknum = np.unique(tasknum)\n",
    "taskc = le.inverse_transform(tasknum)\n",
    "print(tasknum,taskc)"
   ]
  },
  {
   "cell_type": "code",
   "execution_count": 85,
   "metadata": {
    "collapsed": false
   },
   "outputs": [
    {
     "data": {
      "text/plain": [
       "array([  0.,   1.,   2.,   3.,   4.,   5.,   6.,   7.,   8.,   9.,  10.])"
      ]
     },
     "execution_count": 85,
     "metadata": {},
     "output_type": "execute_result"
    }
   ],
   "source": [
    "np.unique(task)"
   ]
  },
  {
   "cell_type": "code",
   "execution_count": 91,
   "metadata": {
    "collapsed": false
   },
   "outputs": [
    {
     "data": {
      "text/plain": [
       "14403"
      ]
     },
     "execution_count": 91,
     "metadata": {},
     "output_type": "execute_result"
    }
   ],
   "source": []
  },
  {
   "cell_type": "code",
   "execution_count": null,
   "metadata": {
    "collapsed": true
   },
   "outputs": [],
   "source": []
  }
 ],
 "metadata": {
  "anaconda-cloud": {},
  "kernelspec": {
   "display_name": "Python [conda env:py35_pd20]",
   "language": "python",
   "name": "conda-env-py35_pd20-py"
  }
 },
 "nbformat": 4,
 "nbformat_minor": 1
}
